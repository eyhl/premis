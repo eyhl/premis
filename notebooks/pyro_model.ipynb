{
 "cells": [
  {
   "cell_type": "code",
   "execution_count": 2,
   "metadata": {},
   "outputs": [
    {
     "name": "stdout",
     "output_type": "stream",
     "text": [
      "/mnt/c/Users/dnjllg/OneDrive - Danmarks Tekniske Universitet/Dokumenter/PhD/Courses/Model-based Machine Learning/premis\n"
     ]
    }
   ],
   "source": [
    "import numpy as np\n",
    "import pandas as pd\n",
    "import matplotlib.pyplot as plt\n",
    "import numpy.typing as npt\n",
    "import torch\n",
    "import pyro\n",
    "import pyro.distributions as dist\n",
    "from src.models.paths import PROJECT_ROOT\n",
    "from src.models.solid_earth_utils import compute_love_numbers, greens_function\n",
    "print(PROJECT_ROOT)"
   ]
  },
  {
   "cell_type": "code",
   "execution_count": 4,
   "metadata": {},
   "outputs": [
    {
     "name": "stdout",
     "output_type": "stream",
     "text": [
      "['./e-clovers_3e_bench_TEMPLATE.sh', 'v3.5.6_Lin64S']\n",
      " +++++++++++++++++++++++++++++++++++++++++++++++\n",
      "  Elastic - C L 0 V 3 R S\n",
      "            Compressible L0Ve numb3Rs Solver\n",
      " +++++++++++++++++++++++++++++++++++++++++++++++\n",
      " * -------------------------------------------\n",
      " *   E-CL0V3RS v3.5.6 created by \n",
      " *   A. Bordoni and V.R. Barletta - 2012\n",
      " * -------------------------------------------\n",
      " *   Earth model: earth_M3L70V01c.txt\n",
      " *   Compressibility: Yes \n",
      " *   Label for outputs: Bench_C_256_O_2\n",
      " *   ReUse:            0\n",
      " *   Label for ReUse files: TestOutCompM_M\n",
      " *   ReUseLayer:            2\n",
      " *   LLN for layer:            1\n",
      " *   Execution Parameters:\n",
      " *       Boost =    0.00000000    \n",
      " *     MaxPrec =    1.00000001E-10\n",
      " *   ThreshMin =    1.00000003E-22\n",
      " *   Size of the Reals (in byte): SizeOf not available\n",
      " *   Starting degree:            0\n",
      "  Reading the Earth parameters ...\n",
      "  Number of layers detected:            5\n",
      "  \n",
      "  Processing love numbers ...\n",
      "\b        4/  25        7/  25        1/  25        3/  25        5/  25        6/  25        2/  25        0/  25        8/  25        9/  25       10/  25       11/  25       13/  25       14/  25       12/  25       15/  25       16/  25       17/  25       18/  25       19/  25       20/  25       21/  25       22/  25       23/  25       24/  25       25/  25       26/  25       27/  25       28/  25       29/  25       30/  25       31/  25       33/  25       32/  25       34/  25       35/  25       36/  25       37/  25       38/  25       39/  25       40/  25       41/  25       42/  25       43/  25       44/  25       45/  25       46/  25       47/  25       48/  25       49/  25       50/  25       51/  25       52/  25       53/  25       54/  25       56/  25       57/  25       58/  25       59/  25       60/  25       61/  25       55/  25       62/  25       63/  25       64/  25       65/  25       66/  25       67/  25       68/  25       69/  25       70/  25       71/  25       72/  25       73/  25       74/  25       75/  25       76/  25       77/  25       78/  25       79/  25       80/  25       81/  25       82/  25       83/  25       84/  25       85/  25       86/  25       87/  25       88/  25       89/  25       90/  25       91/  25       92/  25       93/  25       94/  25       95/  25       96/  25       97/  25       98/  25       99/  25      100/  25      101/  25      102/  25      103/  25      104/  25      105/  25      106/  25      107/  25      108/  25      109/  25      110/  25      111/  25      112/  25      113/  25      114/  25      115/  25      116/  25      117/  25      118/  25      119/  25      120/  25      121/  25      122/  25      123/  25      124/  25      125/  25      126/  25      127/  25      128/  25      129/  25      130/  25      131/  25      132/  25      133/  25      134/  25      135/  25      136/  25      137/  25      138/  25      139/  25      140/  25      141/  25      142/  25      143/  25      144/  25      145/  25      146/  25      147/  25      148/  25      149/  25      150/  25      151/  25      152/  25      153/  25      154/  25      155/  25      156/  25      157/  25      158/  25      159/  25      160/  25      161/  25      162/  25      163/  25      164/  25      165/  25      166/  25      167/  25      168/  25      169/  25      170/  25      171/  25      172/  25      173/  25      174/  25      175/  25      176/  25      177/  25      178/  25      179/  25      180/  25      181/  25      182/  25      183/  25      184/  25      185/  25      186/  25      187/  25      188/  25      189/  25      190/  25      191/  25      192/  25      193/  25      194/  25      195/  25      197/  25      198/  25      196/  25      199/  25      200/  25      201/  25      202/  25      203/  25      204/  25      205/  25      206/  25      207/  25      208/  25      209/  25      210/  25      211/  25      212/  25      213/  25      214/  25      215/  25      216/  25      217/  25      218/  25      219/  25      220/  25      221/  25      222/  25      223/  25      224/  25      225/  25      226/  25      227/  25      228/  25      229/  25      230/  25      231/  25      232/  25      233/  25      234/  25      235/  25      236/  25      237/  25      238/  25      239/  25      240/  25      241/  25      242/  25      243/  25      244/  25      245/  25      246/  25      247/  25      248/  25      249/  25      250/  25      251/  25      252/  25      253/  25      254/  25      255/  25      256/  256  \n",
      " * -------------------------------------------\n",
      " *   End processing\n",
      " *   Elapsed time (s) =       0.9850 for Harmonic degrees   257\n",
      " * -------------------------------------------\n",
      " +++++++++++++++++++++++++++++++++++++++++++++++\n",
      "  Elastic - C L 0 V 3 R S\n",
      "            Compressible L0Ve numb3Rs Solver\n",
      " +++++++++++++++++++++++++++++++++++++++++++++++\n",
      "-0.396569904640001\n"
     ]
    }
   ],
   "source": [
    "station_coordinates = [68.58700000, -33.05270000]\n",
    "glacier_coordinates = [68.645056, -33.029416]\n",
    "hlove, nlove = compute_love_numbers()\n",
    "gf = greens_function(hlove, nlove, glacier_coordinates, station_coordinates, arsurf=5e3 * 5e3)\n",
    "print(gf)"
   ]
  },
  {
   "cell_type": "code",
   "execution_count": 11,
   "metadata": {},
   "outputs": [],
   "source": [
    "df_kuaq = pd.read_csv(PROJECT_ROOT / \"data\" / \"processed\" / \"KUAQ_filtered.csv\")\n",
    "df_mass = pd.read_csv(PROJECT_ROOT / \"data\" / \"processed\" / \"mass_time_series.csv\")"
   ]
  },
  {
   "cell_type": "code",
   "execution_count": 6,
   "metadata": {},
   "outputs": [],
   "source": [
    "t_up = df_kuaq.Time.values\n",
    "up = df_kuaq.Up.values\n",
    "\n",
    "mass = df_mass.mass.values\n",
    "t_mass = df_mass.time.values"
   ]
  },
  {
   "cell_type": "code",
   "execution_count": 8,
   "metadata": {},
   "outputs": [
    {
     "data": {
      "image/png": "[encoded data removed]",
      "text/plain": [
       "<Figure size 432x288 with 1 Axes>"
      ]
     },
     "metadata": {
      "needs_background": "light"
     },
     "output_type": "display_data"
    },
    {
     "data": {
      "image/png": "[encoded data removed]",
      "text/plain": [
       "<Figure size 432x288 with 1 Axes>"
      ]
     },
     "metadata": {
      "needs_background": "light"
     },
     "output_type": "display_data"
    }
   ],
   "source": [
    "mass_to_height = mass / (1000 * (10e3 * 10e3)) / 365.25\n",
    "dmass = mass - mass[0]\n",
    "\n",
    "plt.plot(t_mass, dmass)\n",
    "plt.xlim([2009, 2020])\n",
    "plt.ylim([-2.8e14, -1.5e14])\n",
    "plt.show()\n",
    "\n",
    "plt.plot(t_mass, gf * dmass)\n",
    "plt.xlim([2009, 2020])\n",
    "plt.ylim([6e13, 1.2e14])\n",
    "plt.show()"
   ]
  },
  {
   "cell_type": "code",
   "execution_count": null,
   "metadata": {},
   "outputs": [],
   "source": []
  },
  {
   "cell_type": "markdown",
   "metadata": {},
   "source": [
    "# Train_model.py"
   ]
  },
  {
   "cell_type": "markdown",
   "metadata": {},
   "source": [
    "def premis_train(m, x=1, n=128, obs=None) -> np.ndarray:\n",
    "    \"\"\"Probabilistic model for uplift rates. This is the main model.\n",
    "    Args:\n",
    "        m (np.ndarray): mass time-series data\n",
    "        s (int, optional): number of stations. Defaults to 2.\n",
    "        n (int, optional): spherical harmonic degree. Defaults to 128.\n",
    "        obs (_type_, optional): observed gnss station uplift rates. Defaults to None.\n",
    "\n",
    "    Returns:\n",
    "        np.ndarray: predicted uplift\n",
    "    \"\"\"\n",
    "\n",
    "    #  could add dists over mu and sigmas\n",
    "    #  sigma = pyro.sample(\"sigma\", dist.HalfCauchy(5.))\n",
    "\n",
    "    # Draw lithospheric elasticity\n",
    "    E_L = pyro.sample(\"E_L\", dist.Normal(0.0, 1.0))\n",
    "\n",
    "    # Draw upper mantle elasticity\n",
    "    E_UM = pyro.sample(\"E_UM\", dist.Normal(0.0, 1.0))\n",
    "\n",
    "    # Draw lower mantle elasticity\n",
    "    E_LM = pyro.sample(\"E_LM\", dist.Normal(0.0, 1.0))\n",
    "\n",
    "    # Draw mass change with time\n",
    "    # m = pyro.sample(\"m\", dist.Normal(torch.zeros(128), torch.ones(128)))\n",
    "\n",
    "    sigma_w = pyro.sample(\"sigma\", dist.HalfCauchy(0.1))\n",
    "    sigma_gf = 1\n",
    "\n",
    "    station_coordinates = [68.58700000, -33.05270000]  # [lat, lon]\n",
    "    glacier_coordinates = [68.645056, -33.029416]  # [lat, lon]\n",
    "\n",
    "    with pyro.plate(\"data\"):\n",
    "        # Draw Love Numbers\n",
    "        hlove, nlove = torch.tensor(compute_love_numbers())\n",
    "\n",
    "        # Draw Greens Function\n",
    "        gf = pyro.sample(\n",
    "            \"gf\",\n",
    "            dist.Normal(\n",
    "                greens_function(hlove, nlove, glacier_coordinates, station_coordinates),\n",
    "                sigma_gf,\n",
    "            ),\n",
    "        )\n",
    "\n",
    "        # Draw target\n",
    "        w = pyro.sample(\"w\", dist.Normal(gf * m, sigma_w), obs=obs)\n",
    "\n",
    "    return w\n",
    "\n",
    "\n",
    "def taboo(j: int, e_l: float, e_um: float, e_lm: float) -> np.ndarray:\n",
    "    \"\"\"temporary taboo function for running pyro model\n",
    "    Args:\n",
    "        j (int): _description_\n",
    "        e_l (float): _description_\n",
    "        e_um (float): _description_\n",
    "        e_lm (float): _description_\n",
    "\n",
    "    Returns:\n",
    "        np.ndarray: _description_\n",
    "    \"\"\"\n",
    "\n",
    "    love_numbers = np.random.randint(j)\n",
    "    return love_numbers\n",
    "\n",
    "\n",
    "# if __name__ == '__main__':\n",
    "#     # X = load data\n",
    "#     # obs = ob\n",
    "#     _ = premis_train()\n"
   ]
  }
 ],
 "metadata": {
  "interpreter": {
   "hash": "1b0ff88b335ff50831a96cd053c0c2b62c7c2090570bbac97bcc7d4a2e485d10"
  },
  "kernelspec": {
   "display_name": "Python 3.9.10 ('MBML')",
   "language": "python",
   "name": "python3"
  },
  "language_info": {
   "codemirror_mode": {
    "name": "ipython",
    "version": 3
   },
   "file_extension": ".py",
   "mimetype": "text/x-python",
   "name": "python",
   "nbconvert_exporter": "python",
   "pygments_lexer": "ipython3",
   "version": "3.9.10"
  },
  "orig_nbformat": 4
 },
 "nbformat": 4,
 "nbformat_minor": 2
}
