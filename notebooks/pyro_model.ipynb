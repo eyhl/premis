{
 "cells": [
  {
   "cell_type": "code",
   "execution_count": 1,
   "metadata": {},
   "outputs": [
    {
     "name": "stdout",
     "output_type": "stream",
     "text": [
      "/mnt/c/Users/dnjllg/OneDrive - Danmarks Tekniske Universitet/Dokumenter/PhD/Courses/Model-based Machine Learning/premis\n"
     ]
    }
   ],
   "source": [
    "import matplotlib.pyplot as plt\n",
    "import numpy as np\n",
    "import numpy.typing as npt\n",
    "import pandas as pd\n",
    "import pyro\n",
    "import pyro.distributions as dist\n",
    "import torch\n",
    "from pyro.infer import HMC, MCMC, NUTS, SVI, Trace_ELBO\n",
    "from src.data.preprocessing import load_thickness_time_series\n",
    "from src.models.paths import PROJECT_ROOT\n",
    "from src.models.solid_earth_utils import compute_love_numbers, greens_function\n",
    "\n",
    "print(PROJECT_ROOT)"
   ]
  },
  {
   "cell_type": "code",
   "execution_count": 2,
   "metadata": {},
   "outputs": [
    {
     "data": {
      "text/html": [
       "<div>\n",
       "<style scoped>\n",
       "    .dataframe tbody tr th:only-of-type {\n",
       "        vertical-align: middle;\n",
       "    }\n",
       "\n",
       "    .dataframe tbody tr th {\n",
       "        vertical-align: top;\n",
       "    }\n",
       "\n",
       "    .dataframe thead th {\n",
       "        text-align: right;\n",
       "    }\n",
       "</style>\n",
       "<table border=\"1\" class=\"dataframe\">\n",
       "  <thead>\n",
       "    <tr style=\"text-align: right;\">\n",
       "      <th></th>\n",
       "      <th>Nr</th>\n",
       "      <th>radius</th>\n",
       "      <th>density</th>\n",
       "      <th>rigidity</th>\n",
       "      <th>bulk</th>\n",
       "      <th>viscosity</th>\n",
       "    </tr>\n",
       "  </thead>\n",
       "  <tbody>\n",
       "    <tr>\n",
       "      <th>0</th>\n",
       "      <td>1.0</td>\n",
       "      <td>6371000.0</td>\n",
       "      <td>3037.0</td>\n",
       "      <td>5.060500e+10</td>\n",
       "      <td>5.743700e+10</td>\n",
       "      <td>1.000000e+55</td>\n",
       "    </tr>\n",
       "    <tr>\n",
       "      <th>1</th>\n",
       "      <td>2.0</td>\n",
       "      <td>6301000.0</td>\n",
       "      <td>3438.0</td>\n",
       "      <td>7.036300e+10</td>\n",
       "      <td>9.963300e+10</td>\n",
       "      <td>1.000000e+21</td>\n",
       "    </tr>\n",
       "    <tr>\n",
       "      <th>2</th>\n",
       "      <td>3.0</td>\n",
       "      <td>5951000.0</td>\n",
       "      <td>3871.0</td>\n",
       "      <td>1.054900e+11</td>\n",
       "      <td>1.535200e+11</td>\n",
       "      <td>1.000000e+21</td>\n",
       "    </tr>\n",
       "    <tr>\n",
       "      <th>3</th>\n",
       "      <td>4.0</td>\n",
       "      <td>5701000.0</td>\n",
       "      <td>4978.0</td>\n",
       "      <td>2.283400e+11</td>\n",
       "      <td>3.221000e+11</td>\n",
       "      <td>2.000000e+21</td>\n",
       "    </tr>\n",
       "    <tr>\n",
       "      <th>4</th>\n",
       "      <td>5.0</td>\n",
       "      <td>3480000.0</td>\n",
       "      <td>10750.0</td>\n",
       "      <td>0.000000e+00</td>\n",
       "      <td>1.101800e+12</td>\n",
       "      <td>0.000000e+00</td>\n",
       "    </tr>\n",
       "  </tbody>\n",
       "</table>\n",
       "</div>"
      ],
      "text/plain": [
       "    Nr     radius  density      rigidity          bulk     viscosity\n",
       "0  1.0  6371000.0   3037.0  5.060500e+10  5.743700e+10  1.000000e+55\n",
       "1  2.0  6301000.0   3438.0  7.036300e+10  9.963300e+10  1.000000e+21\n",
       "2  3.0  5951000.0   3871.0  1.054900e+11  1.535200e+11  1.000000e+21\n",
       "3  4.0  5701000.0   4978.0  2.283400e+11  3.221000e+11  2.000000e+21\n",
       "4  5.0  3480000.0  10750.0  0.000000e+00  1.101800e+12  0.000000e+00"
      ]
     },
     "execution_count": 2,
     "metadata": {},
     "output_type": "execute_result"
    }
   ],
   "source": [
    "Nr = np.arange(1, 6).tolist()\n",
    "radius = [6371e3, 6301e3, 5951e3, 5701e3, 3480e3]\n",
    "density = [3.037e3, 3.438e3, 3.871e3, 4.978e3, 10.750e3]\n",
    "rigidity = [0.50605e11, 0.70363e11, 1.05490e11, 2.28340e11, 0.0000e11]\n",
    "bulk = [5.7437e10, 9.9633e10, 1.5352e11, 3.2210e11, 1.1018e12]\n",
    "viscosity = [1.0e55, 1.0e21, 1.0e21, 2.0e21, 0.0e21]\n",
    "\n",
    "df_em = pd.DataFrame(\n",
    "    np.array([Nr, radius, density, rigidity, bulk, viscosity]).T,\n",
    "    columns=[\"Nr\", \"radius\", \"density\", \"rigidity\", \"bulk\", \"viscosity\"],\n",
    ")\n",
    "\n",
    "lmax = 256\n",
    "lmin = 0\n",
    "lstep = 1\n",
    "CONF = {\n",
    "    \"EARTH_FILE\": \"earth_M3L70V01c.txt\",\n",
    "    \"COMPRESS\": \"1\",\n",
    "    \"DEGREE_RANGE\": f\"{lmin} {lmax} {lstep}\",\n",
    "    \"LABEL_OUTPUT\": f\"Bench_C_{lmax}_{lmin}_{lstep}\",\n",
    "}\n",
    "\n",
    "df_kuaq = pd.read_csv(PROJECT_ROOT / \"data\" / \"processed\" / \"KUAQ_filtered.csv\")\n",
    "df_kuaq.Time = pd.to_datetime(df_kuaq.Time)\n",
    "# df_mass = pd.read_csv(PROJECT_ROOT / \"data\" / \"processed\" / \"mass_time_series.csv\")\n",
    "df_height = load_thickness_time_series(\n",
    "    PROJECT_ROOT / \"data\" / \"processed\" / \"1900_2020_mean_thickness.mat\"\n",
    ")\n",
    "df = pd.merge(df_height, df_kuaq, how=\"inner\")\n",
    "\n",
    "height = df.Thickness.values\n",
    "uplift = df.Up.values\n",
    "\n",
    "df_em"
   ]
  },
  {
   "cell_type": "code",
   "execution_count": 3,
   "metadata": {},
   "outputs": [
    {
     "name": "stdout",
     "output_type": "stream",
     "text": [
      "5.6081345318527523e-05\n"
     ]
    }
   ],
   "source": [
    "# 68.704665, -33.214577 further back\n",
    "# 68.645056, -33.029416 near front\n",
    "station_coordinates = [68.58700000, -33.05270000]\n",
    "glacier_coordinates = [68.704665, -33.214577]\n",
    "hlove, nlove = compute_love_numbers(df_em=df_em, CONF=None, verbose=0)\n",
    "gf = greens_function(\n",
    "    hlove, nlove, glacier_coordinates, station_coordinates, arsurf=30e3 * 30e3\n",
    ")\n",
    "print(gf)"
   ]
  },
  {
   "cell_type": "code",
   "execution_count": 4,
   "metadata": {},
   "outputs": [
    {
     "name": "stdout",
     "output_type": "stream",
     "text": [
      "9.118324238840856e-05\n"
     ]
    }
   ],
   "source": [
    "# change some numbers in earth model:\n",
    "df_em[\"rigidity\"][0] = 4e10\n",
    "df_em[\"rigidity\"][1] = 5e10\n",
    "\n",
    "hlove, nlove = compute_love_numbers(df_em=df_em, CONF=None, verbose=0)\n",
    "gf = greens_function(\n",
    "    hlove, nlove, glacier_coordinates, station_coordinates, arsurf=30e3 * 30e3\n",
    ")\n",
    "print(gf)"
   ]
  },
  {
   "cell_type": "code",
   "execution_count": 4,
   "metadata": {},
   "outputs": [
    {
     "data": {
      "image/png": "[encoded data removed]",
      "text/plain": [
       "<Figure size 432x288 with 1 Axes>"
      ]
     },
     "metadata": {
      "needs_background": "light"
     },
     "output_type": "display_data"
    },
    {
     "data": {
      "image/png": "[encoded data removed]",
      "text/plain": [
       "<Figure size 432x288 with 1 Axes>"
      ]
     },
     "metadata": {
      "needs_background": "light"
     },
     "output_type": "display_data"
    }
   ],
   "source": [
    "plt.plot(df.Time, df.Thickness)\n",
    "plt.show()\n",
    "plt.plot(df.Time, df.Up)\n",
    "plt.show()"
   ]
  },
  {
   "cell_type": "code",
   "execution_count": 5,
   "metadata": {},
   "outputs": [],
   "source": [
    "radius = [6371e3, 6301e3, 5951e3, 5701e3, 3480e3]\n",
    "density = [3.037e3, 3.438e3, 3.871e3, 4.978e3, 10.750e3]\n",
    "rigidity_init = [0.50605e11, 0.70363e11, 1.05490e11, 2.28340e11, 0.0000e11]\n",
    "bulk = [5.7437e10, 9.9633e10, 1.5352e11, 3.2210e11, 1.1018e12]\n",
    "viscosity = [1.0e55, 1.0e21, 1.0e21, 2.0e21, 0.0e21]"
   ]
  },
  {
   "cell_type": "code",
   "execution_count": 6,
   "metadata": {},
   "outputs": [
    {
     "data": {
      "text/plain": [
       "76695331452.70317"
      ]
     },
     "execution_count": 6,
     "metadata": {},
     "output_type": "execute_result"
    }
   ],
   "source": [
    "np.std(rigidity_init)"
   ]
  },
  {
   "cell_type": "code",
   "execution_count": 7,
   "metadata": {},
   "outputs": [],
   "source": [
    "from pyro.infer import config_enumerate\n",
    "\n",
    "\n",
    "@config_enumerate\n",
    "def model(height, obs=None, df_em=None):\n",
    "    E_L = pyro.sample(\"E_L\", dist.Normal(0.0, 1.0))\n",
    "    # df_em[\"rigidity\"][0] = pyro.sample(\"rigidity\", dist.Normal(torch.ones\n",
    "    rigidity = pyro.sample(\n",
    "        \"rigidity\",\n",
    "        dist.Normal(\n",
    "            torch.tensor(rigidity_init),\n",
    "            np.std(rigidity_init) * torch.ones(5),\n",
    "        ),\n",
    "    )\n",
    "    df_em[\"rigidity\"] = rigidity\n",
    "    # Draw upper mantle elasticity\n",
    "    # E_UM = pyro.sample(\"E_UM\", dist.Normal(0.0, 1.0))\n",
    "\n",
    "    # Draw lower mantle elasticity\n",
    "    # E_LM = pyro.sample(\"E_LM\", dist.Normal(0.0, 1.0))\n",
    "\n",
    "    # Draw mass change with time\n",
    "    # m = pyro.sample(\"m\", dist.Normal(torch.zeros(128), torch.ones(128)))\n",
    "\n",
    "    sigma_w = pyro.sample(\"sigma\", dist.HalfCauchy(0.1))\n",
    "    sigma_gf = 1\n",
    "\n",
    "    with pyro.plate(\"data\"):\n",
    "        # Draw Love Numbers\n",
    "        hlove, nlove = compute_love_numbers(df_em=df_em, CONF=None, verbose=0)\n",
    "\n",
    "        # Draw Greens Function\n",
    "        gf = pyro.sample(\n",
    "            \"gf\",\n",
    "            dist.Normal(\n",
    "                greens_function(\n",
    "                    hlove, nlove, [68.704665, -33.214577], [68.58700000, -33.05270000]\n",
    "                ),\n",
    "                sigma_gf,\n",
    "            ),\n",
    "        )\n",
    "\n",
    "        # Draw target\n",
    "        w = pyro.sample(\"w\", dist.Normal(gf * height, sigma_w), obs=obs)"
   ]
  },
  {
   "cell_type": "code",
   "execution_count": 8,
   "metadata": {},
   "outputs": [],
   "source": [
    "X_train = torch.tensor(height).float()\n",
    "y_train = torch.tensor(uplift).float()"
   ]
  },
  {
   "cell_type": "code",
   "execution_count": 9,
   "metadata": {},
   "outputs": [
    {
     "name": "stderr",
     "output_type": "stream",
     "text": [
      "Warmup:   0%|                                                                                                         | 0/6 [00:00, ?it/s]\n",
      "KeyboardInterrupt\n",
      "\n"
     ]
    }
   ],
   "source": [
    "# Run inference in Pyro\n",
    "nuts_kernel = NUTS(model)\n",
    "mcmc = MCMC(nuts_kernel, num_samples=5, warmup_steps=1, num_chains=1)\n",
    "mcmc.run(X_train, y_train, df_em)\n",
    "\n",
    "# Show summary of inference results\n",
    "mcmc.summary()"
   ]
  },
  {
   "cell_type": "code",
   "execution_count": null,
   "metadata": {},
   "outputs": [],
   "source": []
  },
  {
   "cell_type": "markdown",
   "metadata": {},
   "source": [
    "# Train_model.py"
   ]
  },
  {
   "cell_type": "markdown",
   "metadata": {},
   "source": [
    "def premis_train(m, x=1, n=128, obs=None) -> np.ndarray:\n",
    "    \"\"\"Probabilistic model for uplift rates. This is the main model.\n",
    "    Args:\n",
    "        m (np.ndarray): mass time-series data\n",
    "        s (int, optional): number of stations. Defaults to 2.\n",
    "        n (int, optional): spherical harmonic degree. Defaults to 128.\n",
    "        obs (_type_, optional): observed gnss station uplift rates. Defaults to None.\n",
    "\n",
    "    Returns:\n",
    "        np.ndarray: predicted uplift\n",
    "    \"\"\"\n",
    "\n",
    "    #  could add dists over mu and sigmas\n",
    "    #  sigma = pyro.sample(\"sigma\", dist.HalfCauchy(5.))\n",
    "\n",
    "    # Draw lithospheric elasticity\n",
    "    E_L = pyro.sample(\"E_L\", dist.Normal(0.0, 1.0))\n",
    "\n",
    "    # Draw upper mantle elasticity\n",
    "    E_UM = pyro.sample(\"E_UM\", dist.Normal(0.0, 1.0))\n",
    "\n",
    "    # Draw lower mantle elasticity\n",
    "    E_LM = pyro.sample(\"E_LM\", dist.Normal(0.0, 1.0))\n",
    "\n",
    "    # Draw mass change with time\n",
    "    # m = pyro.sample(\"m\", dist.Normal(torch.zeros(128), torch.ones(128)))\n",
    "\n",
    "    sigma_w = pyro.sample(\"sigma\", dist.HalfCauchy(0.1))\n",
    "    sigma_gf = 1\n",
    "\n",
    "    station_coordinates = [68.58700000, -33.05270000]  # [lat, lon]\n",
    "    glacier_coordinates = [68.645056, -33.029416]  # [lat, lon]\n",
    "\n",
    "    with pyro.plate(\"data\"):\n",
    "        # Draw Love Numbers\n",
    "        hlove, nlove = torch.tensor(compute_love_numbers())\n",
    "\n",
    "        # Draw Greens Function\n",
    "        gf = pyro.sample(\n",
    "            \"gf\",\n",
    "            dist.Normal(\n",
    "                greens_function(hlove, nlove, glacier_coordinates, station_coordinates),\n",
    "                sigma_gf,\n",
    "            ),\n",
    "        )\n",
    "\n",
    "        # Draw target\n",
    "        w = pyro.sample(\"w\", dist.Normal(gf * m, sigma_w), obs=obs)\n",
    "\n",
    "    return w\n",
    "\n",
    "\n",
    "def taboo(j: int, e_l: float, e_um: float, e_lm: float) -> np.ndarray:\n",
    "    \"\"\"temporary taboo function for running pyro model\n",
    "    Args:\n",
    "        j (int): _description_\n",
    "        e_l (float): _description_\n",
    "        e_um (float): _description_\n",
    "        e_lm (float): _description_\n",
    "\n",
    "    Returns:\n",
    "        np.ndarray: _description_\n",
    "    \"\"\"\n",
    "\n",
    "    love_numbers = np.random.randint(j)\n",
    "    return love_numbers\n",
    "\n",
    "\n",
    "# if __name__ == '__main__':\n",
    "#     # X = load data\n",
    "#     # obs = ob\n",
    "#     _ = premis_train()\n"
   ]
  }
 ],
 "metadata": {
  "interpreter": {
   "hash": "1b0ff88b335ff50831a96cd053c0c2b62c7c2090570bbac97bcc7d4a2e485d10"
  },
  "kernelspec": {
   "display_name": "Python 3 (ipykernel)",
   "language": "python",
   "name": "python3"
  },
  "language_info": {
   "codemirror_mode": {
    "name": "ipython",
    "version": 3
   },
   "file_extension": ".py",
   "mimetype": "text/x-python",
   "name": "python",
   "nbconvert_exporter": "python",
   "pygments_lexer": "ipython3",
   "version": "3.9.10"
  }
 },
 "nbformat": 4,
 "nbformat_minor": 4
}
