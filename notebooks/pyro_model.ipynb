{
 "cells": [
  {
   "cell_type": "code",
   "execution_count": 9,
   "metadata": {},
   "outputs": [
    {
     "name": "stdout",
     "output_type": "stream",
     "text": [
      "/data/eigil/work/premis\n"
     ]
    }
   ],
   "source": [
    "import matplotlib.pyplot as plt\n",
    "import seaborn as sns\n",
    "import numpy as np\n",
    "import pandas as pd\n",
    "import torch\n",
    "import pyro.distributions as dist\n",
    "from pyro.infer import MCMC, NUTS\n",
    "import pyro\n",
    "\n",
    "from src.data.preprocessing import load_thickness_time_series\n",
    "from src.models.paths import PROJECT_ROOT\n",
    "from src.models.solid_earth_utils import compute_love_numbers, greens_function\n",
    "\n",
    "print(PROJECT_ROOT)"
   ]
  },
  {
   "cell_type": "code",
   "execution_count": 10,
   "metadata": {},
   "outputs": [],
   "source": [
    "from torch.distributions import constraints\n",
    "from torch.distributions.transforms import AbsTransform\n",
    "\n",
    "from pyro.distributions.torch import TransformedDistribution\n",
    "from torch.distributions.transforms import Transform \n",
    "\n",
    "class IntervalTransform(Transform):\n",
    "    r\"\"\"\n",
    "    Transform via the mapping :math:`y = a <= x <= b`.\n",
    "    \"\"\"\n",
    "    domain = constraints.real\n",
    "    codomain = constraints.positive\n",
    "    def __init__(self, a, b, event_dim=0, cache_size=0):\n",
    "        self.a = a\n",
    "        self.b = b\n",
    "        self._event_dim = event_dim\n",
    "        self._cache_size = cache_size\n",
    "        \n",
    "    def __eq__(self, other):\n",
    "        return isinstance(other, IntervalTransform(self.a, self.b))\n",
    "\n",
    "    def _call(self, x):\n",
    "        x[self.a > x] = self.a\n",
    "        x[self.b < x] = self.b\n",
    "        return x\n",
    "\n",
    "    def _inverse(self, y):\n",
    "        return y\n",
    "\n",
    "class IntervalFoldedDistribution(TransformedDistribution):\n",
    "    \"\"\"\n",
    "    Equivalent to ``TransformedDistribution(base_dist, AbsTransform())``,\n",
    "    but additionally supports :meth:`log_prob` .\n",
    "\n",
    "    :param ~torch.distributions.Distribution base_dist: The distribution to\n",
    "        reflect.\n",
    "    \"\"\"\n",
    "\n",
    "    support = constraints.positive\n",
    "\n",
    "    def __init__(self, base_dist, validate_args=None, lower=8e3, upper=1.4e4):\n",
    "        if base_dist.event_shape:\n",
    "            raise ValueError(\"Only univariate distributions can be folded.\")\n",
    "        super().__init__(base_dist, IntervalTransform(a=lower, b=upper), validate_args)\n",
    "\n",
    "    def expand(self, batch_shape, _instance=None):\n",
    "        new = self._get_checked_instance(type(self), _instance)\n",
    "        return super().expand(batch_shape, _instance=new)\n",
    "\n",
    "\n",
    "    def log_prob(self, value):\n",
    "        if self._validate_args:\n",
    "            self._validate_sample(value)\n",
    "        dim = max(len(self.batch_shape), value.dim())\n",
    "        plus_minus = value.new_tensor([1.0, -1.0]).reshape((2,) + (1,) * dim)\n",
    "        return self.base_dist.log_prob(plus_minus * value).logsumexp(0)"
   ]
  },
  {
   "cell_type": "code",
   "execution_count": 11,
   "metadata": {},
   "outputs": [],
   "source": [
    "from torch.distributions import constraints\n",
    "from torch.distributions.transforms import AbsTransform\n",
    "\n",
    "from pyro.distributions.torch import TransformedDistribution\n",
    "from torch.distributions.transforms import Transform \n",
    "\n",
    "class IntervalTransform(Transform):\n",
    "    r\"\"\"\n",
    "    Transform via the mapping :math:`y = a <= x <= b`.\n",
    "    \"\"\"\n",
    "    domain = constraints.real\n",
    "    codomain = constraints.positive\n",
    "    def __init__(self, a, b, event_dim=0, cache_size=0):\n",
    "        self.a = a\n",
    "        self.b = b\n",
    "        self._event_dim = event_dim\n",
    "        self._cache_size = cache_size\n",
    "        \n",
    "    def __eq__(self, other):\n",
    "        return isinstance(other, IntervalTransform(self.a, self.b))\n",
    "\n",
    "    def _call(self, x):\n",
    "        x[self.a > x] = self.a\n",
    "        x[self.b < x] = self.b\n",
    "        return x\n",
    "\n",
    "    def _inverse(self, y):\n",
    "        return y\n",
    "\n",
    "class IntervalFoldedDistribution(TransformedDistribution):\n",
    "    \"\"\"\n",
    "    Equivalent to ``TransformedDistribution(base_dist, AbsTransform())``,\n",
    "    but additionally supports :meth:`log_prob` .\n",
    "\n",
    "    :param ~torch.distributions.Distribution base_dist: The distribution to\n",
    "        reflect.\n",
    "    \"\"\"\n",
    "\n",
    "    support = constraints.positive\n",
    "\n",
    "    def __init__(self, base_dist, validate_args=None, lower=8e3, upper=1.4e4):\n",
    "        if base_dist.event_shape:\n",
    "            raise ValueError(\"Only univariate distributions can be folded.\")\n",
    "        super().__init__(base_dist, IntervalTransform(a=lower, b=upper), validate_args)\n",
    "\n",
    "    def expand(self, batch_shape, _instance=None):\n",
    "        new = self._get_checked_instance(type(self), _instance)\n",
    "        return super().expand(batch_shape, _instance=new)\n",
    "\n",
    "\n",
    "    def log_prob(self, value):\n",
    "        if self._validate_args:\n",
    "            self._validate_sample(value)\n",
    "        dim = max(len(self.batch_shape), value.dim())\n",
    "        plus_minus = value.new_tensor([1.0, -1.0]).reshape((2,) + (1,) * dim)\n",
    "        return self.base_dist.log_prob(plus_minus * value).logsumexp(0)"
   ]
  },
  {
   "cell_type": "code",
   "execution_count": 3,
   "metadata": {},
   "outputs": [
    {
     "data": {
      "text/html": [
       "<div>\n",
       "<style scoped>\n",
       "    .dataframe tbody tr th:only-of-type {\n",
       "        vertical-align: middle;\n",
       "    }\n",
       "\n",
       "    .dataframe tbody tr th {\n",
       "        vertical-align: top;\n",
       "    }\n",
       "\n",
       "    .dataframe thead th {\n",
       "        text-align: right;\n",
       "    }\n",
       "</style>\n",
       "<table border=\"1\" class=\"dataframe\">\n",
       "  <thead>\n",
       "    <tr style=\"text-align: right;\">\n",
       "      <th></th>\n",
       "      <th>Nr</th>\n",
       "      <th>radius</th>\n",
       "      <th>density</th>\n",
       "      <th>rigidity</th>\n",
       "      <th>bulk</th>\n",
       "      <th>viscosity</th>\n",
       "    </tr>\n",
       "  </thead>\n",
       "  <tbody>\n",
       "    <tr>\n",
       "      <th>0</th>\n",
       "      <td>1.0</td>\n",
       "      <td>6371000.0</td>\n",
       "      <td>3037.0</td>\n",
       "      <td>5.060500e+10</td>\n",
       "      <td>5.743700e+10</td>\n",
       "      <td>1.000000e+55</td>\n",
       "    </tr>\n",
       "    <tr>\n",
       "      <th>1</th>\n",
       "      <td>2.0</td>\n",
       "      <td>6301000.0</td>\n",
       "      <td>3438.0</td>\n",
       "      <td>7.036300e+10</td>\n",
       "      <td>9.963300e+10</td>\n",
       "      <td>1.000000e+21</td>\n",
       "    </tr>\n",
       "    <tr>\n",
       "      <th>2</th>\n",
       "      <td>3.0</td>\n",
       "      <td>5951000.0</td>\n",
       "      <td>3871.0</td>\n",
       "      <td>1.054900e+11</td>\n",
       "      <td>1.535200e+11</td>\n",
       "      <td>1.000000e+21</td>\n",
       "    </tr>\n",
       "    <tr>\n",
       "      <th>3</th>\n",
       "      <td>4.0</td>\n",
       "      <td>5701000.0</td>\n",
       "      <td>4978.0</td>\n",
       "      <td>2.283400e+11</td>\n",
       "      <td>3.221000e+11</td>\n",
       "      <td>2.000000e+21</td>\n",
       "    </tr>\n",
       "    <tr>\n",
       "      <th>4</th>\n",
       "      <td>5.0</td>\n",
       "      <td>3480000.0</td>\n",
       "      <td>10750.0</td>\n",
       "      <td>0.000000e+00</td>\n",
       "      <td>1.101800e+12</td>\n",
       "      <td>0.000000e+00</td>\n",
       "    </tr>\n",
       "  </tbody>\n",
       "</table>\n",
       "</div>"
      ],
      "text/plain": [
       "    Nr     radius  density      rigidity          bulk     viscosity\n",
       "0  1.0  6371000.0   3037.0  5.060500e+10  5.743700e+10  1.000000e+55\n",
       "1  2.0  6301000.0   3438.0  7.036300e+10  9.963300e+10  1.000000e+21\n",
       "2  3.0  5951000.0   3871.0  1.054900e+11  1.535200e+11  1.000000e+21\n",
       "3  4.0  5701000.0   4978.0  2.283400e+11  3.221000e+11  2.000000e+21\n",
       "4  5.0  3480000.0  10750.0  0.000000e+00  1.101800e+12  0.000000e+00"
      ]
     },
     "execution_count": 11,
     "metadata": {},
     "output_type": "execute_result"
    }
   ],
   "source": [
    "Nr = np.arange(1, 6).tolist()\n",
    "radius = [6371e3, 6301e3, 5951e3, 5701e3, 3480e3]\n",
    "density = [3.037e3, 3.438e3, 3.871e3, 4.978e3, 10.750e3]\n",
    "rigidity = [0.50605e11, 0.70363e11, 1.05490e11, 2.28340e11, 0.0000e11]\n",
    "bulk = [5.7437e10, 9.9633e10, 1.5352e11, 3.2210e11, 1.1018e12]\n",
    "viscosity = [1.0e55, 1.0e21, 1.0e21, 2.0e21, 0.0e21]\n",
    "\n",
    "df_em = pd.DataFrame(\n",
    "    np.array([Nr, radius, density, rigidity, bulk, viscosity]).T,\n",
    "    columns=[\"Nr\", \"radius\", \"density\", \"rigidity\", \"bulk\", \"viscosity\"],\n",
    ")\n",
    "\n",
    "lmax = 256\n",
    "lmin = 0\n",
    "lstep = 1\n",
    "CONF = {\n",
    "    \"EARTH_FILE\": \"earth_M3L70V01c.txt\",\n",
    "    \"COMPRESS\": \"1\",\n",
    "    \"DEGREE_RANGE\": f\"{lmin} {lmax} {lstep}\",\n",
    "    \"LABEL_OUTPUT\": f\"Bench_C_{lmax}_{lmin}_{lstep}\",\n",
    "}\n",
    "\n",
    "df_kuaq = pd.read_csv(PROJECT_ROOT / \"data\" / \"processed\" / \"KUAQ_filtered.csv\")\n",
    "df_kuaq.Time = pd.to_datetime(df_kuaq.Time)\n",
    "# df_mass = pd.read_csv(PROJECT_ROOT / \"data\" / \"processed\" / \"mass_time_series.csv\")\n",
    "df_height = load_thickness_time_series(\n",
    "    PROJECT_ROOT / \"data\" / \"processed\" / \"1900_2020_mean_thickness.mat\"\n",
    ")\n",
    "df = pd.merge(df_height, df_kuaq, how=\"inner\")\n",
    "\n",
    "height = df.Thickness.values\n",
    "uplift = df.Up.values\n",
    "\n",
    "df_em"
   ]
  },
  {
   "cell_type": "code",
   "execution_count": 16,
   "metadata": {},
   "outputs": [
    {
     "data": {
      "text/plain": [
       "[<matplotlib.lines.Line2D at 0x7ff985eaf4f0>]"
      ]
     },
     "execution_count": 16,
     "metadata": {},
     "output_type": "execute_result"
    },
    {
     "data": {
      "image/png": "[encoded data removed]",
      "text/plain": [
       "<Figure size 432x288 with 1 Axes>"
      ]
     },
     "metadata": {
      "needs_background": "light"
     },
     "output_type": "display_data"
    }
   ],
   "source": [
    "hlove, nlove = compute_love_numbers(df_em=df_em, CONF=None, verbose=0)\n",
    "gf = greens_function(hlove, nlove, [68.704665, -33.214577], [68.58700000, -33.05270000], arsurf=30e3*30e3)\n",
    "\n",
    "plt.plot(gf * height)"
   ]
  },
  {
   "cell_type": "code",
   "execution_count": 98,
   "metadata": {},
   "outputs": [],
   "source": [
    "def model(height, obs=None, df_em=None):\n",
    "    N = len(height)\n",
    "    X = torch.arange(N)\n",
    "    alpha = pyro.sample(\"alpha\",dist.Normal(-100,10))\n",
    "    beta = pyro.sample(\"beta\", dist.Normal(1,1))\n",
    "    sigma_w = 1 #pyro.sample(\"sigma\", dist.HalfCauchy(0.1))\n",
    "    \n",
    "    # rigidity layer 1\n",
    "    loc, scale = 2, 0.5\n",
    "    rigidity_dist_1 = IntervalFoldedDistribution(dist.Normal(loc, scale), lower=loc * 1e-2, upper=loc * 1e2)\n",
    "    rigidity_1 = 1e10 * pyro.sample(\"rigidity_1\", rigidity_dist_1)\n",
    "        \n",
    "    # rigidity layer 2\n",
    "    # rigidity_dist_2 = dist.Normal(1, 0.2)\n",
    "    # rigidity_2 = 1e10 * pyro.sample(\"rigidity_2\", rigidity_dist_2)    \n",
    "    \n",
    "    # dictionary = {\"sample\": sample1}\n",
    "    df_em[\"rigidity\"][0] = rigidity_1.item()\n",
    "\n",
    "    # Draw Love Numbers\n",
    "    hlove, nlove = compute_love_numbers(df_em=df_em, CONF=None, verbose=0)\n",
    "    \n",
    "    # Draw Greens Function\n",
    "    gf = greens_function(hlove, nlove, [68.704665, -33.214577], [68.58700000, -33.05270000], arsurf=30e3*30e3)\n",
    "\n",
    "    # Draw target\n",
    "    w = pyro.sample(\"w\", dist.Normal(alpha + X * beta + gf * height, sigma_w), obs=obs)\n",
    "    \n",
    "    return w"
   ]
  },
  {
   "cell_type": "code",
   "execution_count": 99,
   "metadata": {},
   "outputs": [],
   "source": [
    "X_train = torch.tensor(height).float()\n",
    "y_train = torch.tensor(uplift).float()"
   ]
  },
  {
   "cell_type": "code",
   "execution_count": 100,
   "metadata": {},
   "outputs": [
    {
     "name": "stderr",
     "output_type": "stream",
     "text": [
      "Sample: 100%|██| 155/155 [28:17, 10.95s/it, step size=1.57e-03, acc. prob=0.880]"
     ]
    },
    {
     "name": "stdout",
     "output_type": "stream",
     "text": [
      "\n",
      "                  mean       std    median      5.0%     95.0%     n_eff     r_hat\n",
      "       alpha    -20.45     15.32    -19.62    -39.90     -0.34      2.67      2.23\n",
      "        beta      0.45      0.18      0.44      0.21      0.69      2.67      2.23\n",
      "  rigidity_1      1.06      0.10      1.01      0.98      1.26      3.16      1.80\n",
      "\n",
      "Number of divergences: 0\n"
     ]
    },
    {
     "name": "stderr",
     "output_type": "stream",
     "text": [
      "\n"
     ]
    }
   ],
   "source": [
    "# Run inference in Pyro\n",
    "nuts_kernel = NUTS(model)\n",
    "mcmc = MCMC(nuts_kernel, num_samples=150, warmup_steps=5, num_chains=1)\n",
    "mcmc.run(X_train, y_train, df_em)\n",
    "\n",
    "# Show summary of inference results\n",
    "mcmc.summary()"
   ]
  },
  {
   "cell_type": "code",
   "execution_count": 101,
   "metadata": {},
   "outputs": [
    {
     "data": {
      "image/png": "[encoded data removed]",
      "text/plain": [
       "<Figure size 288x216 with 1 Axes>"
      ]
     },
     "metadata": {
      "needs_background": "light"
     },
     "output_type": "display_data"
    }
   ],
   "source": [
    "samples = {k: v for k, v in mcmc.get_samples().items()}\n",
    "nodes = [\"rigidity_1\"]\n",
    "\n",
    "rigidity_dist_prior = dist.Normal(torch.ones(150), 0.2)\n",
    "rigidity_prior = 1e10 * pyro.sample(\"rigidity_prior\", rigidity_dist_prior)\n",
    "\n",
    "for node in nodes:\n",
    "    plt.figure(figsize=(4,3))\n",
    "    sns.histplot(samples[node]*1e10, label=node, kde=True, stat='density', element=\"step\", color=\"red\")\n",
    "    sns.histplot(rigidity_prior, label=\"prior\", kde=True, stat='density', element=\"step\", alpha=0.4)\n",
    "    plt.legend()\n",
    "    plt.show()"
   ]
  },
  {
   "cell_type": "code",
   "execution_count": 127,
   "metadata": {},
   "outputs": [
    {
     "data": {
      "text/html": [
       "<div>\n",
       "<style scoped>\n",
       "    .dataframe tbody tr th:only-of-type {\n",
       "        vertical-align: middle;\n",
       "    }\n",
       "\n",
       "    .dataframe tbody tr th {\n",
       "        vertical-align: top;\n",
       "    }\n",
       "\n",
       "    .dataframe thead th {\n",
       "        text-align: right;\n",
       "    }\n",
       "</style>\n",
       "<table border=\"1\" class=\"dataframe\">\n",
       "  <thead>\n",
       "    <tr style=\"text-align: right;\">\n",
       "      <th></th>\n",
       "      <th>Nr</th>\n",
       "      <th>radius</th>\n",
       "      <th>density</th>\n",
       "      <th>rigidity</th>\n",
       "      <th>bulk</th>\n",
       "      <th>viscosity</th>\n",
       "    </tr>\n",
       "  </thead>\n",
       "  <tbody>\n",
       "    <tr>\n",
       "      <th>0</th>\n",
       "      <td>1.0</td>\n",
       "      <td>6371000.0</td>\n",
       "      <td>3037.0</td>\n",
       "      <td>9.838532e+09</td>\n",
       "      <td>5.743700e+10</td>\n",
       "      <td>1.000000e+55</td>\n",
       "    </tr>\n",
       "    <tr>\n",
       "      <th>1</th>\n",
       "      <td>2.0</td>\n",
       "      <td>6301000.0</td>\n",
       "      <td>3438.0</td>\n",
       "      <td>7.036300e+10</td>\n",
       "      <td>9.963300e+10</td>\n",
       "      <td>1.000000e+21</td>\n",
       "    </tr>\n",
       "    <tr>\n",
       "      <th>2</th>\n",
       "      <td>3.0</td>\n",
       "      <td>5951000.0</td>\n",
       "      <td>3871.0</td>\n",
       "      <td>1.054900e+11</td>\n",
       "      <td>1.535200e+11</td>\n",
       "      <td>1.000000e+21</td>\n",
       "    </tr>\n",
       "    <tr>\n",
       "      <th>3</th>\n",
       "      <td>4.0</td>\n",
       "      <td>5701000.0</td>\n",
       "      <td>4978.0</td>\n",
       "      <td>2.283400e+11</td>\n",
       "      <td>3.221000e+11</td>\n",
       "      <td>2.000000e+21</td>\n",
       "    </tr>\n",
       "    <tr>\n",
       "      <th>4</th>\n",
       "      <td>5.0</td>\n",
       "      <td>3480000.0</td>\n",
       "      <td>10750.0</td>\n",
       "      <td>0.000000e+00</td>\n",
       "      <td>1.101800e+12</td>\n",
       "      <td>0.000000e+00</td>\n",
       "    </tr>\n",
       "  </tbody>\n",
       "</table>\n",
       "</div>"
      ],
      "text/plain": [
       "    Nr     radius  density      rigidity          bulk     viscosity\n",
       "0  1.0  6371000.0   3037.0  9.838532e+09  5.743700e+10  1.000000e+55\n",
       "1  2.0  6301000.0   3438.0  7.036300e+10  9.963300e+10  1.000000e+21\n",
       "2  3.0  5951000.0   3871.0  1.054900e+11  1.535200e+11  1.000000e+21\n",
       "3  4.0  5701000.0   4978.0  2.283400e+11  3.221000e+11  2.000000e+21\n",
       "4  5.0  3480000.0  10750.0  0.000000e+00  1.101800e+12  0.000000e+00"
      ]
     },
     "execution_count": 127,
     "metadata": {},
     "output_type": "execute_result"
    }
   ],
   "source": [
    "df_em"
   ]
  },
  {
   "cell_type": "code",
   "execution_count": null,
   "metadata": {},
   "outputs": [],
   "source": [
    "N = len(height)\n",
    "X = torch.arange(N)\n",
    "\n"
   ]
  },
  {
   "cell_type": "code",
   "execution_count": 120,
   "metadata": {},
   "outputs": [
    {
     "data": {
      "text/html": [
       "<div>\n",
       "<style scoped>\n",
       "    .dataframe tbody tr th:only-of-type {\n",
       "        vertical-align: middle;\n",
       "    }\n",
       "\n",
       "    .dataframe tbody tr th {\n",
       "        vertical-align: top;\n",
       "    }\n",
       "\n",
       "    .dataframe thead th {\n",
       "        text-align: right;\n",
       "    }\n",
       "</style>\n",
       "<table border=\"1\" class=\"dataframe\">\n",
       "  <thead>\n",
       "    <tr style=\"text-align: right;\">\n",
       "      <th></th>\n",
       "      <th>Nr</th>\n",
       "      <th>radius</th>\n",
       "      <th>density</th>\n",
       "      <th>rigidity</th>\n",
       "      <th>bulk</th>\n",
       "      <th>viscosity</th>\n",
       "    </tr>\n",
       "  </thead>\n",
       "  <tbody>\n",
       "    <tr>\n",
       "      <th>0</th>\n",
       "      <td>1.0</td>\n",
       "      <td>6371000.0</td>\n",
       "      <td>3037.0</td>\n",
       "      <td>inf</td>\n",
       "      <td>5.743700e+10</td>\n",
       "      <td>1.000000e+55</td>\n",
       "    </tr>\n",
       "    <tr>\n",
       "      <th>1</th>\n",
       "      <td>2.0</td>\n",
       "      <td>6301000.0</td>\n",
       "      <td>3438.0</td>\n",
       "      <td>7.036300e+10</td>\n",
       "      <td>9.963300e+10</td>\n",
       "      <td>1.000000e+21</td>\n",
       "    </tr>\n",
       "    <tr>\n",
       "      <th>2</th>\n",
       "      <td>3.0</td>\n",
       "      <td>5951000.0</td>\n",
       "      <td>3871.0</td>\n",
       "      <td>1.054900e+11</td>\n",
       "      <td>1.535200e+11</td>\n",
       "      <td>1.000000e+21</td>\n",
       "    </tr>\n",
       "    <tr>\n",
       "      <th>3</th>\n",
       "      <td>4.0</td>\n",
       "      <td>5701000.0</td>\n",
       "      <td>4978.0</td>\n",
       "      <td>2.283400e+11</td>\n",
       "      <td>3.221000e+11</td>\n",
       "      <td>2.000000e+21</td>\n",
       "    </tr>\n",
       "    <tr>\n",
       "      <th>4</th>\n",
       "      <td>5.0</td>\n",
       "      <td>3480000.0</td>\n",
       "      <td>10750.0</td>\n",
       "      <td>0.000000e+00</td>\n",
       "      <td>1.101800e+12</td>\n",
       "      <td>0.000000e+00</td>\n",
       "    </tr>\n",
       "  </tbody>\n",
       "</table>\n",
       "</div>"
      ],
      "text/plain": [
       "tensor([0.9839])"
      ]
     },
     "execution_count": 120,
     "metadata": {},
     "output_type": "execute_result"
    }
   ],
   "source": [
    "posterior_samples = mcmc.get_samples()\n",
    "\n",
    "alpha_hat = mcmc.get_samples(1)[\"alpha\"]\n",
    "beta_hat = mcmc.get_samples(1)[\"beta\"]\n",
    "rigidity_hat = mcmc.get_samples(1)[\"rigidity_1\"]\n",
    "\n",
    "rigidity_hat"
   ]
  },
  {
   "cell_type": "code",
   "execution_count": 121,
   "metadata": {},
   "outputs": [],
   "source": [
    "df_em[\"rigidity\"][0] = rigidity_hat.item() * 1e10\n",
    "hlove, nlove = compute_love_numbers(df_em=df_em, CONF=None, verbose=0)\n",
    "gf = greens_function(hlove, nlove, [68.704665, -33.214577], [68.58700000, -33.05270000])"
   ]
  },
  {
   "cell_type": "code",
   "execution_count": 130,
   "metadata": {},
   "outputs": [
    {
     "data": {
      "text/plain": [
       "tensor([-0.6047])"
      ]
     },
     "execution_count": 130,
     "metadata": {},
     "output_type": "execute_result"
    }
   ],
   "source": [
    "alpha_hat"
   ]
  },
  {
   "cell_type": "code",
   "execution_count": 132,
   "metadata": {},
   "outputs": [],
   "source": [
    "y_hat = alpha_hat + X * beta_hat + gf * height"
   ]
  },
  {
   "cell_type": "code",
   "execution_count": 133,
   "metadata": {},
   "outputs": [
    {
     "data": {
      "text/plain": [
       "[<matplotlib.lines.Line2D at 0x7f4481d852e0>]"
      ]
     },
     "execution_count": 133,
     "metadata": {},
     "output_type": "execute_result"
    },
    {
     "data": {
      "image/png": "[encoded data removed]",
      "text/plain": [
       "<Figure size 432x288 with 1 Axes>"
      ]
     },
     "metadata": {
      "needs_background": "light"
     },
     "output_type": "display_data"
    }
   ],
   "source": [
    "plt.plot(gf * height)\n",
    "plt.plot(uplift)\n",
    "plt.plot(y_hat)"
   ]
  },
  {
   "cell_type": "markdown",
   "metadata": {},
   "source": [
    "## Different things from earlier work"
   ]
  },
  {
   "cell_type": "code",
   "execution_count": null,
   "metadata": {},
   "outputs": [],
   "source": [
    "dont run the next cells"
   ]
  },
  {
   "cell_type": "code",
   "execution_count": null,
   "metadata": {},
   "outputs": [],
   "source": [
    "class TruncatedNormal(dist.Rejector):\n",
    "    def __init__(self, loc, scale_0, max_x0):\n",
    "        propose = dist.Normal(loc, scale_0)\n",
    "\n",
    "        def log_prob_accept(x):\n",
    "            return (x[0] < max_x0).type_as(x).log()\n",
    "\n",
    "        log_scale = torch.tensor(dist.LogNormal(loc, scale_0).cdf(max_x0)).log()\n",
    "        super(TruncatedLogNormal, self).__init__(propose, log_prob_accept, log_scale)"
   ]
  },
  {
   "cell_type": "code",
   "execution_count": null,
   "metadata": {},
   "outputs": [],
   "source": [
    "## TODO: For guide support, see: https://forum.pyro.ai/t/truncated-log-normal-distribution/2002\n",
    "# from torch.distributions import constraints\n",
    "\n",
    "# class TruncatedLogNormal(dist.Rejector):\n",
    "#     ...\n",
    "#     @constraints.dependent_property\n",
    "#     def support(self):\n",
    "#         return constraints.interval(0, self.max_x0)"
   ]
  },
  {
   "cell_type": "code",
   "execution_count": null,
   "metadata": {},
   "outputs": [
    {
     "data": {
      "image/png": "[encoded data removed]",
      "text/plain": [
       "<Figure size 432x288 with 1 Axes>"
      ]
     },
     "metadata": {},
     "output_type": "display_data"
    }
   ],
   "source": [
    "diste = IntervalFoldedDistribution(dist.Normal(1e10*torch.ones(10000), 1e9), lower=1e8, upper=1e12)\n",
    "plt.hist(np.array(pyro.sample(\"test\", diste)));"
   ]
  },
  {
   "cell_type": "code",
   "execution_count": null,
   "metadata": {},
   "outputs": [
    {
     "data": {
      "text/plain": [
       "tensor(0.)"
      ]
     },
     "metadata": {},
     "output_type": "display_data"
    },
    {
     "data": {
      "image/png": "[encoded data removed]",
      "text/plain": [
       "<Figure size 432x288 with 1 Axes>"
      ]
     },
     "metadata": {},
     "output_type": "display_data"
    }
   ],
   "source": [
    "samples = 1e10 * pyro.sample(\"test\", dist.Normal(torch.ones(10000), 0.1))\n",
    "plt.hist(np.array(samples));\n",
    "samples[samples < 1e8].sum()"
   ]
  },
  {
   "cell_type": "code",
   "execution_count": 208,
   "metadata": {},
   "outputs": [
    {
     "name": "stderr",
     "output_type": "stream",
     "text": [
      "sample: 100%|██████████| 11000/11000 [00:14<00:00, 774.53it/s, 3 steps of size 1.26e+00. acc. prob=0.89]\n"
     ]
    },
    {
     "name": "stdout",
     "output_type": "stream",
     "text": [
      "-3806359800.0 -24906074.0 4083562800.0\n"
     ]
    }
   ],
   "source": [
    "import numpyro\n",
    "import numpyro.distributions as np_dist\n",
    "from numpyro.infer import MCMC, NUTS\n",
    "\n",
    "def model():\n",
    "\n",
    "    # sample1 = numpyro.sample(\"rigidity1\", bounded_rig1)\n",
    "    rigidity_unscaled = numpyro.sample(\"rigidity_unscaled\", np_dist.Normal(0, 1))\n",
    "    \n",
    "    rigidity_scaled = numpyro.deterministic(\"rigidity_scaled\", 1e10 + 1e9 * rigidity_unscaled)\n",
    "    # rigidity_scaled = numpyro.sample(\"rigidity_scaled\", np_dist.Uniform(1e9, 1e11))\n",
    "\n",
    "    \n",
    "rng_key = random.PRNGKey(0)\n",
    "rng_key, rng_key_ = random.split(rng_key)\n",
    "\n",
    "# Run NUTS.\n",
    "kernel = NUTS(model)\n",
    "num_samples = 10000\n",
    "mcmc = MCMC(kernel, num_warmup=1000, num_samples=num_samples)\n",
    "mcmc.run(rng_key_)\n",
    "\n",
    "print(mcmc.get_samples()[\"rigidity_scaled\"].min() , mcmc.get_samples()[\"rigidity_scaled\"].mean(), mcmc.get_samples()[\"rigidity_scaled\"].max())"
   ]
  },
  {
   "cell_type": "code",
   "execution_count": 209,
   "metadata": {},
   "outputs": [
    {
     "data": {
      "text/plain": [
       "[<matplotlib.lines.Line2D at 0x7f7ddc22d700>]"
      ]
     },
     "execution_count": 209,
     "metadata": {},
     "output_type": "execute_result"
    },
    {
     "data": {
      "image/png": "[encoded data removed]",
      "text/plain": [
       "<Figure size 432x288 with 1 Axes>"
      ]
     },
     "metadata": {
      "needs_background": "light"
     },
     "output_type": "display_data"
    }
   ],
   "source": [
    "samples = mcmc.get_samples()[\"rigidity_scaled\"].to_py()\n",
    "plt.plot(np.diff(samples))\n",
    "plt.plot(samples)"
   ]
  },
  {
   "cell_type": "code",
   "execution_count": 166,
   "metadata": {},
   "outputs": [
    {
     "name": "stderr",
     "output_type": "stream",
     "text": [
      "Sample: 100%|██████████| 1001/1001 [12:24,  1.34it/s, step size=1.16e-10, acc. prob=1.000]"
     ]
    },
    {
     "name": "stdout",
     "output_type": "stream",
     "text": [
      "tensor(0.8238) tensor(0.9997) tensor(1.)\n"
     ]
    },
    {
     "name": "stderr",
     "output_type": "stream",
     "text": [
      "\n"
     ]
    }
   ],
   "source": [
    "import pyro\n",
    "import pyro.distributions as dist\n",
    "from pyro.infer import MCMC, NUTS\n",
    "\n",
    "def model(height, obs=None, df_em=None):\n",
    "    sample1 = pyro.sample(\"rigidity1\", dist.Normal(1, 1e-1))\n",
    "\n",
    "# Run inference in Pyro\n",
    "nuts_kernel = NUTS(model)\n",
    "mcmc = MCMC(nuts_kernel, num_samples=1000, warmup_steps=1, num_chains=1)\n",
    "mcmc.run(X_train, y_train, df_em)\n",
    "\n",
    "print(mcmc.get_samples()[\"rigidity1\"].min() , mcmc.get_samples()[\"rigidity1\"].mean(), mcmc.get_samples()[\"rigidity1\"].max())"
   ]
  }
 ],
 "metadata": {
  "interpreter": {
   "hash": "218e925926151051a9076ee8829e942c4c8d45d6b696e1d2dab005a43eea83c4"
  },
  "kernelspec": {
   "display_name": "Python 3.9.12 ('premis')",
   "language": "python",
   "name": "python3"
  },
  "language_info": {
   "codemirror_mode": {
    "name": "ipython",
    "version": 3
   },
   "file_extension": ".py",
   "mimetype": "text/x-python",
   "name": "python",
   "nbconvert_exporter": "python",
   "pygments_lexer": "ipython3",
   "version": "3.9.12"
  }
 },
 "nbformat": 4,
 "nbformat_minor": 4
}
