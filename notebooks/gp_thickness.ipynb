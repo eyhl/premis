{
 "cells": [
  {
   "cell_type": "code",
   "execution_count": 2,
   "metadata": {},
   "outputs": [
    {
     "name": "stdout",
     "output_type": "stream",
     "text": [
      "/data/eigil/work/premis\n"
     ]
    }
   ],
   "source": [
    "import matplotlib.pyplot as plt\n",
    "import seaborn as sns\n",
    "import numpy as np\n",
    "import pandas as pd\n",
    "import torch\n",
    "import pyro.distributions as dist\n",
    "from pyro.infer import MCMC, NUTS, Predictive\n",
    "import pyro\n",
    "\n",
    "from src.data.preprocessing import detrend, ffnn_input_vector\n",
    "from src.models.paths import PROJECT_ROOT\n",
    "from src.models.solid_earth_utils import greens_function, FFNN\n",
    "from src.data.data_loader import load_uplift\n",
    "from src.models.paths import PROJECT_ROOT\n",
    "from src.models.pyro_custom import IntervalFoldedDistribution\n",
    "\n",
    "print(PROJECT_ROOT)\n",
    "pyro.set_rng_seed(42)\n",
    "%load_ext autoreload\n",
    "%autoreload 2"
   ]
  },
  {
   "cell_type": "code",
   "execution_count": 2,
   "metadata": {},
   "outputs": [],
   "source": [
    "def compute_error(trues, predicted):\n",
    "    '''\n",
    "    From course material\n",
    "    '''\n",
    "    corr = np.corrcoef(predicted, trues)[0,1]\n",
    "    mae = np.mean(np.abs(predicted - trues))\n",
    "    rae = np.sum(np.abs(predicted - trues)) / np.sum(np.abs(trues - np.mean(trues)))\n",
    "    rmse = np.sqrt(np.mean((predicted - trues)**2))\n",
    "    return corr, mae, rae, rmse"
   ]
  },
  {
   "cell_type": "code",
   "execution_count": 3,
   "metadata": {},
   "outputs": [
    {
     "name": "stderr",
     "output_type": "stream",
     "text": [
      "/data/eigil/miniconda3/envs/premis/lib/python3.9/site-packages/scipy/io/matlab/_mio.py:226: MatReadWarning: Duplicate variable name \"None\" in stream - replacing previous with new\n",
      "Consider mio5.varmats_from_mat to split file into single variable files\n",
      "  matfile_dict = MR.get_variables(variable_names)\n"
     ]
    },
    {
     "data": {
      "text/html": [
       "<div>\n",
       "<style scoped>\n",
       "    .dataframe tbody tr th:only-of-type {\n",
       "        vertical-align: middle;\n",
       "    }\n",
       "\n",
       "    .dataframe tbody tr th {\n",
       "        vertical-align: top;\n",
       "    }\n",
       "\n",
       "    .dataframe thead th {\n",
       "        text-align: right;\n",
       "    }\n",
       "</style>\n",
       "<table border=\"1\" class=\"dataframe\">\n",
       "  <thead>\n",
       "    <tr style=\"text-align: right;\">\n",
       "      <th></th>\n",
       "      <th>Nr</th>\n",
       "      <th>radius</th>\n",
       "      <th>density</th>\n",
       "      <th>rigidity</th>\n",
       "      <th>bulk</th>\n",
       "      <th>viscosity</th>\n",
       "    </tr>\n",
       "  </thead>\n",
       "  <tbody>\n",
       "    <tr>\n",
       "      <th>0</th>\n",
       "      <td>1.0</td>\n",
       "      <td>6371000.0</td>\n",
       "      <td>3037.0</td>\n",
       "      <td>5.060500e+10</td>\n",
       "      <td>5.743700e+10</td>\n",
       "      <td>1.000000e+55</td>\n",
       "    </tr>\n",
       "    <tr>\n",
       "      <th>1</th>\n",
       "      <td>2.0</td>\n",
       "      <td>6341000.0</td>\n",
       "      <td>3230.0</td>\n",
       "      <td>5.060500e+10</td>\n",
       "      <td>5.743700e+10</td>\n",
       "      <td>1.000000e+21</td>\n",
       "    </tr>\n",
       "    <tr>\n",
       "      <th>2</th>\n",
       "      <td>3.0</td>\n",
       "      <td>6311000.0</td>\n",
       "      <td>3438.0</td>\n",
       "      <td>7.036300e+10</td>\n",
       "      <td>9.963300e+10</td>\n",
       "      <td>1.000000e+21</td>\n",
       "    </tr>\n",
       "    <tr>\n",
       "      <th>3</th>\n",
       "      <td>4.0</td>\n",
       "      <td>5951000.0</td>\n",
       "      <td>3871.0</td>\n",
       "      <td>1.054900e+11</td>\n",
       "      <td>1.535200e+11</td>\n",
       "      <td>1.000000e+21</td>\n",
       "    </tr>\n",
       "    <tr>\n",
       "      <th>4</th>\n",
       "      <td>5.0</td>\n",
       "      <td>5701000.0</td>\n",
       "      <td>4978.0</td>\n",
       "      <td>2.283400e+11</td>\n",
       "      <td>3.221000e+11</td>\n",
       "      <td>2.000000e+21</td>\n",
       "    </tr>\n",
       "    <tr>\n",
       "      <th>5</th>\n",
       "      <td>6.0</td>\n",
       "      <td>3480000.0</td>\n",
       "      <td>10750.0</td>\n",
       "      <td>0.000000e+00</td>\n",
       "      <td>1.101800e+12</td>\n",
       "      <td>0.000000e+00</td>\n",
       "    </tr>\n",
       "  </tbody>\n",
       "</table>\n",
       "</div>"
      ],
      "text/plain": [
       "    Nr     radius  density      rigidity          bulk     viscosity\n",
       "0  1.0  6371000.0   3037.0  5.060500e+10  5.743700e+10  1.000000e+55\n",
       "1  2.0  6341000.0   3230.0  5.060500e+10  5.743700e+10  1.000000e+21\n",
       "2  3.0  6311000.0   3438.0  7.036300e+10  9.963300e+10  1.000000e+21\n",
       "3  4.0  5951000.0   3871.0  1.054900e+11  1.535200e+11  1.000000e+21\n",
       "4  5.0  5701000.0   4978.0  2.283400e+11  3.221000e+11  2.000000e+21\n",
       "5  6.0  3480000.0  10750.0  0.000000e+00  1.101800e+12  0.000000e+00"
      ]
     },
     "execution_count": 3,
     "metadata": {},
     "output_type": "execute_result"
    }
   ],
   "source": [
    "Nr = np.arange(1, 7).tolist()\n",
    "radius = [6371e3, 6341e3, 6311e3, 5951e3, 5701e3, 3480e3]\n",
    "density = [3.037e3, 3.230e3, 3.438e3, 3.871e3, 4.978e3, 10.750e3]\n",
    "rigidity = [0.50605e11, 0.50605e11, 0.70363e11, 1.05490e11, 2.28340e11, 0.0000e11]\n",
    "bulk = [5.7437e10, 5.7437e10, 9.9633e10, 1.5352e11, 3.2210e11, 1.1018e12]\n",
    "viscosity = [1.0e55, 1.0e21, 1.0e21, 1.0e21, 2.0e21, 0.0e21]\n",
    "\n",
    "df_em = pd.DataFrame(\n",
    "    np.array([Nr, radius, density, rigidity, bulk, viscosity]).T,\n",
    "    columns=[\"Nr\", \"radius\", \"density\", \"rigidity\", \"bulk\", \"viscosity\"],\n",
    ")\n",
    "\n",
    "lmax = 256\n",
    "lmin = 0\n",
    "lstep = 1\n",
    "CONF = {\n",
    "    \"EARTH_FILE\": \"earth_M3L70V01c.txt\",\n",
    "    \"COMPRESS\": \"1\",\n",
    "    \"DEGREE_RANGE\": f\"{lmin} {lmax} {lstep}\",\n",
    "    \"LABEL_OUTPUT\": f\"Bench_C_{lmax}_{lmin}_{lstep}\",\n",
    "}\n",
    "\n",
    "df = load_uplift()\n",
    "height = df.Thickness.values\n",
    "uplift = df.Up_kuaq.values\n",
    "\n",
    "df_em"
   ]
  },
  {
   "cell_type": "code",
   "execution_count": null,
   "metadata": {},
   "outputs": [],
   "source": [
    "#  Gaussian Process models are :class:`~pyro.contrib.gp.util.Parameterized`\n",
    "#     subclasses. So its parameters can be learned, set priors, or fixed by using\n",
    "#     corresponding methods from :class:`~pyro.contrib.gp.util.Parameterized`. A typical\n",
    "#     way to define a Gaussian Process model is\n",
    "\n",
    "#         >>> X = torch.tensor([[1., 5, 3], [4, 3, 7]])\n",
    "#         >>> y = torch.tensor([2., 1])\n",
    "#         >>> kernel = gp.kernels.RBF(input_dim=3)\n",
    "#         >>> kernel.set_prior(\"variance\", dist.Uniform(torch.tensor(0.5), torch.tensor(1.5)))\n",
    "#         >>> kernel.set_prior(\"lengthscale\", dist.Uniform(torch.tensor(1.0), torch.tensor(3.0)))\n",
    "#         >>> gpr = gp.models.GPRegression(X, y, kernel)\n",
    "\n",
    "#     There are two ways to train a Gaussian Process model:\n",
    "\n",
    "#     + Using an MCMC algorithm (in module :mod:`pyro.infer.mcmc`) on :meth:`model` to\n",
    "#       get posterior samples for the Gaussian Process's parameters. For example:\n",
    "\n",
    "#         >>> hmc_kernel = HMC(gpr.model)\n",
    "#         >>> mcmc = MCMC(hmc_kernel, num_samples=10)\n",
    "#         >>> mcmc.run()\n",
    "#         >>> ls_name = \"GPR/RBF/lengthscale\"\n",
    "#         >>> posterior_ls = mcmc.get_samples()[ls_name]\n",
    "\n",
    "# X = torch.tensor([[1., 5, 3], [4, 3, 7]])\n",
    "#         >>> y = torch.tensor([2., 1])\n",
    "#         >>> kernel = gp.kernels.RBF(input_dim=3)\n",
    "#         >>> kernel.set_prior(\"variance\", dist.Uniform(torch.tensor(0.5), torch.tensor(1.5)))\n",
    "#         >>> kernel.set_prior(\"lengthscale\", dist.Uniform(torch.tensor(1.0), torch.tensor(3.0)))\n",
    "#         >>> gpr = gp.models.GPRegression(X, y, kernel)"
   ]
  },
  {
   "cell_type": "code",
   "execution_count": 3,
   "metadata": {},
   "outputs": [],
   "source": [
    "from pyro.contrib.gp.models.model import GPModel\n",
    "from pyro.contrib.gp.util import conditional\n",
    "from pyro.distributions.util import eye_like\n",
    "import pyro.contrib.gp as gp\n",
    "\n"
   ]
  },
  {
   "cell_type": "code",
   "execution_count": 4,
   "metadata": {},
   "outputs": [
    {
     "name": "stderr",
     "output_type": "stream",
     "text": [
      "/data/eigil/miniconda3/envs/premis/lib/python3.9/site-packages/pyro/contrib/gp/parameterized.py:106: UserWarning: The method `self.set_prior(variance, prior)` has been deprecated in favor of `self.variance = PyroSample(prior)`.\n",
      "  warnings.warn(\n",
      "/data/eigil/miniconda3/envs/premis/lib/python3.9/site-packages/pyro/contrib/gp/parameterized.py:106: UserWarning: The method `self.set_prior(lengthscale, prior)` has been deprecated in favor of `self.lengthscale = PyroSample(prior)`.\n",
      "  warnings.warn(\n"
     ]
    }
   ],
   "source": [
    "X = torch.tensor([[1., 5, 3], [4, 3, 7]])\n",
    "y = torch.tensor([2., 1])\n",
    "kernel = gp.kernels.RBF(input_dim=3)\n",
    "kernel.set_prior(\"variance\", dist.Uniform(torch.tensor(0.5), torch.tensor(1.5)))\n",
    "kernel.set_prior(\"lengthscale\", dist.Uniform(torch.tensor(1.0), torch.tensor(3.0)))\n",
    "gpr = gp.models.GPRegression(X, y, kernel)"
   ]
  },
  {
   "cell_type": "code",
   "execution_count": 8,
   "metadata": {},
   "outputs": [
    {
     "name": "stderr",
     "output_type": "stream",
     "text": [
      "Sample: 100%|██████████| 20/20 [00:00, 90.68it/s, step size=1.33e+00, acc. prob=0.958]\n"
     ]
    }
   ],
   "source": [
    "hmc_kernel = NUTS(gpr.model)\n",
    "mcmc = MCMC(hmc_kernel, num_samples=10)\n",
    "mcmc.run()"
   ]
  },
  {
   "cell_type": "code",
   "execution_count": 10,
   "metadata": {},
   "outputs": [
    {
     "data": {
      "text/plain": [
       "tensor([2.5066, 1.4579, 2.5907, 2.5561, 1.9718, 1.5864, 2.2822, 2.1248, 2.0350,\n",
       "        2.4560])"
      ]
     },
     "execution_count": 10,
     "metadata": {},
     "output_type": "execute_result"
    }
   ],
   "source": [
    "mcmc.get_samples()[\"kernel.lengthscale\"]"
   ]
  },
  {
   "cell_type": "code",
   "execution_count": 39,
   "metadata": {},
   "outputs": [],
   "source": [
    "def plot(plot_observed_data=False, plot_predictions=False, n_prior_samples=0,\n",
    "         model=None, kernel=None, n_test=500):\n",
    "\n",
    "    plt.figure(figsize=(12, 6))\n",
    "    if plot_observed_data:\n",
    "        plt.plot(X_train_tensor.view(-1,).numpy(), y_train_tensor.view(-1,).numpy(), 'kx')\n",
    "    if plot_predictions:\n",
    "        Xtest = torch.tensor([[2., 3, 1]])  # test inputs\n",
    "        # compute predictive mean and variance\n",
    "        with torch.no_grad():\n",
    "            if type(model) == gp.models.VariationalSparseGP:\n",
    "                mean, cov = model(Xtest, full_cov=True)\n",
    "            else:\n",
    "                mean, cov = model(Xtest, full_cov=True)\n",
    "        sd = cov.diag().sqrt()  # standard deviation at each input point x\n",
    "        plt.plot(Xtest.numpy(), mean.numpy(), 'r', lw=2)  # plot the mean\n",
    "        # plt.fill_between(Xtest.squeeze().numpy(),  # plot the two-sigma uncertainty about the mean\n",
    "        #                  (mean - 2.0 * sd).numpy(),\n",
    "        #                  (mean + 2.0 * sd).numpy(),\n",
    "        #                  color='C0', alpha=0.3)\n",
    "        plt.legend([\"Data\", \"GP Posterior Mean\"])\n",
    "    if n_prior_samples > 0:  # plot samples from the GP prior\n",
    "        Xtest = torch.linspace(-0.5, 5.5, n_test)  # test inputs\n",
    "        noise = (model.noise if type(model) != gp.models.VariationalSparseGP\n",
    "                 else model.likelihood.variance)\n",
    "        cov = kernel.forward(Xtest) + noise.expand(n_test).diag()\n",
    "        samples = dist.MultivariateNormal(torch.zeros(n_test), covariance_matrix=cov)\\\n",
    "                      .sample(sample_shape=(n_prior_samples,))\n",
    "        plt.plot(Xtest.numpy(), samples.numpy().T, lw=2, alpha=0.4)\n",
    "\n",
    "    plt.xlim(-4, 4)"
   ]
  },
  {
   "cell_type": "code",
   "execution_count": 40,
   "metadata": {},
   "outputs": [
    {
     "data": {
      "image/png": "[encoded data removed]",
      "text/plain": [
       "<Figure size 864x432 with 1 Axes>"
      ]
     },
     "metadata": {
      "needs_background": "light"
     },
     "output_type": "display_data"
    }
   ],
   "source": [
    "# Xnew = torch.tensor([[2., 3, 1], [4, 3, 7]]) \n",
    "plot(model=gpr, plot_observed_data=False, plot_predictions=True)"
   ]
  },
  {
   "cell_type": "code",
   "execution_count": 18,
   "metadata": {},
   "outputs": [
    {
     "data": {
      "text/plain": [
       "<bound method GPRegression.model of GPRegression(\n",
       "  (kernel): RBF()\n",
       ")>"
      ]
     },
     "execution_count": 18,
     "metadata": {},
     "output_type": "execute_result"
    }
   ],
   "source": [
    "Xnew = torch.tensor([[2., 3, 1]])\n",
    "f_loc, f_cov = gpr(Xnew, full_cov=True)\n"
   ]
  },
  {
   "cell_type": "code",
   "execution_count": 41,
   "metadata": {},
   "outputs": [
    {
     "data": {
      "text/plain": [
       "[<matplotlib.lines.Line2D at 0x7f88aa4e4d30>,\n",
       " <matplotlib.lines.Line2D at 0x7f88aa4ede50>,\n",
       " <matplotlib.lines.Line2D at 0x7f88aa4f9f10>]"
      ]
     },
     "execution_count": 41,
     "metadata": {},
     "output_type": "execute_result"
    },
    {
     "data": {
      "image/png": "[encoded data removed]",
      "text/plain": [
       "<Figure size 432x288 with 1 Axes>"
      ]
     },
     "metadata": {
      "needs_background": "light"
     },
     "output_type": "display_data"
    }
   ],
   "source": [
    "plt.plot(X)"
   ]
  },
  {
   "cell_type": "code",
   "execution_count": null,
   "metadata": {},
   "outputs": [],
   "source": []
  }
 ],
 "metadata": {
  "interpreter": {
   "hash": "218e925926151051a9076ee8829e942c4c8d45d6b696e1d2dab005a43eea83c4"
  },
  "kernelspec": {
   "display_name": "Python 3.9.12 ('premis')",
   "language": "python",
   "name": "python3"
  },
  "language_info": {
   "codemirror_mode": {
    "name": "ipython",
    "version": 3
   },
   "file_extension": ".py",
   "mimetype": "text/x-python",
   "name": "python",
   "nbconvert_exporter": "python",
   "pygments_lexer": "ipython3",
   "version": "3.9.12"
  },
  "orig_nbformat": 4
 },
 "nbformat": 4,
 "nbformat_minor": 2
}
