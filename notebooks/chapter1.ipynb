{
 "cells": [
  {
   "cell_type": "code",
   "execution_count": 1,
   "metadata": {},
   "outputs": [
    {
     "name": "stdout",
     "output_type": "stream",
     "text": [
      "/data/eigil/work/premis\n"
     ]
    }
   ],
   "source": [
    "import matplotlib.pyplot as plt\n",
    "import seaborn as sns\n",
    "import numpy as np\n",
    "import pandas as pd\n",
    "import torch\n",
    "import pyro.distributions as dist\n",
    "from pyro.infer import MCMC, NUTS, Predictive\n",
    "import pyro\n",
    "\n",
    "from src.data.preprocessing import load_thickness_time_series\n",
    "from src.models.paths import PROJECT_ROOT\n",
    "from src.models.solid_earth_utils import compute_love_numbers, greens_function\n",
    "\n",
    "print(PROJECT_ROOT)\n",
    "pyro.set_rng_seed(42)"
   ]
  },
  {
   "cell_type": "code",
   "execution_count": 2,
   "metadata": {},
   "outputs": [],
   "source": [
    "class FFNN(torch.nn.Module):\n",
    "    def __init__(self, n_in, n_hidden, n_out):\n",
    "        super(FFNN, self).__init__()\n",
    "        \n",
    "        # Architecture\n",
    "        self.in_layer = torch.nn.Linear(n_in, n_hidden)\n",
    "        self.h1_layer = torch.nn.Linear(n_hidden, n_hidden)\n",
    "        self.h2_layer = torch.nn.Linear(n_hidden, n_hidden)\n",
    "        self.out_layer = torch.nn.Linear(n_hidden, n_out)\n",
    "        \n",
    "        # Activation functions\n",
    "        self.relu = torch.nn.ReLU()\n",
    "        \n",
    "    def forward(self, X):\n",
    "        # Forward pass\n",
    "        X = self.relu(self.in_layer(X))\n",
    "        X = self.relu(self.h1_layer(X))\n",
    "        X = self.relu(self.h2_layer(X))\n",
    "        X = self.out_layer(X)\n",
    "        \n",
    "        return X"
   ]
  },
  {
   "cell_type": "code",
   "execution_count": 3,
   "metadata": {},
   "outputs": [],
   "source": [
    "from torch.distributions import constraints\n",
    "from torch.distributions.transforms import AbsTransform\n",
    "\n",
    "from pyro.distributions.torch import TransformedDistribution\n",
    "from torch.distributions.transforms import Transform \n",
    "\n",
    "class IntervalTransform(Transform):\n",
    "    r\"\"\"\n",
    "    Transform via the mapping :math:`y = a <= x <= b`.\n",
    "    \"\"\"\n",
    "    domain = constraints.real\n",
    "    codomain = constraints.positive\n",
    "    def __init__(self, a, b, event_dim=0, cache_size=0):\n",
    "        self.a = a\n",
    "        self.b = b\n",
    "        self._event_dim = event_dim\n",
    "        self._cache_size = cache_size\n",
    "        \n",
    "    def __eq__(self, other):\n",
    "        return isinstance(other, IntervalTransform(self.a, self.b))\n",
    "\n",
    "    def _call(self, x):\n",
    "        x[self.a > x] = self.a\n",
    "        x[self.b < x] = self.b\n",
    "        return x\n",
    "\n",
    "    def _inverse(self, y):\n",
    "        return y\n",
    "\n",
    "class IntervalFoldedDistribution(TransformedDistribution):\n",
    "    \"\"\"\n",
    "    Equivalent to ``TransformedDistribution(base_dist, AbsTransform())``,\n",
    "    but additionally supports :meth:`log_prob` .\n",
    "\n",
    "    :param ~torch.distributions.Distribution base_dist: The distribution to\n",
    "        reflect.\n",
    "    \"\"\"\n",
    "\n",
    "    support = constraints.positive\n",
    "\n",
    "    def __init__(self, base_dist, validate_args=None, lower=8e3, upper=1.4e4):\n",
    "        if base_dist.event_shape:\n",
    "            raise ValueError(\"Only univariate distributions can be folded.\")\n",
    "        super().__init__(base_dist, IntervalTransform(a=lower, b=upper), validate_args)\n",
    "\n",
    "    def expand(self, batch_shape, _instance=None):\n",
    "        new = self._get_checked_instance(type(self), _instance)\n",
    "        return super().expand(batch_shape, _instance=new)\n",
    "\n",
    "\n",
    "    def log_prob(self, value):\n",
    "        if self._validate_args:\n",
    "            self._validate_sample(value)\n",
    "        dim = max(len(self.batch_shape), value.dim())\n",
    "        plus_minus = value.new_tensor([1.0, -1.0]).reshape((2,) + (1,) * dim)\n",
    "        return self.base_dist.log_prob(plus_minus * value).logsumexp(0)"
   ]
  },
  {
   "cell_type": "code",
   "execution_count": 4,
   "metadata": {},
   "outputs": [],
   "source": [
    "from torch.distributions import constraints\n",
    "from torch.distributions.transforms import AbsTransform\n",
    "\n",
    "from pyro.distributions.torch import TransformedDistribution\n",
    "from torch.distributions.transforms import Transform \n",
    "\n",
    "class IntervalTransform(Transform):\n",
    "    r\"\"\"\n",
    "    Transform via the mapping :math:`y = a <= x <= b`.\n",
    "    \"\"\"\n",
    "    domain = constraints.real\n",
    "    codomain = constraints.positive\n",
    "    def __init__(self, a, b, event_dim=0, cache_size=0):\n",
    "        self.a = a\n",
    "        self.b = b\n",
    "        self._event_dim = event_dim\n",
    "        self._cache_size = cache_size\n",
    "        \n",
    "    def __eq__(self, other):\n",
    "        return isinstance(other, IntervalTransform(self.a, self.b))\n",
    "\n",
    "    def _call(self, x):\n",
    "        x[self.a > x] = self.a\n",
    "        x[self.b < x] = self.b\n",
    "        return x\n",
    "\n",
    "    def _inverse(self, y):\n",
    "        return y\n",
    "\n",
    "class IntervalFoldedDistribution(TransformedDistribution):\n",
    "    \"\"\"\n",
    "    Equivalent to ``TransformedDistribution(base_dist, AbsTransform())``,\n",
    "    but additionally supports :meth:`log_prob` .\n",
    "\n",
    "    :param ~torch.distributions.Distribution base_dist: The distribution to\n",
    "        reflect.\n",
    "    \"\"\"\n",
    "\n",
    "    support = constraints.positive\n",
    "\n",
    "    def __init__(self, base_dist, validate_args=None, lower=8e3, upper=1.4e4):\n",
    "        if base_dist.event_shape:\n",
    "            raise ValueError(\"Only univariate distributions can be folded.\")\n",
    "        super().__init__(base_dist, IntervalTransform(a=lower, b=upper), validate_args)\n",
    "\n",
    "    def expand(self, batch_shape, _instance=None):\n",
    "        new = self._get_checked_instance(type(self), _instance)\n",
    "        return super().expand(batch_shape, _instance=new)\n",
    "\n",
    "\n",
    "    def log_prob(self, value):\n",
    "        if self._validate_args:\n",
    "            self._validate_sample(value)\n",
    "        dim = max(len(self.batch_shape), value.dim())\n",
    "        plus_minus = value.new_tensor([1.0, -1.0]).reshape((2,) + (1,) * dim)\n",
    "        return self.base_dist.log_prob(plus_minus * value).logsumexp(0)"
   ]
  },
  {
   "cell_type": "code",
   "execution_count": 5,
   "metadata": {},
   "outputs": [
    {
     "data": {
      "text/html": [
       "<div>\n",
       "<style scoped>\n",
       "    .dataframe tbody tr th:only-of-type {\n",
       "        vertical-align: middle;\n",
       "    }\n",
       "\n",
       "    .dataframe tbody tr th {\n",
       "        vertical-align: top;\n",
       "    }\n",
       "\n",
       "    .dataframe thead th {\n",
       "        text-align: right;\n",
       "    }\n",
       "</style>\n",
       "<table border=\"1\" class=\"dataframe\">\n",
       "  <thead>\n",
       "    <tr style=\"text-align: right;\">\n",
       "      <th></th>\n",
       "      <th>Nr</th>\n",
       "      <th>radius</th>\n",
       "      <th>density</th>\n",
       "      <th>rigidity</th>\n",
       "      <th>bulk</th>\n",
       "      <th>viscosity</th>\n",
       "    </tr>\n",
       "  </thead>\n",
       "  <tbody>\n",
       "    <tr>\n",
       "      <th>0</th>\n",
       "      <td>1.0</td>\n",
       "      <td>6371000.0</td>\n",
       "      <td>3037.0</td>\n",
       "      <td>5.060500e+10</td>\n",
       "      <td>5.743700e+10</td>\n",
       "      <td>1.000000e+55</td>\n",
       "    </tr>\n",
       "    <tr>\n",
       "      <th>1</th>\n",
       "      <td>2.0</td>\n",
       "      <td>6341000.0</td>\n",
       "      <td>3230.0</td>\n",
       "      <td>5.060500e+10</td>\n",
       "      <td>5.743700e+10</td>\n",
       "      <td>1.000000e+21</td>\n",
       "    </tr>\n",
       "    <tr>\n",
       "      <th>2</th>\n",
       "      <td>3.0</td>\n",
       "      <td>6311000.0</td>\n",
       "      <td>3438.0</td>\n",
       "      <td>7.036300e+10</td>\n",
       "      <td>9.963300e+10</td>\n",
       "      <td>1.000000e+21</td>\n",
       "    </tr>\n",
       "    <tr>\n",
       "      <th>3</th>\n",
       "      <td>4.0</td>\n",
       "      <td>5951000.0</td>\n",
       "      <td>3871.0</td>\n",
       "      <td>1.054900e+11</td>\n",
       "      <td>1.535200e+11</td>\n",
       "      <td>1.000000e+21</td>\n",
       "    </tr>\n",
       "    <tr>\n",
       "      <th>4</th>\n",
       "      <td>5.0</td>\n",
       "      <td>5701000.0</td>\n",
       "      <td>4978.0</td>\n",
       "      <td>2.283400e+11</td>\n",
       "      <td>3.221000e+11</td>\n",
       "      <td>2.000000e+21</td>\n",
       "    </tr>\n",
       "    <tr>\n",
       "      <th>5</th>\n",
       "      <td>6.0</td>\n",
       "      <td>3480000.0</td>\n",
       "      <td>10750.0</td>\n",
       "      <td>0.000000e+00</td>\n",
       "      <td>1.101800e+12</td>\n",
       "      <td>0.000000e+00</td>\n",
       "    </tr>\n",
       "  </tbody>\n",
       "</table>\n",
       "</div>"
      ],
      "text/plain": [
       "    Nr     radius  density      rigidity          bulk     viscosity\n",
       "0  1.0  6371000.0   3037.0  5.060500e+10  5.743700e+10  1.000000e+55\n",
       "1  2.0  6341000.0   3230.0  5.060500e+10  5.743700e+10  1.000000e+21\n",
       "2  3.0  6311000.0   3438.0  7.036300e+10  9.963300e+10  1.000000e+21\n",
       "3  4.0  5951000.0   3871.0  1.054900e+11  1.535200e+11  1.000000e+21\n",
       "4  5.0  5701000.0   4978.0  2.283400e+11  3.221000e+11  2.000000e+21\n",
       "5  6.0  3480000.0  10750.0  0.000000e+00  1.101800e+12  0.000000e+00"
      ]
     },
     "execution_count": 5,
     "metadata": {},
     "output_type": "execute_result"
    }
   ],
   "source": [
    "Nr = np.arange(1, 7).tolist()\n",
    "radius = [6371e3, 6341e3, 6311e3, 5951e3, 5701e3, 3480e3]\n",
    "density = [3.037e3, 3.230e3, 3.438e3, 3.871e3, 4.978e3, 10.750e3]\n",
    "rigidity = [0.50605e11, 0.50605e11, 0.70363e11, 1.05490e11, 2.28340e11, 0.0000e11]\n",
    "bulk = [5.7437e10, 5.7437e10, 9.9633e10, 1.5352e11, 3.2210e11, 1.1018e12]\n",
    "viscosity = [1.0e55, 1.0e21, 1.0e21, 1.0e21, 2.0e21, 0.0e21]\n",
    "\n",
    "df_em = pd.DataFrame(\n",
    "    np.array([Nr, radius, density, rigidity, bulk, viscosity]).T,\n",
    "    columns=[\"Nr\", \"radius\", \"density\", \"rigidity\", \"bulk\", \"viscosity\"],\n",
    ")\n",
    "\n",
    "lmax = 256\n",
    "lmin = 0\n",
    "lstep = 1\n",
    "CONF = {\n",
    "    \"EARTH_FILE\": \"earth_M3L70V01c.txt\",\n",
    "    \"COMPRESS\": \"1\",\n",
    "    \"DEGREE_RANGE\": f\"{lmin} {lmax} {lstep}\",\n",
    "    \"LABEL_OUTPUT\": f\"Bench_C_{lmax}_{lmin}_{lstep}\",\n",
    "}\n",
    "\n",
    "df_kuaq = pd.read_csv(PROJECT_ROOT / \"data\" / \"processed\" / \"KUAQ_filtered.csv\")\n",
    "df_kuaq.Time = pd.to_datetime(df_kuaq.Time)\n",
    "# df_mass = pd.read_csv(PROJECT_ROOT / \"data\" / \"processed\" / \"mass_time_series.csv\")\n",
    "df_height = load_thickness_time_series(\n",
    "    PROJECT_ROOT / \"data\" / \"processed\" / \"1900_2020_mean_thickness.mat\"\n",
    ")\n",
    "df = pd.merge(df_height, df_kuaq, how=\"inner\")\n",
    "\n",
    "height = df.Thickness.values\n",
    "uplift = df.Up.values\n",
    "\n",
    "df_em"
   ]
  },
  {
   "cell_type": "code",
   "execution_count": 6,
   "metadata": {},
   "outputs": [
    {
     "data": {
      "text/plain": [
       "(0.00013715258698306744,\n",
       " -0.03206968059261704,\n",
       " 3.5151983255279635,\n",
       " -132.5784591357166)"
      ]
     },
     "execution_count": 6,
     "metadata": {},
     "output_type": "execute_result"
    }
   ],
   "source": [
    "t = np.arange(len(uplift))\n",
    "G = np.vstack([t**3, t**2, t, np.ones_like(t)]).T\n",
    "a, b, c, d = np.linalg.lstsq(G, uplift, rcond=None)[0]\n",
    "trend = a * t**3 + b * t**2 + c * t + d\n",
    "a, b, c, d"
   ]
  },
  {
   "cell_type": "code",
   "execution_count": 7,
   "metadata": {},
   "outputs": [
    {
     "data": {
      "text/plain": [
       "[<matplotlib.lines.Line2D at 0x7fe5a0deb0d0>]"
      ]
     },
     "execution_count": 7,
     "metadata": {},
     "output_type": "execute_result"
    },
    {
     "data": {
      "image/png": "[encoded data removed]",
      "text/plain": [
       "<Figure size 432x288 with 1 Axes>"
      ]
     },
     "metadata": {
      "needs_background": "light"
     },
     "output_type": "display_data"
    }
   ],
   "source": [
    "gf_test = -2e-4\n",
    "tmp = (height - np.mean(height)) / np.std(height)\n",
    "tmp2 = uplift - trend\n",
    "tmp2 = (tmp2 - np.mean(tmp2)) / np.std(tmp2)\n",
    "plt.plot(5e3 * tmp * gf_test)\n",
    "plt.plot(tmp2)"
   ]
  },
  {
   "cell_type": "code",
   "execution_count": 8,
   "metadata": {},
   "outputs": [],
   "source": [
    "# For modelling seasonality at some point\n",
    "\n",
    "# X_time = np.concatenate([pd.get_dummies(df[x]) for x in [\"dow\", \"tod\"]], axis=1)\n",
    "# pd.get_dummies(df[\"Time\"])\n",
    "# Make month columns\n",
    "df1 = pd.concat([df, df.Time.dt.month], axis=1)\n",
    "df1.columns = [*df1.columns[:-1], 'Month']\n",
    "df1.head()\n",
    "\n",
    "# make one hot encoding of month number\n",
    "month_number = np.array(pd.get_dummies(df1[\"Month\"]))"
   ]
  },
  {
   "cell_type": "code",
   "execution_count": 9,
   "metadata": {},
   "outputs": [
    {
     "data": {
      "text/plain": [
       "126"
      ]
     },
     "execution_count": 9,
     "metadata": {},
     "output_type": "execute_result"
    }
   ],
   "source": [
    "standardized_height = (height - np.mean(height) / np.std(height))\n",
    "X_cat = np.concatenate([standardized_height[np.newaxis].T, month_number], axis=1)\n",
    "X_train = torch.tensor(X_cat).float()\n",
    "y_train = torch.tensor(uplift - trend).float()\n",
    "y_train = (y_train - y_train.mean()) / y_train.std()\n",
    "len(X_train)"
   ]
  },
  {
   "cell_type": "code",
   "execution_count": 12,
   "metadata": {},
   "outputs": [],
   "source": [
    "def model(X, obs=None, df_em=None):\n",
    "    N = len(X)\n",
    "    t = torch.linspace(0, 1, N)\n",
    "\n",
    "    sigma_w = pyro.sample(\"sigma\", dist.HalfCauchy(1.2 * torch.ones(N)))\n",
    "    \n",
    "    # rigidity layer 1\n",
    "    loc, scale = 2, 0.5\n",
    "    rigidity_dist_1 = IntervalFoldedDistribution(dist.Normal(loc, scale), lower=loc * 1e-2, upper=loc * 5e1)\n",
    "    rigidity_1 = 1e11 + 1e10 * pyro.sample(\"rigidity_1\", rigidity_dist_1)\n",
    "\n",
    "    # rigidity layer 2\n",
    "    loc, scale = 4, 0.5\n",
    "    rigidity_dist_2 = IntervalFoldedDistribution(dist.Normal(loc, scale), lower=loc * 1e-2, upper=loc * 5e1)\n",
    "    rigidity_2 = 1e11 + 1e10 * pyro.sample(\"rigidity_2\", rigidity_dist_2)\n",
    "    \n",
    "    # dictionary = {\"sample\": sample1}\n",
    "    df_em[\"rigidity\"][0] = rigidity_1.item()\n",
    "    df_em[\"rigidity\"][1] = rigidity_2.item()\n",
    "\n",
    "    # Draw Love Numbers\n",
    "    hlove, nlove = compute_love_numbers(df_em=df_em, CONF=None, verbose=0)\n",
    "    \n",
    "    # Draw Greens Function\n",
    "    gf = pyro.deterministic(\"gf\", torch.tensor(greens_function(hlove, nlove, [68.704665, -33.214577], [68.58700000, -33.05270000], arsurf=80e3 * 80e3)))\n",
    "  \n",
    "    # Draw target\n",
    "    with pyro.plate(\"data\"):\n",
    "        w = pyro.sample(\"w\", dist.Normal(- gf * X[:, 0], sigma_w), obs=obs)  # 1e5 is a scaling constant\n",
    "    \n",
    "    return w"
   ]
  },
  {
   "cell_type": "code",
   "execution_count": 13,
   "metadata": {},
   "outputs": [
    {
     "name": "stderr",
     "output_type": "stream",
     "text": [
      "Sample: 100%|██████████| 30/30 [03:26,  6.88s/it, step size=1.19e-01, acc. prob=0.705]\n"
     ]
    }
   ],
   "source": [
    "# import os\n",
    "# os.environ[\"OMP_NUM_THREADS\"] = '1'\n",
    "# Run inference in Pyro\n",
    "\n",
    "nuts_kernel = NUTS(model)\n",
    "mcmc = MCMC(nuts_kernel, num_samples=20, warmup_steps=10, num_chains=1)\n",
    "mcmc.run(X_train, y_train, df_em)"
   ]
  },
  {
   "cell_type": "code",
   "execution_count": 14,
   "metadata": {},
   "outputs": [
    {
     "name": "stdout",
     "output_type": "stream",
     "text": [
      "\n",
      "                  mean       std    median      5.0%     95.0%     n_eff     r_hat\n",
      "  rigidity_1      1.56      0.59      1.49      0.77      2.63     10.85      0.98\n",
      "  rigidity_2      3.90      0.48      3.79      3.23      4.57     94.07      0.98\n",
      "    sigma[0]      2.66      1.89      1.98      0.99      5.21   1029.86      0.95\n",
      "    sigma[1]      2.35      1.14      2.05      1.14      4.96     37.60      0.98\n",
      "    sigma[2]      1.58      0.75      1.17      0.84      2.71     35.66      0.95\n",
      "    sigma[3]      2.51      2.23      2.02      0.71      7.05     52.01      0.98\n",
      "    sigma[4]      1.80      2.15      1.47      0.44      2.46     19.29      1.01\n",
      "    sigma[5]      1.24      0.72      1.29      0.29      2.44     15.91      1.06\n",
      "    sigma[6]      1.53      1.59      0.74      0.18      5.27     28.92      0.95\n",
      "    sigma[7]      1.30      0.70      0.91      0.54      2.26     33.76      0.96\n",
      "    sigma[8]      2.79      2.26      2.53      0.38      7.59     30.15      0.95\n",
      "    sigma[9]      1.95      1.00      1.51      0.84      3.78     14.56      1.15\n",
      "   sigma[10]      2.13      0.93      2.17      0.89      2.91     55.08      0.99\n",
      "   sigma[11]      2.57      2.68      1.69      0.50      8.14     18.05      1.02\n",
      "   sigma[12]      0.94      1.19      0.65      0.07      2.53     36.12      0.96\n",
      "   sigma[13]      0.66      0.90      0.30      0.08      3.00     28.45      0.95\n",
      "   sigma[14]      0.47      0.40      0.27      0.10      1.12     12.10      1.04\n",
      "   sigma[15]      0.52      0.38      0.41      0.07      1.31     13.95      1.11\n",
      "   sigma[16]      0.44      0.53      0.28      0.03      1.68     10.87      1.05\n",
      "   sigma[17]      1.48      1.62      1.05      0.14      4.75     12.42      1.28\n",
      "   sigma[18]      2.15      3.71      0.76      0.20      9.46      9.06      1.11\n",
      "   sigma[19]      0.45      0.42      0.34      0.07      1.22     14.23      0.95\n",
      "   sigma[20]      1.04      0.94      0.78      0.25      2.59     38.97      0.99\n",
      "   sigma[21]      3.61      4.90      1.43      0.53      9.73     21.08      1.02\n",
      "   sigma[22]      3.05      2.41      2.28      0.76      7.15     51.39      0.95\n",
      "   sigma[23]      1.99      1.28      1.49      0.60      4.34     38.04      0.96\n",
      "   sigma[24]      0.50      0.67      0.20      0.04      1.44     24.08      0.98\n",
      "   sigma[25]      0.49      0.21      0.45      0.23      0.89     11.60      1.02\n",
      "   sigma[26]      0.33      0.41      0.17      0.04      1.44     13.69      0.95\n",
      "   sigma[27]      0.87      0.77      0.65      0.11      2.61     20.39      1.00\n",
      "   sigma[28]      0.89      0.77      0.50      0.27      2.49     94.05      0.96\n",
      "   sigma[29]      0.51      0.58      0.27      0.09      1.85      9.64      1.19\n",
      "   sigma[30]      0.67      0.51      0.43      0.12      1.44     25.93      0.95\n",
      "   sigma[31]      1.30      0.55      1.30      0.51      2.14     28.84      0.98\n",
      "   sigma[32]      2.89      2.81      1.89      0.83      4.67     14.24      1.10\n",
      "   sigma[33]      3.24      2.32      2.07      1.00      6.90     21.58      0.95\n",
      "   sigma[34]      3.40      2.81      2.36      1.01      9.47    118.89      0.95\n",
      "   sigma[35]      2.04      1.55      1.44      0.41      4.63     21.01      0.96\n",
      "   sigma[36]      1.82      1.70      1.35      0.38      4.04     16.84      1.02\n",
      "   sigma[37]      1.54      0.94      1.21      0.69      3.43     14.75      0.98\n",
      "   sigma[38]      1.63      1.48      0.89      0.32      4.42     16.08      1.00\n",
      "   sigma[39]      2.43      1.83      1.89      0.46      5.11     36.42      0.95\n",
      "   sigma[40]      1.48      0.98      0.98      0.46      3.38     17.25      1.01\n",
      "   sigma[41]      1.71      1.29      1.20      0.79      3.12     26.19      1.03\n",
      "   sigma[42]      0.75      0.74      0.52      0.15      2.58    169.15      0.96\n",
      "   sigma[43]      0.98      0.57      0.90      0.30      1.88    184.44      0.95\n",
      "   sigma[44]      1.31      1.32      0.95      0.39      2.75     12.21      1.09\n",
      "   sigma[45]      1.39      1.02      0.93      0.35      2.57     20.32      1.03\n",
      "   sigma[46]      1.88      2.04      0.94      0.27      5.98      9.31      0.96\n",
      "   sigma[47]      1.61      1.35      1.28      0.26      3.57     15.46      0.95\n",
      "   sigma[48]      2.07      1.71      1.18      0.59      5.14     23.90      0.97\n",
      "   sigma[49]      1.57      0.91      1.39      0.56      3.59     32.48      0.95\n",
      "   sigma[50]      2.16      2.88      1.02      0.49      4.79     21.11      0.98\n",
      "   sigma[51]      2.17      2.24      1.14      0.64      4.27     11.92      1.04\n",
      "   sigma[52]      2.02      2.23      1.14      0.55      6.94     12.74      1.06\n",
      "   sigma[53]      1.23      0.66      1.14      0.40      2.06     27.68      1.05\n",
      "   sigma[54]      1.53      1.70      1.16      0.47      1.91     25.22      0.98\n",
      "   sigma[55]      2.30      1.48      1.88      0.44      4.36     34.87      0.97\n",
      "   sigma[56]      1.31      2.72      0.47      0.10      3.81     18.54      1.00\n",
      "   sigma[57]      1.60      2.13      0.94      0.48      2.06     17.32      1.06\n",
      "   sigma[58]      0.98      1.15      0.28      0.05      3.36      9.07      1.23\n",
      "   sigma[59]      1.78      1.05      1.38      0.77      3.24     22.17      1.02\n",
      "   sigma[60]      2.29      1.03      1.97      1.07      4.65      6.69      1.09\n",
      "   sigma[61]      2.66      1.53      2.44      0.85      4.66     11.17      1.13\n",
      "   sigma[62]      5.09      8.01      1.79      1.03     24.68      6.78      1.15\n",
      "   sigma[63]      2.07      1.45      1.72      0.75      5.18     19.93      0.96\n",
      "   sigma[64]      1.75      1.98      0.88      0.31      4.99     10.47      1.13\n",
      "   sigma[65]      1.42      0.63      1.22      0.75      2.38     22.18      0.95\n",
      "   sigma[66]      1.34      0.85      1.00      0.46      3.01     34.24      0.98\n",
      "   sigma[67]      1.10      1.14      0.76      0.13      3.51     21.57      0.96\n",
      "   sigma[68]      0.90      0.43      0.78      0.39      1.69     33.60      0.97\n",
      "   sigma[69]      3.35      5.14      1.40      0.53     11.52      8.02      1.12\n",
      "   sigma[70]      2.88      2.14      2.11      0.70      5.57     14.52      1.19\n",
      "   sigma[71]      1.42      0.91      1.08      0.58      3.14     32.89      0.95\n",
      "   sigma[72]      0.42      0.48      0.19      0.09      1.55     13.32      0.96\n",
      "   sigma[73]      0.38      0.37      0.27      0.08      0.70     16.96      1.06\n",
      "   sigma[74]      0.72      0.72      0.57      0.07      1.48     17.49      0.95\n",
      "   sigma[75]      0.08      0.15      0.01      0.00      0.32      8.40      1.11\n",
      "   sigma[76]      0.50      0.31      0.40      0.21      1.18     13.42      1.05\n",
      "   sigma[77]      1.69      1.63      1.12      0.24      5.41      9.63      1.14\n",
      "   sigma[78]      1.00      1.11      0.61      0.15      3.63     13.16      0.99\n",
      "   sigma[79]      2.30      3.46      0.65      0.16      6.07     23.19      0.95\n",
      "   sigma[80]      1.62      0.45      1.50      1.10      2.51     51.24      0.95\n",
      "   sigma[81]      3.66      5.25      1.74      0.71     12.66     11.36      1.03\n",
      "   sigma[82]      2.12      1.36      1.68      0.60      4.58     21.28      0.96\n",
      "   sigma[83]      1.16      1.35      0.45      0.10      3.82     27.18      0.95\n",
      "   sigma[84]      1.70      1.07      1.21      0.69      3.97     66.80      0.97\n",
      "   sigma[85]      1.93      0.71      1.67      0.98      2.57     22.93      0.96\n",
      "   sigma[86]      2.30      2.94      1.00      0.29      6.28     10.27      1.13\n",
      "   sigma[87]      2.53      4.30      1.18      0.48      7.54     12.44      1.04\n",
      "   sigma[88]      1.59      1.27      1.07      0.34      2.98     91.82      0.95\n",
      "   sigma[89]      1.14      0.65      0.95      0.42      2.42    339.30      0.96\n",
      "   sigma[90]      0.87      0.64      0.66      0.20      2.14     28.13      1.05\n",
      "   sigma[91]      0.93      1.21      0.44      0.04      2.41     13.93      1.11\n",
      "   sigma[92]      1.75      1.48      1.11      0.61      5.32     39.62      0.95\n",
      "   sigma[93]      2.30      1.48      2.00      0.66      5.61     23.26      1.02\n",
      "   sigma[94]      1.89      1.19      1.47      0.52      3.73    219.29      0.98\n",
      "   sigma[95]      1.22      0.52      0.99      0.48      2.03     42.12      1.01\n",
      "   sigma[96]      0.76      0.31      0.71      0.27      1.20     23.74      0.96\n",
      "   sigma[97]      1.16      0.83      1.10      0.30      2.69     29.39      1.02\n",
      "   sigma[98]      0.99      1.02      0.69      0.14      3.49     79.06      1.00\n",
      "   sigma[99]      1.24      1.06      0.86      0.28      2.72     53.85      0.95\n",
      "  sigma[100]      3.37      5.24      1.45      0.59      8.07     13.76      0.99\n",
      "  sigma[101]      1.34      0.79      1.02      0.38      2.67     30.13      1.01\n",
      "  sigma[102]      1.34      0.62      1.28      0.47      1.96     21.62      0.99\n",
      "  sigma[103]      1.26      1.90      0.43      0.15      2.85     17.33      0.96\n",
      "  sigma[104]      0.83      0.55      0.67      0.24      1.63     20.93      1.01\n",
      "  sigma[105]      1.32      0.90      1.12      0.40      2.57     24.74      0.97\n",
      "  sigma[106]      1.72      0.82      1.57      0.72      3.10     13.31      1.02\n",
      "  sigma[107]      1.47      1.48      1.14      0.51      1.93     20.96      1.03\n",
      "  sigma[108]      1.04      0.81      0.74      0.13      2.31     12.15      0.97\n",
      "  sigma[109]      0.69      0.63      0.56      0.10      1.38     26.04      0.99\n",
      "  sigma[110]      1.63      1.84      0.80      0.16      4.49     30.40      0.96\n",
      "  sigma[111]      1.81      2.83      0.79      0.14      4.40     11.19      1.07\n",
      "  sigma[112]      0.67      0.49      0.48      0.16      1.65     21.63      1.00\n",
      "  sigma[113]      0.70      0.52      0.50      0.17      1.69     66.65      0.99\n",
      "  sigma[114]      1.61      1.36      1.14      0.26      3.02     26.31      1.03\n",
      "  sigma[115]      0.80      0.65      0.55      0.20      2.01     90.90      0.95\n",
      "  sigma[116]      2.45      2.16      1.61      0.85      6.87      9.47      1.14\n",
      "  sigma[117]      3.32      2.53      2.16      1.00      9.17     20.49      0.98\n",
      "  sigma[118]      2.36      1.05      2.19      1.05      3.59     29.11      0.95\n",
      "  sigma[119]      4.51      9.73      1.21      0.80     17.74     10.85      1.07\n",
      "  sigma[120]      0.94      0.51      0.78      0.40      1.95     37.89      0.95\n",
      "  sigma[121]      1.68      1.52      1.14      0.60      2.53     12.35      1.02\n",
      "  sigma[122]      1.17      0.60      0.96      0.55      2.10     24.19      0.97\n",
      "  sigma[123]      2.05      1.89      1.27      0.61      3.35     30.35      1.03\n",
      "  sigma[124]      2.51      1.59      1.93      0.74      5.58     36.04      0.99\n",
      "  sigma[125]      3.08      2.44      2.04      0.92      7.24     24.08      0.96\n",
      "\n",
      "Number of divergences: 0\n"
     ]
    }
   ],
   "source": [
    "# Show summary of inference results\n",
    "mcmc.summary() # exclude_deterministic=False"
   ]
  },
  {
   "cell_type": "code",
   "execution_count": 15,
   "metadata": {},
   "outputs": [
    {
     "data": {
      "image/png": "[encoded data removed]",
      "text/plain": [
       "<Figure size 288x216 with 1 Axes>"
      ]
     },
     "metadata": {
      "needs_background": "light"
     },
     "output_type": "display_data"
    },
    {
     "data": {
      "image/png": "[encoded data removed]",
      "text/plain": [
       "<Figure size 288x216 with 1 Axes>"
      ]
     },
     "metadata": {
      "needs_background": "light"
     },
     "output_type": "display_data"
    }
   ],
   "source": [
    "samples = {k: v for k, v in mcmc.get_samples().items()}\n",
    "nodes = [\"rigidity_1\", \"rigidity_2\"]\n",
    "\n",
    "rigidity_dist_prior = dist.Normal(2 * torch.ones(1000), 0.2)\n",
    "rigidity_prior = 1e11 + 1e10 * pyro.sample(\"rigidity_prior\", rigidity_dist_prior)\n",
    "\n",
    "for node in nodes:\n",
    "    plt.figure(figsize=(4,3))\n",
    "    sns.histplot(1e11 + 1e10 * samples[node], label=node, kde=True, stat='density', element=\"step\", color=\"red\")\n",
    "    sns.histplot(rigidity_prior, label=\"prior\", kde=True, stat='density', element=\"step\", alpha=0.4)\n",
    "    plt.legend()\n",
    "    plt.show()"
   ]
  },
  {
   "cell_type": "markdown",
   "metadata": {},
   "source": [
    "#### Get deterministic part out"
   ]
  },
  {
   "cell_type": "code",
   "execution_count": 17,
   "metadata": {},
   "outputs": [
    {
     "name": "stdout",
     "output_type": "stream",
     "text": [
      "gf: (20, 1)\n",
      "w: (20, 126)\n"
     ]
    }
   ],
   "source": [
    "from pyro.infer import Predictive\n",
    "\n",
    "predictive = Predictive(model, samples)(X_train, y_train, df_em)\n",
    "for k, v in predictive.items():\n",
    "    print(f\"{k}: {tuple(v.shape)}\")"
   ]
  },
  {
   "cell_type": "code",
   "execution_count": 18,
   "metadata": {},
   "outputs": [],
   "source": [
    "gf_res, w_res = predictive.items()\n",
    "gf_res, w_res = gf_res[1], w_res[1]"
   ]
  },
  {
   "cell_type": "code",
   "execution_count": 19,
   "metadata": {},
   "outputs": [
    {
     "data": {
      "image/png": "[encoded data removed]",
      "text/plain": [
       "<Figure size 432x288 with 1 Axes>"
      ]
     },
     "metadata": {
      "needs_background": "light"
     },
     "output_type": "display_data"
    }
   ],
   "source": [
    "plt.hist(gf_res.numpy())\n",
    "plt.xticks(rotation=45);"
   ]
  },
  {
   "cell_type": "code",
   "execution_count": 25,
   "metadata": {},
   "outputs": [
    {
     "data": {
      "text/plain": [
       "[<matplotlib.lines.Line2D at 0x7fe59a60bcd0>]"
      ]
     },
     "execution_count": 25,
     "metadata": {},
     "output_type": "execute_result"
    },
    {
     "data": {
      "image/png": "[encoded data removed]",
      "text/plain": [
       "<Figure size 432x288 with 1 Axes>"
      ]
     },
     "metadata": {
      "needs_background": "light"
     },
     "output_type": "display_data"
    }
   ],
   "source": [
    "w_pred = (gf_res * X_train[:, 0]).mean(axis=0)\n",
    "plt.plot(y_train)\n",
    "plt.plot(w_pred)"
   ]
  }
 ],
 "metadata": {
  "interpreter": {
   "hash": "218e925926151051a9076ee8829e942c4c8d45d6b696e1d2dab005a43eea83c4"
  },
  "kernelspec": {
   "display_name": "Python 3.9.12 ('premis')",
   "language": "python",
   "name": "python3"
  },
  "language_info": {
   "codemirror_mode": {
    "name": "ipython",
    "version": 3
   },
   "file_extension": ".py",
   "mimetype": "text/x-python",
   "name": "python",
   "nbconvert_exporter": "python",
   "pygments_lexer": "ipython3",
   "version": "3.9.12"
  },
  "orig_nbformat": 4
 },
 "nbformat": 4,
 "nbformat_minor": 2
}
