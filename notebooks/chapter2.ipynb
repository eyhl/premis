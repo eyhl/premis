{
 "cells": [
  {
   "cell_type": "code",
   "execution_count": 1,
   "metadata": {},
   "outputs": [
    {
     "name": "stdout",
     "output_type": "stream",
     "text": [
      "/mnt/c/Users/dnjllg/OneDrive - Danmarks Tekniske Universitet/Dokumenter/PhD/Courses/Model-based Machine Learning/premis\n"
     ]
    }
   ],
   "source": [
    "import matplotlib.pyplot as plt\n",
    "import numpy as np\n",
    "import pandas as pd\n",
    "import pyro\n",
    "import pyro.distributions as dist\n",
    "import seaborn as sns\n",
    "import torch\n",
    "from pyro.infer import MCMC, NUTS, Predictive\n",
    "from src.data.data_loader import default_em, load_uplift\n",
    "from src.data.preprocessing import (\n",
    "    detrend,\n",
    "    ffnn_input_vector,\n",
    "    load_thickness_time_series,\n",
    ")\n",
    "from src.models.paths import PROJECT_ROOT\n",
    "from src.models.pyro_custom import IntervalFoldedDistribution\n",
    "from src.models.solid_earth_utils import FFNN, compute_love_numbers, greens_function\n",
    "\n",
    "print(PROJECT_ROOT)\n",
    "pyro.set_rng_seed(42)"
   ]
  },
  {
   "cell_type": "code",
   "execution_count": 2,
   "metadata": {},
   "outputs": [],
   "source": [
    "def compute_error(trues, predicted):\n",
    "    \"\"\"\n",
    "    From course material\n",
    "    \"\"\"\n",
    "    corr = np.corrcoef(predicted, trues)[0, 1]\n",
    "    mae = np.mean(np.abs(predicted - trues))\n",
    "    rae = np.sum(np.abs(predicted - trues)) / np.sum(np.abs(trues - np.mean(trues)))\n",
    "    rmse = np.sqrt(np.mean((predicted - trues) ** 2))\n",
    "    return corr, mae, rae, rmse"
   ]
  },
  {
   "cell_type": "code",
   "execution_count": 3,
   "metadata": {},
   "outputs": [
    {
     "name": "stderr",
     "output_type": "stream",
     "text": [
      "/home/dnjllg/miniconda3/envs/MBML/lib/python3.9/site-packages/scipy/io/matlab/_mio.py:226: MatReadWarning: Duplicate variable name \"None\" in stream - replacing previous with new\n",
      "Consider mio5.varmats_from_mat to split file into single variable files\n",
      "  matfile_dict = MR.get_variables(variable_names)\n"
     ]
    },
    {
     "data": {
      "text/html": [
       "<div>\n",
       "<style scoped>\n",
       "    .dataframe tbody tr th:only-of-type {\n",
       "        vertical-align: middle;\n",
       "    }\n",
       "\n",
       "    .dataframe tbody tr th {\n",
       "        vertical-align: top;\n",
       "    }\n",
       "\n",
       "    .dataframe thead th {\n",
       "        text-align: right;\n",
       "    }\n",
       "</style>\n",
       "<table border=\"1\" class=\"dataframe\">\n",
       "  <thead>\n",
       "    <tr style=\"text-align: right;\">\n",
       "      <th></th>\n",
       "      <th>Nr</th>\n",
       "      <th>radius</th>\n",
       "      <th>density</th>\n",
       "      <th>rigidity</th>\n",
       "      <th>bulk</th>\n",
       "      <th>viscosity</th>\n",
       "    </tr>\n",
       "  </thead>\n",
       "  <tbody>\n",
       "    <tr>\n",
       "      <th>0</th>\n",
       "      <td>1.0</td>\n",
       "      <td>6371000.0</td>\n",
       "      <td>3037.0</td>\n",
       "      <td>5.060500e+10</td>\n",
       "      <td>5.743700e+10</td>\n",
       "      <td>1.000000e+55</td>\n",
       "    </tr>\n",
       "    <tr>\n",
       "      <th>1</th>\n",
       "      <td>2.0</td>\n",
       "      <td>6341000.0</td>\n",
       "      <td>3037.0</td>\n",
       "      <td>5.060500e+10</td>\n",
       "      <td>5.743700e+10</td>\n",
       "      <td>1.000000e+21</td>\n",
       "    </tr>\n",
       "    <tr>\n",
       "      <th>2</th>\n",
       "      <td>3.0</td>\n",
       "      <td>6311000.0</td>\n",
       "      <td>3438.0</td>\n",
       "      <td>7.036300e+10</td>\n",
       "      <td>9.963300e+10</td>\n",
       "      <td>1.000000e+21</td>\n",
       "    </tr>\n",
       "    <tr>\n",
       "      <th>3</th>\n",
       "      <td>4.0</td>\n",
       "      <td>5951000.0</td>\n",
       "      <td>3871.0</td>\n",
       "      <td>1.054900e+11</td>\n",
       "      <td>1.535200e+11</td>\n",
       "      <td>1.000000e+21</td>\n",
       "    </tr>\n",
       "    <tr>\n",
       "      <th>4</th>\n",
       "      <td>5.0</td>\n",
       "      <td>5701000.0</td>\n",
       "      <td>4978.0</td>\n",
       "      <td>2.283400e+11</td>\n",
       "      <td>3.221000e+11</td>\n",
       "      <td>2.000000e+21</td>\n",
       "    </tr>\n",
       "    <tr>\n",
       "      <th>5</th>\n",
       "      <td>6.0</td>\n",
       "      <td>3480000.0</td>\n",
       "      <td>10750.0</td>\n",
       "      <td>0.000000e+00</td>\n",
       "      <td>1.101800e+12</td>\n",
       "      <td>0.000000e+00</td>\n",
       "    </tr>\n",
       "  </tbody>\n",
       "</table>\n",
       "</div>"
      ],
      "text/plain": [
       "    Nr     radius  density      rigidity          bulk     viscosity\n",
       "0  1.0  6371000.0   3037.0  5.060500e+10  5.743700e+10  1.000000e+55\n",
       "1  2.0  6341000.0   3037.0  5.060500e+10  5.743700e+10  1.000000e+21\n",
       "2  3.0  6311000.0   3438.0  7.036300e+10  9.963300e+10  1.000000e+21\n",
       "3  4.0  5951000.0   3871.0  1.054900e+11  1.535200e+11  1.000000e+21\n",
       "4  5.0  5701000.0   4978.0  2.283400e+11  3.221000e+11  2.000000e+21\n",
       "5  6.0  3480000.0  10750.0  0.000000e+00  1.101800e+12  0.000000e+00"
      ]
     },
     "execution_count": 3,
     "metadata": {},
     "output_type": "execute_result"
    }
   ],
   "source": [
    "df_em = default_em()\n",
    "\n",
    "lmax = 256\n",
    "lmin = 0\n",
    "lstep = 1\n",
    "CONF = {\n",
    "    \"EARTH_FILE\": \"earth_M3L70V01c.txt\",\n",
    "    \"COMPRESS\": \"1\",\n",
    "    \"DEGREE_RANGE\": f\"{lmin} {lmax} {lstep}\",\n",
    "    \"LABEL_OUTPUT\": f\"Bench_C_{lmax}_{lmin}_{lstep}\",\n",
    "}\n",
    "df = load_uplift(timefreq=\"W\")\n",
    "height = df.Thickness.values\n",
    "up_kuaq = df.Up_kuaq.values\n",
    "up_mik2 = df.Up_mik2.values\n",
    "y_train = detrend(up_kuaq)\n",
    "df_em"
   ]
  },
  {
   "cell_type": "code",
   "execution_count": 5,
   "metadata": {},
   "outputs": [
    {
     "data": {
      "text/plain": [
       "[<matplotlib.lines.Line2D at 0x7fc8a60df100>]"
      ]
     },
     "execution_count": 5,
     "metadata": {},
     "output_type": "execute_result"
    },
    {
     "data": {
      "image/png": "[encoded data removed]",
      "text/plain": [
       "<Figure size 432x288 with 1 Axes>"
      ]
     },
     "metadata": {
      "needs_background": "light"
     },
     "output_type": "display_data"
    }
   ],
   "source": [
    "plt.plot(up_kuaq)\n",
    "plt.plot(up_mik2)"
   ]
  },
  {
   "cell_type": "code",
   "execution_count": 6,
   "metadata": {},
   "outputs": [
    {
     "data": {
      "text/plain": [
       "[<matplotlib.lines.Line2D at 0x7fc8a6061b20>]"
      ]
     },
     "execution_count": 6,
     "metadata": {},
     "output_type": "execute_result"
    },
    {
     "data": {
      "image/png": "[encoded data removed]",
      "text/plain": [
       "<Figure size 432x288 with 1 Axes>"
      ]
     },
     "metadata": {
      "needs_background": "light"
     },
     "output_type": "display_data"
    }
   ],
   "source": [
    "gf_test = -2e-4\n",
    "tmp = (height - np.mean(height)) / np.std(height)\n",
    "tmp2 = y_train\n",
    "tmp2 = (tmp2 - np.mean(tmp2)) / np.std(tmp2)\n",
    "plt.plot(5e3 * tmp * gf_test)\n",
    "plt.plot(tmp2)"
   ]
  },
  {
   "cell_type": "code",
   "execution_count": 7,
   "metadata": {},
   "outputs": [],
   "source": [
    "# For modelling seasonality at some point\n",
    "\n",
    "# X_time = np.concatenate([pd.get_dummies(df[x]) for x in [\"dow\", \"tod\"]], axis=1)\n",
    "# pd.get_dummies(df[\"Time\"])\n",
    "# Make month columns\n",
    "df1 = pd.concat([df, df.Time.dt.month], axis=1)\n",
    "df1.columns = [*df1.columns[:-1], \"Month\"]\n",
    "df1.head()\n",
    "\n",
    "# make one hot encoding of month number\n",
    "month_number = np.array(pd.get_dummies(df1[\"Month\"]))"
   ]
  },
  {
   "cell_type": "code",
   "execution_count": 8,
   "metadata": {},
   "outputs": [
    {
     "data": {
      "text/plain": [
       "544"
      ]
     },
     "execution_count": 8,
     "metadata": {},
     "output_type": "execute_result"
    }
   ],
   "source": [
    "standardized_height = height - np.mean(height) / np.std(height)\n",
    "X_cat = np.concatenate([standardized_height[np.newaxis].T, month_number], axis=1)\n",
    "X_train = torch.tensor(X_cat).float()\n",
    "y_train = torch.tensor(y_train).float()\n",
    "y_train = (y_train - y_train.mean()) / y_train.std()\n",
    "len(X_train)"
   ]
  },
  {
   "cell_type": "code",
   "execution_count": 9,
   "metadata": {},
   "outputs": [],
   "source": [
    "y_train1 = torch.tensor(detrend(up_kuaq)).float()\n",
    "y_train1 = (y_train1 - y_train1.mean()) / y_train1.std()\n",
    "\n",
    "y_train2 = torch.tensor(detrend(up_mik2)).float()\n",
    "y_train2 = (y_train2 - y_train2.mean()) / y_train2.std()\n",
    "\n",
    "y_train = torch.vstack([y_train1, y_train2]).T"
   ]
  },
  {
   "cell_type": "code",
   "execution_count": 10,
   "metadata": {},
   "outputs": [
    {
     "data": {
      "text/plain": [
       "tensor([ 8.0000e+01,  6.6610e-01,  6.3665e-01,  6.0719e-01,  2.5377e-01,\n",
       "         8.3446e-03, -2.1721e+00, -7.4027e-01, -7.4027e-01, -5.8821e-01,\n",
       "        -4.2401e-01, -4.2200e-03,  2.1846e+00, -4.3644e-01, -4.3644e-01,\n",
       "        -3.0375e-01, -6.7859e-02,  7.5714e-01, -7.7628e-01, -6.5145e-01,\n",
       "        -6.5145e-01, -5.3749e-01, -3.9196e-01,  6.3319e-02,  2.1690e+00,\n",
       "         2.2361e+00, -4.4721e-01, -4.4721e-01, -4.4721e-01, -4.4721e-01,\n",
       "        -4.4721e-01])"
      ]
     },
     "execution_count": 10,
     "metadata": {},
     "output_type": "execute_result"
    }
   ],
   "source": [
    "df_params = pd.read_csv(\"../data/processed/ffnn_variable_normalisation_params.csv\")\n",
    "\n",
    "x = np.hstack(\n",
    "    (\n",
    "        (df_em[\"radius\"].values - df_params[\"radius_mu\"][0])\n",
    "        / df_params[\"radius_sigma\"][0],\n",
    "        (df_em[\"density\"].values - df_params[\"density_mu\"][0])\n",
    "        / df_params[\"density_sigma\"][0],\n",
    "        (df_em[\"rigidity\"].values - df_params[\"rigidity_mu\"][0])\n",
    "        / df_params[\"rigidity_sigma\"][0],\n",
    "        (df_em[\"bulk\"].values - df_params[\"bulk_mu\"][0]) / df_params[\"bulk_sigma\"][0],\n",
    "        (df_em[\"viscosity\"].values - df_params[\"viscosity_mu\"][0])\n",
    "        / df_params[\"viscosity_sigma\"][0],\n",
    "    )\n",
    ")\n",
    "x = np.array(x, dtype=np.float32)\n",
    "x = np.insert(x, 0, 80)\n",
    "x = torch.tensor(x, dtype=torch.float32)\n",
    "x"
   ]
  },
  {
   "cell_type": "code",
   "execution_count": 11,
   "metadata": {},
   "outputs": [
    {
     "data": {
      "text/plain": [
       "FFNN(\n",
       "  (in_layer): Linear(in_features=31, out_features=200, bias=True)\n",
       "  (h1_layer): Linear(in_features=200, out_features=200, bias=True)\n",
       "  (h2_layer): Linear(in_features=200, out_features=200, bias=True)\n",
       "  (out_layer): Linear(in_features=200, out_features=513, bias=True)\n",
       "  (relu): ReLU()\n",
       ")"
      ]
     },
     "execution_count": 11,
     "metadata": {},
     "output_type": "execute_result"
    }
   ],
   "source": [
    "ffnn = FFNN(31, 200, 513)  # in shape, n hidden, out shape\n",
    "ffnn.load_state_dict(torch.load(\"../models/ffnn_v1.pt\"))\n",
    "ffnn.eval()"
   ]
  },
  {
   "cell_type": "code",
   "execution_count": 12,
   "metadata": {},
   "outputs": [],
   "source": [
    "def model(X, x, df_params, obs=None, df_em=None):\n",
    "    N = len(X)\n",
    "    t = torch.linspace(0, 1, N)\n",
    "\n",
    "    sigma_w = pyro.sample(\"sigma\", dist.HalfCauchy(1.2 * torch.ones(2)))\n",
    "\n",
    "    # rigidity layer 1\n",
    "    loc, scale = 2, 0.5\n",
    "    rigidity_dist_1 = IntervalFoldedDistribution(\n",
    "        dist.Normal(loc, scale), lower=loc * 1e-2, upper=loc * 5e1\n",
    "    )\n",
    "    rigidity_1 = 1e11 + 1e10 * pyro.sample(\"rigidity_1\", rigidity_dist_1)\n",
    "\n",
    "    # rigidity layer 2\n",
    "    loc, scale = 4, 0.5\n",
    "    rigidity_dist_2 = IntervalFoldedDistribution(\n",
    "        dist.Normal(loc, scale), lower=loc * 1e-2, upper=loc * 5e1\n",
    "    )\n",
    "    rigidity_2 = 1e11 + 1e10 * pyro.sample(\"rigidity_2\", rigidity_dist_2)\n",
    "\n",
    "    x[14] = (rigidity_1 - df_params[\"rigidity_mu\"][0]) / df_params[\"rigidity_sigma\"][0]\n",
    "    x[15] = (rigidity_1 - df_params[\"rigidity_mu\"][0]) / df_params[\"rigidity_sigma\"][0]\n",
    "\n",
    "    hlove = ffnn(x).detach().numpy()\n",
    "    nlove = len(hlove)\n",
    "\n",
    "    # Draw Greens Function\n",
    "    gf_kuaq = greens_function(\n",
    "        hlove,\n",
    "        nlove,\n",
    "        [68.704665, -33.214577],\n",
    "        [68.58700000, -33.05270000],\n",
    "        arsurf=80e3 * 80e3,\n",
    "    )\n",
    "    gf_mik2 = greens_function(\n",
    "        hlove,\n",
    "        nlove,\n",
    "        [68.704665, -33.214577],\n",
    "        [68.14029705, -31.45179999],\n",
    "        arsurf=80e3 * 80e3,\n",
    "    )\n",
    "    gf = pyro.deterministic(\"gf\", torch.tensor([gf_kuaq, gf_mik2]))\n",
    "\n",
    "    # Draw target\n",
    "    with pyro.plate(\"data\"):\n",
    "        w = pyro.sample(\n",
    "            \"w\", dist.Normal(-gf * X[:, 0][..., None], sigma_w), obs=obs\n",
    "        )  # 1e5 is a scaling constant\n",
    "\n",
    "    return w"
   ]
  },
  {
   "cell_type": "code",
   "execution_count": 13,
   "metadata": {},
   "outputs": [
    {
     "name": "stderr",
     "output_type": "stream",
     "text": [
      "Sample: 100%|████████████████████████████████████████| 2100/2100 [01:12, 29.01it/s, step size=4.44e-01, acc. prob=0.796]                  \n"
     ]
    }
   ],
   "source": [
    "# import os\n",
    "# os.environ[\"OMP_NUM_THREADS\"] = '1'\n",
    "# Run inference in Pyro\n",
    "\n",
    "nuts_kernel = NUTS(model)\n",
    "mcmc = MCMC(nuts_kernel, num_samples=2000, warmup_steps=100, num_chains=1)\n",
    "mcmc.run(X_train, x, df_params, y_train, df_em)"
   ]
  },
  {
   "cell_type": "code",
   "execution_count": 14,
   "metadata": {},
   "outputs": [
    {
     "name": "stdout",
     "output_type": "stream",
     "text": [
      "\n",
      "                  mean       std    median      5.0%     95.0%     n_eff     r_hat\n",
      "  rigidity_1      1.75      0.50      1.76      0.96      2.56    516.92      1.00\n",
      "  rigidity_2      4.01      0.49      4.02      3.13      4.75   1144.59      1.00\n",
      "    sigma[0]      2.72      0.08      2.72      2.59      2.86   1241.22      1.00\n",
      "    sigma[1]     35.57      1.07     35.58     33.70     37.19   1840.08      1.00\n",
      "\n",
      "Number of divergences: 0\n"
     ]
    }
   ],
   "source": [
    "# Show summary of inference results\n",
    "mcmc.summary()"
   ]
  },
  {
   "cell_type": "code",
   "execution_count": 15,
   "metadata": {},
   "outputs": [],
   "source": [
    "#### compare to PREM\n",
    "# from table IV\n",
    "depths = abs(df_em[\"radius\"].values - df_em.loc[0, \"radius\"]) / 1e3  # in km\n",
    "depth_table = np.array([0, 3, 15, 24, 40, 60, 80])\n",
    "A = np.array([21, 875, 1341, 2268, 2260, 2251, 2242])\n",
    "C = np.array([21, 875, 1341, 2176, 2165, 2151, 2138])\n",
    "L = np.array([0, 266, 441, 653, 654, 655, 656])\n",
    "N = np.array([0, 266, 441, 719, 714, 708, 702])\n",
    "F = np.array([21, 342, 459, 866, 863, 860, 857])\n",
    "\n",
    "prem_rigidity_1 = np.mean(1 / 15 * (A[:4] + C[:4] - 2 * F[:4] + 5 * N[:4] + 6 * L[:4]))\n",
    "prem_rigidity_2 = np.mean(\n",
    "    1 / 15 * (A[4:6] + C[4:6] - 2 * F[4:6] + 5 * N[4:6] + 6 * L[4:6])\n",
    ")\n",
    "prem_rigidity = {\n",
    "    \"rigidity_1\": prem_rigidity_1 * 1e8,\n",
    "    \"rigidity_2\": prem_rigidity_2 * 1e8,\n",
    "}"
   ]
  },
  {
   "cell_type": "code",
   "execution_count": 16,
   "metadata": {},
   "outputs": [
    {
     "data": {
      "image/png": "[encoded data removed]",
      "text/plain": [
       "<Figure size 288x216 with 1 Axes>"
      ]
     },
     "metadata": {
      "needs_background": "light"
     },
     "output_type": "display_data"
    },
    {
     "data": {
      "image/png": "[encoded data removed]",
      "text/plain": [
       "<Figure size 288x216 with 1 Axes>"
      ]
     },
     "metadata": {
      "needs_background": "light"
     },
     "output_type": "display_data"
    }
   ],
   "source": [
    "samples = {k: v for k, v in mcmc.get_samples().items()}\n",
    "nodes = [\"rigidity_1\", \"rigidity_2\"]\n",
    "\n",
    "rigidity_dist_prior = dist.Normal(2 * torch.ones(1000), 0.2)\n",
    "rigidity_prior = 1e11 + 1e10 * pyro.sample(\"rigidity_prior\", rigidity_dist_prior)\n",
    "\n",
    "for node in nodes:\n",
    "    plt.figure(figsize=(4, 3))\n",
    "    g = sns.histplot(\n",
    "        1e11 + 1e10 * samples[node],\n",
    "        label=node,\n",
    "        kde=True,\n",
    "        stat=\"density\",\n",
    "        element=\"step\",\n",
    "        color=\"red\",\n",
    "    )\n",
    "    sns.histplot(\n",
    "        rigidity_prior,\n",
    "        label=\"prior\",\n",
    "        kde=True,\n",
    "        stat=\"density\",\n",
    "        element=\"step\",\n",
    "        alpha=0.4,\n",
    "    )\n",
    "    plt.axvline(prem_rigidity[node], 0, 0.17, color=\"black\", label=\"PREM estimate\")\n",
    "    plt.legend()\n",
    "    plt.show()"
   ]
  },
  {
   "cell_type": "code",
   "execution_count": 32,
   "metadata": {},
   "outputs": [
    {
     "data": {
      "image/png": "[encoded data removed]",
      "text/plain": [
       "<Figure size 432x288 with 1 Axes>"
      ]
     },
     "metadata": {
      "needs_background": "light"
     },
     "output_type": "display_data"
    }
   ],
   "source": [
    "rigidity_list = []\n",
    "prem_rigidity_list = []\n",
    "for node in nodes:\n",
    "    rigidity_list.append(samples[node].mean())\n",
    "    prem_rigidity_list.append(prem_rigidity[node])\n",
    "\n",
    "x_depth = [30, 60]\n",
    "plt.scatter(x_depth, rigidity_list, label=\"Modelled rigidities\")\n",
    "plt.plot(\n",
    "    x_depth, prem_rigidity_list, color=\"black\", linestyle=\"--\", label=\"PREM estimate\"\n",
    ")\n",
    "plt.xlabel(\"Depth, [km]\")\n",
    "plt.ylabel(\"Rigidity, [Pa]\")\n",
    "plt.grid()"
   ]
  },
  {
   "cell_type": "markdown",
   "metadata": {},
   "source": [
    "### Compare to observations"
   ]
  },
  {
   "cell_type": "code",
   "execution_count": 33,
   "metadata": {},
   "outputs": [
    {
     "name": "stdout",
     "output_type": "stream",
     "text": [
      "gf: (100, 1, 2)\n",
      "w: (100, 126, 2)\n"
     ]
    }
   ],
   "source": [
    "from pyro.infer import Predictive\n",
    "\n",
    "predictive = Predictive(model, samples)(X_train, x, df_params, y_train, df_em)\n",
    "for k, v in predictive.items():\n",
    "    print(f\"{k}: {tuple(v.shape)}\")"
   ]
  },
  {
   "cell_type": "code",
   "execution_count": 34,
   "metadata": {},
   "outputs": [
    {
     "ename": "NameError",
     "evalue": "name 'gf_res' is not defined",
     "output_type": "error",
     "traceback": [
      "\u001b[0;31m---------------------------------------------------------------------------\u001b[0m",
      "\u001b[0;31mNameError\u001b[0m                                 Traceback (most recent call last)",
      "Input \u001b[0;32mIn [34]\u001b[0m, in \u001b[0;36m<cell line: 1>\u001b[0;34m()\u001b[0m\n\u001b[0;32m----> 1\u001b[0m w_pred \u001b[38;5;241m=\u001b[39m (\u001b[38;5;241m-\u001b[39m\u001b[43mgf_res\u001b[49m \u001b[38;5;241m*\u001b[39m X_train[:, \u001b[38;5;241m0\u001b[39m])\u001b[38;5;241m.\u001b[39mmean(axis\u001b[38;5;241m=\u001b[39m\u001b[38;5;241m0\u001b[39m)\n\u001b[1;32m      2\u001b[0m plt\u001b[38;5;241m.\u001b[39mplot(y_train)\n\u001b[1;32m      3\u001b[0m plt\u001b[38;5;241m.\u001b[39mplot(w_pred)\n",
      "\u001b[0;31mNameError\u001b[0m: name 'gf_res' is not defined"
     ]
    }
   ],
   "source": [
    "w_pred = (-gf_res * X_train[:, 0]).mean(axis=0)\n",
    "plt.plot(y_train)\n",
    "plt.plot(w_pred)\n",
    "corr, mae, rae, rmse = compute_error(y_train.numpy(), w_pred.numpy())\n",
    "print(f\"corr = {corr}, \\nmae = {mae}, \\nrae = {rae}, \\nrmse = {rmse}\")"
   ]
  },
  {
   "cell_type": "code",
   "execution_count": null,
   "metadata": {},
   "outputs": [],
   "source": []
  },
  {
   "cell_type": "markdown",
   "metadata": {},
   "source": [
    "## Different things from earlier work"
   ]
  },
  {
   "cell_type": "code",
   "execution_count": null,
   "metadata": {},
   "outputs": [],
   "source": [
    "dont run the next cells"
   ]
  },
  {
   "cell_type": "code",
   "execution_count": null,
   "metadata": {},
   "outputs": [
    {
     "data": {
      "text/plain": [
       "dict_keys(['rigidity_1', 'rigidity_2', 'sigma'])"
      ]
     },
     "metadata": {},
     "output_type": "display_data"
    }
   ],
   "source": [
    "# saves the model and optimizer states to disk\n",
    "def save_checkpoint(model):\n",
    "    log(\"saving model to %s...\" % args.save_model)\n",
    "    torch.save(dmm.state_dict(), args.save_model)\n",
    "    log(\"saving optimizer states to %s...\" % args.save_opt)\n",
    "    optimizer.save(args.save_opt)\n",
    "    log(\"done saving model and optimizer checkpoints to disk.\")\n",
    "\n",
    "\n",
    "# loads the model and optimizer states from disk\n",
    "def load_checkpoint():\n",
    "    assert exists(args.load_opt) and exists(\n",
    "        args.load_model\n",
    "    ), \"--load-model and/or --load-opt misspecified\"\n",
    "    log(\"loading model from %s...\" % args.load_model)\n",
    "    dmm.load_state_dict(torch.load(args.load_model))\n",
    "    log(\"loading optimizer states from %s...\" % args.load_opt)\n",
    "    optimizer.load(args.load_opt)\n",
    "    log(\"done loading model and optimizer states.\")"
   ]
  },
  {
   "cell_type": "code",
   "execution_count": null,
   "metadata": {},
   "outputs": [],
   "source": [
    "class TruncatedNormal(dist.Rejector):\n",
    "    def __init__(self, loc, scale_0, max_x0):\n",
    "        propose = dist.Normal(loc, scale_0)\n",
    "\n",
    "        def log_prob_accept(x):\n",
    "            return (x[0] < max_x0).type_as(x).log()\n",
    "\n",
    "        log_scale = torch.tensor(dist.LogNormal(loc, scale_0).cdf(max_x0)).log()\n",
    "        super(TruncatedLogNormal, self).__init__(propose, log_prob_accept, log_scale)"
   ]
  },
  {
   "cell_type": "code",
   "execution_count": null,
   "metadata": {},
   "outputs": [],
   "source": [
    "## TODO: For guide support, see: https://forum.pyro.ai/t/truncated-log-normal-distribution/2002\n",
    "# from torch.distributions import constraints\n",
    "\n",
    "# class TruncatedLogNormal(dist.Rejector):\n",
    "#     ...\n",
    "#     @constraints.dependent_property\n",
    "#     def support(self):\n",
    "#         return constraints.interval(0, self.max_x0)"
   ]
  },
  {
   "cell_type": "code",
   "execution_count": null,
   "metadata": {},
   "outputs": [
    {
     "data": {
      "image/png": "[encoded data removed]",
      "text/plain": [
       "<Figure size 432x288 with 1 Axes>"
      ]
     },
     "metadata": {},
     "output_type": "display_data"
    }
   ],
   "source": [
    "diste = IntervalFoldedDistribution(\n",
    "    dist.Normal(1e10 * torch.ones(10000), 1e9), lower=1e8, upper=1e12\n",
    ")\n",
    "plt.hist(np.array(pyro.sample(\"test\", diste)));"
   ]
  },
  {
   "cell_type": "code",
   "execution_count": null,
   "metadata": {},
   "outputs": [
    {
     "data": {
      "text/plain": [
       "tensor(0.)"
      ]
     },
     "metadata": {},
     "output_type": "display_data"
    },
    {
     "data": {
      "image/png": "[encoded data removed]",
      "text/plain": [
       "<Figure size 432x288 with 1 Axes>"
      ]
     },
     "metadata": {},
     "output_type": "display_data"
    }
   ],
   "source": [
    "samples = 1e10 * pyro.sample(\"test\", dist.Normal(torch.ones(10000), 0.1))\n",
    "plt.hist(np.array(samples))\n",
    "samples[samples < 1e8].sum()"
   ]
  },
  {
   "cell_type": "code",
   "execution_count": null,
   "metadata": {},
   "outputs": [
    {
     "name": "stderr",
     "output_type": "stream",
     "text": [
      "sample: 100%|██████████| 11000/11000 [00:14<00:00, 774.53it/s, 3 steps of size 1.26e+00. acc. prob=0.89]\n"
     ]
    },
    {
     "name": "stdout",
     "output_type": "stream",
     "text": [
      "-3806359800.0 -24906074.0 4083562800.0\n"
     ]
    }
   ],
   "source": [
    "import numpyro\n",
    "import numpyro.distributions as np_dist\n",
    "from numpyro.infer import MCMC, NUTS\n",
    "\n",
    "\n",
    "def model():\n",
    "\n",
    "    # sample1 = numpyro.sample(\"rigidity1\", bounded_rig1)\n",
    "    rigidity_unscaled = numpyro.sample(\"rigidity_unscaled\", np_dist.Normal(0, 1))\n",
    "\n",
    "    rigidity_scaled = numpyro.deterministic(\n",
    "        \"rigidity_scaled\", 1e10 + 1e9 * rigidity_unscaled\n",
    "    )\n",
    "    # rigidity_scaled = numpyro.sample(\"rigidity_scaled\", np_dist.Uniform(1e9, 1e11))\n",
    "\n",
    "\n",
    "rng_key = random.PRNGKey(0)\n",
    "rng_key, rng_key_ = random.split(rng_key)\n",
    "\n",
    "# Run NUTS.\n",
    "kernel = NUTS(model)\n",
    "num_samples = 10000\n",
    "mcmc = MCMC(kernel, num_warmup=1000, num_samples=num_samples)\n",
    "mcmc.run(rng_key_)\n",
    "\n",
    "print(\n",
    "    mcmc.get_samples()[\"rigidity_scaled\"].min(),\n",
    "    mcmc.get_samples()[\"rigidity_scaled\"].mean(),\n",
    "    mcmc.get_samples()[\"rigidity_scaled\"].max(),\n",
    ")"
   ]
  },
  {
   "cell_type": "code",
   "execution_count": null,
   "metadata": {},
   "outputs": [
    {
     "data": {
      "text/plain": [
       "[<matplotlib.lines.Line2D at 0x7f7ddc22d700>]"
      ]
     },
     "metadata": {},
     "output_type": "display_data"
    },
    {
     "data": {
      "image/png": "[encoded data removed]",
      "text/plain": [
       "<Figure size 432x288 with 1 Axes>"
      ]
     },
     "metadata": {},
     "output_type": "display_data"
    }
   ],
   "source": [
    "samples = mcmc.get_samples()[\"rigidity_scaled\"].to_py()\n",
    "plt.plot(np.diff(samples))\n",
    "plt.plot(samples)"
   ]
  },
  {
   "cell_type": "code",
   "execution_count": null,
   "metadata": {},
   "outputs": [
    {
     "name": "stderr",
     "output_type": "stream",
     "text": [
      "Sample: 100%|██████████| 1001/1001 [12:24,  1.34it/s, step size=1.16e-10, acc. prob=1.000]"
     ]
    },
    {
     "name": "stdout",
     "output_type": "stream",
     "text": [
      "tensor(0.8238) tensor(0.9997) tensor(1.)\n"
     ]
    },
    {
     "name": "stderr",
     "output_type": "stream",
     "text": [
      "\n"
     ]
    }
   ],
   "source": [
    "import pyro\n",
    "import pyro.distributions as dist\n",
    "from pyro.infer import MCMC, NUTS\n",
    "\n",
    "\n",
    "def model(height, obs=None, df_em=None):\n",
    "    sample1 = pyro.sample(\"rigidity1\", dist.Normal(1, 1e-1))\n",
    "\n",
    "\n",
    "# Run inference in Pyro\n",
    "nuts_kernel = NUTS(model)\n",
    "mcmc = MCMC(nuts_kernel, num_samples=1000, warmup_steps=1, num_chains=1)\n",
    "mcmc.run(X_train, y_train, df_em)\n",
    "\n",
    "print(\n",
    "    mcmc.get_samples()[\"rigidity1\"].min(),\n",
    "    mcmc.get_samples()[\"rigidity1\"].mean(),\n",
    "    mcmc.get_samples()[\"rigidity1\"].max(),\n",
    ")"
   ]
  }
 ],
 "metadata": {
  "interpreter": {
   "hash": "218e925926151051a9076ee8829e942c4c8d45d6b696e1d2dab005a43eea83c4"
  },
  "kernelspec": {
   "display_name": "Python 3 (ipykernel)",
   "language": "python",
   "name": "python3"
  },
  "language_info": {
   "codemirror_mode": {
    "name": "ipython",
    "version": 3
   },
   "file_extension": ".py",
   "mimetype": "text/x-python",
   "name": "python",
   "nbconvert_exporter": "python",
   "pygments_lexer": "ipython3",
   "version": "3.9.10"
  }
 },
 "nbformat": 4,
 "nbformat_minor": 4
}
