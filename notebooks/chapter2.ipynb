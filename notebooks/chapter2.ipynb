{
 "cells": [
  {
   "cell_type": "code",
   "execution_count": 1,
   "metadata": {},
   "outputs": [
    {
     "name": "stdout",
     "output_type": "stream",
     "text": [
      "/mnt/c/Users/dnjllg/OneDrive - Danmarks Tekniske Universitet/Dokumenter/PhD/Courses/Model-based Machine Learning/premis\n"
     ]
    }
   ],
   "source": [
    "import matplotlib.pyplot as plt\n",
    "import numpy as np\n",
    "import pandas as pd\n",
    "import pyro\n",
    "import pyro.distributions as dist\n",
    "import seaborn as sns\n",
    "import torch\n",
    "from pyro.infer import MCMC, NUTS, Predictive\n",
    "from src.data.data_loader import default_em, load_uplift\n",
    "from src.data.preprocessing import (\n",
    "    detrend,\n",
    "    ffnn_input_vector,\n",
    "    load_thickness_time_series,\n",
    ")\n",
    "from src.models.paths import PROJECT_ROOT\n",
    "from src.models.pyro_custom import IntervalFoldedDistribution\n",
    "from src.models.solid_earth_utils import FFNN, compute_love_numbers, greens_function\n",
    "\n",
    "print(PROJECT_ROOT)\n",
    "pyro.set_rng_seed(42)"
   ]
  },
  {
   "cell_type": "code",
   "execution_count": 2,
   "metadata": {},
   "outputs": [],
   "source": [
    "def compute_error(trues, predicted):\n",
    "    \"\"\"\n",
    "    From course material\n",
    "    \"\"\"\n",
    "    corr = np.corrcoef(predicted, trues)[0, 1]\n",
    "    mae = np.mean(np.abs(predicted - trues))\n",
    "    rae = np.sum(np.abs(predicted - trues)) / np.sum(np.abs(trues - np.mean(trues)))\n",
    "    rmse = np.sqrt(np.mean((predicted - trues) ** 2))\n",
    "    return corr, mae, rae, rmse"
   ]
  },
  {
   "cell_type": "code",
   "execution_count": 7,
   "metadata": {},
   "outputs": [
    {
     "name": "stderr",
     "output_type": "stream",
     "text": [
      "/home/dnjllg/miniconda3/envs/MBML/lib/python3.9/site-packages/scipy/io/matlab/_mio.py:226: MatReadWarning: Duplicate variable name \"None\" in stream - replacing previous with new\n",
      "Consider mio5.varmats_from_mat to split file into single variable files\n",
      "  matfile_dict = MR.get_variables(variable_names)\n"
     ]
    },
    {
     "data": {
      "text/html": [
       "<div>\n",
       "<style scoped>\n",
       "    .dataframe tbody tr th:only-of-type {\n",
       "        vertical-align: middle;\n",
       "    }\n",
       "\n",
       "    .dataframe tbody tr th {\n",
       "        vertical-align: top;\n",
       "    }\n",
       "\n",
       "    .dataframe thead th {\n",
       "        text-align: right;\n",
       "    }\n",
       "</style>\n",
       "<table border=\"1\" class=\"dataframe\">\n",
       "  <thead>\n",
       "    <tr style=\"text-align: right;\">\n",
       "      <th></th>\n",
       "      <th>Nr</th>\n",
       "      <th>radius</th>\n",
       "      <th>density</th>\n",
       "      <th>rigidity</th>\n",
       "      <th>bulk</th>\n",
       "      <th>viscosity</th>\n",
       "    </tr>\n",
       "  </thead>\n",
       "  <tbody>\n",
       "    <tr>\n",
       "      <th>0</th>\n",
       "      <td>1.0</td>\n",
       "      <td>6371000.0</td>\n",
       "      <td>3037.0</td>\n",
       "      <td>5.060500e+10</td>\n",
       "      <td>5.743700e+10</td>\n",
       "      <td>1.000000e+55</td>\n",
       "    </tr>\n",
       "    <tr>\n",
       "      <th>1</th>\n",
       "      <td>2.0</td>\n",
       "      <td>6341000.0</td>\n",
       "      <td>3037.0</td>\n",
       "      <td>5.060500e+10</td>\n",
       "      <td>5.743700e+10</td>\n",
       "      <td>1.000000e+21</td>\n",
       "    </tr>\n",
       "    <tr>\n",
       "      <th>2</th>\n",
       "      <td>3.0</td>\n",
       "      <td>6311000.0</td>\n",
       "      <td>3438.0</td>\n",
       "      <td>7.036300e+10</td>\n",
       "      <td>9.963300e+10</td>\n",
       "      <td>1.000000e+21</td>\n",
       "    </tr>\n",
       "    <tr>\n",
       "      <th>3</th>\n",
       "      <td>4.0</td>\n",
       "      <td>5951000.0</td>\n",
       "      <td>3871.0</td>\n",
       "      <td>1.054900e+11</td>\n",
       "      <td>1.535200e+11</td>\n",
       "      <td>1.000000e+21</td>\n",
       "    </tr>\n",
       "    <tr>\n",
       "      <th>4</th>\n",
       "      <td>5.0</td>\n",
       "      <td>5701000.0</td>\n",
       "      <td>4978.0</td>\n",
       "      <td>2.283400e+11</td>\n",
       "      <td>3.221000e+11</td>\n",
       "      <td>2.000000e+21</td>\n",
       "    </tr>\n",
       "    <tr>\n",
       "      <th>5</th>\n",
       "      <td>6.0</td>\n",
       "      <td>3480000.0</td>\n",
       "      <td>10750.0</td>\n",
       "      <td>0.000000e+00</td>\n",
       "      <td>1.101800e+12</td>\n",
       "      <td>0.000000e+00</td>\n",
       "    </tr>\n",
       "  </tbody>\n",
       "</table>\n",
       "</div>"
      ],
      "text/plain": [
       "    Nr     radius  density      rigidity          bulk     viscosity\n",
       "0  1.0  6371000.0   3037.0  5.060500e+10  5.743700e+10  1.000000e+55\n",
       "1  2.0  6341000.0   3037.0  5.060500e+10  5.743700e+10  1.000000e+21\n",
       "2  3.0  6311000.0   3438.0  7.036300e+10  9.963300e+10  1.000000e+21\n",
       "3  4.0  5951000.0   3871.0  1.054900e+11  1.535200e+11  1.000000e+21\n",
       "4  5.0  5701000.0   4978.0  2.283400e+11  3.221000e+11  2.000000e+21\n",
       "5  6.0  3480000.0  10750.0  0.000000e+00  1.101800e+12  0.000000e+00"
      ]
     },
     "execution_count": 7,
     "metadata": {},
     "output_type": "execute_result"
    }
   ],
   "source": [
    "df_em = default_em()\n",
    "\n",
    "lmax = 256\n",
    "lmin = 0\n",
    "lstep = 1\n",
    "CONF = {\n",
    "    \"EARTH_FILE\": \"earth_M3L70V01c.txt\",\n",
    "    \"COMPRESS\": \"1\",\n",
    "    \"DEGREE_RANGE\": f\"{lmin} {lmax} {lstep}\",\n",
    "    \"LABEL_OUTPUT\": f\"Bench_C_{lmax}_{lmin}_{lstep}\",\n",
    "}\n",
    "df = load_uplift(timefreq=\"W\")\n",
    "height = df.Thickness.values\n",
    "up_kuaq = df.Up_kuaq.values\n",
    "up_mik2 = df.Up_mik2.values\n",
    "y_train = detrend(up_kuaq)\n",
    "df_em"
   ]
  },
  {
   "cell_type": "code",
   "execution_count": 8,
   "metadata": {},
   "outputs": [
    {
     "data": {
      "text/plain": [
       "(126,)"
      ]
     },
     "execution_count": 8,
     "metadata": {},
     "output_type": "execute_result"
    }
   ],
   "source": [
    "up_kuaq.shape"
   ]
  },
  {
   "cell_type": "code",
   "execution_count": 5,
   "metadata": {},
   "outputs": [
    {
     "data": {
      "text/plain": [
       "[<matplotlib.lines.Line2D at 0x7f9879379a90>]"
      ]
     },
     "execution_count": 5,
     "metadata": {},
     "output_type": "execute_result"
    },
    {
     "data": {
      "image/png": "[encoded data removed]",
      "text/plain": [
       "<Figure size 432x288 with 1 Axes>"
      ]
     },
     "metadata": {
      "needs_background": "light"
     },
     "output_type": "display_data"
    }
   ],
   "source": [
    "gf_test = -2e-4\n",
    "tmp = (height - np.mean(height)) / np.std(height)\n",
    "tmp2 = y_train\n",
    "tmp2 = (tmp2 - np.mean(tmp2)) / np.std(tmp2)\n",
    "plt.plot(5e3 * tmp * gf_test)\n",
    "plt.plot(tmp2)"
   ]
  },
  {
   "cell_type": "code",
   "execution_count": 22,
   "metadata": {},
   "outputs": [],
   "source": [
    "# For modelling seasonality at some point\n",
    "\n",
    "# X_time = np.concatenate([pd.get_dummies(df[x]) for x in [\"dow\", \"tod\"]], axis=1)\n",
    "# pd.get_dummies(df[\"Time\"])\n",
    "# Make month columns\n",
    "df1 = pd.concat([df, df.Time.dt.month], axis=1)\n",
    "df1.columns = [*df1.columns[:-1], \"Month\"]\n",
    "df1.head()\n",
    "\n",
    "# make one hot encoding of month number\n",
    "month_number = np.array(pd.get_dummies(df1[\"Month\"]))"
   ]
  },
  {
   "cell_type": "code",
   "execution_count": 23,
   "metadata": {},
   "outputs": [
    {
     "data": {
      "text/plain": [
       "126"
      ]
     },
     "execution_count": 23,
     "metadata": {},
     "output_type": "execute_result"
    }
   ],
   "source": [
    "standardized_height = height - np.mean(height) / np.std(height)\n",
    "X_cat = np.concatenate([standardized_height[np.newaxis].T, month_number], axis=1)\n",
    "X_train = torch.tensor(X_cat).float()\n",
    "y_train = torch.tensor(y_train).float()\n",
    "y_train = (y_train - y_train.mean()) / y_train.std()\n",
    "len(X_train)"
   ]
  },
  {
   "cell_type": "code",
   "execution_count": 24,
   "metadata": {},
   "outputs": [],
   "source": [
    "y_train1 = torch.tensor(detrend(up_kuaq)).float()\n",
    "y_train1 = (y_train1 - y_train1.mean()) / y_train1.std()\n",
    "\n",
    "y_train2 = torch.tensor(detrend(up_mik2)).float()\n",
    "y_train2 = (y_train2 - y_train2.mean()) / y_train2.std()\n",
    "\n",
    "y_train = torch.vstack([y_train1, y_train2]).T"
   ]
  },
  {
   "cell_type": "code",
   "execution_count": 25,
   "metadata": {},
   "outputs": [
    {
     "data": {
      "text/plain": [
       "tensor([ 8.0000e+01,  6.6610e-01,  6.3665e-01,  6.0719e-01,  2.5377e-01,\n",
       "         8.3446e-03, -2.1721e+00, -7.4027e-01, -7.4027e-01, -5.8821e-01,\n",
       "        -4.2401e-01, -4.2200e-03,  2.1846e+00, -4.3644e-01, -4.3644e-01,\n",
       "        -3.0375e-01, -6.7859e-02,  7.5714e-01, -7.7628e-01, -6.5145e-01,\n",
       "        -6.5145e-01, -5.3749e-01, -3.9196e-01,  6.3319e-02,  2.1690e+00,\n",
       "         2.2361e+00, -4.4721e-01, -4.4721e-01, -4.4721e-01, -4.4721e-01,\n",
       "        -4.4721e-01])"
      ]
     },
     "execution_count": 25,
     "metadata": {},
     "output_type": "execute_result"
    }
   ],
   "source": [
    "df_params = pd.read_csv(\"../data/processed/ffnn_variable_normalisation_params.csv\")\n",
    "\n",
    "x = np.hstack(\n",
    "    (\n",
    "        (df_em[\"radius\"].values - df_params[\"radius_mu\"][0])\n",
    "        / df_params[\"radius_sigma\"][0],\n",
    "        (df_em[\"density\"].values - df_params[\"density_mu\"][0])\n",
    "        / df_params[\"density_sigma\"][0],\n",
    "        (df_em[\"rigidity\"].values - df_params[\"rigidity_mu\"][0])\n",
    "        / df_params[\"rigidity_sigma\"][0],\n",
    "        (df_em[\"bulk\"].values - df_params[\"bulk_mu\"][0]) / df_params[\"bulk_sigma\"][0],\n",
    "        (df_em[\"viscosity\"].values - df_params[\"viscosity_mu\"][0])\n",
    "        / df_params[\"viscosity_sigma\"][0],\n",
    "    )\n",
    ")\n",
    "x = np.array(x, dtype=np.float32)\n",
    "x = np.insert(x, 0, 80)\n",
    "x = torch.tensor(x, dtype=torch.float32)\n",
    "x"
   ]
  },
  {
   "cell_type": "code",
   "execution_count": 26,
   "metadata": {},
   "outputs": [
    {
     "data": {
      "text/plain": [
       "FFNN(\n",
       "  (in_layer): Linear(in_features=31, out_features=200, bias=True)\n",
       "  (h1_layer): Linear(in_features=200, out_features=200, bias=True)\n",
       "  (h2_layer): Linear(in_features=200, out_features=200, bias=True)\n",
       "  (out_layer): Linear(in_features=200, out_features=513, bias=True)\n",
       "  (relu): ReLU()\n",
       ")"
      ]
     },
     "execution_count": 26,
     "metadata": {},
     "output_type": "execute_result"
    }
   ],
   "source": [
    "ffnn = FFNN(31, 200, 513)  # in shape, n hidden, out shape\n",
    "ffnn.load_state_dict(torch.load(\"../models/ffnn_v1.pt\"))\n",
    "ffnn.eval()"
   ]
  },
  {
   "cell_type": "code",
   "execution_count": 35,
   "metadata": {},
   "outputs": [],
   "source": [
    "def model(X, x, df_params, obs=None, df_em=None):\n",
    "    N = len(X)\n",
    "    t = torch.linspace(0, 1, N)\n",
    "\n",
    "    sigma_w = pyro.sample(\"sigma\", dist.HalfCauchy(1.2 * torch.ones(2)))\n",
    "\n",
    "    # rigidity layer 1\n",
    "    loc, scale = 2, 0.5\n",
    "    rigidity_dist_1 = IntervalFoldedDistribution(\n",
    "        dist.Normal(loc, scale), lower=loc * 1e-2, upper=loc * 5e1\n",
    "    )\n",
    "    rigidity_1 = 1e11 + 1e10 * pyro.sample(\"rigidity_1\", rigidity_dist_1)\n",
    "\n",
    "    # rigidity layer 2\n",
    "    loc, scale = 4, 0.5\n",
    "    rigidity_dist_2 = IntervalFoldedDistribution(\n",
    "        dist.Normal(loc, scale), lower=loc * 1e-2, upper=loc * 5e1\n",
    "    )\n",
    "    rigidity_2 = 1e11 + 1e10 * pyro.sample(\"rigidity_2\", rigidity_dist_2)\n",
    "\n",
    "    x[14] = (rigidity_1 - df_params[\"rigidity_mu\"][0]) / df_params[\"rigidity_sigma\"][0]\n",
    "    x[15] = (rigidity_1 - df_params[\"rigidity_mu\"][0]) / df_params[\"rigidity_sigma\"][0]\n",
    "\n",
    "    hlove = ffnn(x).detach().numpy()\n",
    "    nlove = len(hlove)\n",
    "\n",
    "    # Draw Greens Function\n",
    "    gf_kuaq = greens_function(\n",
    "        hlove,\n",
    "        nlove,\n",
    "        [68.704665, -33.214577],\n",
    "        [68.58700000, -33.05270000],\n",
    "        arsurf=80e3 * 80e3,\n",
    "    )\n",
    "    gf_mik2 = greens_function(\n",
    "        hlove,\n",
    "        nlove,\n",
    "        [68.704665, -33.214577],\n",
    "        [68.14029705, -31.45179999],\n",
    "        arsurf=80e3 * 80e3,\n",
    "    )\n",
    "    gf = pyro.deterministic(\"gf\", torch.tensor([gf_kuaq, gf_mik2]))\n",
    "\n",
    "    # Draw target\n",
    "    with pyro.plate(\"data\"):\n",
    "        w = pyro.sample(\n",
    "            \"w\", dist.Normal(-gf * X[:, 0][..., None], sigma_w), obs=obs\n",
    "        )  # 1e5 is a scaling constant\n",
    "\n",
    "    return w"
   ]
  },
  {
   "cell_type": "code",
   "execution_count": 37,
   "metadata": {},
   "outputs": [
    {
     "name": "stderr",
     "output_type": "stream",
     "text": [
      "Sample: 100%|████████████████████████████████████████| 2100/2100 [00:59, 35.42it/s, step size=7.62e-01, acc. prob=0.903]                  \n"
     ]
    }
   ],
   "source": [
    "# import os\n",
    "# os.environ[\"OMP_NUM_THREADS\"] = '1'\n",
    "# Run inference in Pyro\n",
    "\n",
    "nuts_kernel = NUTS(model)\n",
    "mcmc = MCMC(nuts_kernel, num_samples=2000, warmup_steps=100, num_chains=1)\n",
    "mcmc.run(X_train, x, df_params, y_train, df_em)"
   ]
  },
  {
   "cell_type": "code",
   "execution_count": 29,
   "metadata": {},
   "outputs": [
    {
     "name": "stdout",
     "output_type": "stream",
     "text": [
      "\n",
      "                  mean       std    median      5.0%     95.0%     n_eff     r_hat\n",
      "  rigidity_1      1.89      0.46      1.90      1.05      2.49     95.68      0.99\n",
      "  rigidity_2      4.00      0.59      3.99      3.08      4.82     54.11      1.00\n",
      "  sigma[0,0]     22.51     57.23     10.59      3.73     30.67     37.35      1.02\n",
      "  sigma[0,1]    284.30    713.05    159.89     54.58    360.10     55.27      1.00\n",
      "  sigma[1,0]      3.33      1.82      2.82      1.30      5.75     60.79      0.99\n",
      "  sigma[1,1]     96.03    102.73     64.43     18.63    184.22     79.61      0.99\n",
      "  sigma[2,0]      4.87      3.93      3.39      1.39      9.57     45.55      1.00\n",
      "  sigma[2,1]     39.98     34.13     27.45     11.76     97.16     24.45      0.99\n",
      "  sigma[3,0]      2.42      1.71      1.79      0.55      4.24      9.88      1.03\n",
      "  sigma[3,1]     52.56     52.91     37.74     13.47     94.57     71.83      1.00\n",
      "  sigma[4,0]      2.10      1.38      1.72      0.74      4.28     50.22      1.06\n",
      "  sigma[4,1]     29.31     16.01     24.41     10.63     52.24     65.46      0.99\n",
      "  sigma[5,0]      3.56      2.83      2.48      0.81      6.66     41.16      1.02\n",
      "  sigma[5,1]     45.13     34.79     34.22     10.90     84.13     31.54      1.01\n",
      "  sigma[6,0]      2.45      1.48      2.13      0.90      3.99     27.94      1.00\n",
      "  sigma[6,1]     23.27     28.27     16.22      6.88     37.98     68.33      0.99\n",
      "  sigma[7,0]     12.12     24.72      5.92      2.44     17.27     37.60      1.03\n",
      "  sigma[7,1]     67.91     46.81     49.71     20.48    132.62     80.23      0.99\n",
      "  sigma[8,0]      1.74      4.34      0.93      0.31      2.78     87.73      1.01\n",
      "  sigma[8,1]      9.76      6.19      7.71      3.25     18.10     55.04      1.00\n",
      "  sigma[9,0]      8.84     12.74      5.02      1.93     18.04     35.18      1.00\n",
      "  sigma[9,1]     86.54     62.06     68.91     29.86    168.65     62.52      1.00\n",
      " sigma[10,0]     11.98     17.78      6.64      2.58     23.64     47.73      0.99\n",
      " sigma[10,1]    163.42    143.21    110.02     33.84    400.79     72.39      1.00\n",
      " sigma[11,0]      4.86      5.43      2.90      1.41     11.21     31.15      1.06\n",
      " sigma[11,1]     36.95     33.35     23.64      9.57     81.12     38.40      1.04\n",
      " sigma[12,0]     18.44     32.84      8.57      3.52     45.02     55.20      1.00\n",
      " sigma[12,1]    191.15    147.31    123.41     42.40    397.02     68.69      0.99\n",
      " sigma[13,0]      2.11      3.56      1.06      0.42      3.65     22.93      1.02\n",
      " sigma[13,1]      8.38      4.83      7.04      3.44     15.71     73.36      1.00\n",
      " sigma[14,0]      0.85      1.53      0.33      0.03      1.84     48.16      1.02\n",
      " sigma[14,1]      4.34      3.45      3.09      1.03      8.58     68.09      1.00\n",
      " sigma[15,0]      4.84      4.54      3.32      1.05      8.47     68.29      0.99\n",
      " sigma[15,1]     56.54     54.76     41.71     18.19     96.92     85.24      0.99\n",
      " sigma[16,0]      9.19      9.19      5.37      2.10     22.14     18.29      1.02\n",
      " sigma[16,1]     78.93     99.57     54.33     23.41    138.33     72.03      1.00\n",
      " sigma[17,0]      9.81     16.42      5.70      2.24     16.44     37.99      1.00\n",
      " sigma[17,1]    140.96    248.58     76.14     30.21    218.67     45.49      1.00\n",
      " sigma[18,0]      9.53      6.40      7.29      3.88     17.21     32.27      1.05\n",
      " sigma[18,1]    111.19     53.64     99.00     53.04    177.99     85.11      1.00\n",
      " sigma[19,0]      8.93      7.84      6.31      2.74     17.13     49.58      1.00\n",
      " sigma[19,1]    117.48    129.43     84.83     27.65    228.85     95.59      0.99\n",
      " sigma[20,0]      1.51      1.48      1.01      0.38      3.81     75.11      1.01\n",
      " sigma[20,1]     18.04     17.83     12.73      5.68     30.74     69.93      1.01\n",
      " sigma[21,0]      1.89      1.67      1.32      0.40      4.08     95.40      0.99\n",
      " sigma[21,1]     37.54     28.36     26.72     12.85     73.15    104.55      0.99\n",
      " sigma[22,0]     11.80      9.97      8.95      3.09     24.08     62.68      0.99\n",
      " sigma[22,1]    174.02    210.30    113.82     57.07    258.32     58.59      1.00\n",
      " sigma[23,0]     14.36     11.66     10.80      4.48     22.35     28.83      1.07\n",
      " sigma[23,1]    249.98    422.15    139.62     54.16    381.65     28.34      1.04\n",
      " sigma[24,0]      2.36      1.58      1.80      0.72      3.89     64.35      0.99\n",
      " sigma[24,1]     24.73     27.17     17.24      7.50     40.72     73.82      0.99\n",
      " sigma[25,0]      0.95      0.99      0.57      0.12      2.63     39.15      0.99\n",
      " sigma[25,1]      6.14      4.53      4.74      1.99     11.44     28.75      1.11\n",
      " sigma[26,0]      3.19      2.90      2.53      0.93      6.01     87.59      0.99\n",
      " sigma[26,1]     40.87     44.38     26.98      9.10     84.13     46.59      1.03\n",
      " sigma[27,0]      2.67      1.32      2.54      0.74      4.75     16.82      1.01\n",
      " sigma[27,1]     27.25     21.78     21.86      8.93     47.28     60.81      1.02\n",
      " sigma[28,0]      1.79      1.18      1.34      0.50      3.44     47.85      1.00\n",
      " sigma[28,1]     19.39     28.16     11.99      3.48     32.58     35.30      0.99\n",
      " sigma[29,0]      2.99      3.01      2.12      0.55      6.04     34.31      0.99\n",
      " sigma[29,1]     22.71     26.57     14.71      6.38     43.37     61.16      1.00\n",
      " sigma[30,0]      2.29      1.62      1.64      0.50      4.80     27.97      0.99\n",
      " sigma[30,1]     21.86     19.24     16.26      7.80     41.42     37.56      1.00\n",
      " sigma[31,0]      0.46      0.56      0.25      0.02      1.11     31.24      0.99\n",
      " sigma[31,1]     12.51     11.58      8.02      4.01     25.79     11.92      1.15\n",
      " sigma[32,0]      1.92      1.73      1.38      0.68      3.52    121.70      0.99\n",
      " sigma[32,1]     56.75     69.49     36.09     11.23    111.60     31.72      1.01\n",
      " sigma[33,0]      8.72      7.96      7.05      3.08     15.18    103.80      0.99\n",
      " sigma[33,1]    226.28    565.50    101.41     41.97    329.35     61.50      1.03\n",
      " sigma[34,0]      4.94      5.03      3.30      1.30      8.32     41.80      0.99\n",
      " sigma[34,1]    100.80     72.09     73.62     27.04    235.80     48.27      1.07\n",
      " sigma[35,0]     16.58     38.07     11.12      4.15     23.28    110.24      1.01\n",
      " sigma[35,1]    152.27    129.66    108.51     47.22    275.22     42.69      1.02\n",
      " sigma[36,0]     26.58     26.37     18.37      6.42     57.33     41.59      0.99\n",
      " sigma[36,1]    342.88    281.23    256.80     89.84    763.66     76.54      1.02\n",
      " sigma[37,0]     16.44     48.89      6.45      2.51     23.80     44.28      1.01\n",
      " sigma[37,1]    111.98     89.68     84.77     35.75    192.80     49.21      1.06\n",
      " sigma[38,0]      4.25      2.37      3.58      1.54      7.48     25.72      1.01\n",
      " sigma[38,1]     56.63     59.95     33.39     10.08    134.36     24.57      1.02\n",
      " sigma[39,0]      2.43      2.48      1.40      0.37      5.62     30.47      1.04\n",
      " sigma[39,1]      1.71      1.28      1.42      0.34      3.59     48.29      0.99\n",
      " sigma[40,0]      1.86      2.99      1.16      0.22      3.05     91.71      1.00\n",
      " sigma[40,1]      3.33      1.86      2.78      1.10      6.04     71.46      1.00\n",
      " sigma[41,0]      2.28      1.76      1.57      0.44      4.94     47.20      0.99\n",
      " sigma[41,1]      5.35      4.15      3.91      1.46     10.98     57.28      0.99\n",
      " sigma[42,0]      0.78      0.75      0.58      0.10      1.80     52.65      0.99\n",
      " sigma[42,1]      1.70      2.80      1.04      0.30      2.89     51.87      1.01\n",
      " sigma[43,0]      1.25      1.01      0.92      0.39      2.39     41.26      0.99\n",
      " sigma[43,1]     20.34     23.47     12.78      5.91     35.74     43.22      1.02\n",
      " sigma[44,0]     15.34      8.62     13.40      4.68     29.47     64.96      0.99\n",
      " sigma[44,1]    185.13    149.28    127.65     55.55    408.83     77.64      1.10\n",
      " sigma[45,0]      9.41      8.12      7.04      2.98     18.42     57.13      1.00\n",
      " sigma[45,1]    146.42    183.77     96.77     32.85    218.22     70.32      1.01\n",
      " sigma[46,0]      8.93      5.37      7.35      3.31     16.94     58.22      0.99\n",
      " sigma[46,1]    114.74     57.75     98.44     46.24    212.81     65.44      1.01\n",
      " sigma[47,0]     10.90      9.01      8.27      2.93     19.98     27.13      1.02\n",
      " sigma[47,1]    230.42    554.10    108.96     33.05    282.78     44.56      1.04\n",
      " sigma[48,0]      1.28      2.10      0.65      0.19      2.07     23.16      1.03\n",
      " sigma[48,1]      7.25      7.25      5.09      2.69     12.65     60.23      0.99\n",
      " sigma[49,0]     21.17     20.09     14.64      5.66     36.69     50.16      1.03\n",
      " sigma[49,1]    254.28    177.54    186.31     81.16    521.37     77.43      0.99\n",
      " sigma[50,0]     11.02      7.15      8.22      4.18     20.72     77.18      1.00\n",
      " sigma[50,1]    179.11    204.78    109.73     36.53    358.52     49.57      0.99\n",
      " sigma[51,0]      4.52      3.15      3.59      1.32      7.93     45.37      1.03\n",
      " sigma[51,1]     34.39     20.06     27.87     14.80     70.11     54.20      0.99\n",
      " sigma[52,0]      6.46      8.25      3.37      0.99     14.11     33.50      1.04\n",
      " sigma[52,1]     46.52     54.30     29.69     11.12     88.79     91.23      0.99\n",
      " sigma[53,0]      4.39      3.05      3.52      1.65      7.76     77.19      0.99\n",
      " sigma[53,1]     48.80     32.20     43.42     13.50     84.49     39.39      1.00\n",
      " sigma[54,0]      4.21      4.02      3.25      1.81      6.26     88.56      1.01\n",
      " sigma[54,1]     36.03     24.03     28.87     12.03     65.27     66.80      1.01\n",
      " sigma[55,0]      6.34     18.46      2.99      0.92      9.16     61.90      1.00\n",
      " sigma[55,1]     46.11     51.49     30.84      9.28     91.09     49.36      1.00\n",
      " sigma[56,0]     10.16      5.92      8.92      3.33     19.31     72.49      0.99\n",
      " sigma[56,1]    115.96     62.00    102.72     40.60    199.51     72.05      1.00\n",
      " sigma[57,0]     13.86      8.55     10.50      4.67     30.66     83.05      1.00\n",
      " sigma[57,1]    193.50    165.49    149.73     69.57    309.64     71.76      1.00\n",
      " sigma[58,0]      9.81      9.02      6.90      2.90     17.86     28.48      1.03\n",
      " sigma[58,1]    122.68     94.57     96.51     37.87    261.66     62.27      1.00\n",
      " sigma[59,0]      2.45      2.17      1.80      0.83      4.45     82.26      0.99\n",
      " sigma[59,1]     40.36     37.75     31.35     14.71     79.98     79.48      0.99\n",
      " sigma[60,0]     33.83     36.06     21.68      8.38     60.99     29.54      1.01\n",
      " sigma[60,1]    393.03    397.81    283.95    137.43    683.55     46.54      1.02\n",
      " sigma[61,0]     15.88     12.08     11.66      4.79     34.32     75.37      0.99\n",
      " sigma[61,1]    225.44    168.87    188.55     72.98    395.13     60.84      0.99\n",
      " sigma[62,0]      5.49     22.19      2.04      0.57      5.70     75.27      1.00\n",
      " sigma[62,1]      7.88      6.23      5.54      1.54     17.72     49.16      0.99\n",
      " sigma[63,0]      3.91      4.78      2.77      0.98      6.47     77.00      1.02\n",
      " sigma[63,1]     32.70     54.95     15.11      6.23     58.84     35.90      1.03\n",
      " sigma[64,0]      4.38      4.24      2.97      1.12      8.52     31.17      1.01\n",
      " sigma[64,1]     37.07     35.88     29.54     10.05     68.94     61.65      1.01\n",
      " sigma[65,0]      3.04      2.70      2.24      0.82      6.15     39.60      0.99\n",
      " sigma[65,1]     15.82     13.53     11.01      5.08     32.21     52.78      0.99\n",
      " sigma[66,0]      4.52      5.33      3.06      1.19      6.79     48.29      1.03\n",
      " sigma[66,1]     37.05     30.08     29.04     11.43     61.14     64.30      1.00\n",
      " sigma[67,0]      3.08      1.95      2.78      0.86      4.98     43.15      1.00\n",
      " sigma[67,1]     54.44     82.44     26.13     10.52    104.29     26.92      1.07\n",
      " sigma[68,0]      8.73     26.77      3.56      0.88     11.68     78.16      1.00\n",
      " sigma[68,1]     82.43    110.22     50.63     19.55    141.57     32.39      1.02\n",
      " sigma[69,0]     10.06      9.41      7.83      2.84     18.57     27.55      1.04\n",
      " sigma[69,1]    115.76     77.51     91.27     42.76    205.13     58.60      1.00\n",
      " sigma[70,0]     10.45      8.49      7.42      3.22     19.99     55.08      1.01\n",
      " sigma[70,1]    169.88    147.04    114.55     44.99    402.87     77.14      0.99\n",
      " sigma[71,0]      9.47      6.26      7.07      3.04     17.62     76.18      1.01\n",
      " sigma[71,1]    129.91    120.48    112.30     35.90    208.51     79.38      0.99\n",
      " sigma[72,0]      4.56      4.05      3.42      1.44      7.34     48.52      1.06\n",
      " sigma[72,1]     44.00     28.42     37.15     14.82     78.97     56.20      0.99\n",
      " sigma[73,0]      7.67     12.02      4.96      1.71     12.85     44.68      1.00\n",
      " sigma[73,1]     66.60     33.12     58.31     27.45    108.12     96.30      1.00\n",
      " sigma[74,0]     24.88     37.07     10.88      3.58     72.03     25.03      1.02\n",
      " sigma[74,1]    193.05    155.43    135.58     43.47    393.92    100.18      0.99\n",
      " sigma[75,0]      2.53      2.71      1.52      0.51      4.88     47.40      0.99\n",
      " sigma[75,1]     24.89     21.26     17.41      5.51     49.72     56.75      1.01\n",
      " sigma[76,0]      8.19      5.87      6.38      2.31     15.21    113.79      0.99\n",
      " sigma[76,1]     88.41     56.51     67.12     28.49    180.35     43.89      1.06\n",
      " sigma[77,0]      8.78      9.29      5.62      1.66     16.97     48.01      1.03\n",
      " sigma[77,1]    129.25    190.84     71.69     31.73    227.53     21.01      1.04\n",
      " sigma[78,0]     20.90     91.75      5.74      2.41     16.66     43.89      1.02\n",
      " sigma[78,1]     96.52    132.30     63.18     30.61    152.70     54.74      1.02\n",
      " sigma[79,0]     12.10     21.70      5.96      1.89     17.42     46.27      1.00\n",
      " sigma[79,1]     81.33     61.64     61.10     25.66    159.62     83.84      1.01\n",
      " sigma[80,0]     12.06     15.61      7.66      2.65     22.13     31.89      1.00\n",
      " sigma[80,1]    157.81    238.18     97.76     37.55    295.96     72.06      0.99\n",
      " sigma[81,0]     19.34     21.58     10.67      3.97     41.44     15.97      1.04\n",
      " sigma[81,1]    158.16    148.35    108.87     37.39    311.12     27.46      0.99\n",
      " sigma[82,0]     12.78     17.72     10.07      4.11     18.79     92.44      1.00\n",
      " sigma[82,1]    222.31    533.74    148.31     46.61    325.30    108.30      1.00\n",
      " sigma[83,0]     18.92     16.12     13.58      5.09     36.31     67.66      1.01\n",
      " sigma[83,1]    180.42    132.60    152.15     63.70    264.23     68.47      1.01\n",
      " sigma[84,0]     24.10     34.51     13.07      4.81     41.74     36.85      1.06\n",
      " sigma[84,1]    212.44    155.65    166.30     74.28    407.55     76.10      1.01\n",
      " sigma[85,0]     12.85     12.68      9.05      4.10     22.94     86.64      0.99\n",
      " sigma[85,1]    197.40    152.46    134.49     69.94    392.95     53.40      0.99\n",
      " sigma[86,0]      1.66      1.20      1.34      0.45      3.24     54.97      0.99\n",
      " sigma[86,1]     26.29     15.84     20.49      9.20     45.70     68.48      1.04\n",
      " sigma[87,0]      5.91      7.21      4.21      1.56     10.20     71.89      0.99\n",
      " sigma[87,1]     78.38     66.22     54.45     24.85    162.77     31.01      1.01\n",
      " sigma[88,0]      6.97     11.23      4.76      1.82     11.02     86.90      1.00\n",
      " sigma[88,1]     78.68     49.23     65.97     24.59    142.52     54.40      1.08\n",
      " sigma[89,0]      8.28      8.84      5.52      2.03     14.68     49.62      0.99\n",
      " sigma[89,1]     99.28     93.24     73.04     26.04    220.44     41.24      1.01\n",
      " sigma[90,0]      5.49      2.49      4.60      2.55      9.09     24.73      0.99\n",
      " sigma[90,1]     96.79     73.84     74.97     32.79    178.43     59.90      0.99\n",
      " sigma[91,0]     15.07     22.28      8.25      2.52     30.65     33.77      0.99\n",
      " sigma[91,1]    155.98    165.98     98.56     30.47    292.34     78.64      0.99\n",
      " sigma[92,0]      2.93      2.41      2.28      1.00      5.51    108.47      0.99\n",
      " sigma[92,1]     58.37     52.06     38.52     13.08    127.28     68.74      1.00\n",
      " sigma[93,0]     16.72     17.14     10.19      3.44     37.57     28.21      1.11\n",
      " sigma[93,1]    107.89     62.19     88.92     45.66    206.77     72.94      1.00\n",
      " sigma[94,0]     11.32     10.04      7.72      2.64     26.00     45.43      1.00\n",
      " sigma[94,1]    166.85    176.54    116.27     43.39    311.89     44.32      1.02\n",
      " sigma[95,0]      2.54      1.86      1.79      0.56      5.01     50.80      0.99\n",
      " sigma[95,1]     33.16     24.10     25.89      9.60     62.86    103.36      0.99\n",
      " sigma[96,0]      8.13      8.52      4.65      1.77     21.79     51.15      1.00\n",
      " sigma[96,1]     89.29     54.64     73.02     26.01    157.50     31.59      1.05\n",
      " sigma[97,0]      9.80     11.00      6.74      2.29     15.09     30.80      1.01\n",
      " sigma[97,1]    147.77    182.04     87.82     38.38    264.45     24.84      1.01\n",
      " sigma[98,0]      2.85      1.71      2.46      0.87      5.70     77.27      1.01\n",
      " sigma[98,1]     24.72     15.50     19.80      9.40     47.05     39.52      0.99\n",
      " sigma[99,0]      5.91      4.24      4.64      1.68     12.38     51.95      1.01\n",
      " sigma[99,1]     80.38     53.95     65.66     33.42    131.43     58.38      0.99\n",
      "sigma[100,0]     12.26     25.52      5.43      2.06     25.97     21.62      1.04\n",
      "sigma[100,1]     94.31     53.49     80.36     34.60    160.17     65.32      1.05\n",
      "sigma[101,0]     11.87      9.80      8.38      2.40     24.34     17.45      1.00\n",
      "sigma[101,1]    106.86     81.84     89.02     41.85    175.08    110.03      1.00\n",
      "sigma[102,0]     10.33     10.71      8.03      4.01     18.93     42.48      1.01\n",
      "sigma[102,1]    157.29    107.17    126.86     48.67    302.89     64.89      1.04\n",
      "sigma[103,0]     27.85     19.90     19.95     10.03     55.26     14.47      0.99\n",
      "sigma[103,1]    345.07    277.79    257.56     96.23    634.92     48.75      1.01\n",
      "sigma[104,0]     33.83     30.50     24.26     10.49     58.43     71.48      0.99\n",
      "sigma[104,1]    407.09    246.69    331.16    140.33    735.29     92.13      1.00\n",
      "sigma[105,0]     16.35     11.02     13.20      5.05     29.98     77.74      0.99\n",
      "sigma[105,1]    216.31    177.06    160.67     78.69    342.01     39.63      1.01\n",
      "sigma[106,0]      3.73      4.83      2.33      0.98      5.53     49.88      1.00\n",
      "sigma[106,1]     14.96      9.63     11.98      4.43     25.49    107.58      0.99\n",
      "sigma[107,0]      0.75      0.78      0.51      0.12      1.54    107.99      1.00\n",
      "sigma[107,1]     14.70     10.07     11.39      4.97     27.43     69.01      1.00\n",
      "sigma[108,0]      9.68      7.93      6.50      2.29     20.61     49.20      1.02\n",
      "sigma[108,1]    181.37    448.57     89.07     26.32    275.47     85.31      1.01\n",
      "sigma[109,0]      4.46      9.25      2.22      0.69      7.76     40.27      1.01\n",
      "sigma[109,1]     36.26     27.54     25.95     11.24     70.79     48.52      0.99\n",
      "sigma[110,0]      4.39      2.74      3.46      1.40      7.13     78.29      0.99\n",
      "sigma[110,1]     65.29     54.81     43.26     20.28    129.19     47.30      1.02\n",
      "sigma[111,0]      7.46     11.48      4.62      1.97     13.63     77.73      1.02\n",
      "sigma[111,1]     77.43     49.18     59.67     24.07    145.81     61.46      1.00\n",
      "sigma[112,0]     11.15     36.70      5.97      1.52     13.61    107.72      1.00\n",
      "sigma[112,1]    111.41     87.03     75.47     28.78    235.38     41.82      1.00\n",
      "sigma[113,0]     10.66      7.48      8.02      3.21     21.34     43.55      1.02\n",
      "sigma[113,1]    271.10    718.67    111.51     50.13    347.21     31.20      1.02\n",
      "sigma[114,0]      9.37      8.33      7.18      2.39     16.93    118.10      1.00\n",
      "sigma[114,1]    141.08    131.94     97.03     39.82    262.28     77.73      0.99\n",
      "sigma[115,0]      4.93      8.03      3.01      0.84      7.50     82.22      0.99\n",
      "sigma[115,1]     46.05     46.54     28.95     15.26     96.59     53.70      1.00\n",
      "sigma[116,0]     18.55     20.02     12.37      3.51     33.53     47.52      1.02\n",
      "sigma[116,1]    179.23    109.96    149.93     64.09    266.42     82.51      0.99\n",
      "sigma[117,0]     10.33      6.47      8.33      3.80     17.43     23.97      1.00\n",
      "sigma[117,1]    281.37    415.99    192.73     63.52    505.82     92.88      1.00\n",
      "sigma[118,0]      4.52      3.08      3.61      1.41     10.14     75.83      1.00\n",
      "sigma[118,1]    110.80    114.32     72.28     24.08    211.24     44.19      1.05\n",
      "sigma[119,0]      3.93      2.32      3.21      1.64      7.21     64.11      1.00\n",
      "sigma[119,1]     70.95     54.33     49.78     18.16    140.45     80.74      0.99\n",
      "sigma[120,0]      5.72      4.63      4.31      1.99     11.26     22.31      1.04\n",
      "sigma[120,1]     71.99     99.43     45.15     18.40    121.95     72.49      1.05\n",
      "sigma[121,0]      5.86      5.09      4.19      1.26     13.30     73.43      0.99\n",
      "sigma[121,1]     43.80     30.95     36.71     11.75     71.04     57.57      1.00\n",
      "sigma[122,0]      3.91      2.08      3.21      1.65      6.83     57.30      0.99\n",
      "sigma[122,1]     46.95     80.44     30.25     13.27     84.02    111.87      0.99\n",
      "sigma[123,0]      5.65      6.85      3.90      1.08      9.32     54.41      1.05\n",
      "sigma[123,1]     41.58     36.38     29.18     10.60     78.88     69.86      1.05\n",
      "sigma[124,0]      4.45      3.46      3.64      1.30      8.02     30.32      1.08\n",
      "sigma[124,1]     33.67     49.67     20.74      9.02     55.93     85.70      1.02\n",
      "sigma[125,0]      4.42      4.74      2.59      0.77     11.28     60.30      1.00\n",
      "sigma[125,1]     11.46      9.10      8.56      4.23     22.31     33.89      1.01\n",
      "\n",
      "Number of divergences: 1\n"
     ]
    }
   ],
   "source": [
    "# Show summary of inference results\n",
    "mcmc.summary()"
   ]
  },
  {
   "cell_type": "code",
   "execution_count": 30,
   "metadata": {},
   "outputs": [],
   "source": [
    "#### compare to PREM\n",
    "# from table IV\n",
    "depths = abs(df_em[\"radius\"].values - df_em.loc[0, \"radius\"]) / 1e3  # in km\n",
    "depth_table = np.array([0, 3, 15, 24, 40, 60, 80])\n",
    "A = np.array([21, 875, 1341, 2268, 2260, 2251, 2242])\n",
    "C = np.array([21, 875, 1341, 2176, 2165, 2151, 2138])\n",
    "L = np.array([0, 266, 441, 653, 654, 655, 656])\n",
    "N = np.array([0, 266, 441, 719, 714, 708, 702])\n",
    "F = np.array([21, 342, 459, 866, 863, 860, 857])\n",
    "\n",
    "prem_rigidity_1 = np.mean(1 / 15 * (A[:4] + C[:4] - 2 * F[:4] + 5 * N[:4] + 6 * L[:4]))\n",
    "prem_rigidity_2 = np.mean(\n",
    "    1 / 15 * (A[4:6] + C[4:6] - 2 * F[4:6] + 5 * N[4:6] + 6 * L[4:6])\n",
    ")\n",
    "prem_rigidity = {\n",
    "    \"rigidity_1\": prem_rigidity_1 * 1e8,\n",
    "    \"rigidity_2\": prem_rigidity_2 * 1e8,\n",
    "}"
   ]
  },
  {
   "cell_type": "code",
   "execution_count": 31,
   "metadata": {},
   "outputs": [
    {
     "data": {
      "image/png": "[encoded data removed]",
      "text/plain": [
       "<Figure size 288x216 with 1 Axes>"
      ]
     },
     "metadata": {
      "needs_background": "light"
     },
     "output_type": "display_data"
    },
    {
     "data": {
      "image/png": "[encoded data removed]",
      "text/plain": [
       "<Figure size 288x216 with 1 Axes>"
      ]
     },
     "metadata": {
      "needs_background": "light"
     },
     "output_type": "display_data"
    }
   ],
   "source": [
    "samples = {k: v for k, v in mcmc.get_samples().items()}\n",
    "nodes = [\"rigidity_1\", \"rigidity_2\"]\n",
    "\n",
    "rigidity_dist_prior = dist.Normal(2 * torch.ones(1000), 0.2)\n",
    "rigidity_prior = 1e11 + 1e10 * pyro.sample(\"rigidity_prior\", rigidity_dist_prior)\n",
    "\n",
    "for node in nodes:\n",
    "    plt.figure(figsize=(4, 3))\n",
    "    g = sns.histplot(\n",
    "        1e11 + 1e10 * samples[node],\n",
    "        label=node,\n",
    "        kde=True,\n",
    "        stat=\"density\",\n",
    "        element=\"step\",\n",
    "        color=\"red\",\n",
    "    )\n",
    "    sns.histplot(\n",
    "        rigidity_prior,\n",
    "        label=\"prior\",\n",
    "        kde=True,\n",
    "        stat=\"density\",\n",
    "        element=\"step\",\n",
    "        alpha=0.4,\n",
    "    )\n",
    "    plt.axvline(prem_rigidity[node], 0, 0.17, color=\"black\", label=\"PREM estimate\")\n",
    "    plt.legend()\n",
    "    plt.show()"
   ]
  },
  {
   "cell_type": "code",
   "execution_count": 32,
   "metadata": {},
   "outputs": [
    {
     "data": {
      "image/png": "[encoded data removed]",
      "text/plain": [
       "<Figure size 432x288 with 1 Axes>"
      ]
     },
     "metadata": {
      "needs_background": "light"
     },
     "output_type": "display_data"
    }
   ],
   "source": [
    "rigidity_list = []\n",
    "prem_rigidity_list = []\n",
    "for node in nodes:\n",
    "    rigidity_list.append(samples[node].mean())\n",
    "    prem_rigidity_list.append(prem_rigidity[node])\n",
    "\n",
    "x_depth = [30, 60]\n",
    "plt.scatter(x_depth, rigidity_list, label=\"Modelled rigidities\")\n",
    "plt.plot(\n",
    "    x_depth, prem_rigidity_list, color=\"black\", linestyle=\"--\", label=\"PREM estimate\"\n",
    ")\n",
    "plt.xlabel(\"Depth, [km]\")\n",
    "plt.ylabel(\"Rigidity, [Pa]\")\n",
    "plt.grid()"
   ]
  },
  {
   "cell_type": "markdown",
   "metadata": {},
   "source": [
    "### Compare to observations"
   ]
  },
  {
   "cell_type": "code",
   "execution_count": 33,
   "metadata": {},
   "outputs": [
    {
     "name": "stdout",
     "output_type": "stream",
     "text": [
      "gf: (100, 1, 2)\n",
      "w: (100, 126, 2)\n"
     ]
    }
   ],
   "source": [
    "from pyro.infer import Predictive\n",
    "\n",
    "predictive = Predictive(model, samples)(X_train, x, df_params, y_train, df_em)\n",
    "for k, v in predictive.items():\n",
    "    print(f\"{k}: {tuple(v.shape)}\")"
   ]
  },
  {
   "cell_type": "code",
   "execution_count": 34,
   "metadata": {},
   "outputs": [
    {
     "ename": "NameError",
     "evalue": "name 'gf_res' is not defined",
     "output_type": "error",
     "traceback": [
      "\u001b[0;31m---------------------------------------------------------------------------\u001b[0m",
      "\u001b[0;31mNameError\u001b[0m                                 Traceback (most recent call last)",
      "Input \u001b[0;32mIn [34]\u001b[0m, in \u001b[0;36m<cell line: 1>\u001b[0;34m()\u001b[0m\n\u001b[0;32m----> 1\u001b[0m w_pred \u001b[38;5;241m=\u001b[39m (\u001b[38;5;241m-\u001b[39m\u001b[43mgf_res\u001b[49m \u001b[38;5;241m*\u001b[39m X_train[:, \u001b[38;5;241m0\u001b[39m])\u001b[38;5;241m.\u001b[39mmean(axis\u001b[38;5;241m=\u001b[39m\u001b[38;5;241m0\u001b[39m)\n\u001b[1;32m      2\u001b[0m plt\u001b[38;5;241m.\u001b[39mplot(y_train)\n\u001b[1;32m      3\u001b[0m plt\u001b[38;5;241m.\u001b[39mplot(w_pred)\n",
      "\u001b[0;31mNameError\u001b[0m: name 'gf_res' is not defined"
     ]
    }
   ],
   "source": [
    "w_pred = (-gf_res * X_train[:, 0]).mean(axis=0)\n",
    "plt.plot(y_train)\n",
    "plt.plot(w_pred)\n",
    "corr, mae, rae, rmse = compute_error(y_train.numpy(), w_pred.numpy())\n",
    "print(f\"corr = {corr}, \\nmae = {mae}, \\nrae = {rae}, \\nrmse = {rmse}\")"
   ]
  },
  {
   "cell_type": "code",
   "execution_count": null,
   "metadata": {},
   "outputs": [],
   "source": []
  },
  {
   "cell_type": "markdown",
   "metadata": {},
   "source": [
    "## Different things from earlier work"
   ]
  },
  {
   "cell_type": "code",
   "execution_count": null,
   "metadata": {},
   "outputs": [],
   "source": [
    "dont run the next cells"
   ]
  },
  {
   "cell_type": "code",
   "execution_count": null,
   "metadata": {},
   "outputs": [
    {
     "data": {
      "text/plain": [
       "dict_keys(['rigidity_1', 'rigidity_2', 'sigma'])"
      ]
     },
     "metadata": {},
     "output_type": "display_data"
    }
   ],
   "source": [
    "# saves the model and optimizer states to disk\n",
    "def save_checkpoint(model):\n",
    "    log(\"saving model to %s...\" % args.save_model)\n",
    "    torch.save(dmm.state_dict(), args.save_model)\n",
    "    log(\"saving optimizer states to %s...\" % args.save_opt)\n",
    "    optimizer.save(args.save_opt)\n",
    "    log(\"done saving model and optimizer checkpoints to disk.\")\n",
    "\n",
    "\n",
    "# loads the model and optimizer states from disk\n",
    "def load_checkpoint():\n",
    "    assert exists(args.load_opt) and exists(\n",
    "        args.load_model\n",
    "    ), \"--load-model and/or --load-opt misspecified\"\n",
    "    log(\"loading model from %s...\" % args.load_model)\n",
    "    dmm.load_state_dict(torch.load(args.load_model))\n",
    "    log(\"loading optimizer states from %s...\" % args.load_opt)\n",
    "    optimizer.load(args.load_opt)\n",
    "    log(\"done loading model and optimizer states.\")"
   ]
  },
  {
   "cell_type": "code",
   "execution_count": null,
   "metadata": {},
   "outputs": [],
   "source": [
    "class TruncatedNormal(dist.Rejector):\n",
    "    def __init__(self, loc, scale_0, max_x0):\n",
    "        propose = dist.Normal(loc, scale_0)\n",
    "\n",
    "        def log_prob_accept(x):\n",
    "            return (x[0] < max_x0).type_as(x).log()\n",
    "\n",
    "        log_scale = torch.tensor(dist.LogNormal(loc, scale_0).cdf(max_x0)).log()\n",
    "        super(TruncatedLogNormal, self).__init__(propose, log_prob_accept, log_scale)"
   ]
  },
  {
   "cell_type": "code",
   "execution_count": null,
   "metadata": {},
   "outputs": [],
   "source": [
    "## TODO: For guide support, see: https://forum.pyro.ai/t/truncated-log-normal-distribution/2002\n",
    "# from torch.distributions import constraints\n",
    "\n",
    "# class TruncatedLogNormal(dist.Rejector):\n",
    "#     ...\n",
    "#     @constraints.dependent_property\n",
    "#     def support(self):\n",
    "#         return constraints.interval(0, self.max_x0)"
   ]
  },
  {
   "cell_type": "code",
   "execution_count": null,
   "metadata": {},
   "outputs": [
    {
     "data": {
      "image/png": "[encoded data removed]",
      "text/plain": [
       "<Figure size 432x288 with 1 Axes>"
      ]
     },
     "metadata": {},
     "output_type": "display_data"
    }
   ],
   "source": [
    "diste = IntervalFoldedDistribution(\n",
    "    dist.Normal(1e10 * torch.ones(10000), 1e9), lower=1e8, upper=1e12\n",
    ")\n",
    "plt.hist(np.array(pyro.sample(\"test\", diste)));"
   ]
  },
  {
   "cell_type": "code",
   "execution_count": null,
   "metadata": {},
   "outputs": [
    {
     "data": {
      "text/plain": [
       "tensor(0.)"
      ]
     },
     "metadata": {},
     "output_type": "display_data"
    },
    {
     "data": {
      "image/png": "[encoded data removed]",
      "text/plain": [
       "<Figure size 432x288 with 1 Axes>"
      ]
     },
     "metadata": {},
     "output_type": "display_data"
    }
   ],
   "source": [
    "samples = 1e10 * pyro.sample(\"test\", dist.Normal(torch.ones(10000), 0.1))\n",
    "plt.hist(np.array(samples))\n",
    "samples[samples < 1e8].sum()"
   ]
  },
  {
   "cell_type": "code",
   "execution_count": null,
   "metadata": {},
   "outputs": [
    {
     "name": "stderr",
     "output_type": "stream",
     "text": [
      "sample: 100%|██████████| 11000/11000 [00:14<00:00, 774.53it/s, 3 steps of size 1.26e+00. acc. prob=0.89]\n"
     ]
    },
    {
     "name": "stdout",
     "output_type": "stream",
     "text": [
      "-3806359800.0 -24906074.0 4083562800.0\n"
     ]
    }
   ],
   "source": [
    "import numpyro\n",
    "import numpyro.distributions as np_dist\n",
    "from numpyro.infer import MCMC, NUTS\n",
    "\n",
    "\n",
    "def model():\n",
    "\n",
    "    # sample1 = numpyro.sample(\"rigidity1\", bounded_rig1)\n",
    "    rigidity_unscaled = numpyro.sample(\"rigidity_unscaled\", np_dist.Normal(0, 1))\n",
    "\n",
    "    rigidity_scaled = numpyro.deterministic(\n",
    "        \"rigidity_scaled\", 1e10 + 1e9 * rigidity_unscaled\n",
    "    )\n",
    "    # rigidity_scaled = numpyro.sample(\"rigidity_scaled\", np_dist.Uniform(1e9, 1e11))\n",
    "\n",
    "\n",
    "rng_key = random.PRNGKey(0)\n",
    "rng_key, rng_key_ = random.split(rng_key)\n",
    "\n",
    "# Run NUTS.\n",
    "kernel = NUTS(model)\n",
    "num_samples = 10000\n",
    "mcmc = MCMC(kernel, num_warmup=1000, num_samples=num_samples)\n",
    "mcmc.run(rng_key_)\n",
    "\n",
    "print(\n",
    "    mcmc.get_samples()[\"rigidity_scaled\"].min(),\n",
    "    mcmc.get_samples()[\"rigidity_scaled\"].mean(),\n",
    "    mcmc.get_samples()[\"rigidity_scaled\"].max(),\n",
    ")"
   ]
  },
  {
   "cell_type": "code",
   "execution_count": null,
   "metadata": {},
   "outputs": [
    {
     "data": {
      "text/plain": [
       "[<matplotlib.lines.Line2D at 0x7f7ddc22d700>]"
      ]
     },
     "metadata": {},
     "output_type": "display_data"
    },
    {
     "data": {
      "image/png": "[encoded data removed]",
      "text/plain": [
       "<Figure size 432x288 with 1 Axes>"
      ]
     },
     "metadata": {},
     "output_type": "display_data"
    }
   ],
   "source": [
    "samples = mcmc.get_samples()[\"rigidity_scaled\"].to_py()\n",
    "plt.plot(np.diff(samples))\n",
    "plt.plot(samples)"
   ]
  },
  {
   "cell_type": "code",
   "execution_count": null,
   "metadata": {},
   "outputs": [
    {
     "name": "stderr",
     "output_type": "stream",
     "text": [
      "Sample: 100%|██████████| 1001/1001 [12:24,  1.34it/s, step size=1.16e-10, acc. prob=1.000]"
     ]
    },
    {
     "name": "stdout",
     "output_type": "stream",
     "text": [
      "tensor(0.8238) tensor(0.9997) tensor(1.)\n"
     ]
    },
    {
     "name": "stderr",
     "output_type": "stream",
     "text": [
      "\n"
     ]
    }
   ],
   "source": [
    "import pyro\n",
    "import pyro.distributions as dist\n",
    "from pyro.infer import MCMC, NUTS\n",
    "\n",
    "\n",
    "def model(height, obs=None, df_em=None):\n",
    "    sample1 = pyro.sample(\"rigidity1\", dist.Normal(1, 1e-1))\n",
    "\n",
    "\n",
    "# Run inference in Pyro\n",
    "nuts_kernel = NUTS(model)\n",
    "mcmc = MCMC(nuts_kernel, num_samples=1000, warmup_steps=1, num_chains=1)\n",
    "mcmc.run(X_train, y_train, df_em)\n",
    "\n",
    "print(\n",
    "    mcmc.get_samples()[\"rigidity1\"].min(),\n",
    "    mcmc.get_samples()[\"rigidity1\"].mean(),\n",
    "    mcmc.get_samples()[\"rigidity1\"].max(),\n",
    ")"
   ]
  }
 ],
 "metadata": {
  "interpreter": {
   "hash": "218e925926151051a9076ee8829e942c4c8d45d6b696e1d2dab005a43eea83c4"
  },
  "kernelspec": {
   "display_name": "Python 3 (ipykernel)",
   "language": "python",
   "name": "python3"
  },
  "language_info": {
   "codemirror_mode": {
    "name": "ipython",
    "version": 3
   },
   "file_extension": ".py",
   "mimetype": "text/x-python",
   "name": "python",
   "nbconvert_exporter": "python",
   "pygments_lexer": "ipython3",
   "version": "3.9.10"
  }
 },
 "nbformat": 4,
 "nbformat_minor": 4
}
