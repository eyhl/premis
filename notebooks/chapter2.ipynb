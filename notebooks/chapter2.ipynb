{
 "cells": [
  {
   "cell_type": "code",
   "execution_count": 1,
   "metadata": {},
   "outputs": [
    {
     "name": "stdout",
     "output_type": "stream",
     "text": [
      "/data/eigil/work/premis\n"
     ]
    }
   ],
   "source": [
    "import matplotlib.pyplot as plt\n",
    "import seaborn as sns\n",
    "import numpy as np\n",
    "import pandas as pd\n",
    "import torch\n",
    "import pyro.distributions as dist\n",
    "from pyro.infer import MCMC, NUTS, Predictive\n",
    "import pyro\n",
    "\n",
    "from src.data.preprocessing import load_thickness_time_series\n",
    "from src.models.paths import PROJECT_ROOT\n",
    "from src.models.solid_earth_utils import compute_love_numbers, greens_function\n",
    "\n",
    "print(PROJECT_ROOT)\n",
    "pyro.set_rng_seed(42)"
   ]
  },
  {
   "cell_type": "code",
   "execution_count": 83,
   "metadata": {},
   "outputs": [],
   "source": [
    "def compute_error(trues, predicted):\n",
    "    '''\n",
    "    From course material\n",
    "    '''\n",
    "    corr = np.corrcoef(predicted, trues)[0,1]\n",
    "    mae = np.mean(np.abs(predicted - trues))\n",
    "    rae = np.sum(np.abs(predicted - trues)) / np.sum(np.abs(trues - np.mean(trues)))\n",
    "    rmse = np.sqrt(np.mean((predicted - trues)**2))\n",
    "    return corr, mae, rae, rmse"
   ]
  },
  {
   "cell_type": "code",
   "execution_count": 2,
   "metadata": {},
   "outputs": [],
   "source": [
    "class FFNN(torch.nn.Module):\n",
    "    def __init__(self, n_in, n_hidden, n_out):\n",
    "        super(FFNN, self).__init__()\n",
    "        \n",
    "        # Architecture\n",
    "        self.in_layer = torch.nn.Linear(n_in, n_hidden)\n",
    "        self.h1_layer = torch.nn.Linear(n_hidden, n_hidden)\n",
    "        self.h2_layer = torch.nn.Linear(n_hidden, n_hidden)\n",
    "        self.out_layer = torch.nn.Linear(n_hidden, n_out)\n",
    "        \n",
    "        # Activation functions\n",
    "        self.relu = torch.nn.ReLU()\n",
    "        \n",
    "    def forward(self, X):\n",
    "        # Forward pass\n",
    "        X = self.relu(self.in_layer(X))\n",
    "        X = self.relu(self.h1_layer(X))\n",
    "        X = self.relu(self.h2_layer(X))\n",
    "        X = self.out_layer(X)\n",
    "        \n",
    "        return X"
   ]
  },
  {
   "cell_type": "code",
   "execution_count": 3,
   "metadata": {},
   "outputs": [],
   "source": [
    "from torch.distributions import constraints\n",
    "from torch.distributions.transforms import AbsTransform\n",
    "\n",
    "from pyro.distributions.torch import TransformedDistribution\n",
    "from torch.distributions.transforms import Transform \n",
    "\n",
    "class IntervalTransform(Transform):\n",
    "    r\"\"\"\n",
    "    Transform via the mapping :math:`y = a <= x <= b`.\n",
    "    \"\"\"\n",
    "    domain = constraints.real\n",
    "    codomain = constraints.positive\n",
    "    def __init__(self, a, b, event_dim=0, cache_size=0):\n",
    "        self.a = a\n",
    "        self.b = b\n",
    "        self._event_dim = event_dim\n",
    "        self._cache_size = cache_size\n",
    "        \n",
    "    def __eq__(self, other):\n",
    "        return isinstance(other, IntervalTransform(self.a, self.b))\n",
    "\n",
    "    def _call(self, x):\n",
    "        x[self.a > x] = self.a\n",
    "        x[self.b < x] = self.b\n",
    "        return x\n",
    "\n",
    "    def _inverse(self, y):\n",
    "        return y\n",
    "\n",
    "class IntervalFoldedDistribution(TransformedDistribution):\n",
    "    \"\"\"\n",
    "    Equivalent to ``TransformedDistribution(base_dist, AbsTransform())``,\n",
    "    but additionally supports :meth:`log_prob` .\n",
    "\n",
    "    :param ~torch.distributions.Distribution base_dist: The distribution to\n",
    "        reflect.\n",
    "    \"\"\"\n",
    "\n",
    "    support = constraints.positive\n",
    "\n",
    "    def __init__(self, base_dist, validate_args=None, lower=8e3, upper=1.4e4):\n",
    "        if base_dist.event_shape:\n",
    "            raise ValueError(\"Only univariate distributions can be folded.\")\n",
    "        super().__init__(base_dist, IntervalTransform(a=lower, b=upper), validate_args)\n",
    "\n",
    "    def expand(self, batch_shape, _instance=None):\n",
    "        new = self._get_checked_instance(type(self), _instance)\n",
    "        return super().expand(batch_shape, _instance=new)\n",
    "\n",
    "\n",
    "    def log_prob(self, value):\n",
    "        if self._validate_args:\n",
    "            self._validate_sample(value)\n",
    "        dim = max(len(self.batch_shape), value.dim())\n",
    "        plus_minus = value.new_tensor([1.0, -1.0]).reshape((2,) + (1,) * dim)\n",
    "        return self.base_dist.log_prob(plus_minus * value).logsumexp(0)"
   ]
  },
  {
   "cell_type": "code",
   "execution_count": 4,
   "metadata": {},
   "outputs": [],
   "source": [
    "from torch.distributions import constraints\n",
    "from torch.distributions.transforms import AbsTransform\n",
    "\n",
    "from pyro.distributions.torch import TransformedDistribution\n",
    "from torch.distributions.transforms import Transform \n",
    "\n",
    "class IntervalTransform(Transform):\n",
    "    r\"\"\"\n",
    "    Transform via the mapping :math:`y = a <= x <= b`.\n",
    "    \"\"\"\n",
    "    domain = constraints.real\n",
    "    codomain = constraints.positive\n",
    "    def __init__(self, a, b, event_dim=0, cache_size=0):\n",
    "        self.a = a\n",
    "        self.b = b\n",
    "        self._event_dim = event_dim\n",
    "        self._cache_size = cache_size\n",
    "        \n",
    "    def __eq__(self, other):\n",
    "        return isinstance(other, IntervalTransform(self.a, self.b))\n",
    "\n",
    "    def _call(self, x):\n",
    "        x[self.a > x] = self.a\n",
    "        x[self.b < x] = self.b\n",
    "        return x\n",
    "\n",
    "    def _inverse(self, y):\n",
    "        return y\n",
    "\n",
    "class IntervalFoldedDistribution(TransformedDistribution):\n",
    "    \"\"\"\n",
    "    Equivalent to ``TransformedDistribution(base_dist, AbsTransform())``,\n",
    "    but additionally supports :meth:`log_prob` .\n",
    "\n",
    "    :param ~torch.distributions.Distribution base_dist: The distribution to\n",
    "        reflect.\n",
    "    \"\"\"\n",
    "\n",
    "    support = constraints.positive\n",
    "\n",
    "    def __init__(self, base_dist, validate_args=None, lower=8e3, upper=1.4e4):\n",
    "        if base_dist.event_shape:\n",
    "            raise ValueError(\"Only univariate distributions can be folded.\")\n",
    "        super().__init__(base_dist, IntervalTransform(a=lower, b=upper), validate_args)\n",
    "\n",
    "    def expand(self, batch_shape, _instance=None):\n",
    "        new = self._get_checked_instance(type(self), _instance)\n",
    "        return super().expand(batch_shape, _instance=new)\n",
    "\n",
    "\n",
    "    def log_prob(self, value):\n",
    "        if self._validate_args:\n",
    "            self._validate_sample(value)\n",
    "        dim = max(len(self.batch_shape), value.dim())\n",
    "        plus_minus = value.new_tensor([1.0, -1.0]).reshape((2,) + (1,) * dim)\n",
    "        return self.base_dist.log_prob(plus_minus * value).logsumexp(0)"
   ]
  },
  {
   "cell_type": "code",
   "execution_count": 5,
   "metadata": {},
   "outputs": [
    {
     "data": {
      "text/html": [
       "<div>\n",
       "<style scoped>\n",
       "    .dataframe tbody tr th:only-of-type {\n",
       "        vertical-align: middle;\n",
       "    }\n",
       "\n",
       "    .dataframe tbody tr th {\n",
       "        vertical-align: top;\n",
       "    }\n",
       "\n",
       "    .dataframe thead th {\n",
       "        text-align: right;\n",
       "    }\n",
       "</style>\n",
       "<table border=\"1\" class=\"dataframe\">\n",
       "  <thead>\n",
       "    <tr style=\"text-align: right;\">\n",
       "      <th></th>\n",
       "      <th>Nr</th>\n",
       "      <th>radius</th>\n",
       "      <th>density</th>\n",
       "      <th>rigidity</th>\n",
       "      <th>bulk</th>\n",
       "      <th>viscosity</th>\n",
       "    </tr>\n",
       "  </thead>\n",
       "  <tbody>\n",
       "    <tr>\n",
       "      <th>0</th>\n",
       "      <td>1.0</td>\n",
       "      <td>6371000.0</td>\n",
       "      <td>3037.0</td>\n",
       "      <td>5.060500e+10</td>\n",
       "      <td>5.743700e+10</td>\n",
       "      <td>1.000000e+55</td>\n",
       "    </tr>\n",
       "    <tr>\n",
       "      <th>1</th>\n",
       "      <td>2.0</td>\n",
       "      <td>6341000.0</td>\n",
       "      <td>3230.0</td>\n",
       "      <td>5.060500e+10</td>\n",
       "      <td>5.743700e+10</td>\n",
       "      <td>1.000000e+21</td>\n",
       "    </tr>\n",
       "    <tr>\n",
       "      <th>2</th>\n",
       "      <td>3.0</td>\n",
       "      <td>6311000.0</td>\n",
       "      <td>3438.0</td>\n",
       "      <td>7.036300e+10</td>\n",
       "      <td>9.963300e+10</td>\n",
       "      <td>1.000000e+21</td>\n",
       "    </tr>\n",
       "    <tr>\n",
       "      <th>3</th>\n",
       "      <td>4.0</td>\n",
       "      <td>5951000.0</td>\n",
       "      <td>3871.0</td>\n",
       "      <td>1.054900e+11</td>\n",
       "      <td>1.535200e+11</td>\n",
       "      <td>1.000000e+21</td>\n",
       "    </tr>\n",
       "    <tr>\n",
       "      <th>4</th>\n",
       "      <td>5.0</td>\n",
       "      <td>5701000.0</td>\n",
       "      <td>4978.0</td>\n",
       "      <td>2.283400e+11</td>\n",
       "      <td>3.221000e+11</td>\n",
       "      <td>2.000000e+21</td>\n",
       "    </tr>\n",
       "    <tr>\n",
       "      <th>5</th>\n",
       "      <td>6.0</td>\n",
       "      <td>3480000.0</td>\n",
       "      <td>10750.0</td>\n",
       "      <td>0.000000e+00</td>\n",
       "      <td>1.101800e+12</td>\n",
       "      <td>0.000000e+00</td>\n",
       "    </tr>\n",
       "  </tbody>\n",
       "</table>\n",
       "</div>"
      ],
      "text/plain": [
       "    Nr     radius  density      rigidity          bulk     viscosity\n",
       "0  1.0  6371000.0   3037.0  5.060500e+10  5.743700e+10  1.000000e+55\n",
       "1  2.0  6341000.0   3230.0  5.060500e+10  5.743700e+10  1.000000e+21\n",
       "2  3.0  6311000.0   3438.0  7.036300e+10  9.963300e+10  1.000000e+21\n",
       "3  4.0  5951000.0   3871.0  1.054900e+11  1.535200e+11  1.000000e+21\n",
       "4  5.0  5701000.0   4978.0  2.283400e+11  3.221000e+11  2.000000e+21\n",
       "5  6.0  3480000.0  10750.0  0.000000e+00  1.101800e+12  0.000000e+00"
      ]
     },
     "execution_count": 5,
     "metadata": {},
     "output_type": "execute_result"
    }
   ],
   "source": [
    "Nr = np.arange(1, 7).tolist()\n",
    "radius = [6371e3, 6341e3, 6311e3, 5951e3, 5701e3, 3480e3]\n",
    "density = [3.037e3, 3.230e3, 3.438e3, 3.871e3, 4.978e3, 10.750e3]\n",
    "rigidity = [0.50605e11, 0.50605e11, 0.70363e11, 1.05490e11, 2.28340e11, 0.0000e11]\n",
    "bulk = [5.7437e10, 5.7437e10, 9.9633e10, 1.5352e11, 3.2210e11, 1.1018e12]\n",
    "viscosity = [1.0e55, 1.0e21, 1.0e21, 1.0e21, 2.0e21, 0.0e21]\n",
    "\n",
    "df_em = pd.DataFrame(\n",
    "    np.array([Nr, radius, density, rigidity, bulk, viscosity]).T,\n",
    "    columns=[\"Nr\", \"radius\", \"density\", \"rigidity\", \"bulk\", \"viscosity\"],\n",
    ")\n",
    "\n",
    "lmax = 256\n",
    "lmin = 0\n",
    "lstep = 1\n",
    "CONF = {\n",
    "    \"EARTH_FILE\": \"earth_M3L70V01c.txt\",\n",
    "    \"COMPRESS\": \"1\",\n",
    "    \"DEGREE_RANGE\": f\"{lmin} {lmax} {lstep}\",\n",
    "    \"LABEL_OUTPUT\": f\"Bench_C_{lmax}_{lmin}_{lstep}\",\n",
    "}\n",
    "\n",
    "df_kuaq = pd.read_csv(PROJECT_ROOT / \"data\" / \"processed\" / \"KUAQ_filtered.csv\")\n",
    "df_kuaq.Time = pd.to_datetime(df_kuaq.Time)\n",
    "# df_mass = pd.read_csv(PROJECT_ROOT / \"data\" / \"processed\" / \"mass_time_series.csv\")\n",
    "df_height = load_thickness_time_series(\n",
    "    PROJECT_ROOT / \"data\" / \"processed\" / \"1900_2020_mean_thickness.mat\"\n",
    ")\n",
    "df = pd.merge(df_height, df_kuaq, how=\"inner\")\n",
    "\n",
    "height = df.Thickness.values\n",
    "uplift = df.Up.values\n",
    "\n",
    "df_em"
   ]
  },
  {
   "cell_type": "code",
   "execution_count": 6,
   "metadata": {},
   "outputs": [
    {
     "data": {
      "text/plain": [
       "(0.00013715258698306744,\n",
       " -0.03206968059261704,\n",
       " 3.5151983255279635,\n",
       " -132.5784591357166)"
      ]
     },
     "execution_count": 6,
     "metadata": {},
     "output_type": "execute_result"
    }
   ],
   "source": [
    "t = np.arange(len(uplift))\n",
    "G = np.vstack([t**3, t**2, t, np.ones_like(t)]).T\n",
    "a, b, c, d = np.linalg.lstsq(G, uplift, rcond=None)[0]\n",
    "trend = a * t**3 + b * t**2 + c * t + d\n",
    "a, b, c, d"
   ]
  },
  {
   "cell_type": "code",
   "execution_count": 7,
   "metadata": {},
   "outputs": [
    {
     "data": {
      "text/plain": [
       "[<matplotlib.lines.Line2D at 0x7fdbf06e6f40>]"
      ]
     },
     "execution_count": 7,
     "metadata": {},
     "output_type": "execute_result"
    },
    {
     "data": {
      "image/png": "[encoded data removed]",
      "text/plain": [
       "<Figure size 432x288 with 1 Axes>"
      ]
     },
     "metadata": {
      "needs_background": "light"
     },
     "output_type": "display_data"
    }
   ],
   "source": [
    "gf_test = -2e-4\n",
    "tmp = (height - np.mean(height)) / np.std(height)\n",
    "tmp2 = uplift - trend\n",
    "tmp2 = (tmp2 - np.mean(tmp2)) / np.std(tmp2)\n",
    "plt.plot(5e3 * tmp * gf_test)\n",
    "plt.plot(tmp2)"
   ]
  },
  {
   "cell_type": "code",
   "execution_count": 8,
   "metadata": {},
   "outputs": [],
   "source": [
    "# For modelling seasonality at some point\n",
    "\n",
    "# X_time = np.concatenate([pd.get_dummies(df[x]) for x in [\"dow\", \"tod\"]], axis=1)\n",
    "# pd.get_dummies(df[\"Time\"])\n",
    "# Make month columns\n",
    "df1 = pd.concat([df, df.Time.dt.month], axis=1)\n",
    "df1.columns = [*df1.columns[:-1], 'Month']\n",
    "df1.head()\n",
    "\n",
    "# make one hot encoding of month number\n",
    "month_number = np.array(pd.get_dummies(df1[\"Month\"]))"
   ]
  },
  {
   "cell_type": "code",
   "execution_count": 9,
   "metadata": {},
   "outputs": [
    {
     "data": {
      "text/plain": [
       "126"
      ]
     },
     "execution_count": 9,
     "metadata": {},
     "output_type": "execute_result"
    }
   ],
   "source": [
    "standardized_height = (height - np.mean(height) / np.std(height))\n",
    "X_cat = np.concatenate([standardized_height[np.newaxis].T, month_number], axis=1)\n",
    "X_train = torch.tensor(X_cat).float()\n",
    "y_train = torch.tensor(uplift - trend).float()\n",
    "y_train = (y_train - y_train.mean()) / y_train.std()\n",
    "len(X_train)"
   ]
  },
  {
   "cell_type": "code",
   "execution_count": 10,
   "metadata": {},
   "outputs": [
    {
     "data": {
      "text/plain": [
       "tensor([ 8.0000e+01,  6.6610e-01,  6.3665e-01,  6.0719e-01,  2.5377e-01,\n",
       "         8.3446e-03, -2.1721e+00, -7.4027e-01, -6.6708e-01, -5.8821e-01,\n",
       "        -4.2401e-01, -4.2200e-03,  2.1846e+00, -4.3644e-01, -4.3644e-01,\n",
       "        -3.0375e-01, -6.7859e-02,  7.5714e-01, -7.7628e-01, -6.5145e-01,\n",
       "        -6.5145e-01, -5.3749e-01, -3.9196e-01,  6.3319e-02,  2.1690e+00,\n",
       "         2.2361e+00, -4.4721e-01, -4.4721e-01, -4.4721e-01, -4.4721e-01,\n",
       "        -4.4721e-01])"
      ]
     },
     "execution_count": 10,
     "metadata": {},
     "output_type": "execute_result"
    }
   ],
   "source": [
    "df_params = pd.read_csv('../data/processed/ffnn_variable_normalisation_params.csv')\n",
    "\n",
    "x = np.hstack(((df_em[\"radius\"].values - df_params[\"radius_mu\"][0]) / df_params[\"radius_sigma\"][0], \n",
    "                (df_em[\"density\"].values - df_params[\"density_mu\"][0]) / df_params[\"density_sigma\"][0],\n",
    "                (df_em[\"rigidity\"].values - df_params[\"rigidity_mu\"][0]) / df_params[\"rigidity_sigma\"][0], \n",
    "                (df_em[\"bulk\"].values - df_params[\"bulk_mu\"][0]) / df_params[\"bulk_sigma\"][0], \n",
    "                (df_em[\"viscosity\"].values - df_params[\"viscosity_mu\"][0]) / df_params[\"viscosity_sigma\"][0]))\n",
    "x = np.array(x, dtype=np.float32)\n",
    "x = np.insert(x, 0, 80)\n",
    "x = torch.tensor(x, dtype=torch.float32)\n",
    "x"
   ]
  },
  {
   "cell_type": "code",
   "execution_count": 11,
   "metadata": {},
   "outputs": [
    {
     "data": {
      "text/plain": [
       "FFNN(\n",
       "  (in_layer): Linear(in_features=31, out_features=200, bias=True)\n",
       "  (h1_layer): Linear(in_features=200, out_features=200, bias=True)\n",
       "  (h2_layer): Linear(in_features=200, out_features=200, bias=True)\n",
       "  (out_layer): Linear(in_features=200, out_features=258, bias=True)\n",
       "  (relu): ReLU()\n",
       ")"
      ]
     },
     "execution_count": 11,
     "metadata": {},
     "output_type": "execute_result"
    }
   ],
   "source": [
    "ffnn = FFNN(31, 200, 258)  # in shape, n hidden, out shape\n",
    "ffnn.load_state_dict(torch.load(\"../models/ffnn_v0.pt\"))\n",
    "ffnn.eval()"
   ]
  },
  {
   "cell_type": "code",
   "execution_count": 27,
   "metadata": {},
   "outputs": [],
   "source": [
    "def model(X, x, df_params, obs=None, df_em=None):\n",
    "    N = len(X)\n",
    "    t = torch.linspace(0, 1, N)\n",
    "\n",
    "    sigma_w = pyro.sample(\"sigma\", dist.HalfCauchy(1.2 * torch.ones(N)))\n",
    "    \n",
    "    # rigidity layer 1\n",
    "    loc, scale = 2, 0.5\n",
    "    rigidity_dist_1 = IntervalFoldedDistribution(dist.Normal(loc, scale), lower=loc * 1e-2, upper=loc * 5e1)\n",
    "    rigidity_1 = 1e11 + 1e10 * pyro.sample(\"rigidity_1\", rigidity_dist_1)\n",
    "\n",
    "    # rigidity layer 2\n",
    "    loc, scale = 4, 0.5\n",
    "    rigidity_dist_2 = IntervalFoldedDistribution(dist.Normal(loc, scale), lower=loc * 1e-2, upper=loc * 5e1)\n",
    "    rigidity_2 = 1e11 + 1e10 * pyro.sample(\"rigidity_2\", rigidity_dist_2)\n",
    "    \n",
    "    x[14] = (rigidity_1 - df_params[\"rigidity_mu\"][0]) / df_params[\"rigidity_sigma\"][0]\n",
    "    x[15] = (rigidity_1 - df_params[\"rigidity_mu\"][0]) / df_params[\"rigidity_sigma\"][0]\n",
    "\n",
    "    hlove = ffnn(x).detach().numpy()\n",
    "    nlove = len(hlove)\n",
    "    \n",
    "    # Draw Greens Function\n",
    "    gf = pyro.deterministic(\"gf\", torch.tensor(greens_function(hlove, nlove, [68.704665, -33.214577], [68.58700000, -33.05270000], arsurf=80e3 * 80e3)))\n",
    "  \n",
    "    # Draw target\n",
    "    with pyro.plate(\"data\"):\n",
    "        w = pyro.sample(\"w\", dist.Normal(- gf * X[:, 0], sigma_w), obs=obs)  # 1e5 is a scaling constant\n",
    "    \n",
    "    return w"
   ]
  },
  {
   "cell_type": "code",
   "execution_count": 28,
   "metadata": {},
   "outputs": [
    {
     "name": "stderr",
     "output_type": "stream",
     "text": [
      "Sample: 100%|██████████| 1200/1200 [02:19,  8.59it/s, step size=2.26e-01, acc. prob=0.889]\n"
     ]
    }
   ],
   "source": [
    "# import os\n",
    "# os.environ[\"OMP_NUM_THREADS\"] = '1'\n",
    "# Run inference in Pyro\n",
    "\n",
    "nuts_kernel = NUTS(model)\n",
    "mcmc = MCMC(nuts_kernel, num_samples=1000, warmup_steps=200, num_chains=1)\n",
    "mcmc.run(X_train, x, df_params, y_train, df_em)"
   ]
  },
  {
   "cell_type": "code",
   "execution_count": 29,
   "metadata": {},
   "outputs": [
    {
     "name": "stdout",
     "output_type": "stream",
     "text": [
      "\n",
      "                  mean       std    median      5.0%     95.0%     n_eff     r_hat\n",
      "  rigidity_1      2.00      0.43      2.00      1.28      2.68    615.15      1.00\n",
      "  rigidity_2      3.99      0.52      3.98      3.12      4.81    652.41      1.00\n",
      "    sigma[0]      3.07      6.24      1.75      0.57      5.34    310.26      1.01\n",
      "    sigma[1]      1.97      6.41      1.03      0.22      2.82    113.47      1.01\n",
      "    sigma[2]      2.87      3.69      1.90      0.59      5.36    565.94      1.00\n",
      "    sigma[3]      1.53      2.30      0.97      0.22      2.85    334.33      1.00\n",
      "    sigma[4]      0.98      1.19      0.61      0.12      1.92    702.43      1.00\n",
      "    sigma[5]      1.06      1.39      0.67      0.13      2.09    478.87      1.00\n",
      "    sigma[6]      1.66      1.60      1.18      0.30      3.18    395.55      1.00\n",
      "    sigma[7]      3.46      3.81      2.51      0.85      6.39    664.69      1.00\n",
      "    sigma[8]      2.02      2.00      1.43      0.41      3.78    558.45      1.00\n",
      "    sigma[9]      1.28      1.86      0.82      0.20      2.42    537.55      1.00\n",
      "   sigma[10]      1.47      2.41      0.93      0.22      2.70    450.76      1.00\n",
      "   sigma[11]      2.08      1.71      1.58      0.53      3.72    707.70      1.00\n",
      "   sigma[12]      3.58      3.55      2.71      0.91      6.03    229.46      1.00\n",
      "   sigma[13]      1.11      2.41      0.66      0.13      2.14    638.76      1.00\n",
      "   sigma[14]      0.43      0.74      0.17      0.01      1.07    858.56      1.00\n",
      "   sigma[15]      1.81      2.27      1.26      0.30      3.18    434.53      1.00\n",
      "   sigma[16]      2.89      4.39      1.82      0.56      5.13    402.59      1.00\n",
      "   sigma[17]      2.52      3.21      1.68      0.53      4.34    191.62      1.00\n",
      "   sigma[18]      3.31      4.68      2.20      0.67      5.98    392.12      1.00\n",
      "   sigma[19]      3.52      7.12      2.17      0.77      6.12    387.35      1.00\n",
      "   sigma[20]      1.36      2.33      0.78      0.15      2.46    421.69      1.00\n",
      "   sigma[21]      1.85      2.41      1.23      0.32      3.45    334.02      1.00\n",
      "   sigma[22]      1.62      2.33      1.04      0.31      2.93    324.67      1.00\n",
      "   sigma[23]      2.94      3.46      2.03      0.66      4.97    341.80      1.00\n",
      "   sigma[24]      1.94      1.71      1.42      0.46      3.76    278.53      1.00\n",
      "   sigma[25]      1.23      1.63      0.80      0.18      2.34    641.51      1.00\n",
      "   sigma[26]      1.42      1.97      0.87      0.16      2.84    487.58      1.00\n",
      "   sigma[27]      0.83      1.10      0.48      0.07      1.78    664.65      1.00\n",
      "   sigma[28]      1.70      2.82      1.06      0.25      2.98    459.66      1.00\n",
      "   sigma[29]      1.28      1.45      0.86      0.18      2.49    270.81      1.01\n",
      "   sigma[30]      0.85      1.07      0.51      0.07      1.89    585.69      1.00\n",
      "   sigma[31]      1.48      1.98      0.93      0.23      2.72    219.56      1.00\n",
      "   sigma[32]      2.07      2.15      1.45      0.45      3.65    317.37      1.00\n",
      "   sigma[33]      0.36      0.88      0.12      0.00      0.90    773.62      1.00\n",
      "   sigma[34]      1.19      1.16      0.89      0.24      2.27    431.38      1.00\n",
      "   sigma[35]      5.28      6.60      3.63      1.31      9.37    445.21      1.00\n",
      "   sigma[36]      5.68      6.48      4.11      1.36     10.02    458.75      1.00\n",
      "   sigma[37]      0.93      3.53      0.47      0.07      1.72    987.46      1.00\n",
      "   sigma[38]      1.97      2.15      1.36      0.40      3.71    181.33      1.00\n",
      "   sigma[39]      2.10      2.71      1.35      0.38      4.02    403.76      1.00\n",
      "   sigma[40]      1.56      1.58      1.06      0.28      3.16    448.64      1.00\n",
      "   sigma[41]      1.85      1.94      1.30      0.34      3.69    423.83      1.00\n",
      "   sigma[42]      0.80      1.49      0.40      0.04      1.64    365.00      1.00\n",
      "   sigma[43]      1.04      1.56      0.60      0.12      2.20    706.11      1.00\n",
      "   sigma[44]      3.83      3.49      2.76      0.93      7.35    483.56      1.00\n",
      "   sigma[45]      2.97      3.22      2.05      0.56      5.73    234.28      1.00\n",
      "   sigma[46]      2.26      2.37      1.62      0.42      4.32    364.89      1.00\n",
      "   sigma[47]      2.53      2.82      1.70      0.52      4.96    455.70      1.00\n",
      "   sigma[48]      1.78      3.98      0.98      0.22      2.82    177.96      1.00\n",
      "   sigma[49]      4.61      4.40      3.24      1.18      8.61    260.97      1.01\n",
      "   sigma[50]      2.31      3.11      1.51      0.45      4.20    399.59      1.01\n",
      "   sigma[51]      3.09      3.46      2.06      0.59      6.01    545.33      1.00\n",
      "   sigma[52]      3.14      5.26      1.84      0.50      5.58    335.55      1.00\n",
      "   sigma[53]      2.67      3.18      1.82      0.55      4.77    414.33      1.00\n",
      "   sigma[54]      3.81      8.28      2.02      0.65      6.10    224.70      1.00\n",
      "   sigma[55]      2.47      2.55      1.78      0.62      4.49    624.24      1.01\n",
      "   sigma[56]      3.23      3.09      2.37      0.76      5.77    271.32      1.00\n",
      "   sigma[57]      3.98      3.51      2.84      0.91      7.44    590.54      1.01\n",
      "   sigma[58]      2.92      3.91      1.91      0.60      5.24    326.05      1.00\n",
      "   sigma[59]      1.47      1.94      1.02      0.27      2.82    561.81      1.00\n",
      "   sigma[60]      5.01      4.90      3.69      1.35      8.54    366.92      1.00\n",
      "   sigma[61]      2.18      2.28      1.58      0.44      4.08    719.82      1.00\n",
      "   sigma[62]      2.12      1.91      1.60      0.52      3.89    503.60      1.00\n",
      "   sigma[63]      2.40      2.54      1.66      0.52      4.56    511.91      1.00\n",
      "   sigma[64]      2.39      3.52      1.61      0.55      4.09    368.87      1.00\n",
      "   sigma[65]      2.16      2.53      1.44      0.40      4.18    484.03      1.00\n",
      "   sigma[66]      2.57      2.56      1.78      0.58      4.64    447.71      1.00\n",
      "   sigma[67]      1.46      1.40      1.04      0.24      2.79    565.88      1.00\n",
      "   sigma[68]      1.18      1.45      0.78      0.17      2.27    583.08      1.00\n",
      "   sigma[69]      1.91      4.23      1.20      0.38      3.18    287.85      1.00\n",
      "   sigma[70]      2.78      6.47      1.72      0.56      4.34    187.35      1.00\n",
      "   sigma[71]      4.61      6.45      3.01      1.06      8.77    438.95      1.00\n",
      "   sigma[72]      1.27      1.27      0.91      0.24      2.32    841.00      1.00\n",
      "   sigma[73]      1.97      2.85      1.36      0.41      3.78    561.18      1.00\n",
      "   sigma[74]      3.36      4.18      2.49      0.83      5.60    340.57      1.00\n",
      "   sigma[75]      0.64      0.92      0.34      0.05      1.49    864.89      1.00\n",
      "   sigma[76]      2.24      1.91      1.69      0.58      4.07    568.53      1.00\n",
      "   sigma[77]      2.46      4.03      1.58      0.45      4.91    643.42      1.00\n",
      "   sigma[78]      2.24      2.54      1.54      0.49      3.96    466.22      1.00\n",
      "   sigma[79]      2.01      2.06      1.40      0.41      3.92    450.29      1.00\n",
      "   sigma[80]      0.89      1.09      0.55      0.10      1.91    710.59      1.00\n",
      "   sigma[81]      1.90      2.06      1.28      0.34      3.68    265.36      1.00\n",
      "   sigma[82]      3.87      6.26      2.73      0.98      6.44    461.71      1.00\n",
      "   sigma[83]      5.55      5.90      3.98      1.38     10.15    379.22      1.00\n",
      "   sigma[84]      5.49      5.57      3.82      1.36     10.19    324.26      1.00\n",
      "   sigma[85]      2.73      2.82      1.91      0.55      5.35    310.51      1.00\n",
      "   sigma[86]      2.34      3.13      1.55      0.43      4.38    489.83      1.02\n",
      "   sigma[87]      0.70      1.18      0.36      0.06      1.59    492.00      1.00\n",
      "   sigma[88]      2.17      3.39      1.35      0.41      3.93    538.40      1.00\n",
      "   sigma[89]      2.02      1.82      1.45      0.51      3.89    251.59      1.00\n",
      "   sigma[90]      1.99      1.70      1.48      0.45      3.89    312.98      1.00\n",
      "   sigma[91]      2.82      2.86      2.00      0.66      5.42    677.93      1.00\n",
      "   sigma[92]      0.86      1.38      0.49      0.08      1.74    558.12      1.00\n",
      "   sigma[93]      6.20     14.13      3.82      1.27     10.52    289.64      1.00\n",
      "   sigma[94]      1.33      2.15      0.85      0.16      2.40    475.13      1.00\n",
      "   sigma[95]      0.96      0.97      0.64      0.11      2.00    501.39      1.00\n",
      "   sigma[96]      1.41      2.39      0.89      0.22      2.40    471.84      1.00\n",
      "   sigma[97]      2.86      2.66      2.05      0.62      5.24    351.05      1.00\n",
      "   sigma[98]      1.64      1.80      1.09      0.28      3.12    505.62      1.00\n",
      "   sigma[99]      1.78      1.76      1.26      0.40      3.42    561.74      1.00\n",
      "  sigma[100]      2.16      2.52      1.53      0.43      3.75    739.47      1.00\n",
      "  sigma[101]      2.25      2.25      1.59      0.51      4.25    530.11      1.00\n",
      "  sigma[102]      2.58      2.22      1.85      0.64      5.03    263.11      1.01\n",
      "  sigma[103]     11.23     17.83      6.48      1.98     19.87    452.61      1.00\n",
      "  sigma[104]     10.16     10.44      7.29      2.54     18.91    549.64      1.00\n",
      "  sigma[105]      5.83      6.60      4.17      1.55     10.46    261.41      1.00\n",
      "  sigma[106]      3.68      5.91      2.20      0.78      6.52    181.14      1.00\n",
      "  sigma[107]      1.13      2.24      0.62      0.12      2.06    411.15      1.00\n",
      "  sigma[108]      3.09      3.05      2.28      0.71      5.51    709.97      1.00\n",
      "  sigma[109]      0.83      1.56      0.49      0.08      1.81   1008.56      1.00\n",
      "  sigma[110]      1.59      1.95      1.13      0.25      2.89    604.93      1.00\n",
      "  sigma[111]      2.30      3.42      1.46      0.41      4.27    224.08      1.01\n",
      "  sigma[112]      3.22      4.97      2.08      0.63      5.96    345.38      1.00\n",
      "  sigma[113]      3.26      4.50      2.16      0.64      5.93    559.71      1.00\n",
      "  sigma[114]      3.15      3.20      2.22      0.76      5.83    587.42      1.00\n",
      "  sigma[115]      1.52      1.90      1.01      0.24      2.88    595.33      1.00\n",
      "  sigma[116]      4.00      3.55      2.89      0.90      7.21    595.31      1.00\n",
      "  sigma[117]      1.97      3.14      1.28      0.33      3.45    436.52      1.00\n",
      "  sigma[118]      1.14      1.76      0.73      0.18      2.09    473.70      1.00\n",
      "  sigma[119]      0.98      1.29      0.59      0.10      2.06    754.91      1.00\n",
      "  sigma[120]      2.59      2.51      1.86      0.67      4.85    438.72      1.00\n",
      "  sigma[121]      3.10      2.83      2.26      0.70      5.67    491.91      1.00\n",
      "  sigma[122]      2.85      2.81      1.99      0.66      5.44    333.65      1.01\n",
      "  sigma[123]      2.77      2.86      1.93      0.58      5.00    551.23      1.00\n",
      "  sigma[124]      3.32      5.15      2.11      0.65      5.58    307.21      1.00\n",
      "  sigma[125]      3.07      4.10      2.06      0.65      5.38    438.85      1.01\n",
      "\n",
      "Number of divergences: 0\n"
     ]
    }
   ],
   "source": [
    "# Show summary of inference results\n",
    "mcmc.summary()"
   ]
  },
  {
   "cell_type": "code",
   "execution_count": 66,
   "metadata": {},
   "outputs": [],
   "source": [
    "#### compare to PREM\n",
    "# from table IV\n",
    "depths = abs(df_em[\"radius\"].values - df_em.loc[0, \"radius\"]) / 1e3 # in km\n",
    "depth_table = np.array([0, 3, 15, 24, 40, 60, 80])\n",
    "A = np.array([21, 875, 1341, 2268, 2260, 2251, 2242])\n",
    "C = np.array([21, 875, 1341, 2176, 2165, 2151, 2138])\n",
    "L = np.array([0, 266, 441, 653, 654, 655, 656])\n",
    "N = np.array([0, 266, 441, 719, 714, 708, 702])\n",
    "F = np.array([21, 342, 459, 866, 863, 860, 857])\n",
    "\n",
    "prem_rigidity_1 = np.mean(1 / 15 * (A[:4] + C[:4] - 2 * F[:4] + 5 * N[:4] + 6 * L[:4]))\n",
    "prem_rigidity_2 = np.mean(1 / 15 * (A[4:6] + C[4:6] - 2 * F[4:6] + 5 * N[4:6] + 6 * L[4:6]))\n",
    "prem_rigidity = {\"rigidity_1\" : prem_rigidity_1 * 1e8, \"rigidity_2\" : prem_rigidity_2 * 1e8}"
   ]
  },
  {
   "cell_type": "code",
   "execution_count": 67,
   "metadata": {},
   "outputs": [
    {
     "data": {
      "image/png": "[encoded data removed]",
      "text/plain": [
       "<Figure size 288x216 with 1 Axes>"
      ]
     },
     "metadata": {
      "needs_background": "light"
     },
     "output_type": "display_data"
    },
    {
     "data": {
      "image/png": "[encoded data removed]",
      "text/plain": [
       "<Figure size 288x216 with 1 Axes>"
      ]
     },
     "metadata": {
      "needs_background": "light"
     },
     "output_type": "display_data"
    }
   ],
   "source": [
    "samples = {k: v for k, v in mcmc.get_samples().items()}\n",
    "nodes = [\"rigidity_1\", \"rigidity_2\"]\n",
    "\n",
    "rigidity_dist_prior = dist.Normal(2 * torch.ones(1000), 0.2)\n",
    "rigidity_prior = 1e11 + 1e10 * pyro.sample(\"rigidity_prior\", rigidity_dist_prior)\n",
    "\n",
    "for node in nodes:\n",
    "    plt.figure(figsize=(4,3))\n",
    "    g = sns.histplot(1e11 + 1e10 * samples[node], label=node, kde=True, stat='density', element=\"step\", color=\"red\")\n",
    "    sns.histplot(rigidity_prior, label=\"prior\", kde=True, stat='density', element=\"step\", alpha=0.4)\n",
    "    plt.axvline(prem_rigidity[node], 0, 0.17, color='black', label='PREM estimate')\n",
    "    plt.legend()\n",
    "    plt.show()"
   ]
  },
  {
   "cell_type": "code",
   "execution_count": 74,
   "metadata": {},
   "outputs": [
    {
     "data": {
      "image/png": "[encoded data removed]",
      "text/plain": [
       "<Figure size 432x288 with 1 Axes>"
      ]
     },
     "metadata": {
      "needs_background": "light"
     },
     "output_type": "display_data"
    }
   ],
   "source": [
    "rigidity_list = []\n",
    "prem_rigidity_list = []\n",
    "for node in nodes:\n",
    "    rigidity_list.append(samples[node].mean())\n",
    "    prem_rigidity_list.append(prem_rigidity[node])\n",
    "   \n",
    "x_depth = [30, 60] \n",
    "plt.scatter(x_depth, rigidity_list, label=\"Modelled rigidities\")\n",
    "plt.plot(x_depth, prem_rigidity_list, color='black', linestyle='--', label='PREM estimate')\n",
    "plt.xlabel(\"Depth, [km]\")\n",
    "plt.ylabel(\"Rigidity, [Pa]\")\n",
    "plt.grid()"
   ]
  },
  {
   "cell_type": "markdown",
   "metadata": {},
   "source": [
    "### Compare to observations"
   ]
  },
  {
   "cell_type": "code",
   "execution_count": 31,
   "metadata": {},
   "outputs": [
    {
     "name": "stdout",
     "output_type": "stream",
     "text": [
      "gf: (1000, 1)\n",
      "w: (1000, 126)\n"
     ]
    }
   ],
   "source": [
    "from pyro.infer import Predictive\n",
    "\n",
    "predictive = Predictive(model, samples)(X_train, x, df_params, y_train, df_em)\n",
    "for k, v in predictive.items():\n",
    "    print(f\"{k}: {tuple(v.shape)}\")"
   ]
  },
  {
   "cell_type": "code",
   "execution_count": 84,
   "metadata": {},
   "outputs": [
    {
     "name": "stdout",
     "output_type": "stream",
     "text": [
      "corr = 0.3035466942999506, \n",
      "mae = 1.5457704067230225, \n",
      "rae = 1.9191352128982544, \n",
      "rmse = 2.022096633911133\n"
     ]
    },
    {
     "data": {
      "image/png": "[encoded data removed]",
      "text/plain": [
       "<Figure size 432x288 with 1 Axes>"
      ]
     },
     "metadata": {
      "needs_background": "light"
     },
     "output_type": "display_data"
    }
   ],
   "source": [
    "w_pred = (- gf_res * X_train[:, 0]).mean(axis=0)\n",
    "plt.plot(y_train)\n",
    "plt.plot(w_pred)\n",
    "corr, mae, rae, rmse = compute_error(y_train.numpy(), w_pred.numpy())\n",
    "print(f\"corr = {corr}, \\nmae = {mae}, \\nrae = {rae}, \\nrmse = {rmse}\")"
   ]
  },
  {
   "cell_type": "code",
   "execution_count": null,
   "metadata": {},
   "outputs": [],
   "source": []
  },
  {
   "cell_type": "markdown",
   "metadata": {},
   "source": [
    "## Different things from earlier work"
   ]
  },
  {
   "cell_type": "code",
   "execution_count": null,
   "metadata": {},
   "outputs": [],
   "source": [
    "dont run the next cells"
   ]
  },
  {
   "cell_type": "code",
   "execution_count": null,
   "metadata": {},
   "outputs": [
    {
     "data": {
      "text/plain": [
       "dict_keys(['rigidity_1', 'rigidity_2', 'sigma'])"
      ]
     },
     "metadata": {},
     "output_type": "display_data"
    }
   ],
   "source": [
    "# saves the model and optimizer states to disk\n",
    "def save_checkpoint(model):\n",
    "    log(\"saving model to %s...\" % args.save_model)\n",
    "    torch.save(dmm.state_dict(), args.save_model)\n",
    "    log(\"saving optimizer states to %s...\" % args.save_opt)\n",
    "    optimizer.save(args.save_opt)\n",
    "    log(\"done saving model and optimizer checkpoints to disk.\")\n",
    "\n",
    "# loads the model and optimizer states from disk\n",
    "def load_checkpoint():\n",
    "    assert exists(args.load_opt) and exists(args.load_model), \\\n",
    "        \"--load-model and/or --load-opt misspecified\"\n",
    "    log(\"loading model from %s...\" % args.load_model)\n",
    "    dmm.load_state_dict(torch.load(args.load_model))\n",
    "    log(\"loading optimizer states from %s...\" % args.load_opt)\n",
    "    optimizer.load(args.load_opt)\n",
    "    log(\"done loading model and optimizer states.\")"
   ]
  },
  {
   "cell_type": "code",
   "execution_count": null,
   "metadata": {},
   "outputs": [],
   "source": [
    "class TruncatedNormal(dist.Rejector):\n",
    "    def __init__(self, loc, scale_0, max_x0):\n",
    "        propose = dist.Normal(loc, scale_0)\n",
    "\n",
    "        def log_prob_accept(x):\n",
    "            return (x[0] < max_x0).type_as(x).log()\n",
    "\n",
    "        log_scale = torch.tensor(dist.LogNormal(loc, scale_0).cdf(max_x0)).log()\n",
    "        super(TruncatedLogNormal, self).__init__(propose, log_prob_accept, log_scale)"
   ]
  },
  {
   "cell_type": "code",
   "execution_count": null,
   "metadata": {},
   "outputs": [],
   "source": [
    "## TODO: For guide support, see: https://forum.pyro.ai/t/truncated-log-normal-distribution/2002\n",
    "# from torch.distributions import constraints\n",
    "\n",
    "# class TruncatedLogNormal(dist.Rejector):\n",
    "#     ...\n",
    "#     @constraints.dependent_property\n",
    "#     def support(self):\n",
    "#         return constraints.interval(0, self.max_x0)"
   ]
  },
  {
   "cell_type": "code",
   "execution_count": null,
   "metadata": {},
   "outputs": [
    {
     "data": {
      "image/png": "[encoded data removed]",
      "text/plain": [
       "<Figure size 432x288 with 1 Axes>"
      ]
     },
     "metadata": {},
     "output_type": "display_data"
    }
   ],
   "source": [
    "diste = IntervalFoldedDistribution(dist.Normal(1e10*torch.ones(10000), 1e9), lower=1e8, upper=1e12)\n",
    "plt.hist(np.array(pyro.sample(\"test\", diste)));"
   ]
  },
  {
   "cell_type": "code",
   "execution_count": null,
   "metadata": {},
   "outputs": [
    {
     "data": {
      "text/plain": [
       "tensor(0.)"
      ]
     },
     "metadata": {},
     "output_type": "display_data"
    },
    {
     "data": {
      "image/png": "[encoded data removed]",
      "text/plain": [
       "<Figure size 432x288 with 1 Axes>"
      ]
     },
     "metadata": {},
     "output_type": "display_data"
    }
   ],
   "source": [
    "samples = 1e10 * pyro.sample(\"test\", dist.Normal(torch.ones(10000), 0.1))\n",
    "plt.hist(np.array(samples));\n",
    "samples[samples < 1e8].sum()"
   ]
  },
  {
   "cell_type": "code",
   "execution_count": null,
   "metadata": {},
   "outputs": [
    {
     "name": "stderr",
     "output_type": "stream",
     "text": [
      "sample: 100%|██████████| 11000/11000 [00:14<00:00, 774.53it/s, 3 steps of size 1.26e+00. acc. prob=0.89]\n"
     ]
    },
    {
     "name": "stdout",
     "output_type": "stream",
     "text": [
      "-3806359800.0 -24906074.0 4083562800.0\n"
     ]
    }
   ],
   "source": [
    "import numpyro\n",
    "import numpyro.distributions as np_dist\n",
    "from numpyro.infer import MCMC, NUTS\n",
    "\n",
    "def model():\n",
    "\n",
    "    # sample1 = numpyro.sample(\"rigidity1\", bounded_rig1)\n",
    "    rigidity_unscaled = numpyro.sample(\"rigidity_unscaled\", np_dist.Normal(0, 1))\n",
    "    \n",
    "    rigidity_scaled = numpyro.deterministic(\"rigidity_scaled\", 1e10 + 1e9 * rigidity_unscaled)\n",
    "    # rigidity_scaled = numpyro.sample(\"rigidity_scaled\", np_dist.Uniform(1e9, 1e11))\n",
    "\n",
    "    \n",
    "rng_key = random.PRNGKey(0)\n",
    "rng_key, rng_key_ = random.split(rng_key)\n",
    "\n",
    "# Run NUTS.\n",
    "kernel = NUTS(model)\n",
    "num_samples = 10000\n",
    "mcmc = MCMC(kernel, num_warmup=1000, num_samples=num_samples)\n",
    "mcmc.run(rng_key_)\n",
    "\n",
    "print(mcmc.get_samples()[\"rigidity_scaled\"].min() , mcmc.get_samples()[\"rigidity_scaled\"].mean(), mcmc.get_samples()[\"rigidity_scaled\"].max())"
   ]
  },
  {
   "cell_type": "code",
   "execution_count": null,
   "metadata": {},
   "outputs": [
    {
     "data": {
      "text/plain": [
       "[<matplotlib.lines.Line2D at 0x7f7ddc22d700>]"
      ]
     },
     "metadata": {},
     "output_type": "display_data"
    },
    {
     "data": {
      "image/png": "[encoded data removed]",
      "text/plain": [
       "<Figure size 432x288 with 1 Axes>"
      ]
     },
     "metadata": {},
     "output_type": "display_data"
    }
   ],
   "source": [
    "samples = mcmc.get_samples()[\"rigidity_scaled\"].to_py()\n",
    "plt.plot(np.diff(samples))\n",
    "plt.plot(samples)"
   ]
  },
  {
   "cell_type": "code",
   "execution_count": null,
   "metadata": {},
   "outputs": [
    {
     "name": "stderr",
     "output_type": "stream",
     "text": [
      "Sample: 100%|██████████| 1001/1001 [12:24,  1.34it/s, step size=1.16e-10, acc. prob=1.000]"
     ]
    },
    {
     "name": "stdout",
     "output_type": "stream",
     "text": [
      "tensor(0.8238) tensor(0.9997) tensor(1.)\n"
     ]
    },
    {
     "name": "stderr",
     "output_type": "stream",
     "text": [
      "\n"
     ]
    }
   ],
   "source": [
    "import pyro\n",
    "import pyro.distributions as dist\n",
    "from pyro.infer import MCMC, NUTS\n",
    "\n",
    "def model(height, obs=None, df_em=None):\n",
    "    sample1 = pyro.sample(\"rigidity1\", dist.Normal(1, 1e-1))\n",
    "\n",
    "# Run inference in Pyro\n",
    "nuts_kernel = NUTS(model)\n",
    "mcmc = MCMC(nuts_kernel, num_samples=1000, warmup_steps=1, num_chains=1)\n",
    "mcmc.run(X_train, y_train, df_em)\n",
    "\n",
    "print(mcmc.get_samples()[\"rigidity1\"].min() , mcmc.get_samples()[\"rigidity1\"].mean(), mcmc.get_samples()[\"rigidity1\"].max())"
   ]
  }
 ],
 "metadata": {
  "interpreter": {
   "hash": "218e925926151051a9076ee8829e942c4c8d45d6b696e1d2dab005a43eea83c4"
  },
  "kernelspec": {
   "display_name": "Python 3.9.12 ('premis')",
   "language": "python",
   "name": "python3"
  },
  "language_info": {
   "codemirror_mode": {
    "name": "ipython",
    "version": 3
   },
   "file_extension": ".py",
   "mimetype": "text/x-python",
   "name": "python",
   "nbconvert_exporter": "python",
   "pygments_lexer": "ipython3",
   "version": "3.9.12"
  },
  "orig_nbformat": 4
 },
 "nbformat": 4,
 "nbformat_minor": 2
}
