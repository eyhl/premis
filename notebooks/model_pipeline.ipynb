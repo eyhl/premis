{
 "cells": [
  {
   "cell_type": "code",
   "execution_count": 1,
   "metadata": {},
   "outputs": [
    {
     "name": "stdout",
     "output_type": "stream",
     "text": [
      "/data/eigil/work/premis\n"
     ]
    }
   ],
   "source": [
    "import matplotlib.pyplot as plt\n",
    "import seaborn as sns\n",
    "import numpy as np\n",
    "import pandas as pd\n",
    "import torch\n",
    "import pyro.distributions as dist\n",
    "from pyro.infer import MCMC, NUTS\n",
    "import pyro\n",
    "\n",
    "from src.data.preprocessing import load_thickness_time_series\n",
    "from src.models.paths import PROJECT_ROOT\n",
    "from src.models.solid_earth_utils import compute_love_numbers, greens_function\n",
    "\n",
    "print(PROJECT_ROOT)\n",
    "pyro.set_rng_seed(42)"
   ]
  },
  {
   "cell_type": "code",
   "execution_count": 2,
   "metadata": {},
   "outputs": [],
   "source": [
    "class FFNN(torch.nn.Module):\n",
    "    def __init__(self, n_in, n_hidden, n_out):\n",
    "        super(FFNN, self).__init__()\n",
    "        \n",
    "        # Architecture\n",
    "        self.in_layer = torch.nn.Linear(n_in, n_hidden)\n",
    "        self.h1_layer = torch.nn.Linear(n_hidden, n_hidden)\n",
    "        self.h2_layer = torch.nn.Linear(n_hidden, n_hidden)\n",
    "        self.out_layer = torch.nn.Linear(n_hidden, n_out)\n",
    "        \n",
    "        # Activation functions\n",
    "        self.relu = torch.nn.ReLU()\n",
    "        \n",
    "    def forward(self, X):\n",
    "        # Forward pass\n",
    "        X = self.relu(self.in_layer(X))\n",
    "        X = self.relu(self.h1_layer(X))\n",
    "        X = self.relu(self.h2_layer(X))\n",
    "        X = self.out_layer(X)\n",
    "        \n",
    "        return X"
   ]
  },
  {
   "cell_type": "code",
   "execution_count": 3,
   "metadata": {},
   "outputs": [],
   "source": [
    "from torch.distributions import constraints\n",
    "from torch.distributions.transforms import AbsTransform\n",
    "\n",
    "from pyro.distributions.torch import TransformedDistribution\n",
    "from torch.distributions.transforms import Transform \n",
    "\n",
    "class IntervalTransform(Transform):\n",
    "    r\"\"\"\n",
    "    Transform via the mapping :math:`y = a <= x <= b`.\n",
    "    \"\"\"\n",
    "    domain = constraints.real\n",
    "    codomain = constraints.positive\n",
    "    def __init__(self, a, b, event_dim=0, cache_size=0):\n",
    "        self.a = a\n",
    "        self.b = b\n",
    "        self._event_dim = event_dim\n",
    "        self._cache_size = cache_size\n",
    "        \n",
    "    def __eq__(self, other):\n",
    "        return isinstance(other, IntervalTransform(self.a, self.b))\n",
    "\n",
    "    def _call(self, x):\n",
    "        x[self.a > x] = self.a\n",
    "        x[self.b < x] = self.b\n",
    "        return x\n",
    "\n",
    "    def _inverse(self, y):\n",
    "        return y\n",
    "\n",
    "class IntervalFoldedDistribution(TransformedDistribution):\n",
    "    \"\"\"\n",
    "    Equivalent to ``TransformedDistribution(base_dist, AbsTransform())``,\n",
    "    but additionally supports :meth:`log_prob` .\n",
    "\n",
    "    :param ~torch.distributions.Distribution base_dist: The distribution to\n",
    "        reflect.\n",
    "    \"\"\"\n",
    "\n",
    "    support = constraints.positive\n",
    "\n",
    "    def __init__(self, base_dist, validate_args=None, lower=8e3, upper=1.4e4):\n",
    "        if base_dist.event_shape:\n",
    "            raise ValueError(\"Only univariate distributions can be folded.\")\n",
    "        super().__init__(base_dist, IntervalTransform(a=lower, b=upper), validate_args)\n",
    "\n",
    "    def expand(self, batch_shape, _instance=None):\n",
    "        new = self._get_checked_instance(type(self), _instance)\n",
    "        return super().expand(batch_shape, _instance=new)\n",
    "\n",
    "\n",
    "    def log_prob(self, value):\n",
    "        if self._validate_args:\n",
    "            self._validate_sample(value)\n",
    "        dim = max(len(self.batch_shape), value.dim())\n",
    "        plus_minus = value.new_tensor([1.0, -1.0]).reshape((2,) + (1,) * dim)\n",
    "        return self.base_dist.log_prob(plus_minus * value).logsumexp(0)"
   ]
  },
  {
   "cell_type": "code",
   "execution_count": 4,
   "metadata": {},
   "outputs": [],
   "source": [
    "from torch.distributions import constraints\n",
    "from torch.distributions.transforms import AbsTransform\n",
    "\n",
    "from pyro.distributions.torch import TransformedDistribution\n",
    "from torch.distributions.transforms import Transform \n",
    "\n",
    "class IntervalTransform(Transform):\n",
    "    r\"\"\"\n",
    "    Transform via the mapping :math:`y = a <= x <= b`.\n",
    "    \"\"\"\n",
    "    domain = constraints.real\n",
    "    codomain = constraints.positive\n",
    "    def __init__(self, a, b, event_dim=0, cache_size=0):\n",
    "        self.a = a\n",
    "        self.b = b\n",
    "        self._event_dim = event_dim\n",
    "        self._cache_size = cache_size\n",
    "        \n",
    "    def __eq__(self, other):\n",
    "        return isinstance(other, IntervalTransform(self.a, self.b))\n",
    "\n",
    "    def _call(self, x):\n",
    "        x[self.a > x] = self.a\n",
    "        x[self.b < x] = self.b\n",
    "        return x\n",
    "\n",
    "    def _inverse(self, y):\n",
    "        return y\n",
    "\n",
    "class IntervalFoldedDistribution(TransformedDistribution):\n",
    "    \"\"\"\n",
    "    Equivalent to ``TransformedDistribution(base_dist, AbsTransform())``,\n",
    "    but additionally supports :meth:`log_prob` .\n",
    "\n",
    "    :param ~torch.distributions.Distribution base_dist: The distribution to\n",
    "        reflect.\n",
    "    \"\"\"\n",
    "\n",
    "    support = constraints.positive\n",
    "\n",
    "    def __init__(self, base_dist, validate_args=None, lower=8e3, upper=1.4e4):\n",
    "        if base_dist.event_shape:\n",
    "            raise ValueError(\"Only univariate distributions can be folded.\")\n",
    "        super().__init__(base_dist, IntervalTransform(a=lower, b=upper), validate_args)\n",
    "\n",
    "    def expand(self, batch_shape, _instance=None):\n",
    "        new = self._get_checked_instance(type(self), _instance)\n",
    "        return super().expand(batch_shape, _instance=new)\n",
    "\n",
    "\n",
    "    def log_prob(self, value):\n",
    "        if self._validate_args:\n",
    "            self._validate_sample(value)\n",
    "        dim = max(len(self.batch_shape), value.dim())\n",
    "        plus_minus = value.new_tensor([1.0, -1.0]).reshape((2,) + (1,) * dim)\n",
    "        return self.base_dist.log_prob(plus_minus * value).logsumexp(0)"
   ]
  },
  {
   "cell_type": "code",
   "execution_count": 14,
   "metadata": {},
   "outputs": [
    {
     "data": {
      "text/html": [
       "<div>\n",
       "<style scoped>\n",
       "    .dataframe tbody tr th:only-of-type {\n",
       "        vertical-align: middle;\n",
       "    }\n",
       "\n",
       "    .dataframe tbody tr th {\n",
       "        vertical-align: top;\n",
       "    }\n",
       "\n",
       "    .dataframe thead th {\n",
       "        text-align: right;\n",
       "    }\n",
       "</style>\n",
       "<table border=\"1\" class=\"dataframe\">\n",
       "  <thead>\n",
       "    <tr style=\"text-align: right;\">\n",
       "      <th></th>\n",
       "      <th>Nr</th>\n",
       "      <th>radius</th>\n",
       "      <th>density</th>\n",
       "      <th>rigidity</th>\n",
       "      <th>bulk</th>\n",
       "      <th>viscosity</th>\n",
       "    </tr>\n",
       "  </thead>\n",
       "  <tbody>\n",
       "    <tr>\n",
       "      <th>0</th>\n",
       "      <td>1.0</td>\n",
       "      <td>6371000.0</td>\n",
       "      <td>3037.0</td>\n",
       "      <td>5.060500e+10</td>\n",
       "      <td>5.743700e+10</td>\n",
       "      <td>1.000000e+55</td>\n",
       "    </tr>\n",
       "    <tr>\n",
       "      <th>1</th>\n",
       "      <td>2.0</td>\n",
       "      <td>6341000.0</td>\n",
       "      <td>3230.0</td>\n",
       "      <td>5.060500e+10</td>\n",
       "      <td>5.743700e+10</td>\n",
       "      <td>1.000000e+21</td>\n",
       "    </tr>\n",
       "    <tr>\n",
       "      <th>2</th>\n",
       "      <td>3.0</td>\n",
       "      <td>6311000.0</td>\n",
       "      <td>3438.0</td>\n",
       "      <td>7.036300e+10</td>\n",
       "      <td>9.963300e+10</td>\n",
       "      <td>1.000000e+21</td>\n",
       "    </tr>\n",
       "    <tr>\n",
       "      <th>3</th>\n",
       "      <td>4.0</td>\n",
       "      <td>5951000.0</td>\n",
       "      <td>3871.0</td>\n",
       "      <td>1.054900e+11</td>\n",
       "      <td>1.535200e+11</td>\n",
       "      <td>1.000000e+21</td>\n",
       "    </tr>\n",
       "    <tr>\n",
       "      <th>4</th>\n",
       "      <td>5.0</td>\n",
       "      <td>5701000.0</td>\n",
       "      <td>4978.0</td>\n",
       "      <td>2.283400e+11</td>\n",
       "      <td>3.221000e+11</td>\n",
       "      <td>2.000000e+21</td>\n",
       "    </tr>\n",
       "    <tr>\n",
       "      <th>5</th>\n",
       "      <td>6.0</td>\n",
       "      <td>3480000.0</td>\n",
       "      <td>10750.0</td>\n",
       "      <td>0.000000e+00</td>\n",
       "      <td>1.101800e+12</td>\n",
       "      <td>0.000000e+00</td>\n",
       "    </tr>\n",
       "  </tbody>\n",
       "</table>\n",
       "</div>"
      ],
      "text/plain": [
       "    Nr     radius  density      rigidity          bulk     viscosity\n",
       "0  1.0  6371000.0   3037.0  5.060500e+10  5.743700e+10  1.000000e+55\n",
       "1  2.0  6341000.0   3230.0  5.060500e+10  5.743700e+10  1.000000e+21\n",
       "2  3.0  6311000.0   3438.0  7.036300e+10  9.963300e+10  1.000000e+21\n",
       "3  4.0  5951000.0   3871.0  1.054900e+11  1.535200e+11  1.000000e+21\n",
       "4  5.0  5701000.0   4978.0  2.283400e+11  3.221000e+11  2.000000e+21\n",
       "5  6.0  3480000.0  10750.0  0.000000e+00  1.101800e+12  0.000000e+00"
      ]
     },
     "execution_count": 14,
     "metadata": {},
     "output_type": "execute_result"
    }
   ],
   "source": [
    "Nr = np.arange(1, 7).tolist()\n",
    "radius = [6371e3, 6341e3, 6311e3, 5951e3, 5701e3, 3480e3]\n",
    "density = [3.037e3, 3.230e3, 3.438e3, 3.871e3, 4.978e3, 10.750e3]\n",
    "rigidity = [0.50605e11, 0.50605e11, 0.70363e11, 1.05490e11, 2.28340e11, 0.0000e11]\n",
    "bulk = [5.7437e10, 5.7437e10, 9.9633e10, 1.5352e11, 3.2210e11, 1.1018e12]\n",
    "viscosity = [1.0e55, 1.0e21, 1.0e21, 1.0e21, 2.0e21, 0.0e21]\n",
    "\n",
    "df_em = pd.DataFrame(\n",
    "    np.array([Nr, radius, density, rigidity, bulk, viscosity]).T,\n",
    "    columns=[\"Nr\", \"radius\", \"density\", \"rigidity\", \"bulk\", \"viscosity\"],\n",
    ")\n",
    "\n",
    "lmax = 256\n",
    "lmin = 0\n",
    "lstep = 1\n",
    "CONF = {\n",
    "    \"EARTH_FILE\": \"earth_M3L70V01c.txt\",\n",
    "    \"COMPRESS\": \"1\",\n",
    "    \"DEGREE_RANGE\": f\"{lmin} {lmax} {lstep}\",\n",
    "    \"LABEL_OUTPUT\": f\"Bench_C_{lmax}_{lmin}_{lstep}\",\n",
    "}\n",
    "\n",
    "df_kuaq = pd.read_csv(PROJECT_ROOT / \"data\" / \"processed\" / \"KUAQ_filtered.csv\")\n",
    "df_kuaq.Time = pd.to_datetime(df_kuaq.Time)\n",
    "# df_mass = pd.read_csv(PROJECT_ROOT / \"data\" / \"processed\" / \"mass_time_series.csv\")\n",
    "df_height = load_thickness_time_series(\n",
    "    PROJECT_ROOT / \"data\" / \"processed\" / \"1900_2020_mean_thickness.mat\"\n",
    ")\n",
    "df = pd.merge(df_height, df_kuaq, how=\"inner\")\n",
    "\n",
    "height = df.Thickness.values\n",
    "uplift = df.Up.values\n",
    "\n",
    "df_em"
   ]
  },
  {
   "cell_type": "code",
   "execution_count": 6,
   "metadata": {},
   "outputs": [
    {
     "data": {
      "text/plain": [
       "[<matplotlib.lines.Line2D at 0x7fa5240fa220>]"
      ]
     },
     "execution_count": 6,
     "metadata": {},
     "output_type": "execute_result"
    },
    {
     "data": {
      "image/png": "[encoded data removed]",
      "text/plain": [
       "<Figure size 432x288 with 1 Axes>"
      ]
     },
     "metadata": {
      "needs_background": "light"
     },
     "output_type": "display_data"
    }
   ],
   "source": [
    "areas = np.arange(1e3, 200e3, 5e3)**2\n",
    "gf_list = []\n",
    "for area in areas:\n",
    "    hlove, nlove = compute_love_numbers(df_em=df_em, CONF=None, verbose=0)\n",
    "    gf_list.append(greens_function(hlove, nlove, [68.704665, -33.214577], [68.58700000, -33.05270000], arsurf=area))\n",
    "\n",
    "plt.plot(areas, gf_list)"
   ]
  },
  {
   "cell_type": "code",
   "execution_count": 7,
   "metadata": {},
   "outputs": [
    {
     "data": {
      "text/plain": [
       "(0.00013715258698306744,\n",
       " -0.03206968059261704,\n",
       " 3.5151983255279635,\n",
       " -132.5784591357166)"
      ]
     },
     "execution_count": 7,
     "metadata": {},
     "output_type": "execute_result"
    }
   ],
   "source": [
    "t = np.arange(len(uplift))\n",
    "G = np.vstack([t**3, t**2, t, np.ones_like(t)]).T\n",
    "a, b, c, d = np.linalg.lstsq(G, uplift, rcond=None)[0]\n",
    "trend = a * t**3 + b * t**2 + c * t + d\n",
    "a, b, c, d"
   ]
  },
  {
   "cell_type": "code",
   "execution_count": 8,
   "metadata": {},
   "outputs": [
    {
     "data": {
      "text/plain": [
       "[<matplotlib.lines.Line2D at 0x7fa5240602e0>]"
      ]
     },
     "execution_count": 8,
     "metadata": {},
     "output_type": "execute_result"
    },
    {
     "data": {
      "image/png": "[encoded data removed]",
      "text/plain": [
       "<Figure size 432x288 with 1 Axes>"
      ]
     },
     "metadata": {
      "needs_background": "light"
     },
     "output_type": "display_data"
    }
   ],
   "source": [
    "tmp = (height - np.mean(height)) / np.std(height)\n",
    "tmp2 = uplift - trend\n",
    "tmp2 = (tmp2 - np.mean(tmp2)) / np.std(tmp2)\n",
    "plt.plot(5e3 * tmp * gf_list[20])\n",
    "plt.plot(tmp2)"
   ]
  },
  {
   "cell_type": "code",
   "execution_count": 9,
   "metadata": {},
   "outputs": [],
   "source": [
    "# X_time = np.concatenate([pd.get_dummies(df[x]) for x in [\"dow\", \"tod\"]], axis=1)\n",
    "# pd.get_dummies(df[\"Time\"])\n",
    "# Make month columns\n",
    "df1 = pd.concat([df, df.Time.dt.month], axis=1)\n",
    "df1.columns = [*df1.columns[:-1], 'Month']\n",
    "df1.head()\n",
    "\n",
    "# make one hot encoding of month number\n",
    "month_number = np.array(pd.get_dummies(df1[\"Month\"]))"
   ]
  },
  {
   "cell_type": "code",
   "execution_count": 10,
   "metadata": {},
   "outputs": [
    {
     "data": {
      "text/plain": [
       "126"
      ]
     },
     "execution_count": 10,
     "metadata": {},
     "output_type": "execute_result"
    }
   ],
   "source": [
    "standardized_height = (height - np.mean(height) / np.std(height))\n",
    "X_cat = np.concatenate([standardized_height[np.newaxis].T, month_number], axis=1)\n",
    "X_train = torch.tensor(X_cat).float()\n",
    "y_train = torch.tensor(uplift - trend).float()\n",
    "y_train = (y_train - y_train.mean()) / y_train.std()\n",
    "len(X_train)"
   ]
  },
  {
   "cell_type": "code",
   "execution_count": 32,
   "metadata": {},
   "outputs": [
    {
     "data": {
      "text/plain": [
       "tensor([ 8.0000e+01,  6.6610e-01,  6.3665e-01,  6.0719e-01,  2.5377e-01,\n",
       "         8.3446e-03, -2.1721e+00, -7.4027e-01, -6.6708e-01, -5.8821e-01,\n",
       "        -4.2401e-01, -4.2200e-03,  2.1846e+00, -4.3644e-01, -4.3644e-01,\n",
       "        -3.0375e-01, -6.7859e-02,  7.5714e-01, -7.7628e-01, -6.5145e-01,\n",
       "        -6.5145e-01, -5.3749e-01, -3.9196e-01,  6.3319e-02,  2.1690e+00,\n",
       "         2.2361e+00, -4.4721e-01, -4.4721e-01, -4.4721e-01, -4.4721e-01,\n",
       "        -4.4721e-01])"
      ]
     },
     "execution_count": 32,
     "metadata": {},
     "output_type": "execute_result"
    }
   ],
   "source": [
    "df_params = pd.read_csv('../ffnn_variable_normalisation_params.csv')\n",
    "\n",
    "x = np.hstack(((df_em[\"radius\"].values - df_params[\"radius_mu\"][0]) / df_params[\"radius_sigma\"][0], \n",
    "                (df_em[\"density\"].values - df_params[\"density_mu\"][0]) / df_params[\"density_sigma\"][0],\n",
    "                (df_em[\"rigidity\"].values - df_params[\"rigidity_mu\"][0]) / df_params[\"rigidity_sigma\"][0], \n",
    "                (df_em[\"bulk\"].values - df_params[\"bulk_mu\"][0]) / df_params[\"bulk_sigma\"][0], \n",
    "                (df_em[\"viscosity\"].values - df_params[\"viscosity_mu\"][0]) / df_params[\"viscosity_sigma\"][0]))\n",
    "x = np.array(x, dtype=np.float32)\n",
    "x = np.insert(x, 0, 80)\n",
    "x = torch.tensor(x, dtype=torch.float32)\n",
    "x"
   ]
  },
  {
   "cell_type": "code",
   "execution_count": 33,
   "metadata": {},
   "outputs": [
    {
     "data": {
      "text/plain": [
       "FFNN(\n",
       "  (in_layer): Linear(in_features=31, out_features=200, bias=True)\n",
       "  (h1_layer): Linear(in_features=200, out_features=200, bias=True)\n",
       "  (h2_layer): Linear(in_features=200, out_features=200, bias=True)\n",
       "  (out_layer): Linear(in_features=200, out_features=258, bias=True)\n",
       "  (relu): ReLU()\n",
       ")"
      ]
     },
     "execution_count": 33,
     "metadata": {},
     "output_type": "execute_result"
    }
   ],
   "source": [
    "ffnn = FFNN(31, 200, 258)  # in shape, n hidden, out shape\n",
    "ffnn.load_state_dict(torch.load(\"../ffnn_v0.pt\"))\n",
    "ffnn.eval()"
   ]
  },
  {
   "cell_type": "code",
   "execution_count": 36,
   "metadata": {},
   "outputs": [],
   "source": [
    "def model(X, x, df_params, obs=None, df_em=None):\n",
    "    N = len(X)\n",
    "    t = torch.linspace(0, 1, N)\n",
    "\n",
    "    sigma_w = pyro.sample(\"sigma\", dist.HalfCauchy(1.2 * torch.ones(N)))\n",
    "    \n",
    "    # rigidity layer 1\n",
    "    loc, scale = 2, 0.5\n",
    "    rigidity_dist_1 = IntervalFoldedDistribution(dist.Normal(loc, scale), lower=loc * 1e-2, upper=loc * 5e1)\n",
    "    rigidity_1 = 1e11 + 1e10 * pyro.sample(\"rigidity_1\", rigidity_dist_1)\n",
    "\n",
    "    # rigidity layer 2\n",
    "    loc, scale = 4, 0.5\n",
    "    rigidity_dist_2 = IntervalFoldedDistribution(dist.Normal(loc, scale), lower=loc * 1e-2, upper=loc * 5e1)\n",
    "    rigidity_2 = 1e11 + 1e10 * pyro.sample(\"rigidity_2\", rigidity_dist_2)\n",
    "    \n",
    "    x[14] = (rigidity_1 - df_params[\"rigidity_mu\"][0]) / df_params[\"rigidity_sigma\"][0]\n",
    "    x[15] = (rigidity_1 - df_params[\"rigidity_mu\"][0]) / df_params[\"rigidity_sigma\"][0]\n",
    "\n",
    "    hlove = ffnn(x).detach().numpy()\n",
    "    nlove = len(hlove)\n",
    "    \n",
    "    # Draw Greens Function\n",
    "    gf = pyro.deterministic(\"gf\", torch.tensor(greens_function(hlove, nlove, [68.704665, -33.214577], [68.58700000, -33.05270000], arsurf=80e3 * 80e3)))\n",
    "  \n",
    "    # Draw target\n",
    "    with pyro.plate(\"data\"):\n",
    "        w = pyro.sample(\"w\", dist.Normal(5e3 * gf * X[:, 0], sigma_w), obs=obs)  # 1e5 is a scaling constant\n",
    "    \n",
    "    return w"
   ]
  },
  {
   "cell_type": "code",
   "execution_count": 40,
   "metadata": {},
   "outputs": [
    {
     "name": "stderr",
     "output_type": "stream",
     "text": [
      "Warmup:   0%|          | 0/110 [21:27, ?it/s].81it/s, step size=1.14e-01, acc. prob=0.898]\n",
      "Warmup:   0%|          | 0/110 [22:09, ?it/s]\n",
      "Warmup:   0%|          | 0/110 [20:58, ?it/s]\n",
      "Warmup:   0%|          | 0/110 [19:48, ?it/s]\n",
      "Warmup:   0%|          | 0/110 [18:37, ?it/s]\n",
      "Warmup:   0%|          | 0/110 [17:54, ?it/s]\n",
      "Sample: 100%|██████████| 1100/1100 [02:21,  7.75it/s, step size=1.14e-01, acc. prob=0.899]\n"
     ]
    }
   ],
   "source": [
    "# import os\n",
    "# os.environ[\"OMP_NUM_THREADS\"] = '1'\n",
    "# Run inference in Pyro\n",
    "\n",
    "nuts_kernel = NUTS(model)\n",
    "mcmc = MCMC(nuts_kernel, num_samples=1000, warmup_steps=100, num_chains=1)\n",
    "mcmc.run(X_train, x, df_params, y_train, df_em)"
   ]
  },
  {
   "cell_type": "code",
   "execution_count": 41,
   "metadata": {},
   "outputs": [
    {
     "name": "stdout",
     "output_type": "stream",
     "text": [
      "\n",
      "                  mean       std    median      5.0%     95.0%     n_eff     r_hat\n",
      "  rigidity_1      2.04      0.42      2.01      1.32      2.65    979.90      1.00\n",
      "  rigidity_2      4.02      0.51      4.02      3.08      4.80   1485.23      1.00\n",
      "    sigma[0]  24502.69  34816.09  16079.11   5305.58  44973.13    363.35      1.00\n",
      "    sigma[1]   8621.66   7664.99   6344.73   2228.89  15876.31    577.98      1.00\n",
      "    sigma[2]   1906.22   2397.61   1324.91    428.31   3109.68    355.15      1.00\n",
      "    sigma[3]   6527.42  12794.45   4024.84   1230.71  10930.15    450.57      1.00\n",
      "    sigma[4]   3222.00   3472.11   2227.34    739.17   6207.53    704.35      1.00\n",
      "    sigma[5]   4505.05   3892.90   3316.69   1192.84   8061.38    627.13      1.00\n",
      "    sigma[6]   2219.17   2363.63   1553.13    520.11   3882.93    459.43      1.01\n",
      "    sigma[7]   7995.78   9431.43   5468.99   1813.46  13619.76    235.65      1.00\n",
      "    sigma[8]     69.33     68.78     48.64     17.95    126.71    320.96      1.00\n",
      "    sigma[9]   7008.23   7230.64   4841.36   1485.50  13288.26    510.07      1.00\n",
      "   sigma[10]  14589.02  15878.02   9822.12   3210.24  28222.05    467.37      1.00\n",
      "   sigma[11]   2370.00   2742.29   1650.65    558.11   4119.11    652.77      1.00\n",
      "   sigma[12]  17436.62  24010.01  11205.32   3744.60  32630.87    378.57      1.00\n",
      "   sigma[13]    978.65   1672.64    606.42    202.92   1598.96    278.59      1.00\n",
      "   sigma[14]    510.19    573.44    357.24    135.92    959.70    567.64      1.00\n",
      "   sigma[15]   5247.70   5609.07   3632.77   1086.61   9599.33    437.47      1.00\n",
      "   sigma[16]  10847.09  17781.39   6875.88   2255.39  18530.11    334.65      1.00\n",
      "   sigma[17]  10210.66  12155.93   7235.38   2796.39  18987.02    544.16      1.00\n",
      "   sigma[18]  12986.00  12731.83   9164.62   3807.24  22682.23    352.82      1.00\n",
      "   sigma[19]  14078.14  25625.42   9402.90   3165.04  25376.67    387.79      1.00\n",
      "   sigma[20]    180.95    249.55    122.45     44.93    319.66    279.58      1.00\n",
      "   sigma[21]   3229.04   4576.04   2115.23    699.51   5513.15    524.14      1.00\n",
      "   sigma[22]  17715.49  34716.61  11241.44   3965.92  30805.05    654.15      1.00\n",
      "   sigma[23]  18359.29  20896.65  13252.51   4805.89  29351.92    620.96      1.00\n",
      "   sigma[24]   6396.50   6935.72   4475.18   1470.00  12062.18    498.15      1.00\n",
      "   sigma[25]   1643.15   1386.65   1202.97    424.94   2977.21    673.23      1.00\n",
      "   sigma[26]   3497.07   4361.51   2318.73    787.60   6539.17    480.03      1.00\n",
      "   sigma[27]   2196.06   3893.57   1484.92    581.12   3752.96    375.56      1.00\n",
      "   sigma[28]   1665.07   1720.28   1188.15    421.90   2912.19    454.81      1.00\n",
      "   sigma[29]   2061.00   3648.31   1379.53    471.40   3290.25    408.45      1.00\n",
      "   sigma[30]   2452.54   2613.26   1673.52    546.84   4608.73    254.57      1.00\n",
      "   sigma[31]    681.76    581.12    499.14    169.55   1297.38    727.54      1.00\n",
      "   sigma[32]   2058.56   2313.30   1519.29    549.05   3591.79    449.47      1.00\n",
      "   sigma[33]  12294.40  16487.28   9048.67   3112.16  21679.60    818.94      1.00\n",
      "   sigma[34]  12192.48  12639.10   8419.02   2808.72  23891.22    383.31      1.01\n",
      "   sigma[35]  15631.21  17097.28  11373.04   4121.27  27286.27    408.35      1.01\n",
      "   sigma[36]  29107.56  27646.77  21185.82   7564.76  55446.24    382.35      1.00\n",
      "   sigma[37]   9191.13  14781.13   5708.49   2018.24  16315.30    314.33      1.00\n",
      "   sigma[38]   2624.18   3490.37   1740.51    663.74   4698.10    486.37      1.01\n",
      "   sigma[39]     69.31     67.26     50.04     18.61    123.07    522.04      1.00\n",
      "   sigma[40]    537.55    518.49    387.45    127.15    955.01    493.00      1.00\n",
      "   sigma[41]    462.26    922.55    295.86    113.66    786.24    244.24      1.00\n",
      "   sigma[42]    990.83   4342.60    545.05    167.19   1438.75    411.37      1.00\n",
      "   sigma[43]   1209.65   1276.71    856.55    281.57   2213.69    351.90      1.00\n",
      "   sigma[44]  20394.13  18712.52  14563.51   4568.39  38114.44    500.87      1.01\n",
      "   sigma[45]  14766.50  16586.11   9974.40   3224.48  26516.04    504.95      1.00\n",
      "   sigma[46]  12073.68  12875.54   8491.55   2815.54  22098.97    414.28      1.00\n",
      "   sigma[47]  12980.70  30364.00   7910.37   2563.50  21347.20    551.45      1.00\n",
      "   sigma[48]    805.98    996.26    551.95    203.85   1330.64    219.35      1.02\n",
      "   sigma[49]  24482.62  20960.30  17960.02   6691.17  44946.50    628.06      1.00\n",
      "   sigma[50]  12008.18  11277.02   8716.12   3383.70  22367.29    415.27      1.00\n",
      "   sigma[51]   3894.48   3435.61   2741.91   1013.76   7745.77    418.19      1.01\n",
      "   sigma[52]   3557.05   3698.89   2462.36    897.77   6528.10    383.56      1.00\n",
      "   sigma[53]   4951.27   5713.21   3586.14   1245.52   8639.37    256.97      1.00\n",
      "   sigma[54]   3710.63   3409.14   2669.98   1103.52   7234.72    450.32      1.00\n",
      "   sigma[55]   4318.22   6607.13   2751.49   1029.32   7979.12    397.12      1.00\n",
      "   sigma[56]  14321.32  15476.08  10598.04   4016.94  24068.75    531.46      1.00\n",
      "   sigma[57]  20189.72  22898.97  13930.67   4273.09  36859.50    564.60      1.00\n",
      "   sigma[58]   8740.26  10781.38   6357.80   2229.52  15304.23    535.14      1.00\n",
      "   sigma[59]  10221.03  12091.66   7263.72   2433.36  17537.85    461.66      1.00\n",
      "   sigma[60]  32736.88  31893.19  24064.12   8970.04  59213.96    502.45      1.00\n",
      "   sigma[61]  15934.78  12826.93  12160.18   4498.88  29032.65    745.80      1.00\n",
      "   sigma[62]    714.40   1201.31    481.11    171.49   1164.11    453.25      1.00\n",
      "   sigma[63]   2011.80   4304.60   1140.14    417.07   3174.74    207.90      1.01\n",
      "   sigma[64]   4644.01  11010.02   2782.58    841.47   7806.17    298.28      1.01\n",
      "   sigma[65]   1253.98   1071.00    942.46    349.46   2262.27    528.59      1.00\n",
      "   sigma[66]   5213.44   6358.51   3571.04   1140.23   9379.29    459.96      1.00\n",
      "   sigma[67]   2436.16   2235.31   1745.25    659.59   4401.50    627.84      1.00\n",
      "   sigma[68]   5015.19   4589.40   3696.79   1320.65   8878.30    442.67      1.00\n",
      "   sigma[69]  11682.25  13314.93   8015.05   2497.82  21641.38    739.37      1.00\n",
      "   sigma[70]  18441.93  24061.52  12233.41   3748.56  35060.50    390.09      1.01\n",
      "   sigma[71]  12673.37  13848.02   8837.43   3297.64  23189.98    586.62      1.00\n",
      "   sigma[72]   2831.35   2927.42   1983.57    636.87   4997.38    622.09      1.00\n",
      "   sigma[73]   6776.82  15081.36   4621.54   1436.71  11402.87    844.50      1.00\n",
      "   sigma[74]  18550.48  37202.70  10571.91   3143.57  29251.71    186.60      1.00\n",
      "   sigma[75]    548.57    680.37    373.63    147.91    968.53    836.24      1.00\n",
      "   sigma[76]   8344.42  11276.00   5656.83   2022.58  14392.42    522.26      1.00\n",
      "   sigma[77]  11650.50  15298.29   7624.70   2577.64  20568.94    430.57      1.00\n",
      "   sigma[78]  10723.38  16401.36   6598.75   2025.51  19587.36    347.56      1.00\n",
      "   sigma[79]   9433.11  11645.53   6287.22   1999.86  18123.18    538.86      1.00\n",
      "   sigma[80]  12612.80  42702.83   7495.86   2586.04  20867.57    423.30      1.00\n",
      "   sigma[81]  16719.14  18440.72  11781.81   4135.35  29759.57    782.71      1.00\n",
      "   sigma[82]  28114.08  60327.76  16637.17   5727.64  43555.54    257.07      1.00\n",
      "   sigma[83]  22881.77  31265.57  15382.57   5414.71  39297.21    454.46      1.01\n",
      "   sigma[84]  32097.34  60855.68  21443.71   6770.13  56180.77    804.91      1.00\n",
      "   sigma[85]  19322.27  18470.64  13557.93   4180.90  36306.67    577.60      1.00\n",
      "   sigma[86]   2906.37   3794.91   1959.73    635.85   5312.63    386.21      1.00\n",
      "   sigma[87]   5675.80  10277.96   3795.59   1345.90   9231.45    418.82      1.00\n",
      "   sigma[88]  10009.95  11885.86   6944.05   2399.38  17464.31    461.79      1.00\n",
      "   sigma[89]  12450.49  25863.30   7567.02   2519.10  21854.45    438.63      1.00\n",
      "   sigma[90]   9509.47   9935.16   6766.57   2139.44  17460.21    518.73      1.00\n",
      "   sigma[91]  11792.37  13018.13   8055.71   2671.38  21884.25    447.71      1.00\n",
      "   sigma[92]   4925.81   6201.54   3284.27   1093.63   8607.21    376.15      1.00\n",
      "   sigma[93]  12484.47  11699.87   9168.07   3471.28  22859.93    534.86      1.00\n",
      "   sigma[94]  15202.25  52506.25   7685.55   2431.62  22008.32    265.88      1.01\n",
      "   sigma[95]   5165.39   5326.93   3684.92   1386.19   9587.67    654.66      1.00\n",
      "   sigma[96]   5273.83   4760.87   3693.63   1221.47   9914.04    496.28      1.00\n",
      "   sigma[97]  15371.82  22978.51  10153.67   3088.53  25737.01    484.74      1.00\n",
      "   sigma[98]   3084.35   3268.17   2287.89    934.37   5094.03    592.39      1.00\n",
      "   sigma[99]   8146.96   8503.65   5897.59   2163.97  14231.26    374.04      1.00\n",
      "  sigma[100]  13255.68  20038.37   8622.35   2748.10  23578.34    439.79      1.00\n",
      "  sigma[101]  12472.30  13048.50   9017.96   3053.81  21913.64    459.02      1.00\n",
      "  sigma[102]  16149.44  27930.75  10798.29   3738.00  26398.23    598.36      1.00\n",
      "  sigma[103]  40138.78  40960.50  27420.69   9745.31  75992.87    364.66      1.00\n",
      "  sigma[104]  46418.86  52359.35  32709.04  11735.61  87380.55    614.36      1.00\n",
      "  sigma[105]  22067.32  24655.02  14835.08   5048.51  41187.96    616.17      1.00\n",
      "  sigma[106]   5382.56   4622.80   3996.67   1413.23  10390.90    466.37      1.01\n",
      "  sigma[107]   2927.56   2876.88   2066.75    753.06   5303.50    578.99      1.00\n",
      "  sigma[108]  14808.70  19709.09   9702.09   3168.58  28327.97    493.29      1.00\n",
      "  sigma[109]   1606.74   1561.64   1124.25    416.05   3152.03    646.36      1.00\n",
      "  sigma[110]   7169.22   6117.62   5365.06   1927.19  12748.57    547.54      1.00\n",
      "  sigma[111]   8760.86  13046.10   5526.90   1985.63  14487.58    176.59      1.00\n",
      "  sigma[112]   9813.92  12409.33   6822.02   2628.49  16835.34    532.44      1.00\n",
      "  sigma[113]  14101.18  19364.12   9242.87   3249.36  22849.38    364.96      1.00\n",
      "  sigma[114]  14918.60  18231.92  10241.89   3610.11  26260.70    591.94      1.00\n",
      "  sigma[115]   1716.72   1944.39   1151.84    395.88   3190.42    453.42      1.00\n",
      "  sigma[116]  31549.86  73050.68  18320.01   5858.92  55660.80    330.14      1.00\n",
      "  sigma[117]  20078.50  35010.11  12458.97   4150.47  33161.30    411.39      1.00\n",
      "  sigma[118]   9441.01   8815.10   6578.98   2449.13  17962.98    566.29      1.00\n",
      "  sigma[119]   8074.11  10614.86   5561.75   1956.76  14129.25    576.50      1.00\n",
      "  sigma[120]   5651.37   6109.16   4209.00   1759.00  10339.62    531.43      1.00\n",
      "  sigma[121]   6280.25   8943.06   4554.33   1582.70  10818.69    696.40      1.00\n",
      "  sigma[122]   4856.05   4263.97   3574.84   1223.44   8823.25    586.67      1.00\n",
      "  sigma[123]   3343.38   3752.50   2196.87    782.26   6512.87    392.48      1.00\n",
      "  sigma[124]   3239.96   5401.66   1965.49    662.95   5667.30    454.76      1.00\n",
      "  sigma[125]   2003.65   2544.17   1427.46    538.22   3369.29    388.00      1.00\n",
      "\n",
      "Number of divergences: 0\n"
     ]
    }
   ],
   "source": [
    "# Show summary of inference results\n",
    "mcmc.summary() # exclude_deterministic=False"
   ]
  },
  {
   "cell_type": "code",
   "execution_count": 42,
   "metadata": {},
   "outputs": [
    {
     "data": {
      "image/png": "[encoded data removed]",
      "text/plain": [
       "<Figure size 288x216 with 1 Axes>"
      ]
     },
     "metadata": {
      "needs_background": "light"
     },
     "output_type": "display_data"
    },
    {
     "data": {
      "image/png": "[encoded data removed]",
      "text/plain": [
       "<Figure size 288x216 with 1 Axes>"
      ]
     },
     "metadata": {
      "needs_background": "light"
     },
     "output_type": "display_data"
    }
   ],
   "source": [
    "samples = {k: v for k, v in mcmc.get_samples().items()}\n",
    "nodes = [\"rigidity_1\", \"rigidity_2\"]\n",
    "\n",
    "rigidity_dist_prior = dist.Normal(2 * torch.ones(300), 0.2)\n",
    "rigidity_prior = 1e10 + 1e10 * pyro.sample(\"rigidity_prior\", rigidity_dist_prior)\n",
    "\n",
    "for node in nodes:\n",
    "    plt.figure(figsize=(4,3))\n",
    "    sns.histplot(1e10 + 1e10 * samples[node], label=node, kde=True, stat='density', element=\"step\", color=\"red\")\n",
    "    sns.histplot(rigidity_prior, label=\"prior\", kde=True, stat='density', element=\"step\", alpha=0.4)\n",
    "    plt.legend()\n",
    "    plt.show()"
   ]
  },
  {
   "cell_type": "code",
   "execution_count": null,
   "metadata": {},
   "outputs": [
    {
     "data": {
      "text/html": [
       "<div>\n",
       "<style scoped>\n",
       "    .dataframe tbody tr th:only-of-type {\n",
       "        vertical-align: middle;\n",
       "    }\n",
       "\n",
       "    .dataframe tbody tr th {\n",
       "        vertical-align: top;\n",
       "    }\n",
       "\n",
       "    .dataframe thead th {\n",
       "        text-align: right;\n",
       "    }\n",
       "</style>\n",
       "<table border=\"1\" class=\"dataframe\">\n",
       "  <thead>\n",
       "    <tr style=\"text-align: right;\">\n",
       "      <th></th>\n",
       "      <th>Nr</th>\n",
       "      <th>radius</th>\n",
       "      <th>density</th>\n",
       "      <th>rigidity</th>\n",
       "      <th>bulk</th>\n",
       "      <th>viscosity</th>\n",
       "    </tr>\n",
       "  </thead>\n",
       "  <tbody>\n",
       "    <tr>\n",
       "      <th>0</th>\n",
       "      <td>1.0</td>\n",
       "      <td>6371000.0</td>\n",
       "      <td>3037.0</td>\n",
       "      <td>1.388549e+11</td>\n",
       "      <td>5.743700e+10</td>\n",
       "      <td>1.000000e+55</td>\n",
       "    </tr>\n",
       "    <tr>\n",
       "      <th>1</th>\n",
       "      <td>2.0</td>\n",
       "      <td>6301000.0</td>\n",
       "      <td>3438.0</td>\n",
       "      <td>1.532514e+11</td>\n",
       "      <td>9.963300e+10</td>\n",
       "      <td>1.000000e+21</td>\n",
       "    </tr>\n",
       "    <tr>\n",
       "      <th>2</th>\n",
       "      <td>3.0</td>\n",
       "      <td>5951000.0</td>\n",
       "      <td>3871.0</td>\n",
       "      <td>1.054900e+11</td>\n",
       "      <td>1.535200e+11</td>\n",
       "      <td>1.000000e+21</td>\n",
       "    </tr>\n",
       "    <tr>\n",
       "      <th>3</th>\n",
       "      <td>4.0</td>\n",
       "      <td>5701000.0</td>\n",
       "      <td>4978.0</td>\n",
       "      <td>2.283400e+11</td>\n",
       "      <td>3.221000e+11</td>\n",
       "      <td>2.000000e+21</td>\n",
       "    </tr>\n",
       "    <tr>\n",
       "      <th>4</th>\n",
       "      <td>5.0</td>\n",
       "      <td>3480000.0</td>\n",
       "      <td>10750.0</td>\n",
       "      <td>0.000000e+00</td>\n",
       "      <td>1.101800e+12</td>\n",
       "      <td>0.000000e+00</td>\n",
       "    </tr>\n",
       "  </tbody>\n",
       "</table>\n",
       "</div>"
      ],
      "text/plain": [
       "    Nr     radius  density      rigidity          bulk     viscosity\n",
       "0  1.0  6371000.0   3037.0  1.388549e+11  5.743700e+10  1.000000e+55\n",
       "1  2.0  6301000.0   3438.0  1.532514e+11  9.963300e+10  1.000000e+21\n",
       "2  3.0  5951000.0   3871.0  1.054900e+11  1.535200e+11  1.000000e+21\n",
       "3  4.0  5701000.0   4978.0  2.283400e+11  3.221000e+11  2.000000e+21\n",
       "4  5.0  3480000.0  10750.0  0.000000e+00  1.101800e+12  0.000000e+00"
      ]
     },
     "execution_count": 12,
     "metadata": {},
     "output_type": "execute_result"
    }
   ],
   "source": [
    "df_em"
   ]
  },
  {
   "cell_type": "code",
   "execution_count": 96,
   "metadata": {},
   "outputs": [
    {
     "data": {
      "text/plain": [
       "dict_keys(['rigidity_1', 'rigidity_2', 'sigma'])"
      ]
     },
     "execution_count": 96,
     "metadata": {},
     "output_type": "execute_result"
    }
   ],
   "source": [
    "# saves the model and optimizer states to disk\n",
    "def save_checkpoint(model):\n",
    "    log(\"saving model to %s...\" % args.save_model)\n",
    "    torch.save(dmm.state_dict(), args.save_model)\n",
    "    log(\"saving optimizer states to %s...\" % args.save_opt)\n",
    "    optimizer.save(args.save_opt)\n",
    "    log(\"done saving model and optimizer checkpoints to disk.\")\n",
    "\n",
    "# loads the model and optimizer states from disk\n",
    "def load_checkpoint():\n",
    "    assert exists(args.load_opt) and exists(args.load_model), \\\n",
    "        \"--load-model and/or --load-opt misspecified\"\n",
    "    log(\"loading model from %s...\" % args.load_model)\n",
    "    dmm.load_state_dict(torch.load(args.load_model))\n",
    "    log(\"loading optimizer states from %s...\" % args.load_opt)\n",
    "    optimizer.load(args.load_opt)\n",
    "    log(\"done loading model and optimizer states.\")"
   ]
  },
  {
   "cell_type": "code",
   "execution_count": 26,
   "metadata": {},
   "outputs": [],
   "source": [
    "N = len(height)\n",
    "X = np.arange(N)\n",
    "\n"
   ]
  },
  {
   "cell_type": "code",
   "execution_count": 27,
   "metadata": {},
   "outputs": [],
   "source": [
    "rig_list = mcmc.get_samples()[\"rigidity_1\"].detach().numpy()\n",
    "gf_list = []\n",
    "for rig in rig_list:\n",
    "    df_em[\"rigidity\"][0] = rig * 1e10\n",
    "    hlove, nlove = compute_love_numbers(df_em=df_em, CONF=None, verbose=0)\n",
    "    gf_list.append(greens_function(hlove, nlove, [68.704665, -33.214577], [68.58700000, -33.05270000]))"
   ]
  },
  {
   "cell_type": "code",
   "execution_count": 28,
   "metadata": {},
   "outputs": [],
   "source": [
    "gf_arr = np.mean(np.array(gf_list))\n",
    "alpha_hat = np.mean(mcmc.get_samples()[\"alpha\"].detach().numpy())\n",
    "beta_hat = np.mean(mcmc.get_samples()[\"beta\"].detach().numpy())\n",
    "y_hat = alpha_hat + X * beta_hat + gf_arr * height"
   ]
  },
  {
   "cell_type": "code",
   "execution_count": 32,
   "metadata": {},
   "outputs": [
    {
     "data": {
      "text/plain": [
       "2.438294287008171e-07"
      ]
     },
     "execution_count": 32,
     "metadata": {},
     "output_type": "execute_result"
    }
   ],
   "source": [
    "np.mean(np.array(gf_list))"
   ]
  },
  {
   "cell_type": "code",
   "execution_count": 33,
   "metadata": {},
   "outputs": [
    {
     "data": {
      "text/plain": [
       "[<matplotlib.lines.Line2D at 0x7f12c405c5b0>]"
      ]
     },
     "execution_count": 33,
     "metadata": {},
     "output_type": "execute_result"
    },
    {
     "data": {
      "image/png": "[encoded data removed]",
      "text/plain": [
       "<Figure size 432x288 with 1 Axes>"
      ]
     },
     "metadata": {
      "needs_background": "light"
     },
     "output_type": "display_data"
    }
   ],
   "source": [
    "plt.plot(y_hat)\n",
    "plt.plot(uplift)\n"
   ]
  },
  {
   "cell_type": "code",
   "execution_count": 48,
   "metadata": {},
   "outputs": [
    {
     "data": {
      "text/plain": [
       "[<matplotlib.lines.Line2D at 0x7f12b836ad90>]"
      ]
     },
     "execution_count": 48,
     "metadata": {},
     "output_type": "execute_result"
    },
    {
     "data": {
      "image/png": "[encoded data removed]",
      "text/plain": [
       "<Figure size 432x288 with 1 Axes>"
      ]
     },
     "metadata": {
      "needs_background": "light"
     },
     "output_type": "display_data"
    }
   ],
   "source": [
    "plt.plot((uplift - y_hat))\n",
    "plt.plot(-0.02 * height + tid * A)"
   ]
  },
  {
   "cell_type": "code",
   "execution_count": 40,
   "metadata": {},
   "outputs": [
    {
     "data": {
      "text/plain": [
       "[<matplotlib.lines.Line2D at 0x7f12b86b70d0>]"
      ]
     },
     "execution_count": 40,
     "metadata": {},
     "output_type": "execute_result"
    },
    {
     "data": {
      "image/png": "[encoded data removed]",
      "text/plain": [
       "<Figure size 432x288 with 1 Axes>"
      ]
     },
     "metadata": {
      "needs_background": "light"
     },
     "output_type": "display_data"
    }
   ],
   "source": []
  },
  {
   "cell_type": "code",
   "execution_count": 49,
   "metadata": {},
   "outputs": [
    {
     "data": {
      "text/plain": [
       "[<matplotlib.lines.Line2D at 0x7f12b85195b0>]"
      ]
     },
     "execution_count": 49,
     "metadata": {},
     "output_type": "execute_result"
    },
    {
     "data": {
      "image/png": "[encoded data removed]",
      "text/plain": [
       "<Figure size 432x288 with 1 Axes>"
      ]
     },
     "metadata": {
      "needs_background": "light"
     },
     "output_type": "display_data"
    }
   ],
   "source": [
    "plt.plot(mcmc.get_samples()[\"alpha\"].detach().numpy())"
   ]
  },
  {
   "cell_type": "code",
   "execution_count": null,
   "metadata": {},
   "outputs": [],
   "source": []
  },
  {
   "cell_type": "code",
   "execution_count": null,
   "metadata": {},
   "outputs": [],
   "source": [
    "def model(X, obs=None, df_em=None):\n",
    "    N = len(X)\n",
    "    t = torch.linspace(0, 1, N)\n",
    "\n",
    "    sigma_w = pyro.sample(\"sigma\", dist.HalfCauchy(1.2 * torch.ones(N)))\n",
    "    \n",
    "    # rigidity layer 1\n",
    "    loc, scale = 2, 0.5\n",
    "    rigidity_dist_1 = IntervalFoldedDistribution(dist.Normal(torch.ones(2) * loc, scale), lower=loc * 1e-2, upper=loc * 5e1)\n",
    "    rigidity_1 = 1e11 + 1e10 * pyro.sample(\"rigidity_1\", rigidity_dist_1)\n",
    "\n",
    "    # rigidity layer 2\n",
    "    # loc, scale = 4, 0.5\n",
    "    # rigidity_dist_2 = IntervalFoldedDistribution(dist.Normal(loc, scale), lower=loc * 1e-2, upper=loc * 5e1)\n",
    "    # rigidity_2 = 1e11 + 1e10 * pyro.sample(\"rigidity_2\", rigidity_dist_2)\n",
    "    \n",
    "    # dictionary = {\"sample\": sample1}\n",
    "    df_em[\"rigidity\"][0] = rigidity_1[0].item()\n",
    "    df_em[\"rigidity\"][1] = rigidity_1[1].item()\n",
    "\n",
    "    # Draw Love Numbers\n",
    "    hlove, nlove = compute_love_numbers(df_em=df_em, CONF=None, verbose=0)\n",
    "    \n",
    "    # Draw Greens Function\n",
    "    gf = pyro.deterministic(\"gf\", torch.tensor(greens_function(hlove, nlove, [68.704665, -33.214577], [68.58700000, -33.05270000], arsurf=80e3 * 80e3)))\n",
    "  \n",
    "    # Draw target\n",
    "    with pyro.plate(\"data\"):\n",
    "        w = pyro.sample(\"w\", dist.Normal(5e3 * gf * X[:, 0], sigma_w), obs=obs)  # 1e5 is a scaling constant\n",
    "    \n",
    "    return w"
   ]
  },
  {
   "cell_type": "markdown",
   "metadata": {},
   "source": [
    "## Different things from earlier work"
   ]
  },
  {
   "cell_type": "code",
   "execution_count": null,
   "metadata": {},
   "outputs": [],
   "source": [
    "dont run the next cells"
   ]
  },
  {
   "cell_type": "code",
   "execution_count": null,
   "metadata": {},
   "outputs": [],
   "source": [
    "class TruncatedNormal(dist.Rejector):\n",
    "    def __init__(self, loc, scale_0, max_x0):\n",
    "        propose = dist.Normal(loc, scale_0)\n",
    "\n",
    "        def log_prob_accept(x):\n",
    "            return (x[0] < max_x0).type_as(x).log()\n",
    "\n",
    "        log_scale = torch.tensor(dist.LogNormal(loc, scale_0).cdf(max_x0)).log()\n",
    "        super(TruncatedLogNormal, self).__init__(propose, log_prob_accept, log_scale)"
   ]
  },
  {
   "cell_type": "code",
   "execution_count": null,
   "metadata": {},
   "outputs": [],
   "source": [
    "## TODO: For guide support, see: https://forum.pyro.ai/t/truncated-log-normal-distribution/2002\n",
    "# from torch.distributions import constraints\n",
    "\n",
    "# class TruncatedLogNormal(dist.Rejector):\n",
    "#     ...\n",
    "#     @constraints.dependent_property\n",
    "#     def support(self):\n",
    "#         return constraints.interval(0, self.max_x0)"
   ]
  },
  {
   "cell_type": "code",
   "execution_count": null,
   "metadata": {},
   "outputs": [
    {
     "data": {
      "image/png": "[encoded data removed]",
      "text/plain": [
       "<Figure size 432x288 with 1 Axes>"
      ]
     },
     "metadata": {},
     "output_type": "display_data"
    }
   ],
   "source": [
    "diste = IntervalFoldedDistribution(dist.Normal(1e10*torch.ones(10000), 1e9), lower=1e8, upper=1e12)\n",
    "plt.hist(np.array(pyro.sample(\"test\", diste)));"
   ]
  },
  {
   "cell_type": "code",
   "execution_count": null,
   "metadata": {},
   "outputs": [
    {
     "data": {
      "text/plain": [
       "tensor(0.)"
      ]
     },
     "metadata": {},
     "output_type": "display_data"
    },
    {
     "data": {
      "image/png": "[encoded data removed]",
      "text/plain": [
       "<Figure size 432x288 with 1 Axes>"
      ]
     },
     "metadata": {},
     "output_type": "display_data"
    }
   ],
   "source": [
    "samples = 1e10 * pyro.sample(\"test\", dist.Normal(torch.ones(10000), 0.1))\n",
    "plt.hist(np.array(samples));\n",
    "samples[samples < 1e8].sum()"
   ]
  },
  {
   "cell_type": "code",
   "execution_count": null,
   "metadata": {},
   "outputs": [
    {
     "name": "stderr",
     "output_type": "stream",
     "text": [
      "sample: 100%|██████████| 11000/11000 [00:14<00:00, 774.53it/s, 3 steps of size 1.26e+00. acc. prob=0.89]\n"
     ]
    },
    {
     "name": "stdout",
     "output_type": "stream",
     "text": [
      "-3806359800.0 -24906074.0 4083562800.0\n"
     ]
    }
   ],
   "source": [
    "import numpyro\n",
    "import numpyro.distributions as np_dist\n",
    "from numpyro.infer import MCMC, NUTS\n",
    "\n",
    "def model():\n",
    "\n",
    "    # sample1 = numpyro.sample(\"rigidity1\", bounded_rig1)\n",
    "    rigidity_unscaled = numpyro.sample(\"rigidity_unscaled\", np_dist.Normal(0, 1))\n",
    "    \n",
    "    rigidity_scaled = numpyro.deterministic(\"rigidity_scaled\", 1e10 + 1e9 * rigidity_unscaled)\n",
    "    # rigidity_scaled = numpyro.sample(\"rigidity_scaled\", np_dist.Uniform(1e9, 1e11))\n",
    "\n",
    "    \n",
    "rng_key = random.PRNGKey(0)\n",
    "rng_key, rng_key_ = random.split(rng_key)\n",
    "\n",
    "# Run NUTS.\n",
    "kernel = NUTS(model)\n",
    "num_samples = 10000\n",
    "mcmc = MCMC(kernel, num_warmup=1000, num_samples=num_samples)\n",
    "mcmc.run(rng_key_)\n",
    "\n",
    "print(mcmc.get_samples()[\"rigidity_scaled\"].min() , mcmc.get_samples()[\"rigidity_scaled\"].mean(), mcmc.get_samples()[\"rigidity_scaled\"].max())"
   ]
  },
  {
   "cell_type": "code",
   "execution_count": null,
   "metadata": {},
   "outputs": [
    {
     "data": {
      "text/plain": [
       "[<matplotlib.lines.Line2D at 0x7f7ddc22d700>]"
      ]
     },
     "metadata": {},
     "output_type": "display_data"
    },
    {
     "data": {
      "image/png": "[encoded data removed]",
      "text/plain": [
       "<Figure size 432x288 with 1 Axes>"
      ]
     },
     "metadata": {},
     "output_type": "display_data"
    }
   ],
   "source": [
    "samples = mcmc.get_samples()[\"rigidity_scaled\"].to_py()\n",
    "plt.plot(np.diff(samples))\n",
    "plt.plot(samples)"
   ]
  },
  {
   "cell_type": "code",
   "execution_count": null,
   "metadata": {},
   "outputs": [
    {
     "name": "stderr",
     "output_type": "stream",
     "text": [
      "Sample: 100%|██████████| 1001/1001 [12:24,  1.34it/s, step size=1.16e-10, acc. prob=1.000]"
     ]
    },
    {
     "name": "stdout",
     "output_type": "stream",
     "text": [
      "tensor(0.8238) tensor(0.9997) tensor(1.)\n"
     ]
    },
    {
     "name": "stderr",
     "output_type": "stream",
     "text": [
      "\n"
     ]
    }
   ],
   "source": [
    "import pyro\n",
    "import pyro.distributions as dist\n",
    "from pyro.infer import MCMC, NUTS\n",
    "\n",
    "def model(height, obs=None, df_em=None):\n",
    "    sample1 = pyro.sample(\"rigidity1\", dist.Normal(1, 1e-1))\n",
    "\n",
    "# Run inference in Pyro\n",
    "nuts_kernel = NUTS(model)\n",
    "mcmc = MCMC(nuts_kernel, num_samples=1000, warmup_steps=1, num_chains=1)\n",
    "mcmc.run(X_train, y_train, df_em)\n",
    "\n",
    "print(mcmc.get_samples()[\"rigidity1\"].min() , mcmc.get_samples()[\"rigidity1\"].mean(), mcmc.get_samples()[\"rigidity1\"].max())"
   ]
  }
 ],
 "metadata": {
  "interpreter": {
   "hash": "218e925926151051a9076ee8829e942c4c8d45d6b696e1d2dab005a43eea83c4"
  },
  "kernelspec": {
   "display_name": "Python 3.9.12 ('premis')",
   "language": "python",
   "name": "python3"
  },
  "language_info": {
   "codemirror_mode": {
    "name": "ipython",
    "version": 3
   },
   "file_extension": ".py",
   "mimetype": "text/x-python",
   "name": "python",
   "nbconvert_exporter": "python",
   "pygments_lexer": "ipython3",
   "version": "3.9.12"
  },
  "orig_nbformat": 4
 },
 "nbformat": 4,
 "nbformat_minor": 2
}
