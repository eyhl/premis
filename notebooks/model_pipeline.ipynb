{
 "cells": [
  {
   "cell_type": "code",
   "execution_count": 1,
   "metadata": {},
   "outputs": [
    {
     "name": "stdout",
     "output_type": "stream",
     "text": [
      "/data/eigil/work/premis\n"
     ]
    }
   ],
   "source": [
    "import matplotlib.pyplot as plt\n",
    "import seaborn as sns\n",
    "import numpy as np\n",
    "import pandas as pd\n",
    "import torch\n",
    "import pyro.distributions as dist\n",
    "from pyro.infer import MCMC, NUTS, Predictive\n",
    "import pyro\n",
    "\n",
    "from src.data.preprocessing import detrend, ffnn_input_vector\n",
    "from src.models.paths import PROJECT_ROOT\n",
    "from src.models.solid_earth_utils import greens_function, FFNN\n",
    "from src.data.data_loader import load_uplift\n",
    "from src.models.paths import PROJECT_ROOT\n",
    "from src.models.pyro_custom import IntervalFoldedDistribution\n",
    "\n",
    "print(PROJECT_ROOT)\n",
    "pyro.set_rng_seed(42)\n",
    "%load_ext autoreload\n",
    "%autoreload 2"
   ]
  },
  {
   "cell_type": "code",
   "execution_count": 2,
   "metadata": {},
   "outputs": [],
   "source": [
    "def compute_error(trues, predicted):\n",
    "    '''\n",
    "    From course material\n",
    "    '''\n",
    "    corr = np.corrcoef(predicted, trues)[0,1]\n",
    "    mae = np.mean(np.abs(predicted - trues))\n",
    "    rae = np.sum(np.abs(predicted - trues)) / np.sum(np.abs(trues - np.mean(trues)))\n",
    "    rmse = np.sqrt(np.mean((predicted - trues)**2))\n",
    "    return corr, mae, rae, rmse"
   ]
  },
  {
   "cell_type": "code",
   "execution_count": 38,
   "metadata": {},
   "outputs": [
    {
     "name": "stderr",
     "output_type": "stream",
     "text": [
      "/data/eigil/miniconda3/envs/premis/lib/python3.9/site-packages/scipy/io/matlab/_mio.py:226: MatReadWarning: Duplicate variable name \"None\" in stream - replacing previous with new\n",
      "Consider mio5.varmats_from_mat to split file into single variable files\n",
      "  matfile_dict = MR.get_variables(variable_names)\n"
     ]
    },
    {
     "data": {
      "text/html": [
       "<div>\n",
       "<style scoped>\n",
       "    .dataframe tbody tr th:only-of-type {\n",
       "        vertical-align: middle;\n",
       "    }\n",
       "\n",
       "    .dataframe tbody tr th {\n",
       "        vertical-align: top;\n",
       "    }\n",
       "\n",
       "    .dataframe thead th {\n",
       "        text-align: right;\n",
       "    }\n",
       "</style>\n",
       "<table border=\"1\" class=\"dataframe\">\n",
       "  <thead>\n",
       "    <tr style=\"text-align: right;\">\n",
       "      <th></th>\n",
       "      <th>Nr</th>\n",
       "      <th>radius</th>\n",
       "      <th>density</th>\n",
       "      <th>rigidity</th>\n",
       "      <th>bulk</th>\n",
       "      <th>viscosity</th>\n",
       "    </tr>\n",
       "  </thead>\n",
       "  <tbody>\n",
       "    <tr>\n",
       "      <th>0</th>\n",
       "      <td>1.0</td>\n",
       "      <td>6371000.0</td>\n",
       "      <td>3037.0</td>\n",
       "      <td>5.060500e+10</td>\n",
       "      <td>5.743700e+10</td>\n",
       "      <td>1.000000e+55</td>\n",
       "    </tr>\n",
       "    <tr>\n",
       "      <th>1</th>\n",
       "      <td>2.0</td>\n",
       "      <td>6341000.0</td>\n",
       "      <td>3230.0</td>\n",
       "      <td>5.060500e+10</td>\n",
       "      <td>5.743700e+10</td>\n",
       "      <td>1.000000e+21</td>\n",
       "    </tr>\n",
       "    <tr>\n",
       "      <th>2</th>\n",
       "      <td>3.0</td>\n",
       "      <td>6311000.0</td>\n",
       "      <td>3438.0</td>\n",
       "      <td>7.036300e+10</td>\n",
       "      <td>9.963300e+10</td>\n",
       "      <td>1.000000e+21</td>\n",
       "    </tr>\n",
       "    <tr>\n",
       "      <th>3</th>\n",
       "      <td>4.0</td>\n",
       "      <td>5951000.0</td>\n",
       "      <td>3871.0</td>\n",
       "      <td>1.054900e+11</td>\n",
       "      <td>1.535200e+11</td>\n",
       "      <td>1.000000e+21</td>\n",
       "    </tr>\n",
       "    <tr>\n",
       "      <th>4</th>\n",
       "      <td>5.0</td>\n",
       "      <td>5701000.0</td>\n",
       "      <td>4978.0</td>\n",
       "      <td>2.283400e+11</td>\n",
       "      <td>3.221000e+11</td>\n",
       "      <td>2.000000e+21</td>\n",
       "    </tr>\n",
       "    <tr>\n",
       "      <th>5</th>\n",
       "      <td>6.0</td>\n",
       "      <td>3480000.0</td>\n",
       "      <td>10750.0</td>\n",
       "      <td>0.000000e+00</td>\n",
       "      <td>1.101800e+12</td>\n",
       "      <td>0.000000e+00</td>\n",
       "    </tr>\n",
       "  </tbody>\n",
       "</table>\n",
       "</div>"
      ],
      "text/plain": [
       "    Nr     radius  density      rigidity          bulk     viscosity\n",
       "0  1.0  6371000.0   3037.0  5.060500e+10  5.743700e+10  1.000000e+55\n",
       "1  2.0  6341000.0   3230.0  5.060500e+10  5.743700e+10  1.000000e+21\n",
       "2  3.0  6311000.0   3438.0  7.036300e+10  9.963300e+10  1.000000e+21\n",
       "3  4.0  5951000.0   3871.0  1.054900e+11  1.535200e+11  1.000000e+21\n",
       "4  5.0  5701000.0   4978.0  2.283400e+11  3.221000e+11  2.000000e+21\n",
       "5  6.0  3480000.0  10750.0  0.000000e+00  1.101800e+12  0.000000e+00"
      ]
     },
     "execution_count": 38,
     "metadata": {},
     "output_type": "execute_result"
    }
   ],
   "source": [
    "Nr = np.arange(1, 7).tolist()\n",
    "radius = [6371e3, 6341e3, 6311e3, 5951e3, 5701e3, 3480e3]\n",
    "density = [3.037e3, 3.230e3, 3.438e3, 3.871e3, 4.978e3, 10.750e3]\n",
    "rigidity = [0.50605e11, 0.50605e11, 0.70363e11, 1.05490e11, 2.28340e11, 0.0000e11]\n",
    "bulk = [5.7437e10, 5.7437e10, 9.9633e10, 1.5352e11, 3.2210e11, 1.1018e12]\n",
    "viscosity = [1.0e55, 1.0e21, 1.0e21, 1.0e21, 2.0e21, 0.0e21]\n",
    "\n",
    "df_em = pd.DataFrame(\n",
    "    np.array([Nr, radius, density, rigidity, bulk, viscosity]).T,\n",
    "    columns=[\"Nr\", \"radius\", \"density\", \"rigidity\", \"bulk\", \"viscosity\"],\n",
    ")\n",
    "\n",
    "lmax = 256\n",
    "lmin = 0\n",
    "lstep = 1\n",
    "CONF = {\n",
    "    \"EARTH_FILE\": \"earth_M3L70V01c.txt\",\n",
    "    \"COMPRESS\": \"1\",\n",
    "    \"DEGREE_RANGE\": f\"{lmin} {lmax} {lstep}\",\n",
    "    \"LABEL_OUTPUT\": f\"Bench_C_{lmax}_{lmin}_{lstep}\",\n",
    "}\n",
    "\n",
    "df = load_uplift()\n",
    "height = df.Thickness.values\n",
    "up_kuaq = df.Up_kuaq.values\n",
    "up_mik2 = df.Up_mik2.values\n",
    "df_em"
   ]
  },
  {
   "cell_type": "code",
   "execution_count": 39,
   "metadata": {},
   "outputs": [],
   "source": [
    "# For modelling seasonality at some point\n",
    "\n",
    "# X_time = np.concatenate([pd.get_dummies(df[x]) for x in [\"dow\", \"tod\"]], axis=1)\n",
    "# pd.get_dummies(df[\"Time\"])\n",
    "# Make month columns\n",
    "df1 = pd.concat([df, df.Time.dt.month], axis=1)\n",
    "df1.columns = [*df1.columns[:-1], 'Month']\n",
    "df1.head()\n",
    "\n",
    "# make one hot encoding of month number\n",
    "month_number = np.array(pd.get_dummies(df1[\"Month\"]))"
   ]
  },
  {
   "cell_type": "code",
   "execution_count": 40,
   "metadata": {},
   "outputs": [
    {
     "data": {
      "text/plain": [
       "126"
      ]
     },
     "execution_count": 40,
     "metadata": {},
     "output_type": "execute_result"
    }
   ],
   "source": [
    "standardized_height = (height - np.mean(height) / np.std(height))\n",
    "X_cat = np.concatenate([standardized_height[np.newaxis].T, month_number], axis=1)\n",
    "X_train = torch.tensor(X_cat).float()\n",
    "y_train = torch.tensor(detrend(uplift)).float()\n",
    "y_train = (y_train - y_train.mean()) / y_train.std()\n",
    "len(X_train)"
   ]
  },
  {
   "cell_type": "code",
   "execution_count": 41,
   "metadata": {},
   "outputs": [
    {
     "data": {
      "text/plain": [
       "torch.Size([126, 2])"
      ]
     },
     "execution_count": 41,
     "metadata": {},
     "output_type": "execute_result"
    }
   ],
   "source": [
    "y_train1 = torch.tensor(detrend(up_kuaq)).float()\n",
    "y_train1 = (y_train1 - y_train1.mean()) / y_train1.std()\n",
    "\n",
    "y_train2 = torch.tensor(detrend(up_mik2)).float()\n",
    "y_train2 = (y_train2 - y_train2.mean()) / y_train2.std()\n",
    "\n",
    "y_train = torch.vstack([y_train1, y_train2]).T\n",
    "y_train.shape"
   ]
  },
  {
   "cell_type": "code",
   "execution_count": 42,
   "metadata": {},
   "outputs": [],
   "source": [
    "df_params = pd.read_csv(\"../data/processed/ffnn_variable_normalisation_params.csv\")\n",
    "x = ffnn_input_vector(df_em)"
   ]
  },
  {
   "cell_type": "code",
   "execution_count": 43,
   "metadata": {},
   "outputs": [
    {
     "data": {
      "text/plain": [
       "FFNN(\n",
       "  (in_layer): Linear(in_features=31, out_features=200, bias=True)\n",
       "  (h1_layer): Linear(in_features=200, out_features=200, bias=True)\n",
       "  (h2_layer): Linear(in_features=200, out_features=200, bias=True)\n",
       "  (out_layer): Linear(in_features=200, out_features=258, bias=True)\n",
       "  (relu): ReLU()\n",
       ")"
      ]
     },
     "execution_count": 43,
     "metadata": {},
     "output_type": "execute_result"
    }
   ],
   "source": [
    "ffnn = FFNN(31, 200, 258)  # in shape, n hidden, out shape\n",
    "ffnn.load_state_dict(torch.load(\"../models/ffnn_v0.pt\"))\n",
    "ffnn.eval()"
   ]
  },
  {
   "cell_type": "code",
   "execution_count": 44,
   "metadata": {},
   "outputs": [
    {
     "data": {
      "text/plain": [
       "tensor([ 1.0094,  0.2388,  1.0321, -0.9094, -0.7168,  1.8300, -0.3923,  0.6860,\n",
       "        -0.7099,  2.0172, -0.0427,  0.4849,  1.0094,  0.2388,  1.0321, -0.9094,\n",
       "        -0.7168,  1.8300, -0.3923,  0.6860, -0.7099,  2.0172, -0.0427,  0.4849,\n",
       "         1.0094,  0.2388,  1.0321, -0.9094, -0.7168,  1.8300, -0.3923,  0.6860,\n",
       "        -0.7099,  2.0172, -0.0427,  0.4849,  1.0094,  0.2388,  1.0321, -0.9094,\n",
       "        -0.7168,  1.8300, -0.3923,  0.6860, -0.7099,  2.0172, -0.0427,  0.4849,\n",
       "         1.0094,  0.2388,  1.0321, -0.9094, -0.7168,  1.8300, -0.3923,  0.6860,\n",
       "        -0.7099,  2.0172, -0.0427,  0.4849,  1.0094,  0.2388,  1.0321, -0.9094,\n",
       "        -0.7168,  1.8300, -0.3923,  0.6860, -0.7099,  2.0172, -0.0427,  0.4849,\n",
       "         1.0094,  0.2388,  1.0321, -0.9094, -0.7168,  1.8300, -0.3923,  0.6860,\n",
       "        -0.7099,  2.0172, -0.0427,  0.4849,  1.0094,  0.2388,  1.0321, -0.9094,\n",
       "        -0.7168,  1.8300, -0.3923,  0.6860, -0.7099,  2.0172, -0.0427,  0.4849,\n",
       "         1.0094,  0.2388,  1.0321, -0.9094, -0.7168,  1.8300, -0.3923,  0.6860,\n",
       "        -0.7099,  2.0172, -0.0427,  0.4849,  1.0094,  0.2388,  1.0321, -0.9094,\n",
       "        -0.7168,  1.8300, -0.3923,  0.6860, -0.7099,  2.0172, -0.0427,  0.4849,\n",
       "         1.0094,  0.2388,  1.0321, -0.9094, -0.7168,  1.8300])"
      ]
     },
     "execution_count": 44,
     "metadata": {},
     "output_type": "execute_result"
    }
   ],
   "source": [
    "N = 126\n",
    "sigma_w = pyro.sample(\"sigma\", dist.Normal(torch.zeros(12), torch.ones(12)))\n",
    "X_train[:, 1:].matmul(sigma_w)"
   ]
  },
  {
   "cell_type": "code",
   "execution_count": 45,
   "metadata": {},
   "outputs": [
    {
     "data": {
      "text/plain": [
       "array([8.0000e+01, 6.3710e+06, 6.3410e+06, 6.3110e+06, 5.9510e+06,\n",
       "       5.7010e+06, 3.4800e+06, 3.0370e+03, 3.2300e+03, 3.4380e+03,\n",
       "       3.8710e+03, 4.9780e+03, 1.0750e+04, 5.0605e+10, 5.0605e+10,\n",
       "       7.0363e+10, 1.0549e+11, 2.2834e+11, 0.0000e+00, 5.7437e+10,\n",
       "       5.7437e+10, 9.9633e+10, 1.5352e+11, 3.2210e+11, 1.1018e+12,\n",
       "       1.0000e+55, 1.0000e+21, 1.0000e+21, 1.0000e+21, 2.0000e+21,\n",
       "       0.0000e+00])"
      ]
     },
     "execution_count": 45,
     "metadata": {},
     "output_type": "execute_result"
    }
   ],
   "source": [
    "np.hstack((80, df_em[\"radius\"].values, \n",
    "           df_em[\"density\"].values, \n",
    "           df_em[\"rigidity\"].values, \n",
    "           df_em[\"bulk\"].values,\n",
    "           df_em[\"viscosity\"].values))"
   ]
  },
  {
   "cell_type": "code",
   "execution_count": 60,
   "metadata": {},
   "outputs": [],
   "source": [
    "def model(X, x, df_params, obs=None, df_em=None):\n",
    "    # densities at index 7 and 8\n",
    "    N = len(X)\n",
    "    seasonality = 12 # months\n",
    "    t = torch.linspace(0, 1, N)\n",
    "\n",
    "    alpha_w = pyro.sample(\"alpha_v\", dist.Normal(0., 1.))\n",
    "    sigma_w = pyro.sample(\"sigma\", dist.Normal(torch.zeros(seasonality, 2), torch.ones(seasonality, 2)))\n",
    "    \n",
    "    # rigidity layer 1 & 2\n",
    "    # loc, scale = torch.ones(2) * 0, torch.ones(2) * 1\n",
    "    #rigidity_dist = IntervalFoldedDistribution(dist.Normal(loc, scale), lower=2 * 1e-2, upper=2 * 5e1)\n",
    "    # rigidity = 1e11 + 1e10 * pyro.sample(\"rigidity\", dist.Normal(loc, scale))\n",
    "\n",
    "    # x[14] = (rigidity[0] - df_params[\"rigidity_mu\"][0]) / df_params[\"rigidity_sigma\"][0]\n",
    "    # x[15] = (rigidity[1] - df_params[\"rigidity_mu\"][0]) / df_params[\"rigidity_sigma\"][0]\n",
    "    \n",
    "    # rigidity layer 1\n",
    "    loc, scale = 0, 1\n",
    "    rigidity_1 = 1e11 + 1e10 * pyro.sample(\"rigidity_1\", dist.Normal(loc, scale))\n",
    "\n",
    "    # rigidity layer 2\n",
    "    loc, scale = 0, 1\n",
    "    rigidity_2 = 1e11 + 1e10 * pyro.sample(\"rigidity_2\", dist.Normal(loc, scale))\n",
    "\n",
    "    x[14] = (rigidity_1 - df_params[\"rigidity_mu\"][0]) / df_params[\"rigidity_sigma\"][0]\n",
    "    x[15] = (rigidity_1 - df_params[\"rigidity_mu\"][0]) / df_params[\"rigidity_sigma\"][0]\n",
    "    \n",
    "\n",
    "    hlove = ffnn(x).detach().numpy()\n",
    "    nlove = len(hlove)\n",
    "    \n",
    "    # Draw Greens Function\n",
    "    gf_kuaq = greens_function(\n",
    "        hlove,\n",
    "        nlove,\n",
    "        [68.704665, -33.214577],\n",
    "        [68.58700000, -33.05270000],\n",
    "        arsurf=80e3 * 80e3,\n",
    "    )\n",
    "    gf_mik2 = greens_function(\n",
    "        hlove,\n",
    "        nlove,\n",
    "        [68.704665, -33.214577],\n",
    "        [68.14029705, -31.45179999],\n",
    "        arsurf=80e3 * 80e3,\n",
    "    )\n",
    "    gf = pyro.deterministic(\"gf\", torch.tensor([gf_kuaq, gf_mik2]))\n",
    "\n",
    "    # Draw target\n",
    "    with pyro.plate(\"data\", 2):\n",
    "        w = pyro.sample(\"w\", dist.Normal(- gf * X[:, 0][..., None], torch.exp(alpha_w + X[:, 1:].matmul(sigma_w))), obs=obs)  # 1e5 is a scaling constant\n",
    "    \n",
    "    return w"
   ]
  },
  {
   "cell_type": "code",
   "execution_count": 54,
   "metadata": {},
   "outputs": [],
   "source": [
    "hlove = ffnn(x).detach().numpy()\n",
    "nlove = len(hlove)\n",
    "\n",
    "# Draw Greens Function\n",
    "gf_kuaq = greens_function(\n",
    "    hlove,\n",
    "    nlove,\n",
    "    [68.704665, -33.214577],\n",
    "    [68.58700000, -33.05270000],\n",
    "    arsurf=80e3 * 80e3,\n",
    ")\n",
    "gf_mik2 = greens_function(\n",
    "    hlove,\n",
    "    nlove,\n",
    "    [68.704665, -33.214577],\n",
    "    [68.14029705, -31.45179999],\n",
    "    arsurf=80e3 * 80e3,\n",
    ")\n",
    "gf = pyro.deterministic(\"gf\", torch.tensor([gf_kuaq, gf_mik2]))"
   ]
  },
  {
   "cell_type": "code",
   "execution_count": 62,
   "metadata": {},
   "outputs": [
    {
     "data": {
      "image/png": "[encoded data removed]",
      "text/plain": [
       "<Figure size 432x288 with 1 Axes>"
      ]
     },
     "metadata": {
      "needs_background": "light"
     },
     "output_type": "display_data"
    }
   ],
   "source": [
    "for i in range(3):\n",
    "    plt.plot(model(X_train, x, df_params, y_train, df_em))"
   ]
  },
  {
   "cell_type": "code",
   "execution_count": 63,
   "metadata": {},
   "outputs": [
    {
     "name": "stderr",
     "output_type": "stream",
     "text": [
      "Warmup:  14%|█▍        | 165/1200 [00:32,  3.03it/s, step size=3.54e-02, acc. prob=0.777]"
     ]
    }
   ],
   "source": [
    "# import os\n",
    "# os.environ[\"OMP_NUM_THREADS\"] = '1'\n",
    "# Run inference in Pyro\n",
    "\n",
    "nuts_kernel = NUTS(model)\n",
    "mcmc = MCMC(nuts_kernel, num_samples=1000, warmup_steps=200, num_chains=1)\n",
    "mcmc.run(X_train, x, df_params, y_train, df_em)"
   ]
  },
  {
   "cell_type": "code",
   "execution_count": null,
   "metadata": {},
   "outputs": [
    {
     "name": "stdout",
     "output_type": "stream",
     "text": [
      "\n",
      "                  mean       std    median      5.0%     95.0%     n_eff     r_hat\n",
      "     alpha_v      0.55      0.28      0.55      0.07      0.97     74.68      1.00\n",
      "  rigidity_1      0.42      0.95      0.37     -0.88      2.07    560.59      1.00\n",
      "  rigidity_2      0.05      1.01      0.06     -1.73      1.48    552.97      1.00\n",
      "    sigma[0]     -0.18      0.35     -0.20     -0.69      0.41    107.31      1.00\n",
      "    sigma[1]     -0.11      0.33     -0.11     -0.64      0.42    112.12      1.00\n",
      "    sigma[2]      0.38      0.36      0.37     -0.14      0.99    110.68      1.00\n",
      "    sigma[3]      0.56      0.35      0.54      0.01      1.12    120.33      1.00\n",
      "    sigma[4]      0.30      0.34      0.31     -0.27      0.84    104.49      1.00\n",
      "    sigma[5]     -0.22      0.35     -0.23     -0.74      0.41    111.60      1.00\n",
      "    sigma[6]      0.25      0.34      0.25     -0.34      0.75    106.51      1.00\n",
      "    sigma[7]      0.37      0.34      0.36     -0.14      0.98    119.39      1.01\n",
      "    sigma[8]     -0.08      0.34     -0.08     -0.62      0.47    115.73      1.00\n",
      "    sigma[9]     -0.12      0.33     -0.12     -0.71      0.37    112.79      1.00\n",
      "   sigma[10]     -0.30      0.35     -0.32     -0.83      0.26    114.50      1.00\n",
      "   sigma[11]     -0.17      0.35     -0.18     -0.72      0.46     95.49      1.00\n",
      "\n",
      "Number of divergences: 0\n"
     ]
    }
   ],
   "source": [
    "# Show summary of inference results\n",
    "mcmc.summary()"
   ]
  },
  {
   "cell_type": "code",
   "execution_count": 16,
   "metadata": {},
   "outputs": [],
   "source": [
    "#### compare to PREM\n",
    "# from table IV\n",
    "depths = abs(df_em[\"radius\"].values - df_em.loc[0, \"radius\"]) / 1e3 # in km\n",
    "depth_table = np.array([0, 3, 15, 24, 40, 60, 80])\n",
    "A = np.array([21, 875, 1341, 2268, 2260, 2251, 2242])\n",
    "C = np.array([21, 875, 1341, 2176, 2165, 2151, 2138])\n",
    "L = np.array([0, 266, 441, 653, 654, 655, 656])\n",
    "N = np.array([0, 266, 441, 719, 714, 708, 702])\n",
    "F = np.array([21, 342, 459, 866, 863, 860, 857])\n",
    "\n",
    "prem_rigidity_1 = np.mean(1 / 15 * (A[:4] + C[:4] - 2 * F[:4] + 5 * N[:4] + 6 * L[:4]))\n",
    "prem_rigidity_2 = np.mean(1 / 15 * (A[4:6] + C[4:6] - 2 * F[4:6] + 5 * N[4:6] + 6 * L[4:6]))\n",
    "prem_rigidity = {\"rigidity_1\" : prem_rigidity_1 * 1e8, \"rigidity_2\" : prem_rigidity_2 * 1e8}"
   ]
  },
  {
   "cell_type": "code",
   "execution_count": 17,
   "metadata": {},
   "outputs": [
    {
     "data": {
      "text/plain": [
       "tensor([-0.3456,  0.3228,  0.1223,  0.5653,  0.5107, -0.4422,  0.4583,  0.5452,\n",
       "         0.2004, -0.3600, -0.5270, -0.4629])"
      ]
     },
     "execution_count": 17,
     "metadata": {},
     "output_type": "execute_result"
    }
   ],
   "source": [
    "samples = {k: v for k, v in mcmc.get_samples().items()}\n",
    "\n",
    "samples[\"sigma\"][0]"
   ]
  },
  {
   "cell_type": "code",
   "execution_count": 19,
   "metadata": {},
   "outputs": [
    {
     "data": {
      "image/png": "[encoded data removed]",
      "text/plain": [
       "<Figure size 288x216 with 1 Axes>"
      ]
     },
     "metadata": {
      "needs_background": "light"
     },
     "output_type": "display_data"
    },
    {
     "data": {
      "image/png": "[encoded data removed]",
      "text/plain": [
       "<Figure size 288x216 with 1 Axes>"
      ]
     },
     "metadata": {
      "needs_background": "light"
     },
     "output_type": "display_data"
    }
   ],
   "source": [
    "samples = {k: v for k, v in mcmc.get_samples().items()}\n",
    "nodes = [\"rigidity_1\", \"rigidity_2\"]\n",
    "\n",
    "rigidity_dist_prior = dist.Normal(torch.zeros(1000), 1)\n",
    "rigidity_prior = 1e11 + 1e10 * pyro.sample(\"rigidity_prior\", rigidity_dist_prior)\n",
    "\n",
    "for node in nodes:\n",
    "    plt.figure(figsize=(4, 3))\n",
    "    g = sns.histplot(\n",
    "        1e11 + 1e10 * samples[node],\n",
    "        label=node,\n",
    "        kde=True,\n",
    "        stat=\"density\",\n",
    "        element=\"step\",\n",
    "        color=\"red\",\n",
    "    )\n",
    "    sns.histplot(\n",
    "        rigidity_prior,\n",
    "        label=\"prior\",\n",
    "        kde=True,\n",
    "        stat=\"density\",\n",
    "        element=\"step\",\n",
    "        alpha=0.4,\n",
    "    )\n",
    "    plt.axvline(prem_rigidity[node], 0, 0.17, color=\"black\", label=\"PREM estimate\")\n",
    "    plt.legend()\n",
    "    plt.show()"
   ]
  },
  {
   "cell_type": "code",
   "execution_count": 154,
   "metadata": {},
   "outputs": [
    {
     "ename": "KeyError",
     "evalue": "'rigidity_1'",
     "output_type": "error",
     "traceback": [
      "\u001b[0;31m---------------------------------------------------------------------------\u001b[0m",
      "\u001b[0;31mKeyError\u001b[0m                                  Traceback (most recent call last)",
      "\u001b[1;32m/data/eigil/work/premis/notebooks/model_pipeline.ipynb Cell 15'\u001b[0m in \u001b[0;36m<cell line: 10>\u001b[0;34m()\u001b[0m\n\u001b[1;32m     <a href='vscode-notebook-cell://ssh-remote%2B10.58.1.39/data/eigil/work/premis/notebooks/model_pipeline.ipynb#ch0000016vscode-remote?line=9'>10</a>\u001b[0m \u001b[39mfor\u001b[39;00m node \u001b[39min\u001b[39;00m nodes:\n\u001b[1;32m     <a href='vscode-notebook-cell://ssh-remote%2B10.58.1.39/data/eigil/work/premis/notebooks/model_pipeline.ipynb#ch0000016vscode-remote?line=10'>11</a>\u001b[0m     plt\u001b[39m.\u001b[39mfigure(figsize\u001b[39m=\u001b[39m(\u001b[39m4\u001b[39m,\u001b[39m3\u001b[39m))\n\u001b[0;32m---> <a href='vscode-notebook-cell://ssh-remote%2B10.58.1.39/data/eigil/work/premis/notebooks/model_pipeline.ipynb#ch0000016vscode-remote?line=11'>12</a>\u001b[0m     g \u001b[39m=\u001b[39m sns\u001b[39m.\u001b[39mhistplot(\u001b[39m1e11\u001b[39m \u001b[39m+\u001b[39m \u001b[39m1e10\u001b[39m \u001b[39m*\u001b[39m samples[node], label\u001b[39m=\u001b[39mnode, kde\u001b[39m=\u001b[39m\u001b[39mTrue\u001b[39;00m, stat\u001b[39m=\u001b[39m\u001b[39m'\u001b[39m\u001b[39mdensity\u001b[39m\u001b[39m'\u001b[39m, element\u001b[39m=\u001b[39m\u001b[39m\"\u001b[39m\u001b[39mstep\u001b[39m\u001b[39m\"\u001b[39m, color\u001b[39m=\u001b[39m\u001b[39m\"\u001b[39m\u001b[39mred\u001b[39m\u001b[39m\"\u001b[39m)\n\u001b[1;32m     <a href='vscode-notebook-cell://ssh-remote%2B10.58.1.39/data/eigil/work/premis/notebooks/model_pipeline.ipynb#ch0000016vscode-remote?line=12'>13</a>\u001b[0m     sns\u001b[39m.\u001b[39mhistplot(priors[node], label\u001b[39m=\u001b[39m\u001b[39m\"\u001b[39m\u001b[39mprior\u001b[39m\u001b[39m\"\u001b[39m, kde\u001b[39m=\u001b[39m\u001b[39mTrue\u001b[39;00m, stat\u001b[39m=\u001b[39m\u001b[39m'\u001b[39m\u001b[39mdensity\u001b[39m\u001b[39m'\u001b[39m, element\u001b[39m=\u001b[39m\u001b[39m\"\u001b[39m\u001b[39mstep\u001b[39m\u001b[39m\"\u001b[39m, alpha\u001b[39m=\u001b[39m\u001b[39m0.4\u001b[39m)\n\u001b[1;32m     <a href='vscode-notebook-cell://ssh-remote%2B10.58.1.39/data/eigil/work/premis/notebooks/model_pipeline.ipynb#ch0000016vscode-remote?line=13'>14</a>\u001b[0m     plt\u001b[39m.\u001b[39maxvline(prem_rigidity[node], \u001b[39m0\u001b[39m, \u001b[39m0.17\u001b[39m, color\u001b[39m=\u001b[39m\u001b[39m'\u001b[39m\u001b[39mblack\u001b[39m\u001b[39m'\u001b[39m, label\u001b[39m=\u001b[39m\u001b[39m'\u001b[39m\u001b[39mPREM estimate\u001b[39m\u001b[39m'\u001b[39m)\n",
      "\u001b[0;31mKeyError\u001b[0m: 'rigidity_1'"
     ]
    },
    {
     "data": {
      "text/plain": [
       "<Figure size 288x216 with 0 Axes>"
      ]
     },
     "metadata": {},
     "output_type": "display_data"
    }
   ],
   "source": [
    "samples = {k: v for k, v in mcmc.get_samples().items()}\n",
    "nodes = [\"rigidity_1\", \"rigidity_2\"]\n",
    "\n",
    "rigidity_dist_prior = dist.Normal(2 * torch.ones(1000), 0.5)\n",
    "rigidity_prior_1 = 1e11 + 1e10 * pyro.sample(\"rigidity_prior\", rigidity_dist_prior)\n",
    "rigidity_dist_prior = dist.Normal(4 * torch.ones(1000), 0.5)\n",
    "rigidity_prior_2 = 1e11 + 1e10 * pyro.sample(\"rigidity_prior\", rigidity_dist_prior)\n",
    "priors = {\"rigidity_1\": rigidity_prior_1, \"rigidity_2\": rigidity_prior_2}\n",
    "\n",
    "for node in nodes:\n",
    "    plt.figure(figsize=(4,3))\n",
    "    g = sns.histplot(1e11 + 1e10 * samples[node], label=node, kde=True, stat='density', element=\"step\", color=\"red\")\n",
    "    sns.histplot(priors[node], label=\"prior\", kde=True, stat='density', element=\"step\", alpha=0.4)\n",
    "    plt.axvline(prem_rigidity[node], 0, 0.17, color='black', label='PREM estimate')\n",
    "    plt.legend()\n",
    "    plt.show()"
   ]
  },
  {
   "cell_type": "code",
   "execution_count": 55,
   "metadata": {},
   "outputs": [
    {
     "data": {
      "image/png": "[encoded data removed]",
      "text/plain": [
       "<Figure size 432x288 with 1 Axes>"
      ]
     },
     "metadata": {
      "needs_background": "light"
     },
     "output_type": "display_data"
    }
   ],
   "source": [
    "rigidity_list = []\n",
    "prem_rigidity_list = []\n",
    "for node in nodes:\n",
    "    rigidity_list.append(1e11 + 1e10 * samples[node].mean())\n",
    "    prem_rigidity_list.append(prem_rigidity[node])\n",
    "   \n",
    "x_depth = [30, 60] \n",
    "plt.scatter(x_depth, rigidity_list, label=\"Modelled rigidities\")\n",
    "plt.plot(x_depth, prem_rigidity_list, color='black', linestyle='--', label='PREM estimate')\n",
    "plt.yscale('log')\n",
    "plt.xlabel(\"Depth, [km]\")\n",
    "plt.ylabel(\"Rigidity, [Pa]\")\n",
    "plt.grid()"
   ]
  },
  {
   "cell_type": "markdown",
   "metadata": {},
   "source": [
    "### Compare to observations"
   ]
  },
  {
   "cell_type": "code",
   "execution_count": 56,
   "metadata": {},
   "outputs": [
    {
     "name": "stdout",
     "output_type": "stream",
     "text": [
      "gf: (1000, 1)\n",
      "w: (1000, 126)\n"
     ]
    }
   ],
   "source": [
    "from pyro.infer import Predictive\n",
    "\n",
    "predictive = Predictive(model, samples)(X_train, x, df_params, y_train, df_em)\n",
    "for k, v in predictive.items():\n",
    "    print(f\"{k}: {tuple(v.shape)}\")"
   ]
  },
  {
   "cell_type": "code",
   "execution_count": 76,
   "metadata": {},
   "outputs": [
    {
     "name": "stdout",
     "output_type": "stream",
     "text": [
      "corr = 0.31417021313723364, \n",
      "mae = 1.4562737941741943, \n",
      "rae = 1.8080215454101562, \n",
      "rmse = 1.8920226097106934\n"
     ]
    },
    {
     "data": {
      "image/png": "[encoded data removed]",
      "text/plain": [
       "<Figure size 432x288 with 1 Axes>"
      ]
     },
     "metadata": {
      "needs_background": "light"
     },
     "output_type": "display_data"
    }
   ],
   "source": [
    "seasonal_error = X_train[:, 1:].matmul(samples['sigma'].mean(axis=0))\n",
    "\n",
    "w_pred = (- predictive[\"gf\"] * X_train[:, 0]).mean(axis=0)\n",
    "w_above = w_pred + seasonal_error\n",
    "w_below = w_pred - seasonal_error\n",
    "\n",
    "plt.plot(y_train)\n",
    "plt.plot(w_pred)\n",
    "plt.fill_between(range(126), w_below, w_above, alpha=0.7)\n",
    "corr, mae, rae, rmse = compute_error(y_train.numpy(), w_pred.numpy())\n",
    "print(f\"corr = {corr}, \\nmae = {mae}, \\nrae = {rae}, \\nrmse = {rmse}\")"
   ]
  },
  {
   "cell_type": "code",
   "execution_count": 78,
   "metadata": {},
   "outputs": [
    {
     "data": {
      "text/plain": [
       "[<matplotlib.lines.Line2D at 0x7f15e0721dc0>]"
      ]
     },
     "execution_count": 78,
     "metadata": {},
     "output_type": "execute_result"
    },
    {
     "data": {
      "image/png": "[encoded data removed]",
      "text/plain": [
       "<Figure size 432x288 with 1 Axes>"
      ]
     },
     "metadata": {
      "needs_background": "light"
     },
     "output_type": "display_data"
    }
   ],
   "source": [
    "# error per month\n",
    "plt.plot(samples[\"sigma\"].mean(axis=0))"
   ]
  },
  {
   "cell_type": "markdown",
   "metadata": {},
   "source": [
    "## Different things from earlier work"
   ]
  },
  {
   "cell_type": "code",
   "execution_count": null,
   "metadata": {},
   "outputs": [],
   "source": [
    "dont run the next cells"
   ]
  },
  {
   "cell_type": "code",
   "execution_count": null,
   "metadata": {},
   "outputs": [
    {
     "data": {
      "text/plain": [
       "dict_keys(['rigidity_1', 'rigidity_2', 'sigma'])"
      ]
     },
     "metadata": {},
     "output_type": "display_data"
    }
   ],
   "source": [
    "# saves the model and optimizer states to disk\n",
    "def save_checkpoint(model):\n",
    "    log(\"saving model to %s...\" % args.save_model)\n",
    "    torch.save(dmm.state_dict(), args.save_model)\n",
    "    log(\"saving optimizer states to %s...\" % args.save_opt)\n",
    "    optimizer.save(args.save_opt)\n",
    "    log(\"done saving model and optimizer checkpoints to disk.\")\n",
    "\n",
    "# loads the model and optimizer states from disk\n",
    "def load_checkpoint():\n",
    "    assert exists(args.load_opt) and exists(args.load_model), \\\n",
    "        \"--load-model and/or --load-opt misspecified\"\n",
    "    log(\"loading model from %s...\" % args.load_model)\n",
    "    dmm.load_state_dict(torch.load(args.load_model))\n",
    "    log(\"loading optimizer states from %s...\" % args.load_opt)\n",
    "    optimizer.load(args.load_opt)\n",
    "    log(\"done loading model and optimizer states.\")"
   ]
  },
  {
   "cell_type": "code",
   "execution_count": null,
   "metadata": {},
   "outputs": [],
   "source": [
    "class TruncatedNormal(dist.Rejector):\n",
    "    def __init__(self, loc, scale_0, max_x0):\n",
    "        propose = dist.Normal(loc, scale_0)\n",
    "\n",
    "        def log_prob_accept(x):\n",
    "            return (x[0] < max_x0).type_as(x).log()\n",
    "\n",
    "        log_scale = torch.tensor(dist.LogNormal(loc, scale_0).cdf(max_x0)).log()\n",
    "        super(TruncatedLogNormal, self).__init__(propose, log_prob_accept, log_scale)"
   ]
  },
  {
   "cell_type": "code",
   "execution_count": null,
   "metadata": {},
   "outputs": [],
   "source": [
    "## TODO: For guide support, see: https://forum.pyro.ai/t/truncated-log-normal-distribution/2002\n",
    "# from torch.distributions import constraints\n",
    "\n",
    "# class TruncatedLogNormal(dist.Rejector):\n",
    "#     ...\n",
    "#     @constraints.dependent_property\n",
    "#     def support(self):\n",
    "#         return constraints.interval(0, self.max_x0)"
   ]
  },
  {
   "cell_type": "code",
   "execution_count": null,
   "metadata": {},
   "outputs": [
    {
     "data": {
      "image/png": "[encoded data removed]",
      "text/plain": [
       "<Figure size 432x288 with 1 Axes>"
      ]
     },
     "metadata": {},
     "output_type": "display_data"
    }
   ],
   "source": [
    "diste = IntervalFoldedDistribution(dist.Normal(1e10*torch.ones(10000), 1e9), lower=1e8, upper=1e12)\n",
    "plt.hist(np.array(pyro.sample(\"test\", diste)));"
   ]
  },
  {
   "cell_type": "code",
   "execution_count": null,
   "metadata": {},
   "outputs": [
    {
     "data": {
      "text/plain": [
       "tensor(0.)"
      ]
     },
     "metadata": {},
     "output_type": "display_data"
    },
    {
     "data": {
      "image/png": "[encoded data removed]",
      "text/plain": [
       "<Figure size 432x288 with 1 Axes>"
      ]
     },
     "metadata": {},
     "output_type": "display_data"
    }
   ],
   "source": [
    "samples = 1e10 * pyro.sample(\"test\", dist.Normal(torch.ones(10000), 0.1))\n",
    "plt.hist(np.array(samples));\n",
    "samples[samples < 1e8].sum()"
   ]
  },
  {
   "cell_type": "code",
   "execution_count": null,
   "metadata": {},
   "outputs": [
    {
     "name": "stderr",
     "output_type": "stream",
     "text": [
      "sample: 100%|██████████| 11000/11000 [00:14<00:00, 774.53it/s, 3 steps of size 1.26e+00. acc. prob=0.89]\n"
     ]
    },
    {
     "name": "stdout",
     "output_type": "stream",
     "text": [
      "-3806359800.0 -24906074.0 4083562800.0\n"
     ]
    }
   ],
   "source": [
    "import numpyro\n",
    "import numpyro.distributions as np_dist\n",
    "from numpyro.infer import MCMC, NUTS\n",
    "\n",
    "def model():\n",
    "\n",
    "    # sample1 = numpyro.sample(\"rigidity1\", bounded_rig1)\n",
    "    rigidity_unscaled = numpyro.sample(\"rigidity_unscaled\", np_dist.Normal(0, 1))\n",
    "    \n",
    "    rigidity_scaled = numpyro.deterministic(\"rigidity_scaled\", 1e10 + 1e9 * rigidity_unscaled)\n",
    "    # rigidity_scaled = numpyro.sample(\"rigidity_scaled\", np_dist.Uniform(1e9, 1e11))\n",
    "\n",
    "    \n",
    "rng_key = random.PRNGKey(0)\n",
    "rng_key, rng_key_ = random.split(rng_key)\n",
    "\n",
    "# Run NUTS.\n",
    "kernel = NUTS(model)\n",
    "num_samples = 10000\n",
    "mcmc = MCMC(kernel, num_warmup=1000, num_samples=num_samples)\n",
    "mcmc.run(rng_key_)\n",
    "\n",
    "print(mcmc.get_samples()[\"rigidity_scaled\"].min() , mcmc.get_samples()[\"rigidity_scaled\"].mean(), mcmc.get_samples()[\"rigidity_scaled\"].max())"
   ]
  },
  {
   "cell_type": "code",
   "execution_count": null,
   "metadata": {},
   "outputs": [
    {
     "data": {
      "text/plain": [
       "[<matplotlib.lines.Line2D at 0x7f7ddc22d700>]"
      ]
     },
     "metadata": {},
     "output_type": "display_data"
    },
    {
     "data": {
      "image/png": "[encoded data removed]",
      "text/plain": [
       "<Figure size 432x288 with 1 Axes>"
      ]
     },
     "metadata": {},
     "output_type": "display_data"
    }
   ],
   "source": [
    "samples = mcmc.get_samples()[\"rigidity_scaled\"].to_py()\n",
    "plt.plot(np.diff(samples))\n",
    "plt.plot(samples)"
   ]
  },
  {
   "cell_type": "code",
   "execution_count": null,
   "metadata": {},
   "outputs": [
    {
     "name": "stderr",
     "output_type": "stream",
     "text": [
      "Sample: 100%|██████████| 1001/1001 [12:24,  1.34it/s, step size=1.16e-10, acc. prob=1.000]"
     ]
    },
    {
     "name": "stdout",
     "output_type": "stream",
     "text": [
      "tensor(0.8238) tensor(0.9997) tensor(1.)\n"
     ]
    },
    {
     "name": "stderr",
     "output_type": "stream",
     "text": [
      "\n"
     ]
    }
   ],
   "source": [
    "import pyro\n",
    "import pyro.distributions as dist\n",
    "from pyro.infer import MCMC, NUTS\n",
    "\n",
    "def model(height, obs=None, df_em=None):\n",
    "    sample1 = pyro.sample(\"rigidity1\", dist.Normal(1, 1e-1))\n",
    "\n",
    "# Run inference in Pyro\n",
    "nuts_kernel = NUTS(model)\n",
    "mcmc = MCMC(nuts_kernel, num_samples=1000, warmup_steps=1, num_chains=1)\n",
    "mcmc.run(X_train, y_train, df_em)\n",
    "\n",
    "print(mcmc.get_samples()[\"rigidity1\"].min() , mcmc.get_samples()[\"rigidity1\"].mean(), mcmc.get_samples()[\"rigidity1\"].max())"
   ]
  }
 ],
 "metadata": {
  "interpreter": {
   "hash": "218e925926151051a9076ee8829e942c4c8d45d6b696e1d2dab005a43eea83c4"
  },
  "kernelspec": {
   "display_name": "Python 3.9.12 ('premis')",
   "language": "python",
   "name": "python3"
  },
  "language_info": {
   "codemirror_mode": {
    "name": "ipython",
    "version": 3
   },
   "file_extension": ".py",
   "mimetype": "text/x-python",
   "name": "python",
   "nbconvert_exporter": "python",
   "pygments_lexer": "ipython3",
   "version": "3.9.12"
  },
  "orig_nbformat": 4
 },
 "nbformat": 4,
 "nbformat_minor": 2
}
