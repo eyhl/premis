{
 "cells": [
  {
   "cell_type": "code",
   "execution_count": 1,
   "metadata": {},
   "outputs": [],
   "source": [
    "from src.models.train_model import premis_train\n",
    "import numpy as np\n",
    "%load_ext autoreload\n",
    "%autoreload 2"
   ]
  },
  {
   "cell_type": "code",
   "execution_count": 2,
   "metadata": {},
   "outputs": [
    {
     "name": "stdout",
     "output_type": "stream",
     "text": [
      "/Users/eyhli/OneDriveDTU/PhD/projects/premis/src/models\n",
      "tabdir name /Users/eyhli/OneDriveDTU/PhD/projects/premis/src/models/TABOO\n"
     ]
    },
    {
     "ename": "OSError",
     "evalue": "[Errno 8] Exec format error: './taboo.exe'",
     "output_type": "error",
     "traceback": [
      "\u001b[0;31m---------------------------------------------------------------------------\u001b[0m",
      "\u001b[0;31mOSError\u001b[0m                                   Traceback (most recent call last)",
      "\u001b[1;32m/Users/eyhli/OneDriveDTU/PhD/projects/premis/notebooks/model_pipeline.ipynb Cell 2'\u001b[0m in \u001b[0;36m<module>\u001b[0;34m\u001b[0m\n\u001b[1;32m      <a href='vscode-notebook-cell:/Users/eyhli/OneDriveDTU/PhD/projects/premis/notebooks/model_pipeline.ipynb#ch0000001?line=0'>1</a>\u001b[0m m \u001b[39m=\u001b[39m np\u001b[39m.\u001b[39mrandom\u001b[39m.\u001b[39mrand(\u001b[39m50\u001b[39m)\n\u001b[0;32m----> <a href='vscode-notebook-cell:/Users/eyhli/OneDriveDTU/PhD/projects/premis/notebooks/model_pipeline.ipynb#ch0000001?line=1'>2</a>\u001b[0m premis_train(m, x\u001b[39m=\u001b[39;49m\u001b[39m1\u001b[39;49m, n\u001b[39m=\u001b[39;49m\u001b[39m128\u001b[39;49m, obs\u001b[39m=\u001b[39;49m\u001b[39mNone\u001b[39;49;00m)\n",
      "File \u001b[0;32m~/OneDriveDTU/PhD/projects/premis/src/models/train_model.py:52\u001b[0m, in \u001b[0;36mpremis_train\u001b[0;34m(m, x, n, obs)\u001b[0m\n\u001b[1;32m     <a href='file:///Users/eyhli/OneDriveDTU/PhD/projects/premis/src/models/train_model.py?line=41'>42</a>\u001b[0m MAKE_MODEL \u001b[39m=\u001b[39m {\n\u001b[1;32m     <a href='file:///Users/eyhli/OneDriveDTU/PhD/projects/premis/src/models/train_model.py?line=42'>43</a>\u001b[0m     \u001b[39m\"\u001b[39m\u001b[39mNV\u001b[39m\u001b[39m\"\u001b[39m: \u001b[39m5\u001b[39m,\n\u001b[1;32m     <a href='file:///Users/eyhli/OneDriveDTU/PhD/projects/premis/src/models/train_model.py?line=43'>44</a>\u001b[0m     \u001b[39m\"\u001b[39m\u001b[39mCODE\u001b[39m\u001b[39m\"\u001b[39m: \u001b[39m0\u001b[39m,\n\u001b[0;32m   (...)\u001b[0m\n\u001b[1;32m     <a href='file:///Users/eyhli/OneDriveDTU/PhD/projects/premis/src/models/train_model.py?line=46'>47</a>\u001b[0m     \u001b[39m\"\u001b[39m\u001b[39mVISCO\u001b[39m\u001b[39m\"\u001b[39m: [\u001b[39m1.5\u001b[39m, \u001b[39m1.25\u001b[39m, \u001b[39m0.75\u001b[39m, \u001b[39m0.75\u001b[39m, \u001b[39m10\u001b[39m, \u001b[39m0.0\u001b[39m, \u001b[39m0.0\u001b[39m, \u001b[39m0.0\u001b[39m, \u001b[39m0.0\u001b[39m],\n\u001b[1;32m     <a href='file:///Users/eyhli/OneDriveDTU/PhD/projects/premis/src/models/train_model.py?line=47'>48</a>\u001b[0m }\n\u001b[1;32m     <a href='file:///Users/eyhli/OneDriveDTU/PhD/projects/premis/src/models/train_model.py?line=49'>50</a>\u001b[0m \u001b[39mwith\u001b[39;00m pyro\u001b[39m.\u001b[39mplate(\u001b[39m\"\u001b[39m\u001b[39mdata\u001b[39m\u001b[39m\"\u001b[39m):\n\u001b[1;32m     <a href='file:///Users/eyhli/OneDriveDTU/PhD/projects/premis/src/models/train_model.py?line=50'>51</a>\u001b[0m     \u001b[39m# Draw Love Numbers\u001b[39;00m\n\u001b[0;32m---> <a href='file:///Users/eyhli/OneDriveDTU/PhD/projects/premis/src/models/train_model.py?line=51'>52</a>\u001b[0m     hlove, nlove \u001b[39m=\u001b[39m torch\u001b[39m.\u001b[39mtensor(compute_love_numbers(MAKE_MODEL))\n\u001b[1;32m     <a href='file:///Users/eyhli/OneDriveDTU/PhD/projects/premis/src/models/train_model.py?line=53'>54</a>\u001b[0m     \u001b[39m# Draw Greens Function\u001b[39;00m\n\u001b[1;32m     <a href='file:///Users/eyhli/OneDriveDTU/PhD/projects/premis/src/models/train_model.py?line=54'>55</a>\u001b[0m     gf \u001b[39m=\u001b[39m pyro\u001b[39m.\u001b[39msample(\u001b[39m\"\u001b[39m\u001b[39mgf\u001b[39m\u001b[39m\"\u001b[39m, dist\u001b[39m.\u001b[39mNormal(greens_function(hlove, nlove, glacier_coordinates, station_coordinates), sigma_gf))\n",
      "File \u001b[0;32m~/OneDriveDTU/PhD/projects/premis/src/models/solid_earth_utils.py:129\u001b[0m, in \u001b[0;36mcompute_love_numbers\u001b[0;34m(MAKE_MODEL)\u001b[0m\n\u001b[1;32m    <a href='file:///Users/eyhli/OneDriveDTU/PhD/projects/premis/src/models/solid_earth_utils.py?line=126'>127</a>\u001b[0m args \u001b[39m=\u001b[39m shlex\u001b[39m.\u001b[39msplit(command)\n\u001b[1;32m    <a href='file:///Users/eyhli/OneDriveDTU/PhD/projects/premis/src/models/solid_earth_utils.py?line=127'>128</a>\u001b[0m \u001b[39m# print(args)\u001b[39;00m\n\u001b[0;32m--> <a href='file:///Users/eyhli/OneDriveDTU/PhD/projects/premis/src/models/solid_earth_utils.py?line=128'>129</a>\u001b[0m subprocess\u001b[39m.\u001b[39;49mrun(args)\n\u001b[1;32m    <a href='file:///Users/eyhli/OneDriveDTU/PhD/projects/premis/src/models/solid_earth_utils.py?line=129'>130</a>\u001b[0m os\u001b[39m.\u001b[39mchdir(BASEDIR)\n\u001b[1;32m    <a href='file:///Users/eyhli/OneDriveDTU/PhD/projects/premis/src/models/solid_earth_utils.py?line=130'>131</a>\u001b[0m filename_hlove \u001b[39m=\u001b[39m PROJECT_ROOT \u001b[39m/\u001b[39m \u001b[39m\"\u001b[39m\u001b[39msrc\u001b[39m\u001b[39m\"\u001b[39m \u001b[39m/\u001b[39m \u001b[39m\"\u001b[39m\u001b[39mmodels\u001b[39m\u001b[39m\"\u001b[39m \u001b[39m/\u001b[39m \u001b[39m\"\u001b[39m\u001b[39mTABOO\u001b[39m\u001b[39m\"\u001b[39m \u001b[39m/\u001b[39m \u001b[39m\"\u001b[39m\u001b[39mh.dat\u001b[39m\u001b[39m\"\u001b[39m\n",
      "File \u001b[0;32m~/miniforge3/envs/model_based_ml/lib/python3.9/subprocess.py:505\u001b[0m, in \u001b[0;36mrun\u001b[0;34m(input, capture_output, timeout, check, *popenargs, **kwargs)\u001b[0m\n\u001b[1;32m    <a href='file:///Users/eyhli/miniforge3/envs/model_based_ml/lib/python3.9/subprocess.py?line=501'>502</a>\u001b[0m     kwargs[\u001b[39m'\u001b[39m\u001b[39mstdout\u001b[39m\u001b[39m'\u001b[39m] \u001b[39m=\u001b[39m PIPE\n\u001b[1;32m    <a href='file:///Users/eyhli/miniforge3/envs/model_based_ml/lib/python3.9/subprocess.py?line=502'>503</a>\u001b[0m     kwargs[\u001b[39m'\u001b[39m\u001b[39mstderr\u001b[39m\u001b[39m'\u001b[39m] \u001b[39m=\u001b[39m PIPE\n\u001b[0;32m--> <a href='file:///Users/eyhli/miniforge3/envs/model_based_ml/lib/python3.9/subprocess.py?line=504'>505</a>\u001b[0m \u001b[39mwith\u001b[39;00m Popen(\u001b[39m*\u001b[39;49mpopenargs, \u001b[39m*\u001b[39;49m\u001b[39m*\u001b[39;49mkwargs) \u001b[39mas\u001b[39;00m process:\n\u001b[1;32m    <a href='file:///Users/eyhli/miniforge3/envs/model_based_ml/lib/python3.9/subprocess.py?line=505'>506</a>\u001b[0m     \u001b[39mtry\u001b[39;00m:\n\u001b[1;32m    <a href='file:///Users/eyhli/miniforge3/envs/model_based_ml/lib/python3.9/subprocess.py?line=506'>507</a>\u001b[0m         stdout, stderr \u001b[39m=\u001b[39m process\u001b[39m.\u001b[39mcommunicate(\u001b[39minput\u001b[39m, timeout\u001b[39m=\u001b[39mtimeout)\n",
      "File \u001b[0;32m~/miniforge3/envs/model_based_ml/lib/python3.9/subprocess.py:951\u001b[0m, in \u001b[0;36mPopen.__init__\u001b[0;34m(self, args, bufsize, executable, stdin, stdout, stderr, preexec_fn, close_fds, shell, cwd, env, universal_newlines, startupinfo, creationflags, restore_signals, start_new_session, pass_fds, user, group, extra_groups, encoding, errors, text, umask)\u001b[0m\n\u001b[1;32m    <a href='file:///Users/eyhli/miniforge3/envs/model_based_ml/lib/python3.9/subprocess.py?line=946'>947</a>\u001b[0m         \u001b[39mif\u001b[39;00m \u001b[39mself\u001b[39m\u001b[39m.\u001b[39mtext_mode:\n\u001b[1;32m    <a href='file:///Users/eyhli/miniforge3/envs/model_based_ml/lib/python3.9/subprocess.py?line=947'>948</a>\u001b[0m             \u001b[39mself\u001b[39m\u001b[39m.\u001b[39mstderr \u001b[39m=\u001b[39m io\u001b[39m.\u001b[39mTextIOWrapper(\u001b[39mself\u001b[39m\u001b[39m.\u001b[39mstderr,\n\u001b[1;32m    <a href='file:///Users/eyhli/miniforge3/envs/model_based_ml/lib/python3.9/subprocess.py?line=948'>949</a>\u001b[0m                     encoding\u001b[39m=\u001b[39mencoding, errors\u001b[39m=\u001b[39merrors)\n\u001b[0;32m--> <a href='file:///Users/eyhli/miniforge3/envs/model_based_ml/lib/python3.9/subprocess.py?line=950'>951</a>\u001b[0m     \u001b[39mself\u001b[39;49m\u001b[39m.\u001b[39;49m_execute_child(args, executable, preexec_fn, close_fds,\n\u001b[1;32m    <a href='file:///Users/eyhli/miniforge3/envs/model_based_ml/lib/python3.9/subprocess.py?line=951'>952</a>\u001b[0m                         pass_fds, cwd, env,\n\u001b[1;32m    <a href='file:///Users/eyhli/miniforge3/envs/model_based_ml/lib/python3.9/subprocess.py?line=952'>953</a>\u001b[0m                         startupinfo, creationflags, shell,\n\u001b[1;32m    <a href='file:///Users/eyhli/miniforge3/envs/model_based_ml/lib/python3.9/subprocess.py?line=953'>954</a>\u001b[0m                         p2cread, p2cwrite,\n\u001b[1;32m    <a href='file:///Users/eyhli/miniforge3/envs/model_based_ml/lib/python3.9/subprocess.py?line=954'>955</a>\u001b[0m                         c2pread, c2pwrite,\n\u001b[1;32m    <a href='file:///Users/eyhli/miniforge3/envs/model_based_ml/lib/python3.9/subprocess.py?line=955'>956</a>\u001b[0m                         errread, errwrite,\n\u001b[1;32m    <a href='file:///Users/eyhli/miniforge3/envs/model_based_ml/lib/python3.9/subprocess.py?line=956'>957</a>\u001b[0m                         restore_signals,\n\u001b[1;32m    <a href='file:///Users/eyhli/miniforge3/envs/model_based_ml/lib/python3.9/subprocess.py?line=957'>958</a>\u001b[0m                         gid, gids, uid, umask,\n\u001b[1;32m    <a href='file:///Users/eyhli/miniforge3/envs/model_based_ml/lib/python3.9/subprocess.py?line=958'>959</a>\u001b[0m                         start_new_session)\n\u001b[1;32m    <a href='file:///Users/eyhli/miniforge3/envs/model_based_ml/lib/python3.9/subprocess.py?line=959'>960</a>\u001b[0m \u001b[39mexcept\u001b[39;00m:\n\u001b[1;32m    <a href='file:///Users/eyhli/miniforge3/envs/model_based_ml/lib/python3.9/subprocess.py?line=960'>961</a>\u001b[0m     \u001b[39m# Cleanup if the child failed starting.\u001b[39;00m\n\u001b[1;32m    <a href='file:///Users/eyhli/miniforge3/envs/model_based_ml/lib/python3.9/subprocess.py?line=961'>962</a>\u001b[0m     \u001b[39mfor\u001b[39;00m f \u001b[39min\u001b[39;00m \u001b[39mfilter\u001b[39m(\u001b[39mNone\u001b[39;00m, (\u001b[39mself\u001b[39m\u001b[39m.\u001b[39mstdin, \u001b[39mself\u001b[39m\u001b[39m.\u001b[39mstdout, \u001b[39mself\u001b[39m\u001b[39m.\u001b[39mstderr)):\n",
      "File \u001b[0;32m~/miniforge3/envs/model_based_ml/lib/python3.9/subprocess.py:1821\u001b[0m, in \u001b[0;36mPopen._execute_child\u001b[0;34m(self, args, executable, preexec_fn, close_fds, pass_fds, cwd, env, startupinfo, creationflags, shell, p2cread, p2cwrite, c2pread, c2pwrite, errread, errwrite, restore_signals, gid, gids, uid, umask, start_new_session)\u001b[0m\n\u001b[1;32m   <a href='file:///Users/eyhli/miniforge3/envs/model_based_ml/lib/python3.9/subprocess.py?line=1818'>1819</a>\u001b[0m     \u001b[39mif\u001b[39;00m errno_num \u001b[39m!=\u001b[39m \u001b[39m0\u001b[39m:\n\u001b[1;32m   <a href='file:///Users/eyhli/miniforge3/envs/model_based_ml/lib/python3.9/subprocess.py?line=1819'>1820</a>\u001b[0m         err_msg \u001b[39m=\u001b[39m os\u001b[39m.\u001b[39mstrerror(errno_num)\n\u001b[0;32m-> <a href='file:///Users/eyhli/miniforge3/envs/model_based_ml/lib/python3.9/subprocess.py?line=1820'>1821</a>\u001b[0m     \u001b[39mraise\u001b[39;00m child_exception_type(errno_num, err_msg, err_filename)\n\u001b[1;32m   <a href='file:///Users/eyhli/miniforge3/envs/model_based_ml/lib/python3.9/subprocess.py?line=1821'>1822</a>\u001b[0m \u001b[39mraise\u001b[39;00m child_exception_type(err_msg)\n",
      "\u001b[0;31mOSError\u001b[0m: [Errno 8] Exec format error: './taboo.exe'"
     ]
    }
   ],
   "source": [
    "m = np.random.rand(50)\n",
    "premis_train(m, x=1, n=128, obs=None)"
   ]
  },
  {
   "cell_type": "code",
   "execution_count": 5,
   "metadata": {},
   "outputs": [
    {
     "ename": "ImportError",
     "evalue": "cannot import name 'PROJECT_ROOT' from 'pathlib' (/Users/eyhli/miniforge3/envs/model_based_ml/lib/python3.9/pathlib.py)",
     "output_type": "error",
     "traceback": [
      "\u001b[0;31m---------------------------------------------------------------------------\u001b[0m",
      "\u001b[0;31mImportError\u001b[0m                               Traceback (most recent call last)",
      "\u001b[1;32m/Users/eyhli/OneDriveDTU/PhD/projects/premis/notebooks/model_pipeline.ipynb Cell 3'\u001b[0m in \u001b[0;36m<module>\u001b[0;34m\u001b[0m\n\u001b[0;32m----> <a href='vscode-notebook-cell:/Users/eyhli/OneDriveDTU/PhD/projects/premis/notebooks/model_pipeline.ipynb#ch0000002?line=0'>1</a>\u001b[0m \u001b[39mfrom\u001b[39;00m \u001b[39mpathlib\u001b[39;00m \u001b[39mimport\u001b[39;00m PROJECT_ROOT\n",
      "\u001b[0;31mImportError\u001b[0m: cannot import name 'PROJECT_ROOT' from 'pathlib' (/Users/eyhli/miniforge3/envs/model_based_ml/lib/python3.9/pathlib.py)"
     ]
    }
   ],
   "source": [
    "from pathlib import paths"
   ]
  },
  {
   "cell_type": "code",
   "execution_count": null,
   "metadata": {},
   "outputs": [],
   "source": []
  }
 ],
 "metadata": {
  "interpreter": {
   "hash": "0eea856e2958d00f409d941ccf484093c119f6fdfcae5d87c0f3ae39ae25ea7b"
  },
  "kernelspec": {
   "display_name": "Python 3.9.10 ('model_based_ml')",
   "language": "python",
   "name": "python3"
  },
  "language_info": {
   "codemirror_mode": {
    "name": "ipython",
    "version": 3
   },
   "file_extension": ".py",
   "mimetype": "text/x-python",
   "name": "python",
   "nbconvert_exporter": "python",
   "pygments_lexer": "ipython3",
   "version": "3.9.10"
  },
  "orig_nbformat": 4
 },
 "nbformat": 4,
 "nbformat_minor": 2
}
