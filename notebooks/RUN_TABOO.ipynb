{
 "cells": [
  {
   "cell_type": "markdown",
   "id": "e71a2328-ca65-4caf-98e5-9eab6877fe2a",
   "metadata": {},
   "source": [
    "# input to TABOO"
   ]
  },
  {
   "cell_type": "code",
   "execution_count": 13,
   "id": "d63feb73-9434-462f-9feb-2d5105c96bc9",
   "metadata": {},
   "outputs": [],
   "source": [
    "import os\n",
    "import shlex\n",
    "import subprocess\n",
    "import re"
   ]
  },
  {
   "cell_type": "code",
   "execution_count": 10,
   "id": "0f23bfbb-5a6a-4ae9-bc4a-bb65134a85a8",
   "metadata": {},
   "outputs": [
    {
     "ename": "FileNotFoundError",
     "evalue": "[Errno 2] No such file or directory: '../src/models/TABOO'",
     "output_type": "error",
     "traceback": [
      "\u001b[0;31m---------------------------------------------------------------------------\u001b[0m",
      "\u001b[0;31mFileNotFoundError\u001b[0m                         Traceback (most recent call last)",
      "\u001b[1;32m/home/dnjllg/PhD/Courses/Model-based Machine Learning/premis/notebooks/RUN_TABOO.ipynb Cell 3'\u001b[0m in \u001b[0;36m<cell line: 2>\u001b[0;34m()\u001b[0m\n\u001b[1;32m      <a href='vscode-notebook-cell://wsl%2Bubuntu/home/dnjllg/PhD/Courses/Model-based%20Machine%20Learning/premis/notebooks/RUN_TABOO.ipynb#ch0000002vscode-remote?line=0'>1</a>\u001b[0m TABOO_DIR \u001b[39m=\u001b[39m \u001b[39m\"\u001b[39m\u001b[39m../src/models/TABOO\u001b[39m\u001b[39m\"\u001b[39m\n\u001b[0;32m----> <a href='vscode-notebook-cell://wsl%2Bubuntu/home/dnjllg/PhD/Courses/Model-based%20Machine%20Learning/premis/notebooks/RUN_TABOO.ipynb#ch0000002vscode-remote?line=1'>2</a>\u001b[0m os\u001b[39m.\u001b[39;49mchdir(TABOO_DIR)\n",
      "\u001b[0;31mFileNotFoundError\u001b[0m: [Errno 2] No such file or directory: '../src/models/TABOO'"
     ]
    }
   ],
   "source": [
    "TABOO_DIR = \"../src/models/TABOO\"\n",
    "os.chdir(TABOO_DIR)"
   ]
  },
  {
   "cell_type": "markdown",
   "id": "ce650241",
   "metadata": {},
   "source": [
    "Radius, r−    Radius, r+      Density, ρ    Rigidity, µ     Viscosity, η    Layer <br>\n",
    "(km)                 (km)        (kg m−3)     (Pa ×1011)     (Pa s ×1021)<br>\n",
    "6281.000          6371.000        3192.800               0.596                               LT\n",
    "6151.000          6281.000        3369.058               0.667                     0.5     UM1\n",
    "5971.000          6151.000        3475.581               0.764                     0.5     UM2\n",
    "5701.000          5971.000        3857.754               1.064                     0.5     TZ1\n",
    "5401.000          5701.000        4446.251               1.702                     1.5     LM1\n",
    "5072.933          5401.000        4615.829               1.912                     3.2     LM2\n",
    "4716.800          5072.933        4813.845               2.124                     3.2     LM3\n",
    "4332.600          4716.800        4997.859               2.325                     3.2     LM4\n",
    "3920.333          4332.600        5202.004               2.554                     3.2     LM5\n",
    "3480.000          3920.333        5408.573               2.794                     3.2     LM6\n",
    "0                       3480.000     10 931.731                      0                        0     \n",
    "Core\n",
    "\n",
    "\n",
    "Table 2. Density, rigidity, and viscosity profiles adopted in the rheological VM5i model, where abbreviations LT, UM, TZ, and LM stand\n",
    "for lithosphere, upper mantle, transition zone, and lower mantle, respectively. The radii r- and r+ indicate the lower and upper radii of each\n",
    "layer. Some spectral properties of the VM5i model are given in Fig. 3 and Table 3."
   ]
  },
  {
   "cell_type": "code",
   "execution_count": 19,
   "id": "d418107d",
   "metadata": {},
   "outputs": [],
   "source": [
    "# BASIC_CONF = {\"LMIN\": 2, \"LMAX\": 512, \"VERBOSE\": 1, \"ONLY_ELASTIC\": 0, \"I_LOADING\": 1}\n",
    "BASIC_CONF = {\"LMIN\": 2, \"LMAX\": 512, \"VERBOSE\": 1, \"I_LOADING\": 1}\n",
    "\n",
    "#VISCO from bottom to top *1e21\n",
    "# VM5a (5 layer model top -> bottom) [1.5, 1.25, 0.75, 0.75, 10, 0.0, 0.0, 0.0, 0.0]\n",
    "# 9L [3.2, 3.2, 3.2, 3.2, 3.2, 1.5, 0.5, 0.5, 0.5]\n",
    "MAKE_MODEL = {\n",
    "    \"NV\": 5,\n",
    "    \"CODE\": 0,\n",
    "    \"THICKNESS_LITHOSPHERE\": 90.0,\n",
    "    \"CONTROL_THICKNESS\": 0,\n",
    "    \"VISCO\": [1.5, 1.25, 0.75, 0.75, 10, 0.0, 0.0, 0.0, 0.0],\n",
    "}\n",
    "\n",
    "\n",
    "def TABOO_task_1(BASIC_CONF: dict, MAKE_MODEL: dict) -> None:\n",
    "    NORMALIZED_RESIDUALS = {\n",
    "        \"IH_RES\": 1,\n",
    "        \"IL_RES\": 0,\n",
    "        \"IK_RES\": 0,\n",
    "    }\n",
    "    EL_VLUID_VISCEL = {\"H_EL\": 1, \"L_EL\": 0, \"K_EL\": 0}\n",
    "\n",
    "    HEAVISIDE_TH = {\n",
    "        \"N_HARM_DEG\": 2,\n",
    "        \"H_LMIN\": 2,\n",
    "        \"H_LMAX\": 26,\n",
    "        \"LB_WINDOW\": \"1e-3\",\n",
    "        \"UB_WINDOW\": \"1e+5\",\n",
    "        \"N_POINTS\": 11,\n",
    "        \"H_HEAV\": 1,\n",
    "        \"L_HEAV\": 0,\n",
    "        \"K_HEAV\": 0,\n",
    "    }\n",
    "\n",
    "    filename = \"task_1_mod.dat\"\n",
    "    with open(filename, mode=\"r\") as f:\n",
    "        text = f.read()\n",
    "\n",
    "    with open(\"task_1.dat\", mode=\"w\") as f:\n",
    "        for k, v in BASIC_CONF.items():\n",
    "            text = re.sub(r\"\\${}\".format(k), str(v), text)\n",
    "\n",
    "        for k, v in MAKE_MODEL.items():\n",
    "            if k == \"VISCO\":\n",
    "                for idx, item in enumerate(v):\n",
    "                    text = re.sub(r\"\\$VISCO_{}\".format(idx + 1), str(item), text)\n",
    "            else:\n",
    "                text = re.sub(r\"\\${}\".format(k), str(v), text)\n",
    "\n",
    "        for k, v in NORMALIZED_RESIDUALS.items():\n",
    "            text = re.sub(r\"\\${}\".format(k), str(v), text)\n",
    "\n",
    "        for k, v in EL_VLUID_VISCEL.items():\n",
    "            text = re.sub(r\"\\${}\".format(k), str(v), text)\n",
    "\n",
    "        for k, v in HEAVISIDE_TH.items():\n",
    "            text = re.sub(r\"\\${}\".format(k), str(v), text)\n",
    "\n",
    "        f.seek(0)\n",
    "        f.write(text)\n",
    "        f.truncate()\n",
    "\n",
    "        return\n",
    "\n",
    "\n",
    "TABOO_task_1(BASIC_CONF, MAKE_MODEL)\n"
   ]
  },
  {
   "cell_type": "code",
   "execution_count": 20,
   "id": "f31d2b8b",
   "metadata": {},
   "outputs": [
    {
     "name": "stdout",
     "output_type": "stream",
     "text": [
      "['./TABOO.exe']\n",
      " = = = = = = = = = = = = = = =\n",
      "    Reading file task_1.dat   \n",
      " = = = = = = = = = = = = = = =\n",
      " > found KEYWORD  Harmonic_Degrees              \n",
      " Loading analysis\n",
      " Lmin and Lmax            2         512\n",
      " > found KEYWORD  Make_Model                    \n",
      " Building the model \n",
      " Number of VE layers                 5\n",
      " Model CODE is                       0\n",
      " From input, the lithospheric thickness is      90.0000  km\n",
      " The ILM parameter (for NV=7 and 9) is set to     0\n",
      " Mantle viscosity from BOTTOM to TOP (/1E21) \n",
      " Viscosity of layer   1 =    1.5000\n",
      " Viscosity of layer   2 =    1.2500\n",
      " Viscosity of layer   3 =    0.7500\n",
      " Viscosity of layer   4 =    0.7500\n",
      " Viscosity of layer   5 =   10.0000\n",
      " VM5a viscosity model (PREM-averaged)                            \n",
      " Lithosphere                  (40 <= LT <= 100 km) \n",
      " Lower lithosphere               (Thick =   40 km) \n",
      " Upper mantle                 (280 <= Thick <=340) \n",
      " Transition zone                 (Thick =  250 km) \n",
      " Lower mantle 1                  (Thick =  590 km) \n",
      " Lower mantle 2 down to the CMB                    \n",
      " Lithospheric thickness effectively employed (km) =     90.0000\n",
      " No density inversions found\n",
      " Writing the spectrum on file spectrum.dat\n",
      " > found KEYWORD  Normalized_Residues           \n",
      " Computing the normalized residues \n",
      " Writing on ih.dat the h normalized residues\n",
      " > found KEYWORD  El_Fluid_Viscel               \n",
      " Writing on h.dat the elastic, fluid, and v-elastic h\n",
      " > found KEYWORD  Heaviside_th                  \n",
      " Love numbers as a function of time for an Heaviside time-history\n",
      " Computing the h heaviside ldc (file h_heav.dat)\n",
      " For more details, see file taboo.log \n"
     ]
    },
    {
     "data": {
      "text/plain": [
       "CompletedProcess(args=['./TABOO.exe'], returncode=0)"
      ]
     },
     "execution_count": 20,
     "metadata": {},
     "output_type": "execute_result"
    }
   ],
   "source": [
    "command = \"./TABOO.exe\"\n",
    "args = shlex.split(command)\n",
    "print(args)\n",
    "subprocess.run(args)"
   ]
  },
  {
   "cell_type": "markdown",
   "id": "a3981a0c",
   "metadata": {},
   "source": [
    "# Compute DISK"
   ]
  },
  {
   "cell_type": "code",
   "execution_count": 7,
   "id": "9547fb85",
   "metadata": {},
   "outputs": [],
   "source": [
    "import numpy as np\n",
    "import pandas as pd\n",
    "import matplotlib.pyplot as plt"
   ]
  },
  {
   "cell_type": "code",
   "execution_count": 8,
   "id": "293689ad",
   "metadata": {},
   "outputs": [
    {
     "data": {
      "text/plain": [
       "-1.0"
      ]
     },
     "execution_count": 8,
     "metadata": {},
     "output_type": "execute_result"
    }
   ],
   "source": [
    "np.cos(np.pi)"
   ]
  },
  {
   "cell_type": "code",
   "execution_count": 9,
   "id": "7a3dd19e",
   "metadata": {},
   "outputs": [],
   "source": [
    "filename_hlove = \"h.dat\"\n",
    "\n",
    "station_name = \"KUAQ\"\n",
    "lat_station = 68.58700000\n",
    "lon_station = -33.05270000\n",
    "\n",
    "lat_glacier = 68.645056\n",
    "lon_glacier = -33.029416\n",
    "\n",
    "\n",
    "def read_hlove(filename: str):\n",
    "    h = pd.read_csv(filename, skiprows=2, header=None, delim_whitespace=True)\n",
    "    n_love = h.shape[0]\n",
    "    h_love = np.zeros(n_love)\n",
    "    h_love = h[1].values\n",
    "\n",
    "    return h_love, n_love\n",
    "\n",
    "\n",
    "def near_angular_distance(lat1, lon1, lat2, lon2):\n",
    "    return np.sqrt((lat1 - lat2) ** 2 + (lon1 - lon2) ** 2)\n",
    "\n",
    "\n",
    "# ar is load (index 1) and cr is location at station (index 2)\n",
    "def CompuGamma(t1: float, f1: float, t2: float, f2: float):\n",
    "    t1 = t1 * np.pi / 180\n",
    "    t2 = t1 * np.pi / 180\n",
    "    f1 = t1 * np.pi / 180\n",
    "    f2 = t1 * np.pi / 180\n",
    "\n",
    "    cosg = (np.cos(t1) * np.cos(t2)) + (np.sin(t1) * np.cos(t2) * np.cos(f1 - f2))\n",
    "\n",
    "    if cosg > 1:\n",
    "        cosg = 1\n",
    "    else:\n",
    "        cosg = -1\n",
    "\n",
    "    gamma = np.arccos(cosg)\n",
    "    return gamma\n",
    "\n",
    "\n",
    "# Near field\n",
    "def funcB(gamma, aread, hlove, nlove):\n",
    "    aa = 6371e3  # Earth Radius in m\n",
    "    ad = 26000e6  # ?\n",
    "    rho = 1e3  # density of water or ice?\n",
    "    ma = 5.9e24  # mass of earth\n",
    "    DevMAX = 80000  # ?\n",
    "\n",
    "    hmax = hlove[nlove - 1]  # be sure hlove should not be 1 longer eg. 0 at index 0\n",
    "    zfac = np.pi / 180\n",
    "    r = np.sqrt(aread / np.pi)\n",
    "    coeff = 4 * np.pi * (aa**3) * rho / ma\n",
    "\n",
    "    x = np.cos(gamma)\n",
    "\n",
    "    # creo poly l\n",
    "    polyl = np.zeros(DevMAX + 1)\n",
    "    p0 = 1\n",
    "    polyl[0] = p0\n",
    "    p1 = x\n",
    "    polyl[1] = p1\n",
    "\n",
    "    for j in np.arange(1,DevMAX):\n",
    "        p2 = ((2 * j + 1) * x * p1 - j * p0) / (j + 1)\n",
    "        polyl[j + 1] = p2\n",
    "        p0 = p1\n",
    "        p1 = p2\n",
    "\n",
    "    x = np.cos(r / aa)\n",
    "\n",
    "    p0 = 1\n",
    "    p1 = x\n",
    "    toth = 0\n",
    "\n",
    "    for j in np.arange(1, nlove):\n",
    "        p2 = ((2 * j + 1) * x * p1 - j * p0) / (j + 1)\n",
    "        pp = ((x * p1) - p2) / j\n",
    "        elemh = hlove[j] * pp * polyl[j]\n",
    "        toth = toth + elemh\n",
    "        p0 = p1\n",
    "        p1 = p2\n",
    "\n",
    "    for j in range(nlove + 1, DevMAX):\n",
    "        p2 = ((2 * j + 1) * x * p1 - j * p0) / (j + 1)\n",
    "        pp = (((x * p1) - p2)) / j\n",
    "        elemh = hmax * pp * polyl[j]\n",
    "        toth = toth + elemh\n",
    "        p0 = p1\n",
    "        p1 = p2\n",
    "\n",
    "    valore = (toth / 2) * coeff * 1e3\n",
    "\n",
    "    return valore\n",
    "\n",
    "# Far field\n",
    "def funcC(gamma, aread, hlove, nlove):\n",
    "    raise NotImplementedError()\n"
   ]
  },
  {
   "cell_type": "code",
   "execution_count": 10,
   "id": "872e852e",
   "metadata": {},
   "outputs": [
    {
     "data": {
      "text/plain": [
       "0.0"
      ]
     },
     "execution_count": 10,
     "metadata": {},
     "output_type": "execute_result"
    }
   ],
   "source": [
    "np.arccos(1)"
   ]
  },
  {
   "cell_type": "code",
   "execution_count": 11,
   "id": "f38a1b34",
   "metadata": {},
   "outputs": [],
   "source": [
    "hlove, nlove = read_hlove(filename_hlove)"
   ]
  },
  {
   "cell_type": "code",
   "execution_count": 12,
   "id": "a4563462",
   "metadata": {},
   "outputs": [
    {
     "data": {
      "text/plain": [
       "[<matplotlib.lines.Line2D at 0x7fc4651caeb0>]"
      ]
     },
     "execution_count": 12,
     "metadata": {},
     "output_type": "execute_result"
    },
    {
     "data": {
      "image/png": "[encoded data removed]",
      "text/plain": [
       "<Figure size 432x288 with 1 Axes>"
      ]
     },
     "metadata": {
      "needs_background": "light"
     },
     "output_type": "display_data"
    }
   ],
   "source": [
    "plt.plot(hlove)"
   ]
  },
  {
   "cell_type": "code",
   "execution_count": 13,
   "id": "9dc488af",
   "metadata": {},
   "outputs": [
    {
     "name": "stdout",
     "output_type": "stream",
     "text": [
      "-0.04429589754973019\n"
     ]
    }
   ],
   "source": [
    "hlove, nlove = read_hlove(filename_hlove)\n",
    "gamma = CompuGamma(lat_glacier,lon_glacier, lat_station, lon_station)\n",
    "near_ang_dist = np.sqrt((lat_glacier-lat_station)**2 + (lon_glacier-lon_station)**2)\n",
    "arsurf = 10e5\n",
    "ak = 6371e3 # same as aa\n",
    "rj = np.sqrt(arsurf / np.pi)\n",
    "if gamma >= (3 * rj / ak):\n",
    "    valure = funcC(gamma, arsurf, hlove, nlove)\n",
    "else:\n",
    "    valore = funcB(gamma, arsurf, hlove, nlove)\n",
    "    print(valore)\n"
   ]
  },
  {
   "cell_type": "code",
   "execution_count": 77,
   "id": "7e248251",
   "metadata": {},
   "outputs": [
    {
     "data": {
      "text/plain": [
       "3.583915719671672"
      ]
     },
     "execution_count": 77,
     "metadata": {},
     "output_type": "execute_result"
    }
   ],
   "source": [
    "near_ang_dist*180/np.pi"
   ]
  },
  {
   "cell_type": "code",
   "execution_count": 78,
   "id": "b7c28b84",
   "metadata": {},
   "outputs": [
    {
     "data": {
      "text/plain": [
       "0.0"
      ]
     },
     "execution_count": 78,
     "metadata": {},
     "output_type": "execute_result"
    }
   ],
   "source": [
    "gamma"
   ]
  },
  {
   "cell_type": "code",
   "execution_count": 74,
   "id": "687f447a",
   "metadata": {},
   "outputs": [
    {
     "data": {
      "text/plain": [
       "-1.0"
      ]
     },
     "execution_count": 74,
     "metadata": {},
     "output_type": "execute_result"
    }
   ],
   "source": [
    "np.cos(np.pi)"
   ]
  },
  {
   "cell_type": "code",
   "execution_count": null,
   "id": "3c23d3bf",
   "metadata": {},
   "outputs": [],
   "source": [
    "# pig = 4 * np.arctan2(1, 1)\n",
    "pig = np.pi\n",
    "ak = aa\n",
    "print(\"start processing\")\n",
    "\n",
    "# filexyz = np.loadtxt(fname=fileoutxyz)\n",
    "ntimes = 5\n",
    "ngri = 5\n",
    "nrec = 5\n",
    "UGR = np.zeros((ngri, ntimes))\n",
    "for i in range(ngri):\n",
    "    for nt in range(ntimes):\n",
    "        UGR[i, nt] = 0\n",
    "\n",
    "    print(\"\\t\", \"station point n: \", i, \" of \", ngri)\n",
    "\n",
    "    for j in range(nrec):\n",
    "        print(j)\n",
    "\n",
    "        gamma = CompuGamma(arlat[j], arlong[j], crlat[i], crlong[i], gamma)\n",
    "        rj = np.sqrt(arsurf[j] / np.pi)\n",
    "\n",
    "        if gamma >= (3 * rj / ak):\n",
    "            funcC(gamma, arsurf[j], hlove, restmp, nlove)\n",
    "        else:\n",
    "            funcB(gamma, arsurf(j), hlove, restmp, nlove)\n",
    "\n",
    "        for nt in range(ntimes):\n",
    "            UGR[i, nt] = UGR[i, nt] + (restmp * armelt[j, jt])\n",
    "\n",
    "    with open(file=\"out.txt\", mode=\"w\") as file:\n",
    "        file.write(crlong[i], 90 - crlat[i], UGR[i, nt], nt=1, ntimes)\n",
    "\n",
    "    print(\"end processing ... and writing results\")\n",
    "\n",
    "    for i in range(ngri):\n",
    "        with open(file=dirout, mode=\"w\") as file:\n",
    "            for nt in range(ntimes):\n",
    "                file.write(indext[nt], timeser[nt], UGR[i, nt])"
   ]
  }
 ],
 "metadata": {
  "kernelspec": {
   "display_name": "Python 3 (ipykernel)",
   "language": "python",
   "name": "python3"
  },
  "language_info": {
   "codemirror_mode": {
    "name": "ipython",
    "version": 3
   },
   "file_extension": ".py",
   "mimetype": "text/x-python",
   "name": "python",
   "nbconvert_exporter": "python",
   "pygments_lexer": "ipython3",
   "version": "3.9.10"
  }
 },
 "nbformat": 4,
 "nbformat_minor": 5
}
